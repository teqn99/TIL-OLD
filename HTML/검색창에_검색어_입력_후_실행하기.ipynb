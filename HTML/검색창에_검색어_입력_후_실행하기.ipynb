{
 "cells": [
  {
   "cell_type": "code",
   "execution_count": 5,
   "metadata": {},
   "outputs": [
    {
     "name": "stdout",
     "output_type": "stream",
     "text": [
      "크롤링할 키워드는 무엇입니까?: 겨울\n"
     ]
    }
   ],
   "source": [
    "from bs4 import BeautifulSoup\n",
    "from selenium import webdriver\n",
    "import time\n",
    "\n",
    "query_text = input('크롤링할 키워드는 무엇입니까?: ')\n",
    "\n",
    "# Step 1. 크롬 드라이버를 사용해서 웹 브라우저를 실행합니다.\n",
    "path = './chromedriver'  # 크롬 드라이버의 경로 입력\n",
    "driver = webdriver.Chrome(path)\n",
    "\n",
    "driver.get('https://korean.visitkorea.or.kr/main/main.html')  # 한국관광공사 사이트 링크 사용\n",
    "time.sleep(2)  # 네이버 창이 모두 열릴 때 까지 2초 기다리기"
   ]
  },
  {
   "cell_type": "code",
   "execution_count": 16,
   "metadata": {},
   "outputs": [],
   "source": [
    "# Step 2. 검색창의 이름을 찾아서 검색어를 입력합니다.\n",
    "driver.find_element_by_id('openSearchFormInput').click()\n",
    "\n",
    "element = driver.find_element_by_id('searchInput')\n",
    "\n",
    "element.send_keys(query_text)\n",
    "\n",
    "# Step 3. 검색 버튼을 눌러 실행합니다.\n",
    "# driver.find_element_by_link_text(\"검색\").click()  # '검색'키워드에 클릭이 안되는 오류발생으로 엔터키 입력을 대신 사용함.\n",
    "element.send_keys('\\n')"
   ]
  }
 ],
 "metadata": {
  "kernelspec": {
   "display_name": "Python 3",
   "language": "python",
   "name": "python3"
  },
  "language_info": {
   "codemirror_mode": {
    "name": "ipython",
    "version": 3
   },
   "file_extension": ".py",
   "mimetype": "text/x-python",
   "name": "python",
   "nbconvert_exporter": "python",
   "pygments_lexer": "ipython3",
   "version": "3.7.10"
  }
 },
 "nbformat": 4,
 "nbformat_minor": 4
}
