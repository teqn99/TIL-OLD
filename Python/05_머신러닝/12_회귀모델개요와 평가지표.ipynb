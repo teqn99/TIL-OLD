{
 "cells": [
  {
   "cell_type": "markdown",
   "metadata": {},
   "source": [
    "# 회귀(Regression)\n",
    "\n",
    "지도 학습(Supervised Learning)으로 예측할 Target이 연속형(continuous) 데이터(float)인 경우"
   ]
  },
  {
   "cell_type": "markdown",
   "metadata": {},
   "source": [
    "## 회귀의 주요 평가 지표\n",
    "예측값과 실제 값 사이의 차이를 구한다\n",
    "\n",
    "- ### MSE (Mean Squared Error)\n",
    "    - 실제 값과 예측값의 차를 제곱해 평균 낸 것\n",
    "    - mean_squared_error() \n",
    "    - 문자열로 쓰일 때는, 'neg_mean_squared_error'\n",
    "    $$\n",
    "    MSE = \\frac{1}{n}\\sum_{i=1}^{n}(y_i - \\hat{y_i})^2\\\\\n",
    "    y_i: 실제값, \\hat{y_i}: 모델이 예측한 값\n",
    "    $$\n",
    "    \n",
    "- ### RMSE (Root Mean Squared Error)\n",
    "    - MSE는 오차의 제곱한 값이므로 실제 오차의 평균보다 큰 값이 나온다.  MSE의 제곱근이 RMSE이다.\n",
    "    - scikit-learn은 함수를 지원하지 않는다. (MSE를 구한 뒤 np.sqrt()로 제곱근을 구한다.)\n",
    "    $$\n",
    "    RMSE = \\sqrt{\\frac{1}{n}\\sum_{i=1}^{n}(y_i - \\hat{y_i})^2}\n",
    "    $$\n",
    "\n",
    "- ### $R^2$ (R square, 결정계수)\n",
    "    - 평균으로 예측했을 때 오차(총오차) 보다 모델을 사용했을 때 얼마 만큼 더 좋은 성능을 내는지를 비율로 나타낸 값. \n",
    "    - 1에 가까울 수록 좋은 모델.\n",
    "    - r2_score()\n",
    "    - 문자열로 쓰일 때는, 'r2'\n",
    "    - [참고](https://ko.khanacademy.org/math/statistics-probability/describing-relationships-quantitative-data/assessing-the-fit-in-least-squares-regression/a/r-squared-intuition)\n",
    "    $$\n",
    "    R^2 = \\cfrac{\\sum_{i=1}^{n}(\\hat{y_i}-\\bar{y})^2}{\\sum_{i=1}^{n}(y_i - \\bar{y})^2}\\\\\n",
    "    R^2 = 1 - \\cfrac{\\sum_{i=1}^{n}(y_i - \\hat{y_i})^2}{\\sum_{i=1}^{n}(y_i - \\bar{y})^2}\n",
    "    $$\n",
    "\n",
    "- $y_i$ : i번째 실제 값, \n",
    "- $\\hat{y_i}$ : i 번째 예측 값, \n",
    "- $\\bar{y}$ : y의 평균    \n",
    "\n"
   ]
  },
  {
   "cell_type": "markdown",
   "metadata": {
    "ExecuteTime": {
     "end_time": "2020-09-01T21:11:02.482106Z",
     "start_time": "2020-09-01T21:11:02.476120Z"
    }
   },
   "source": [
    "# Guide\n",
    "- 결정계수. 바이오에선 90%, 공학에선 70%, 사회과학에선 13% 정도가 기준이 된다고 한다."
   ]
  },
  {
   "cell_type": "code",
   "execution_count": 1,
   "metadata": {
    "ExecuteTime": {
     "end_time": "2020-09-01T21:08:46.728417Z",
     "start_time": "2020-09-01T21:08:46.710465Z"
    }
   },
   "outputs": [],
   "source": [
    "# import pandas as pd\n",
    "import numpy as np\n",
    "import matplotlib.pyplot as plt\n",
    "import seaborn as sns"
   ]
  },
  {
   "cell_type": "code",
   "execution_count": 2,
   "metadata": {
    "ExecuteTime": {
     "end_time": "2020-09-01T21:08:47.077027Z",
     "start_time": "2020-09-01T21:08:47.062072Z"
    }
   },
   "outputs": [],
   "source": [
    "from sklearn.datasets import make_regression  # 샘플을 만드는 함수\n",
    "from sklearn.model_selection import cross_val_score\n",
    "from sklearn.linear_model import LinearRegression"
   ]
  },
  {
   "cell_type": "code",
   "execution_count": 3,
   "metadata": {
    "ExecuteTime": {
     "end_time": "2020-09-01T21:08:57.130388Z",
     "start_time": "2020-09-01T21:08:57.118421Z"
    }
   },
   "outputs": [],
   "source": [
    "X, y = make_regression(n_samples=100, # 샘플(행)수\n",
    "                       n_features=1, # feature(컬럼)수 \n",
    "                       n_informative=1, # target을 만드는데 영향을 주는 feature의 개수.  feature들 중에 target에 영향을 주는 컬럼수\n",
    "                       noise = 50,   # 잡음\n",
    "                       coef = False, #Feature간 상관성 여부 - 상관성이 존재하면 예측력이 떨어질 수 있다.\n",
    "                       random_state = 1)"
   ]
  },
  {
   "cell_type": "code",
   "execution_count": 4,
   "metadata": {
    "ExecuteTime": {
     "end_time": "2020-09-01T21:08:57.519349Z",
     "start_time": "2020-09-01T21:08:57.510373Z"
    }
   },
   "outputs": [
    {
     "data": {
      "text/plain": [
       "((100, 1), (100,))"
      ]
     },
     "execution_count": 4,
     "metadata": {},
     "output_type": "execute_result"
    }
   ],
   "source": [
    "X.shape, y.shape"
   ]
  },
  {
   "cell_type": "code",
   "execution_count": 5,
   "metadata": {
    "ExecuteTime": {
     "end_time": "2020-09-01T21:08:58.199046Z",
     "start_time": "2020-09-01T21:08:58.054923Z"
    }
   },
   "outputs": [
    {
     "data": {
      "text/plain": [
       "<matplotlib.collections.PathCollection at 0x7f8c50c04128>"
      ]
     },
     "execution_count": 5,
     "metadata": {},
     "output_type": "execute_result"
    },
    {
     "data": {
      "image/png": "[encoded data removed]",
      "text/plain": [
       "<Figure size 432x288 with 1 Axes>"
      ]
     },
     "metadata": {
      "needs_background": "light"
     },
     "output_type": "display_data"
    }
   ],
   "source": [
    "plt.scatter(X, y)"
   ]
  },
  {
   "cell_type": "code",
   "execution_count": 6,
   "metadata": {
    "ExecuteTime": {
     "end_time": "2020-09-01T21:09:04.533165Z",
     "start_time": "2020-09-01T21:09:04.526185Z"
    }
   },
   "outputs": [
    {
     "data": {
      "text/plain": [
       "(15.293427290684107,\n",
       " -255.11169199137663,\n",
       " 247.19463389209255,\n",
       " 20.62597485010551)"
      ]
     },
     "execution_count": 6,
     "metadata": {},
     "output_type": "execute_result"
    }
   ],
   "source": [
    "np.mean(y), np.min(y), np.max(y), np.median(y)"
   ]
  },
  {
   "cell_type": "code",
   "execution_count": 7,
   "metadata": {
    "ExecuteTime": {
     "end_time": "2020-09-01T21:09:15.354011Z",
     "start_time": "2020-09-01T21:09:15.326085Z"
    }
   },
   "outputs": [
    {
     "data": {
      "text/plain": [
       "LinearRegression()"
      ]
     },
     "execution_count": 7,
     "metadata": {},
     "output_type": "execute_result"
    }
   ],
   "source": [
    "lr = LinearRegression()\n",
    "lr.fit(X, y)"
   ]
  },
  {
   "cell_type": "code",
   "execution_count": 8,
   "metadata": {
    "ExecuteTime": {
     "end_time": "2020-09-01T21:09:20.569099Z",
     "start_time": "2020-09-01T21:09:20.558129Z"
    }
   },
   "outputs": [],
   "source": [
    "# 예측\n",
    "pred = lr.predict(X)\n",
    "# np.mean(pred)"
   ]
  },
  {
   "cell_type": "code",
   "execution_count": 10,
   "metadata": {},
   "outputs": [
    {
     "data": {
      "text/plain": [
       "array([-6.47837150e+01,  3.53525698e+00, -2.24930988e+00,  1.60486845e+02,\n",
       "        1.76846086e+02,  3.75120284e+01,  2.04399290e+01,  1.65475124e+01,\n",
       "       -8.00299319e+01,  2.12950877e+01, -3.68533417e+01,  2.71863822e+01,\n",
       "       -1.05041229e+02, -1.80445868e+01, -8.50723156e+01,  6.89340357e+01,\n",
       "       -2.50673768e+01, -9.59581539e+01, -8.21563475e+01, -6.22450275e+00,\n",
       "       -3.50170055e+01,  1.82489231e+02,  5.79386310e+01,  4.26634726e+01,\n",
       "        1.30913351e-01, -2.09715557e+01, -4.01151102e+00,  4.08451522e+01,\n",
       "        1.38282568e+02, -7.02177235e+01, -2.25347306e+01, -4.47436142e+01,\n",
       "        2.42126703e+01,  8.16001763e+01,  1.91435758e+02,  4.32788040e+00,\n",
       "       -9.92775395e+01,  2.47194634e+02, -2.02799798e+02,  5.85334904e+01,\n",
       "        1.59536038e+02,  8.54897401e+01, -7.37592095e+01, -4.06447270e+01,\n",
       "       -6.49055955e+01,  7.59577622e+01,  8.30410079e+01,  6.41532713e+01,\n",
       "       -2.65508208e+01,  2.47503948e+01, -7.89972479e+01,  2.13397064e+01,\n",
       "        1.27320816e+02,  2.91983014e+01, -1.49819398e+01,  8.25052252e+01,\n",
       "        9.36791817e+01,  3.32075339e+01, -6.39364756e+01,  5.14020686e+01,\n",
       "        7.92951311e+01, -1.96514023e+01,  2.55162469e+01,  4.80842807e+01,\n",
       "        5.39131601e+01, -5.06850039e+01,  2.68654102e+01, -6.57129269e+01,\n",
       "        2.53019418e+01, -5.65030259e+01, -1.21012923e+02, -4.76451909e+01,\n",
       "        1.81054320e+02,  5.75844468e+01, -6.56860939e+01,  6.74404512e+01,\n",
       "       -7.18544164e+01, -3.46370248e+01,  1.12885224e+02,  1.65204374e+02,\n",
       "        1.95849271e+02, -2.05230375e+02, -1.96949084e+01, -3.65752004e+01,\n",
       "        9.82123058e+01,  1.07928957e+02, -8.31690754e+00, -4.07394013e+01,\n",
       "        6.19072274e+01, -2.55111692e+02, -5.16569648e+01,  2.37511719e+01,\n",
       "       -2.43370994e+01,  5.17725460e+01,  2.08120207e+01, -2.38112047e+01,\n",
       "        1.29269644e+02,  4.62408701e+01,  1.22667384e+02, -4.25403786e+01])"
      ]
     },
     "execution_count": 10,
     "metadata": {},
     "output_type": "execute_result"
    }
   ],
   "source": [
    "y"
   ]
  },
  {
   "cell_type": "code",
   "execution_count": 11,
   "metadata": {},
   "outputs": [
    {
     "data": {
      "text/plain": [
       "array([ -41.95321474,  -11.0976856 ,   51.73017859,   75.01687119,\n",
       "        139.5405874 ,   42.28291757,   53.80872201,  -47.01849461,\n",
       "       -108.77026334,   37.00995752,  -44.10222106,  -23.64669313,\n",
       "        -83.57766397,   86.83887415,  -83.51568574,   80.63336112,\n",
       "          3.700483  ,  -19.8574064 ,  -46.96878289,  -81.22334449,\n",
       "        -15.93681229,  196.22691473,   83.82061032,   27.01939459,\n",
       "        -22.56541616,  -48.08125722,   14.46112205,   59.75914659,\n",
       "        116.81111848,  -54.09849447,  -19.60987796,  -65.4425124 ,\n",
       "         26.01992906,   84.73688556,   81.57070811,  -32.8179105 ,\n",
       "        -19.14251049,  154.23991252, -185.83051957,   89.41419524,\n",
       "        188.96228033,  134.62693781,  -61.83035871,  -64.61059467,\n",
       "        -17.31729207,   85.50083141,   23.76150326,  106.48818675,\n",
       "        -21.8187411 ,   52.92018804,   -7.6513255 ,   20.36606229,\n",
       "         60.08337862,   37.29980537,  -48.75670707,   69.56933678,\n",
       "        112.21749699,   -6.95856797,   55.29243684,   73.31676993,\n",
       "         45.04911171,   20.26811889,  -54.67824655,   46.19369729,\n",
       "         35.69321458,  -87.14517574,   25.90030193,  -69.54145531,\n",
       "        -42.65519063,  -84.99884159, -112.82467515,   -8.79516201,\n",
       "        148.44071957,   62.68712012,  -48.37456982,   16.72022833,\n",
       "          9.05673873,  -44.24992809,  106.67040272,  158.69788773,\n",
       "         86.9014366 , -165.27657474,   30.09450645,   -4.54640864,\n",
       "         20.50760118,  107.60310897,   -0.32847393,  -53.48207131,\n",
       "         34.45153866, -162.04619877,   29.72659608,  -12.67438421,\n",
       "        -34.83635956,  106.30550889,   26.3906604 ,  -15.24618227,\n",
       "        151.45970658,   13.84714676,   13.7293812 ,   -6.19885611])"
      ]
     },
     "execution_count": 11,
     "metadata": {},
     "output_type": "execute_result"
    }
   ],
   "source": [
    "pred\n",
    "# 위의 y와 비교하면 터무니없는 값들이 나온 것을 알 수 있다."
   ]
  },
  {
   "cell_type": "code",
   "execution_count": 12,
   "metadata": {
    "ExecuteTime": {
     "end_time": "2020-09-01T21:09:25.220636Z",
     "start_time": "2020-09-01T21:09:25.214654Z"
    }
   },
   "outputs": [
    {
     "name": "stdout",
     "output_type": "stream",
     "text": [
      "MSE :  2078.5472792307764\n",
      "RMSE :  45.59108771712709\n",
      "MAE :  34.84147804463735\n",
      "R^2 :  0.7321024057172182\n"
     ]
    }
   ],
   "source": [
    "from sklearn.metrics import mean_squared_error, r2_score, mean_absolute_error\n",
    "# 평가\n",
    "mse = mean_squared_error(y, pred)\n",
    "r2 = r2_score(y, pred)\n",
    "print(\"MSE : \", mse)\n",
    "print(\"RMSE : \", np.sqrt(mse))\n",
    "print('MAE : ', mean_absolute_error(y, pred))\n",
    "print('R^2 : ', r2)"
   ]
  },
  {
   "cell_type": "code",
   "execution_count": 13,
   "metadata": {
    "ExecuteTime": {
     "end_time": "2020-09-01T21:11:56.047444Z",
     "start_time": "2020-09-01T21:11:56.030522Z"
    }
   },
   "outputs": [
    {
     "data": {
      "text/plain": [
       "(array([0.58124097, 0.82853824, 0.52826294, 0.76611492, 0.7184243 ]),\n",
       " 0.6845162761863837)"
      ]
     },
     "execution_count": 13,
     "metadata": {},
     "output_type": "execute_result"
    }
   ],
   "source": [
    "score = cross_val_score(lr, X, y, cv=5)#, scoring='r2') #R2  # scoring 생략 -> 분류-accuracy, 회귀-r2 -> 기본방식\n",
    "score, np.mean(score)"
   ]
  },
  {
   "cell_type": "code",
   "execution_count": 16,
   "metadata": {
    "ExecuteTime": {
     "end_time": "2020-09-01T21:13:17.135775Z",
     "start_time": "2020-09-01T21:13:17.109843Z"
    }
   },
   "outputs": [
    {
     "data": {
      "text/plain": [
       "-2207.3798736559265"
      ]
     },
     "execution_count": 16,
     "metadata": {},
     "output_type": "execute_result"
    }
   ],
   "source": [
    "# mse \n",
    "score = cross_val_score(lr, X, y, scoring='neg_mean_squared_error', cv=10)# * -1  \n",
    "np.mean(score)\n",
    "#작을 수록 좋은 것인데 양수로 하면 작은게 밑이고 큰게 위이니까 음수로 해서 나오게 함"
   ]
  },
  {
   "cell_type": "code",
   "execution_count": 17,
   "metadata": {},
   "outputs": [
    {
     "data": {
      "text/plain": [
       "array([1882.70290581, 2859.09589717,  420.87862081, 3244.99975507,\n",
       "       1404.5936989 , 2794.10631553, 1863.97405357, 1262.61248332,\n",
       "       3714.70549983, 2626.12950655])"
      ]
     },
     "execution_count": 17,
     "metadata": {},
     "output_type": "execute_result"
    }
   ],
   "source": [
    "score * -1"
   ]
  },
  {
   "cell_type": "code",
   "execution_count": 18,
   "metadata": {
    "ExecuteTime": {
     "end_time": "2020-09-01T21:13:29.620778Z",
     "start_time": "2020-09-01T21:13:29.614794Z"
    }
   },
   "outputs": [
    {
     "data": {
      "text/plain": [
       "(array([85.14546889]), 10.135071944054275)"
      ]
     },
     "execution_count": 18,
     "metadata": {},
     "output_type": "execute_result"
    }
   ],
   "source": [
    "lr.fit(X, y)\n",
    "lr.coef_, lr.intercept_  # y = WX + b에서, coef_: W값, intercept_: y절편"
   ]
  },
  {
   "cell_type": "code",
   "execution_count": 19,
   "metadata": {
    "ExecuteTime": {
     "end_time": "2019-12-19T15:31:37.542329Z",
     "start_time": "2019-12-19T15:31:37.537309Z"
    }
   },
   "outputs": [
    {
     "data": {
      "text/plain": [
       "((100, 1), (100,))"
      ]
     },
     "execution_count": 19,
     "metadata": {},
     "output_type": "execute_result"
    }
   ],
   "source": [
    "X.shape, y.shape"
   ]
  },
  {
   "cell_type": "code",
   "execution_count": 21,
   "metadata": {
    "ExecuteTime": {
     "end_time": "2019-12-19T15:31:38.238822Z",
     "start_time": "2019-12-19T15:31:38.104181Z"
    }
   },
   "outputs": [
    {
     "data": {
      "image/png": "[encoded data removed]",
      "text/plain": [
       "<Figure size 432x288 with 1 Axes>"
      ]
     },
     "metadata": {
      "needs_background": "light"
     },
     "output_type": "display_data"
    }
   ],
   "source": [
    "plt.scatter(X, y, label='truth')\n",
    "y_hat = X*lr.coef_ + lr.intercept_\n",
    "plt.plot(X, y_hat, color='red', label='prediction')\n",
    "plt.legend()\n",
    "plt.show()"
   ]
  },
  {
   "cell_type": "code",
   "execution_count": 22,
   "metadata": {
    "ExecuteTime": {
     "end_time": "2019-12-19T15:34:32.753634Z",
     "start_time": "2019-12-19T15:34:32.747651Z"
    }
   },
   "outputs": [
    {
     "data": {
      "text/plain": [
       "array([10.13507194, 95.28054083])"
      ]
     },
     "execution_count": 22,
     "metadata": {},
     "output_type": "execute_result"
    }
   ],
   "source": [
    "lr.predict([[0],[1]])"
   ]
  },
  {
   "cell_type": "markdown",
   "metadata": {},
   "source": [
    "## 기존 분류 모델의 회귀 모델"
   ]
  },
  {
   "cell_type": "code",
   "execution_count": 23,
   "metadata": {
    "ExecuteTime": {
     "end_time": "2020-09-01T21:14:15.084773Z",
     "start_time": "2020-09-01T21:14:15.013961Z"
    }
   },
   "outputs": [],
   "source": [
    "from sklearn.model_selection import train_test_split\n",
    "\n",
    "from sklearn.neighbors import KNeighborsRegressor\n",
    "from sklearn.tree import DecisionTreeRegressor\n",
    "from sklearn.ensemble import RandomForestRegressor, VotingRegressor\n",
    "from sklearn.linear_model import LinearRegression\n",
    "\n",
    "X_train, X_test, y_train, y_test = train_test_split(X, y, test_size=0.2, random_state=12)"
   ]
  },
  {
   "cell_type": "code",
   "execution_count": 24,
   "metadata": {
    "ExecuteTime": {
     "end_time": "2020-09-01T21:15:38.868177Z",
     "start_time": "2020-09-01T21:15:38.856177Z"
    }
   },
   "outputs": [],
   "source": [
    "knn_reg = KNeighborsRegressor(n_neighbors=3)\n",
    "tree_reg = DecisionTreeRegressor(max_depth=5)\n",
    "rf_reg = RandomForestRegressor(n_estimators=300, max_depth=2)\n",
    "lr_reg = LinearRegression()\n",
    "\n",
    "estimators = [(\"knn\",knn_reg), ('tree',tree_reg), ('random forest',rf_reg), ('linear reg',lr_reg)]"
   ]
  },
  {
   "cell_type": "code",
   "execution_count": 25,
   "metadata": {
    "ExecuteTime": {
     "end_time": "2020-09-01T21:15:39.401749Z",
     "start_time": "2020-09-01T21:15:39.382768Z"
    }
   },
   "outputs": [],
   "source": [
    "def print_metrics(y, y_pred, title=None):\n",
    "    mse = mean_squared_error(y, y_pred)\n",
    "    rmse = np.sqrt(mse)\n",
    "    r2 = r2_score(y, y_pred)\n",
    "    if title:\n",
    "        print(title)\n",
    "    print(f\"MSE:{mse}, RMSE:{rmse}, R2:{r2}\")"
   ]
  },
  {
   "cell_type": "code",
   "execution_count": 26,
   "metadata": {
    "ExecuteTime": {
     "end_time": "2020-09-01T21:15:48.289445Z",
     "start_time": "2020-09-01T21:15:47.879064Z"
    }
   },
   "outputs": [
    {
     "name": "stdout",
     "output_type": "stream",
     "text": [
      "knn - Train\n",
      "MSE:1427.767659021123, RMSE:37.785812933178015, R2:0.8019417941941395\n",
      "knn - Test\n",
      "MSE:2864.855454376287, RMSE:53.52434450207015, R2:0.6640766473771966\n",
      "-------------------------------------------\n",
      "tree - Train\n",
      "MSE:817.4625116301221, RMSE:28.59130132802846, R2:0.8866025873719422\n",
      "tree - Test\n",
      "MSE:3301.0727964279786, RMSE:57.45496320099751, R2:0.6129272632816158\n",
      "-------------------------------------------\n",
      "random forest - Train\n",
      "MSE:1731.9699518620982, RMSE:41.616943086465376, R2:0.7597432194180308\n",
      "random forest - Test\n",
      "MSE:3026.756772360819, RMSE:55.01596833975404, R2:0.6450926412388294\n",
      "-------------------------------------------\n",
      "linear reg - Train\n",
      "MSE:2017.1792010802012, RMSE:44.9130181693482, R2:0.7201793367215267\n",
      "linear reg - Test\n",
      "MSE:2368.5811126977082, RMSE:48.6680707723011, R2:0.7222681140435795\n",
      "-------------------------------------------\n"
     ]
    }
   ],
   "source": [
    "for name, model in estimators:\n",
    "    model.fit(X_train, y_train)\n",
    "    pred_train = model.predict(X_train)\n",
    "    pred_test = model.predict(X_test)\n",
    "    \n",
    "    print_metrics(y_train, pred_train, name+\" - Train\")\n",
    "    print_metrics(y_test, pred_test, name+\" - Test\")\n",
    "    print(\"-------------------------------------------\")"
   ]
  },
  {
   "cell_type": "code",
   "execution_count": 29,
   "metadata": {
    "ExecuteTime": {
     "end_time": "2020-09-01T21:17:47.428952Z",
     "start_time": "2020-09-01T21:17:47.166654Z"
    }
   },
   "outputs": [],
   "source": [
    "# VotingRegressor: 각 모델이 예측한 값의 평균을 반환한다.\n",
    "knn_reg = KNeighborsRegressor(n_neighbors=3)\n",
    "tree_reg = DecisionTreeRegressor(max_depth=2)\n",
    "rf_reg = RandomForestRegressor(n_estimators=200, max_depth=2)\n",
    "lr_reg = LinearRegression()\n",
    "\n",
    "estimators = [(\"knn\",knn_reg), ('random forest',rf_reg), ('linear reg',lr_reg)]\n",
    "\n",
    "vote_reg = VotingRegressor(estimators)\n",
    "vote_reg.fit(X_train, y_train)\n",
    "pred_train = vote_reg.predict(X_train)\n",
    "pred_test = vote_reg.predict(X_test)"
   ]
  },
  {
   "cell_type": "code",
   "execution_count": 30,
   "metadata": {
    "ExecuteTime": {
     "end_time": "2020-09-01T21:16:15.524290Z",
     "start_time": "2020-09-01T21:16:15.518301Z"
    }
   },
   "outputs": [
    {
     "name": "stdout",
     "output_type": "stream",
     "text": [
      "MSE:1579.9173656995517, RMSE:39.748174369391506, R2:0.7808357705857341\n",
      "MSE:2479.868522385571, RMSE:49.798278307443226, R2:0.7092189252232683\n"
     ]
    }
   ],
   "source": [
    "print_metrics(y_train, pred_train)\n",
    "print_metrics(y_test, pred_test)"
   ]
  },
  {
   "cell_type": "code",
   "execution_count": null,
   "metadata": {},
   "outputs": [],
   "source": []
  },
  {
   "cell_type": "code",
   "execution_count": 31,
   "metadata": {
    "ExecuteTime": {
     "end_time": "2020-09-01T21:18:25.633244Z",
     "start_time": "2020-09-01T21:18:25.615294Z"
    }
   },
   "outputs": [],
   "source": [
    "tree_reg = DecisionTreeRegressor(max_depth=3)"
   ]
  },
  {
   "cell_type": "code",
   "execution_count": 32,
   "metadata": {
    "ExecuteTime": {
     "end_time": "2020-09-01T21:18:26.265586Z",
     "start_time": "2020-09-01T21:18:26.255583Z"
    }
   },
   "outputs": [
    {
     "data": {
      "text/plain": [
       "DecisionTreeRegressor(max_depth=3)"
      ]
     },
     "execution_count": 32,
     "metadata": {},
     "output_type": "execute_result"
    }
   ],
   "source": [
    "tree_reg.fit(X_train, y_train)"
   ]
  },
  {
   "cell_type": "code",
   "execution_count": 33,
   "metadata": {
    "ExecuteTime": {
     "end_time": "2020-09-01T21:18:28.332064Z",
     "start_time": "2020-09-01T21:18:27.959030Z"
    }
   },
   "outputs": [
    {
     "data": {
      "image/svg+xml": [
       "<svg height=\"373pt\" viewBox=\"0.00 0.00 1049.50 373.00\" width=\"1050pt\" xmlns=\"http://www.w3.org/2000/svg\" xmlns:xlink=\"http://www.w3.org/1999/xlink\">\n",
       "<g class=\"graph\" id=\"graph0\" transform=\"scale(1 1) rotate(0) translate(4 369)\">\n",
       "<title>Tree</title>\n",
       "<polygon fill=\"#ffffff\" points=\"-4,4 -4,-369 1045.5,-369 1045.5,4 -4,4\" stroke=\"transparent\"/>\n",
       "<!-- 0 -->\n",
       "<g class=\"node\" id=\"node1\">\n",
       "<title>0</title>\n",
       "<path d=\"M556.5,-365C556.5,-365 463.5,-365 463.5,-365 457.5,-365 451.5,-359 451.5,-353 451.5,-353 451.5,-309 451.5,-309 451.5,-303 457.5,-297 463.5,-297 463.5,-297 556.5,-297 556.5,-297 562.5,-297 568.5,-303 568.5,-309 568.5,-309 568.5,-353 568.5,-353 568.5,-359 562.5,-365 556.5,-365\" fill=\"#efb287\" stroke=\"#000000\"/>\n",
       "<text fill=\"#000000\" font-family=\"Helvetica,sans-Serif\" font-size=\"14.00\" text-anchor=\"middle\" x=\"510\" y=\"-349.8\">X[0] &lt;= 0.015</text>\n",
       "<text fill=\"#000000\" font-family=\"Helvetica,sans-Serif\" font-size=\"14.00\" text-anchor=\"middle\" x=\"510\" y=\"-334.8\">mse = 7208.829</text>\n",
       "<text fill=\"#000000\" font-family=\"Helvetica,sans-Serif\" font-size=\"14.00\" text-anchor=\"middle\" x=\"510\" y=\"-319.8\">samples = 80</text>\n",
       "<text fill=\"#000000\" font-family=\"Helvetica,sans-Serif\" font-size=\"14.00\" text-anchor=\"middle\" x=\"510\" y=\"-304.8\">value = 23.749</text>\n",
       "</g>\n",
       "<!-- 1 -->\n",
       "<g class=\"node\" id=\"node2\">\n",
       "<title>1</title>\n",
       "<path d=\"M426.5,-261C426.5,-261 333.5,-261 333.5,-261 327.5,-261 321.5,-255 321.5,-249 321.5,-249 321.5,-205 321.5,-205 321.5,-199 327.5,-193 333.5,-193 333.5,-193 426.5,-193 426.5,-193 432.5,-193 438.5,-199 438.5,-205 438.5,-205 438.5,-249 438.5,-249 438.5,-255 432.5,-261 426.5,-261\" fill=\"#f4caab\" stroke=\"#000000\"/>\n",
       "<text fill=\"#000000\" font-family=\"Helvetica,sans-Serif\" font-size=\"14.00\" text-anchor=\"middle\" x=\"380\" y=\"-245.8\">X[0] &lt;= -1.601</text>\n",
       "<text fill=\"#000000\" font-family=\"Helvetica,sans-Serif\" font-size=\"14.00\" text-anchor=\"middle\" x=\"380\" y=\"-230.8\">mse = 2661.791</text>\n",
       "<text fill=\"#000000\" font-family=\"Helvetica,sans-Serif\" font-size=\"14.00\" text-anchor=\"middle\" x=\"380\" y=\"-215.8\">samples = 34</text>\n",
       "<text fill=\"#000000\" font-family=\"Helvetica,sans-Serif\" font-size=\"14.00\" text-anchor=\"middle\" x=\"380\" y=\"-200.8\">value = -46.023</text>\n",
       "</g>\n",
       "<!-- 0&#45;&gt;1 -->\n",
       "<g class=\"edge\" id=\"edge1\">\n",
       "<title>0-&gt;1</title>\n",
       "<path d=\"M467.4331,-296.9465C455.6488,-287.519 442.7432,-277.1946 430.5519,-267.4415\" fill=\"none\" stroke=\"#000000\"/>\n",
       "<polygon fill=\"#000000\" points=\"432.6577,-264.6439 422.6625,-261.13 428.2848,-270.11 432.6577,-264.6439\" stroke=\"#000000\"/>\n",
       "<text fill=\"#000000\" font-family=\"Helvetica,sans-Serif\" font-size=\"14.00\" text-anchor=\"middle\" x=\"425.4233\" y=\"-282.2771\">True</text>\n",
       "</g>\n",
       "<!-- 8 -->\n",
       "<g class=\"node\" id=\"node9\">\n",
       "<title>8</title>\n",
       "<path d=\"M691.5,-261C691.5,-261 598.5,-261 598.5,-261 592.5,-261 586.5,-255 586.5,-249 586.5,-249 586.5,-205 586.5,-205 586.5,-199 592.5,-193 598.5,-193 598.5,-193 691.5,-193 691.5,-193 697.5,-193 703.5,-199 703.5,-205 703.5,-205 703.5,-249 703.5,-249 703.5,-255 697.5,-261 691.5,-261\" fill=\"#eca16b\" stroke=\"#000000\"/>\n",
       "<text fill=\"#000000\" font-family=\"Helvetica,sans-Serif\" font-size=\"14.00\" text-anchor=\"middle\" x=\"645\" y=\"-245.8\">X[0] &lt;= 0.585</text>\n",
       "<text fill=\"#000000\" font-family=\"Helvetica,sans-Serif\" font-size=\"14.00\" text-anchor=\"middle\" x=\"645\" y=\"-230.8\">mse = 4311.951</text>\n",
       "<text fill=\"#000000\" font-family=\"Helvetica,sans-Serif\" font-size=\"14.00\" text-anchor=\"middle\" x=\"645\" y=\"-215.8\">samples = 46</text>\n",
       "<text fill=\"#000000\" font-family=\"Helvetica,sans-Serif\" font-size=\"14.00\" text-anchor=\"middle\" x=\"645\" y=\"-200.8\">value = 75.32</text>\n",
       "</g>\n",
       "<!-- 0&#45;&gt;8 -->\n",
       "<g class=\"edge\" id=\"edge8\">\n",
       "<title>0-&gt;8</title>\n",
       "<path d=\"M554.204,-296.9465C566.4416,-287.519 579.8436,-277.1946 592.5038,-267.4415\" fill=\"none\" stroke=\"#000000\"/>\n",
       "<polygon fill=\"#000000\" points=\"594.9107,-270.0055 600.6966,-261.13 590.6388,-264.4601 594.9107,-270.0055\" stroke=\"#000000\"/>\n",
       "<text fill=\"#000000\" font-family=\"Helvetica,sans-Serif\" font-size=\"14.00\" text-anchor=\"middle\" x=\"597.4809\" y=\"-282.2223\">False</text>\n",
       "</g>\n",
       "<!-- 2 -->\n",
       "<g class=\"node\" id=\"node3\">\n",
       "<title>2</title>\n",
       "<path d=\"M229.5,-157C229.5,-157 132.5,-157 132.5,-157 126.5,-157 120.5,-151 120.5,-145 120.5,-145 120.5,-101 120.5,-101 120.5,-95 126.5,-89 132.5,-89 132.5,-89 229.5,-89 229.5,-89 235.5,-89 241.5,-95 241.5,-101 241.5,-101 241.5,-145 241.5,-145 241.5,-151 235.5,-157 229.5,-157\" fill=\"#fffffe\" stroke=\"#000000\"/>\n",
       "<text fill=\"#000000\" font-family=\"Helvetica,sans-Serif\" font-size=\"14.00\" text-anchor=\"middle\" x=\"181\" y=\"-141.8\">X[0] &lt;= -2.181</text>\n",
       "<text fill=\"#000000\" font-family=\"Helvetica,sans-Serif\" font-size=\"14.00\" text-anchor=\"middle\" x=\"181\" y=\"-126.8\">mse = 1.477</text>\n",
       "<text fill=\"#000000\" font-family=\"Helvetica,sans-Serif\" font-size=\"14.00\" text-anchor=\"middle\" x=\"181\" y=\"-111.8\">samples = 2</text>\n",
       "<text fill=\"#000000\" font-family=\"Helvetica,sans-Serif\" font-size=\"14.00\" text-anchor=\"middle\" x=\"181\" y=\"-96.8\">value = -204.015</text>\n",
       "</g>\n",
       "<!-- 1&#45;&gt;2 -->\n",
       "<g class=\"edge\" id=\"edge2\">\n",
       "<title>1-&gt;2</title>\n",
       "<path d=\"M321.3698,-196.3591C299.2041,-184.775 273.7632,-171.4792 250.6811,-159.4163\" fill=\"none\" stroke=\"#000000\"/>\n",
       "<polygon fill=\"#000000\" points=\"252.1109,-156.2143 241.627,-154.6845 248.8686,-162.4182 252.1109,-156.2143\" stroke=\"#000000\"/>\n",
       "</g>\n",
       "<!-- 5 -->\n",
       "<g class=\"node\" id=\"node6\">\n",
       "<title>5</title>\n",
       "<path d=\"M426.5,-157C426.5,-157 333.5,-157 333.5,-157 327.5,-157 321.5,-151 321.5,-145 321.5,-145 321.5,-101 321.5,-101 321.5,-95 327.5,-89 333.5,-89 333.5,-89 426.5,-89 426.5,-89 432.5,-89 438.5,-95 438.5,-101 438.5,-101 438.5,-145 438.5,-145 438.5,-151 432.5,-157 426.5,-157\" fill=\"#f3c6a6\" stroke=\"#000000\"/>\n",
       "<text fill=\"#000000\" font-family=\"Helvetica,sans-Serif\" font-size=\"14.00\" text-anchor=\"middle\" x=\"380\" y=\"-141.8\">X[0] &lt;= -0.558</text>\n",
       "<text fill=\"#000000\" font-family=\"Helvetica,sans-Serif\" font-size=\"14.00\" text-anchor=\"middle\" x=\"380\" y=\"-126.8\">mse = 1170.454</text>\n",
       "<text fill=\"#000000\" font-family=\"Helvetica,sans-Serif\" font-size=\"14.00\" text-anchor=\"middle\" x=\"380\" y=\"-111.8\">samples = 32</text>\n",
       "<text fill=\"#000000\" font-family=\"Helvetica,sans-Serif\" font-size=\"14.00\" text-anchor=\"middle\" x=\"380\" y=\"-96.8\">value = -36.148</text>\n",
       "</g>\n",
       "<!-- 1&#45;&gt;5 -->\n",
       "<g class=\"edge\" id=\"edge5\">\n",
       "<title>1-&gt;5</title>\n",
       "<path d=\"M380,-192.9465C380,-184.776 380,-175.9318 380,-167.3697\" fill=\"none\" stroke=\"#000000\"/>\n",
       "<polygon fill=\"#000000\" points=\"383.5001,-167.13 380,-157.13 376.5001,-167.13 383.5001,-167.13\" stroke=\"#000000\"/>\n",
       "</g>\n",
       "<!-- 3 -->\n",
       "<g class=\"node\" id=\"node4\">\n",
       "<title>3</title>\n",
       "<path d=\"M94,-53C94,-53 12,-53 12,-53 6,-53 0,-47 0,-41 0,-41 0,-12 0,-12 0,-6 6,0 12,0 12,0 94,0 94,0 100,0 106,-6 106,-12 106,-12 106,-41 106,-41 106,-47 100,-53 94,-53\" fill=\"#fffefe\" stroke=\"#000000\"/>\n",
       "<text fill=\"#000000\" font-family=\"Helvetica,sans-Serif\" font-size=\"14.00\" text-anchor=\"middle\" x=\"53\" y=\"-37.8\">mse = 0.0</text>\n",
       "<text fill=\"#000000\" font-family=\"Helvetica,sans-Serif\" font-size=\"14.00\" text-anchor=\"middle\" x=\"53\" y=\"-22.8\">samples = 1</text>\n",
       "<text fill=\"#000000\" font-family=\"Helvetica,sans-Serif\" font-size=\"14.00\" text-anchor=\"middle\" x=\"53\" y=\"-7.8\">value = -202.8</text>\n",
       "</g>\n",
       "<!-- 2&#45;&gt;3 -->\n",
       "<g class=\"edge\" id=\"edge3\">\n",
       "<title>2-&gt;3</title>\n",
       "<path d=\"M135.872,-88.9777C123.1187,-79.3629 109.2673,-68.9203 96.6053,-59.3743\" fill=\"none\" stroke=\"#000000\"/>\n",
       "<polygon fill=\"#000000\" points=\"98.5719,-56.4737 88.4798,-53.2485 94.3579,-62.0632 98.5719,-56.4737\" stroke=\"#000000\"/>\n",
       "</g>\n",
       "<!-- 4 -->\n",
       "<g class=\"node\" id=\"node5\">\n",
       "<title>4</title>\n",
       "<path d=\"M225.5,-53C225.5,-53 136.5,-53 136.5,-53 130.5,-53 124.5,-47 124.5,-41 124.5,-41 124.5,-12 124.5,-12 124.5,-6 130.5,0 136.5,0 136.5,0 225.5,0 225.5,0 231.5,0 237.5,-6 237.5,-12 237.5,-12 237.5,-41 237.5,-41 237.5,-47 231.5,-53 225.5,-53\" fill=\"#ffffff\" stroke=\"#000000\"/>\n",
       "<text fill=\"#000000\" font-family=\"Helvetica,sans-Serif\" font-size=\"14.00\" text-anchor=\"middle\" x=\"181\" y=\"-37.8\">mse = -0.0</text>\n",
       "<text fill=\"#000000\" font-family=\"Helvetica,sans-Serif\" font-size=\"14.00\" text-anchor=\"middle\" x=\"181\" y=\"-22.8\">samples = 1</text>\n",
       "<text fill=\"#000000\" font-family=\"Helvetica,sans-Serif\" font-size=\"14.00\" text-anchor=\"middle\" x=\"181\" y=\"-7.8\">value = -205.23</text>\n",
       "</g>\n",
       "<!-- 2&#45;&gt;4 -->\n",
       "<g class=\"edge\" id=\"edge4\">\n",
       "<title>2-&gt;4</title>\n",
       "<path d=\"M181,-88.9777C181,-80.7364 181,-71.887 181,-63.5153\" fill=\"none\" stroke=\"#000000\"/>\n",
       "<polygon fill=\"#000000\" points=\"184.5001,-63.2484 181,-53.2485 177.5001,-63.2485 184.5001,-63.2484\" stroke=\"#000000\"/>\n",
       "</g>\n",
       "<!-- 6 -->\n",
       "<g class=\"node\" id=\"node7\">\n",
       "<title>6</title>\n",
       "<path d=\"M354,-53C354,-53 268,-53 268,-53 262,-53 256,-47 256,-41 256,-41 256,-12 256,-12 256,-6 262,0 268,0 268,0 354,0 354,0 360,0 366,-6 366,-12 366,-12 366,-41 366,-41 366,-47 360,-53 354,-53\" fill=\"#f4c9aa\" stroke=\"#000000\"/>\n",
       "<text fill=\"#000000\" font-family=\"Helvetica,sans-Serif\" font-size=\"14.00\" text-anchor=\"middle\" x=\"311\" y=\"-37.8\">mse = 774.659</text>\n",
       "<text fill=\"#000000\" font-family=\"Helvetica,sans-Serif\" font-size=\"14.00\" text-anchor=\"middle\" x=\"311\" y=\"-22.8\">samples = 16</text>\n",
       "<text fill=\"#000000\" font-family=\"Helvetica,sans-Serif\" font-size=\"14.00\" text-anchor=\"middle\" x=\"311\" y=\"-7.8\">value = -43.69</text>\n",
       "</g>\n",
       "<!-- 5&#45;&gt;6 -->\n",
       "<g class=\"edge\" id=\"edge6\">\n",
       "<title>5-&gt;6</title>\n",
       "<path d=\"M355.6732,-88.9777C349.3221,-80.0954 342.466,-70.5067 336.0768,-61.5711\" fill=\"none\" stroke=\"#000000\"/>\n",
       "<polygon fill=\"#000000\" points=\"338.7893,-59.3472 330.1259,-53.2485 333.0952,-63.4187 338.7893,-59.3472\" stroke=\"#000000\"/>\n",
       "</g>\n",
       "<!-- 7 -->\n",
       "<g class=\"node\" id=\"node8\">\n",
       "<title>7</title>\n",
       "<path d=\"M489.5,-53C489.5,-53 396.5,-53 396.5,-53 390.5,-53 384.5,-47 384.5,-41 384.5,-41 384.5,-12 384.5,-12 384.5,-6 390.5,0 396.5,0 396.5,0 489.5,0 489.5,0 495.5,0 501.5,-6 501.5,-12 501.5,-12 501.5,-41 501.5,-41 501.5,-47 495.5,-53 489.5,-53\" fill=\"#f3c4a2\" stroke=\"#000000\"/>\n",
       "<text fill=\"#000000\" font-family=\"Helvetica,sans-Serif\" font-size=\"14.00\" text-anchor=\"middle\" x=\"443\" y=\"-37.8\">mse = 1452.491</text>\n",
       "<text fill=\"#000000\" font-family=\"Helvetica,sans-Serif\" font-size=\"14.00\" text-anchor=\"middle\" x=\"443\" y=\"-22.8\">samples = 16</text>\n",
       "<text fill=\"#000000\" font-family=\"Helvetica,sans-Serif\" font-size=\"14.00\" text-anchor=\"middle\" x=\"443\" y=\"-7.8\">value = -28.606</text>\n",
       "</g>\n",
       "<!-- 5&#45;&gt;7 -->\n",
       "<g class=\"edge\" id=\"edge7\">\n",
       "<title>5-&gt;7</title>\n",
       "<path d=\"M402.2114,-88.9777C407.9504,-80.187 414.1412,-70.7044 419.9233,-61.8477\" fill=\"none\" stroke=\"#000000\"/>\n",
       "<polygon fill=\"#000000\" points=\"423.0013,-63.5354 425.5373,-53.2485 417.1398,-59.7087 423.0013,-63.5354\" stroke=\"#000000\"/>\n",
       "</g>\n",
       "<!-- 9 -->\n",
       "<g class=\"node\" id=\"node10\">\n",
       "<title>9</title>\n",
       "<path d=\"M691.5,-157C691.5,-157 598.5,-157 598.5,-157 592.5,-157 586.5,-151 586.5,-145 586.5,-145 586.5,-101 586.5,-101 586.5,-95 592.5,-89 598.5,-89 598.5,-89 691.5,-89 691.5,-89 697.5,-89 703.5,-95 703.5,-101 703.5,-101 703.5,-145 703.5,-145 703.5,-151 697.5,-157 691.5,-157\" fill=\"#eeaf81\" stroke=\"#000000\"/>\n",
       "<text fill=\"#000000\" font-family=\"Helvetica,sans-Serif\" font-size=\"14.00\" text-anchor=\"middle\" x=\"645\" y=\"-141.8\">X[0] &lt;= 0.043</text>\n",
       "<text fill=\"#000000\" font-family=\"Helvetica,sans-Serif\" font-size=\"14.00\" text-anchor=\"middle\" x=\"645\" y=\"-126.8\">mse = 1469.287</text>\n",
       "<text fill=\"#000000\" font-family=\"Helvetica,sans-Serif\" font-size=\"14.00\" text-anchor=\"middle\" x=\"645\" y=\"-111.8\">samples = 23</text>\n",
       "<text fill=\"#000000\" font-family=\"Helvetica,sans-Serif\" font-size=\"14.00\" text-anchor=\"middle\" x=\"645\" y=\"-96.8\">value = 33.604</text>\n",
       "</g>\n",
       "<!-- 8&#45;&gt;9 -->\n",
       "<g class=\"edge\" id=\"edge9\">\n",
       "<title>8-&gt;9</title>\n",
       "<path d=\"M645,-192.9465C645,-184.776 645,-175.9318 645,-167.3697\" fill=\"none\" stroke=\"#000000\"/>\n",
       "<polygon fill=\"#000000\" points=\"648.5001,-167.13 645,-157.13 641.5001,-167.13 648.5001,-167.13\" stroke=\"#000000\"/>\n",
       "</g>\n",
       "<!-- 12 -->\n",
       "<g class=\"node\" id=\"node13\">\n",
       "<title>12</title>\n",
       "<path d=\"M894.5,-157C894.5,-157 801.5,-157 801.5,-157 795.5,-157 789.5,-151 789.5,-145 789.5,-145 789.5,-101 789.5,-101 789.5,-95 795.5,-89 801.5,-89 801.5,-89 894.5,-89 894.5,-89 900.5,-89 906.5,-95 906.5,-101 906.5,-101 906.5,-145 906.5,-145 906.5,-151 900.5,-157 894.5,-157\" fill=\"#e99355\" stroke=\"#000000\"/>\n",
       "<text fill=\"#000000\" font-family=\"Helvetica,sans-Serif\" font-size=\"14.00\" text-anchor=\"middle\" x=\"848\" y=\"-141.8\">X[0] &lt;= 1.226</text>\n",
       "<text fill=\"#000000\" font-family=\"Helvetica,sans-Serif\" font-size=\"14.00\" text-anchor=\"middle\" x=\"848\" y=\"-126.8\">mse = 3674.072</text>\n",
       "<text fill=\"#000000\" font-family=\"Helvetica,sans-Serif\" font-size=\"14.00\" text-anchor=\"middle\" x=\"848\" y=\"-111.8\">samples = 23</text>\n",
       "<text fill=\"#000000\" font-family=\"Helvetica,sans-Serif\" font-size=\"14.00\" text-anchor=\"middle\" x=\"848\" y=\"-96.8\">value = 117.037</text>\n",
       "</g>\n",
       "<!-- 8&#45;&gt;12 -->\n",
       "<g class=\"edge\" id=\"edge12\">\n",
       "<title>8-&gt;12</title>\n",
       "<path d=\"M703.716,-196.9189C727.7026,-184.6302 755.5911,-170.3425 780.4198,-157.6223\" fill=\"none\" stroke=\"#000000\"/>\n",
       "<polygon fill=\"#000000\" points=\"782.1118,-160.6882 789.4159,-153.0135 778.9201,-154.4582 782.1118,-160.6882\" stroke=\"#000000\"/>\n",
       "</g>\n",
       "<!-- 10 -->\n",
       "<g class=\"node\" id=\"node11\">\n",
       "<title>10</title>\n",
       "<path d=\"M624.5,-53C624.5,-53 531.5,-53 531.5,-53 525.5,-53 519.5,-47 519.5,-41 519.5,-41 519.5,-12 519.5,-12 519.5,-6 525.5,0 531.5,0 531.5,0 624.5,0 624.5,0 630.5,0 636.5,-6 636.5,-12 636.5,-12 636.5,-41 636.5,-41 636.5,-47 630.5,-53 624.5,-53\" fill=\"#e89152\" stroke=\"#000000\"/>\n",
       "<text fill=\"#000000\" font-family=\"Helvetica,sans-Serif\" font-size=\"14.00\" text-anchor=\"middle\" x=\"578\" y=\"-37.8\">mse = 0.0</text>\n",
       "<text fill=\"#000000\" font-family=\"Helvetica,sans-Serif\" font-size=\"14.00\" text-anchor=\"middle\" x=\"578\" y=\"-22.8\">samples = 1</text>\n",
       "<text fill=\"#000000\" font-family=\"Helvetica,sans-Serif\" font-size=\"14.00\" text-anchor=\"middle\" x=\"578\" y=\"-7.8\">value = 122.667</text>\n",
       "</g>\n",
       "<!-- 9&#45;&gt;10 -->\n",
       "<g class=\"edge\" id=\"edge10\">\n",
       "<title>9-&gt;10</title>\n",
       "<path d=\"M621.3783,-88.9777C615.2113,-80.0954 608.5539,-70.5067 602.3499,-61.5711\" fill=\"none\" stroke=\"#000000\"/>\n",
       "<polygon fill=\"#000000\" points=\"605.1497,-59.4666 596.5715,-53.2485 599.3997,-63.4589 605.1497,-59.4666\" stroke=\"#000000\"/>\n",
       "</g>\n",
       "<!-- 11 -->\n",
       "<g class=\"node\" id=\"node12\">\n",
       "<title>11</title>\n",
       "<path d=\"M759.5,-53C759.5,-53 666.5,-53 666.5,-53 660.5,-53 654.5,-47 654.5,-41 654.5,-41 654.5,-12 654.5,-12 654.5,-6 660.5,0 666.5,0 666.5,0 759.5,0 759.5,0 765.5,0 771.5,-6 771.5,-12 771.5,-12 771.5,-41 771.5,-41 771.5,-47 765.5,-53 759.5,-53\" fill=\"#efb083\" stroke=\"#000000\"/>\n",
       "<text fill=\"#000000\" font-family=\"Helvetica,sans-Serif\" font-size=\"14.00\" text-anchor=\"middle\" x=\"713\" y=\"-37.8\">mse = 1159.121</text>\n",
       "<text fill=\"#000000\" font-family=\"Helvetica,sans-Serif\" font-size=\"14.00\" text-anchor=\"middle\" x=\"713\" y=\"-22.8\">samples = 22</text>\n",
       "<text fill=\"#000000\" font-family=\"Helvetica,sans-Serif\" font-size=\"14.00\" text-anchor=\"middle\" x=\"713\" y=\"-7.8\">value = 29.555</text>\n",
       "</g>\n",
       "<!-- 9&#45;&gt;11 -->\n",
       "<g class=\"edge\" id=\"edge11\">\n",
       "<title>9-&gt;11</title>\n",
       "<path d=\"M668.9743,-88.9777C675.2333,-80.0954 681.9901,-70.5067 688.2867,-61.5711\" fill=\"none\" stroke=\"#000000\"/>\n",
       "<polygon fill=\"#000000\" points=\"691.2521,-63.4389 694.1513,-53.2485 685.5301,-59.4068 691.2521,-63.4389\" stroke=\"#000000\"/>\n",
       "</g>\n",
       "<!-- 13 -->\n",
       "<g class=\"node\" id=\"node14\">\n",
       "<title>13</title>\n",
       "<path d=\"M894.5,-53C894.5,-53 801.5,-53 801.5,-53 795.5,-53 789.5,-47 789.5,-41 789.5,-41 789.5,-12 789.5,-12 789.5,-6 795.5,0 801.5,0 801.5,0 894.5,0 894.5,0 900.5,0 906.5,-6 906.5,-12 906.5,-12 906.5,-41 906.5,-41 906.5,-47 900.5,-53 894.5,-53\" fill=\"#ea9b62\" stroke=\"#000000\"/>\n",
       "<text fill=\"#000000\" font-family=\"Helvetica,sans-Serif\" font-size=\"14.00\" text-anchor=\"middle\" x=\"848\" y=\"-37.8\">mse = 2888.959</text>\n",
       "<text fill=\"#000000\" font-family=\"Helvetica,sans-Serif\" font-size=\"14.00\" text-anchor=\"middle\" x=\"848\" y=\"-22.8\">samples = 16</text>\n",
       "<text fill=\"#000000\" font-family=\"Helvetica,sans-Serif\" font-size=\"14.00\" text-anchor=\"middle\" x=\"848\" y=\"-7.8\">value = 93.403</text>\n",
       "</g>\n",
       "<!-- 12&#45;&gt;13 -->\n",
       "<g class=\"edge\" id=\"edge13\">\n",
       "<title>12-&gt;13</title>\n",
       "<path d=\"M848,-88.9777C848,-80.7364 848,-71.887 848,-63.5153\" fill=\"none\" stroke=\"#000000\"/>\n",
       "<polygon fill=\"#000000\" points=\"851.5001,-63.2484 848,-53.2485 844.5001,-63.2485 851.5001,-63.2484\" stroke=\"#000000\"/>\n",
       "</g>\n",
       "<!-- 14 -->\n",
       "<g class=\"node\" id=\"node15\">\n",
       "<title>14</title>\n",
       "<path d=\"M1029.5,-53C1029.5,-53 936.5,-53 936.5,-53 930.5,-53 924.5,-47 924.5,-41 924.5,-41 924.5,-12 924.5,-12 924.5,-6 930.5,0 936.5,0 936.5,0 1029.5,0 1029.5,0 1035.5,0 1041.5,-6 1041.5,-12 1041.5,-12 1041.5,-41 1041.5,-41 1041.5,-47 1035.5,-53 1029.5,-53\" fill=\"#e58139\" stroke=\"#000000\"/>\n",
       "<text fill=\"#000000\" font-family=\"Helvetica,sans-Serif\" font-size=\"14.00\" text-anchor=\"middle\" x=\"983\" y=\"-37.8\">mse = 1273.962</text>\n",
       "<text fill=\"#000000\" font-family=\"Helvetica,sans-Serif\" font-size=\"14.00\" text-anchor=\"middle\" x=\"983\" y=\"-22.8\">samples = 7</text>\n",
       "<text fill=\"#000000\" font-family=\"Helvetica,sans-Serif\" font-size=\"14.00\" text-anchor=\"middle\" x=\"983\" y=\"-7.8\">value = 171.055</text>\n",
       "</g>\n",
       "<!-- 12&#45;&gt;14 -->\n",
       "<g class=\"edge\" id=\"edge14\">\n",
       "<title>12-&gt;14</title>\n",
       "<path d=\"M895.5959,-88.9777C909.1748,-79.2713 923.9339,-68.7213 937.3912,-59.1018\" fill=\"none\" stroke=\"#000000\"/>\n",
       "<polygon fill=\"#000000\" points=\"939.4799,-61.9111 945.5798,-53.2485 935.4092,-56.2164 939.4799,-61.9111\" stroke=\"#000000\"/>\n",
       "</g>\n",
       "</g>\n",
       "</svg>"
      ],
      "text/plain": [
       "<IPython.core.display.SVG object>"
      ]
     },
     "metadata": {},
     "output_type": "display_data"
    }
   ],
   "source": [
    "from sklearn.tree import export_graphviz\n",
    "from graphviz import Source\n",
    "from IPython.display import SVG\n",
    "graph = Source(export_graphviz(tree_reg, \n",
    "                               out_file=None,\n",
    "                               rounded=True, filled=True))\n",
    "display(SVG(graph.pipe(format='svg')))"
   ]
  },
  {
   "cell_type": "code",
   "execution_count": 37,
   "metadata": {},
   "outputs": [
    {
     "data": {
      "text/plain": [
       "array([ -36.57520038,  -14.98193982,   -6.22450275,   33.20753395,\n",
       "        -99.27753949,   23.75117194, -205.23037479,  -50.68500389,\n",
       "        -70.21772349, -202.79979818,  -34.63702482,  -35.01700553,\n",
       "        -36.8533417 ,  -23.81120475,  -47.64519088,  -73.7592095 ,\n",
       "         27.18638221,  -64.90559549,  -40.64472696,    3.53525698,\n",
       "        -56.50302588,  -20.97155575,  -78.99724787,  -82.1563475 ,\n",
       "        -22.53473061,   25.51624693,    4.3278804 ,  -40.73940135,\n",
       "        -64.78371502,  -65.68609386,  -42.54037864,  -26.55082081,\n",
       "        -71.85441644,  -65.71292685])"
      ]
     },
     "execution_count": 37,
     "metadata": {},
     "output_type": "execute_result"
    }
   ],
   "source": [
    "y_train[np.where(X_train<=0.015)[0]]"
   ]
  },
  {
   "cell_type": "code",
   "execution_count": 38,
   "metadata": {
    "ExecuteTime": {
     "end_time": "2019-12-19T15:43:53.359937Z",
     "start_time": "2019-12-19T15:43:53.353953Z"
    }
   },
   "outputs": [
    {
     "data": {
      "text/plain": [
       "-46.0226932531074"
      ]
     },
     "execution_count": 38,
     "metadata": {},
     "output_type": "execute_result"
    }
   ],
   "source": [
    "#위 그림에서 value 는 sample값들의 평균\n",
    "\n",
    "np.mean(y_train[np.where(X_train<=0.015)[0]])\n",
    "# 위 그림과 같은 결과가 나옴을 알 수 있다."
   ]
  },
  {
   "cell_type": "code",
   "execution_count": 39,
   "metadata": {
    "ExecuteTime": {
     "end_time": "2019-12-19T15:43:25.917292Z",
     "start_time": "2019-12-19T15:43:25.912307Z"
    }
   },
   "outputs": [
    {
     "data": {
      "text/plain": [
       "(80,)"
      ]
     },
     "execution_count": 39,
     "metadata": {},
     "output_type": "execute_result"
    }
   ],
   "source": [
    "y_train.shape"
   ]
  },
  {
   "cell_type": "code",
   "execution_count": null,
   "metadata": {},
   "outputs": [],
   "source": []
  }
 ],
 "metadata": {
  "kernelspec": {
   "display_name": "Python 3",
   "language": "python",
   "name": "python3"
  },
  "language_info": {
   "codemirror_mode": {
    "name": "ipython",
    "version": 3
   },
   "file_extension": ".py",
   "mimetype": "text/x-python",
   "name": "python",
   "nbconvert_exporter": "python",
   "pygments_lexer": "ipython3",
   "version": "3.6.5"
  },
  "toc": {
   "base_numbering": 1,
   "nav_menu": {},
   "number_sections": false,
   "sideBar": true,
   "skip_h1_title": false,
   "title_cell": "Table of Contents",
   "title_sidebar": "Contents",
   "toc_cell": false,
   "toc_position": {},
   "toc_section_display": true,
   "toc_window_display": false
  },
  "varInspector": {
   "cols": {
    "lenName": 16,
    "lenType": 16,
    "lenVar": 40
   },
   "kernels_config": {
    "python": {
     "delete_cmd_postfix": "",
     "delete_cmd_prefix": "del ",
     "library": "var_list.py",
     "varRefreshCmd": "print(var_dic_list())"
    },
    "r": {
     "delete_cmd_postfix": ") ",
     "delete_cmd_prefix": "rm(",
     "library": "var_list.r",
     "varRefreshCmd": "cat(var_dic_list()) "
    }
   },
   "types_to_exclude": [
    "module",
    "function",
    "builtin_function_or_method",
    "instance",
    "_Feature"
   ],
   "window_display": false
  }
 },
 "nbformat": 4,
 "nbformat_minor": 2
}
