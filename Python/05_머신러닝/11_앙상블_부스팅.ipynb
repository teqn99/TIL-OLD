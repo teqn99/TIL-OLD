{
 "cells": [
  {
   "cell_type": "markdown",
   "metadata": {},
   "source": [
    "# Boosting\n",
    "부스팅(Boosting)이란 단순하고 약한 학습기(Weak Learner)들를 결합해서 보다 정확하고 강력한 학습기(Strong Learner)를 만드는 방식.  \n",
    "정확도가 낮은 하나의 모델을 만들어 학습 시킨뒤, 그 모델의 예측 오류는 두 번째 모델이 보완한다. 이 두 모델을 합치면 처음보다는 정확한 모델이 만들어 진다. 합쳐진 모델의 예측 오류는 다음 모델에서 보완하여 계속 더하는 과정을 반복한다.\n",
    "\n",
    "- 약한 학습기들은 앞 학습기가 만든 오류를 줄이는 방향으로 학습한다.\n",
    "- gradient boosting\n",
    "    - 처음 모델은 y를 예측. 두번째 부터는 앞 모델이 만든 오류를 예측. 그것을 앞 모델에 업데이트하면 오류를 줄일 수 있다.\n",
    "    - 그 오류를 update할 때, 뺄지 더할지를 gradient descent 방법을 통해 결정한다. 미분해서 나오는 값의 음수를 취해서 적용. \n",
    "    - 학습률이 작으면 update를 조금씩하고, 학습률이 크면 update를 많이 하게 된다. 그래서 크게하면 학습데이터에 너무 맞아 과대적합 될 수 있다.\n",
    "\n",
    "## GradientBoosting\n",
    "- 개별 모델로 Decision Tree 를 사용한다. \n",
    "- depth가 깊지 않은 트리를 많이 연결해서 이전 트리의 오차를 보정해 나가는 방식으로 실행한다.\n",
    "- 오차를 보정할 때 경사하강법(Gradient descent)을 사용한다.\n",
    "- 얕은 트리를 많이 연결하여 각각의 트리가 데이터의 일부에 대해 예측을 잘 수행하도록 하고 그런 트리들이 모여 전체 성능을 높이는 것이 기본 아이디어.\n",
    "- 분류와 회귀 둘다 지원하는 모델 (GradientBoostingClassification, GrandientBoostingRegressor)\n",
    "- 훈련시간이 많이 걸리고, 트리기반 모델의 특성상 희소한 고차원 데이터에서는 성능이 안좋은 단점이 있다.\n",
    "\n",
    "### 주요 파라미터\n",
    "- Decision Tree 의 가지치기 관련 매개변수\n",
    "    - 각각의 tree가 복잡한 모델이 되지 않도록 한다. \n",
    "- learning rate\n",
    "    - 이전 tree의 오차를 얼마나 강하게 보정할 것인지 제어하는 값. \n",
    "    - 값이 크면 보정을 강하게 하여 복잡한 모델을 만든다. 학습데이터의 정확도는 올라가지만 과대적합이 날 수있다. \n",
    "    - 값을 작게 잡으면 보정을 약하게 하여 모델의 복잡도를 줄인다. 과대적합을 줄일 수 있지만 성능 자체가 낮아질 수있다.\n",
    "    - 기본값 : 0.1\n",
    "- n_estimators\n",
    "    - tree의 개수 지정. 많을 수록 복잡한 모델이 된다.\n",
    "        - learning rate를 높이면, n_estimators를 낮추고 / learning rate를 낮추면, n_estimators를 높인다.\n",
    "- n_iter_no_change, validation_fraction\n",
    "    - validation_fraction에 지정한 비율만큼 n_iter_no_change에 지정한 반복 횟수동안 검증점수가 좋아 지지 않으면 훈련을 조기 종료한다.\n",
    "\n",
    "- 보통 max_depth를 낮춰 개별 트리의 복잡도를 낮춘다. (5가 넘지 않게) 그리고 n_estimators를 가용시간, 메모리 한도에 맞춘뒤 적절한 learning_rate을 찾는다.\n",
    "\n",
    "\n"
   ]
  },
  {
   "cell_type": "code",
   "execution_count": 1,
   "metadata": {},
   "outputs": [],
   "source": [
    "from sklearn.datasets import load_breast_cancer\n",
    "from sklearn.model_selection import train_test_split\n",
    "from sklearn.ensemble import GradientBoostingClassifier\n",
    "from sklearn.metrics import accuracy_score"
   ]
  },
  {
   "cell_type": "code",
   "execution_count": 2,
   "metadata": {},
   "outputs": [],
   "source": [
    "data = load_breast_cancer()\n",
    "X, y = data['data'], data['target']\n",
    "X_train, X_test, y_train, y_test = train_test_split(X, y, stratify = y, random_state = 1)"
   ]
  },
  {
   "cell_type": "code",
   "execution_count": 4,
   "metadata": {},
   "outputs": [
    {
     "data": {
      "text/plain": [
       "GradientBoostingClassifier(random_state=1)"
      ]
     },
     "execution_count": 4,
     "metadata": {},
     "output_type": "execute_result"
    }
   ],
   "source": [
    "gb = GradientBoostingClassifier(random_state=1)\n",
    "gb.fit(X_train, y_train)"
   ]
  },
  {
   "cell_type": "code",
   "execution_count": 5,
   "metadata": {},
   "outputs": [],
   "source": [
    "pred_train = gb.predict(X_train)\n",
    "pred_test = gb.predict(X_test)"
   ]
  },
  {
   "cell_type": "code",
   "execution_count": 6,
   "metadata": {},
   "outputs": [
    {
     "data": {
      "text/plain": [
       "(1.0, 0.958041958041958)"
      ]
     },
     "execution_count": 6,
     "metadata": {},
     "output_type": "execute_result"
    }
   ],
   "source": [
    "accuracy_score(y_train, pred_train), accuracy_score(y_test, pred_test)"
   ]
  },
  {
   "cell_type": "code",
   "execution_count": 10,
   "metadata": {
    "collapsed": true
   },
   "outputs": [
    {
     "data": {
      "text/plain": [
       "mean radius                0.000656\n",
       "mean texture               0.009120\n",
       "mean perimeter             0.001381\n",
       "mean area                  0.002540\n",
       "mean smoothness            0.000032\n",
       "mean compactness           0.001572\n",
       "mean concavity             0.007964\n",
       "mean concave points        0.046544\n",
       "mean symmetry              0.000039\n",
       "mean fractal dimension     0.000625\n",
       "radius error               0.004788\n",
       "texture error              0.000575\n",
       "perimeter error            0.000813\n",
       "area error                 0.010906\n",
       "smoothness error           0.001340\n",
       "compactness error          0.001384\n",
       "concavity error            0.003404\n",
       "concave points error       0.000008\n",
       "symmetry error             0.001267\n",
       "fractal dimension error    0.002532\n",
       "worst radius               0.383871\n",
       "worst texture              0.041187\n",
       "worst perimeter            0.130654\n",
       "worst area                 0.042472\n",
       "worst smoothness           0.000066\n",
       "worst compactness          0.000097\n",
       "worst concavity            0.012790\n",
       "worst concave points       0.285990\n",
       "worst symmetry             0.002546\n",
       "worst fractal dimension    0.002838\n",
       "dtype: float64"
      ]
     },
     "execution_count": 10,
     "metadata": {},
     "output_type": "execute_result"
    }
   ],
   "source": [
    "# Feature의 중요도\n",
    "import pandas as pd\n",
    "\n",
    "fi = gb.feature_importances_\n",
    "fi_s = pd.Series(fi, index = data['feature_names'])\n",
    "fi_s"
   ]
  },
  {
   "cell_type": "markdown",
   "metadata": {},
   "source": [
    "### GridSearchCV 이용해 최적의 하이퍼파라미터 찾기"
   ]
  },
  {
   "cell_type": "code",
   "execution_count": 11,
   "metadata": {},
   "outputs": [],
   "source": [
    "from sklearn.model_selection import GridSearchCV, RandomizedSearchCV\n",
    "\n",
    "param = {\n",
    "    'n_estimators':[100, 200, 300, 400, 500],  # tree 개수 (default = 100)\n",
    "    'learning_rate':[0.001, 0.005, 0.01, 0.5, 0.1],  # 학습률 \n",
    "    'max_depth':range(1, 5),\n",
    "    'subsample':[0.5, 0.7, 1],  # 학습시킬 sample의 비율\n",
    "}\n",
    "\n",
    "gb = GradientBoostingClassifier(random_state=1)\n",
    "gs = GridSearchCV(gb,\n",
    "                  param_grid=param,\n",
    "                  cv=3,\n",
    "                  scoring='accuracy',\n",
    "                  n_jobs=-1)"
   ]
  },
  {
   "cell_type": "code",
   "execution_count": 12,
   "metadata": {},
   "outputs": [
    {
     "data": {
      "text/plain": [
       "GridSearchCV(cv=3, estimator=GradientBoostingClassifier(random_state=1),\n",
       "             n_jobs=-1,\n",
       "             param_grid={'learning_rate': [0.001, 0.005, 0.01, 0.5, 0.1],\n",
       "                         'max_depth': range(1, 5),\n",
       "                         'n_estimators': [100, 200, 300, 400, 500],\n",
       "                         'subsample': [0.5, 0.7, 1]},\n",
       "             scoring='accuracy')"
      ]
     },
     "execution_count": 12,
     "metadata": {},
     "output_type": "execute_result"
    }
   ],
   "source": [
    "gs.fit(X_train, y_train)"
   ]
  },
  {
   "cell_type": "code",
   "execution_count": 13,
   "metadata": {},
   "outputs": [
    {
     "data": {
      "text/plain": [
       "{'learning_rate': 0.5, 'max_depth': 3, 'n_estimators': 300, 'subsample': 0.7}"
      ]
     },
     "execution_count": 13,
     "metadata": {},
     "output_type": "execute_result"
    }
   ],
   "source": [
    "gs.best_params_"
   ]
  },
  {
   "cell_type": "code",
   "execution_count": 14,
   "metadata": {
    "collapsed": true
   },
   "outputs": [
    {
     "data": {
      "text/html": [
       "<div>\n",
       "<style scoped>\n",
       "    .dataframe tbody tr th:only-of-type {\n",
       "        vertical-align: middle;\n",
       "    }\n",
       "\n",
       "    .dataframe tbody tr th {\n",
       "        vertical-align: top;\n",
       "    }\n",
       "\n",
       "    .dataframe thead th {\n",
       "        text-align: right;\n",
       "    }\n",
       "</style>\n",
       "<table border=\"1\" class=\"dataframe\">\n",
       "  <thead>\n",
       "    <tr style=\"text-align: right;\">\n",
       "      <th></th>\n",
       "      <th>mean_fit_time</th>\n",
       "      <th>std_fit_time</th>\n",
       "      <th>mean_score_time</th>\n",
       "      <th>std_score_time</th>\n",
       "      <th>param_learning_rate</th>\n",
       "      <th>param_max_depth</th>\n",
       "      <th>param_n_estimators</th>\n",
       "      <th>param_subsample</th>\n",
       "      <th>params</th>\n",
       "      <th>split0_test_score</th>\n",
       "      <th>split1_test_score</th>\n",
       "      <th>split2_test_score</th>\n",
       "      <th>mean_test_score</th>\n",
       "      <th>std_test_score</th>\n",
       "      <th>rank_test_score</th>\n",
       "    </tr>\n",
       "  </thead>\n",
       "  <tbody>\n",
       "    <tr>\n",
       "      <th>217</th>\n",
       "      <td>0.847790</td>\n",
       "      <td>0.005928</td>\n",
       "      <td>0.001847</td>\n",
       "      <td>0.000049</td>\n",
       "      <td>0.5</td>\n",
       "      <td>3</td>\n",
       "      <td>300</td>\n",
       "      <td>0.7</td>\n",
       "      <td>{'learning_rate': 0.5, 'max_depth': 3, 'n_esti...</td>\n",
       "      <td>0.978873</td>\n",
       "      <td>0.978873</td>\n",
       "      <td>0.978873</td>\n",
       "      <td>0.978873</td>\n",
       "      <td>1.110223e-16</td>\n",
       "      <td>1</td>\n",
       "    </tr>\n",
       "    <tr>\n",
       "      <th>266</th>\n",
       "      <td>1.043795</td>\n",
       "      <td>0.007507</td>\n",
       "      <td>0.002041</td>\n",
       "      <td>0.000313</td>\n",
       "      <td>0.1</td>\n",
       "      <td>2</td>\n",
       "      <td>400</td>\n",
       "      <td>1</td>\n",
       "      <td>{'learning_rate': 0.1, 'max_depth': 2, 'n_esti...</td>\n",
       "      <td>0.964789</td>\n",
       "      <td>0.971831</td>\n",
       "      <td>0.985915</td>\n",
       "      <td>0.974178</td>\n",
       "      <td>8.783233e-03</td>\n",
       "      <td>2</td>\n",
       "    </tr>\n",
       "    <tr>\n",
       "      <th>215</th>\n",
       "      <td>0.718804</td>\n",
       "      <td>0.018634</td>\n",
       "      <td>0.001485</td>\n",
       "      <td>0.000037</td>\n",
       "      <td>0.5</td>\n",
       "      <td>3</td>\n",
       "      <td>200</td>\n",
       "      <td>1</td>\n",
       "      <td>{'learning_rate': 0.5, 'max_depth': 3, 'n_esti...</td>\n",
       "      <td>0.964789</td>\n",
       "      <td>0.971831</td>\n",
       "      <td>0.985915</td>\n",
       "      <td>0.974178</td>\n",
       "      <td>8.783233e-03</td>\n",
       "      <td>2</td>\n",
       "    </tr>\n",
       "    <tr>\n",
       "      <th>207</th>\n",
       "      <td>0.868223</td>\n",
       "      <td>0.009090</td>\n",
       "      <td>0.001944</td>\n",
       "      <td>0.000066</td>\n",
       "      <td>0.5</td>\n",
       "      <td>2</td>\n",
       "      <td>500</td>\n",
       "      <td>0.5</td>\n",
       "      <td>{'learning_rate': 0.5, 'max_depth': 2, 'n_esti...</td>\n",
       "      <td>0.964789</td>\n",
       "      <td>0.978873</td>\n",
       "      <td>0.978873</td>\n",
       "      <td>0.974178</td>\n",
       "      <td>6.639500e-03</td>\n",
       "      <td>2</td>\n",
       "    </tr>\n",
       "    <tr>\n",
       "      <th>258</th>\n",
       "      <td>0.355843</td>\n",
       "      <td>0.011618</td>\n",
       "      <td>0.001268</td>\n",
       "      <td>0.000020</td>\n",
       "      <td>0.1</td>\n",
       "      <td>2</td>\n",
       "      <td>200</td>\n",
       "      <td>0.5</td>\n",
       "      <td>{'learning_rate': 0.1, 'max_depth': 2, 'n_esti...</td>\n",
       "      <td>0.971831</td>\n",
       "      <td>0.971831</td>\n",
       "      <td>0.978873</td>\n",
       "      <td>0.974178</td>\n",
       "      <td>3.319750e-03</td>\n",
       "      <td>2</td>\n",
       "    </tr>\n",
       "    <tr>\n",
       "      <th>...</th>\n",
       "      <td>...</td>\n",
       "      <td>...</td>\n",
       "      <td>...</td>\n",
       "      <td>...</td>\n",
       "      <td>...</td>\n",
       "      <td>...</td>\n",
       "      <td>...</td>\n",
       "      <td>...</td>\n",
       "      <td>...</td>\n",
       "      <td>...</td>\n",
       "      <td>...</td>\n",
       "      <td>...</td>\n",
       "      <td>...</td>\n",
       "      <td>...</td>\n",
       "      <td>...</td>\n",
       "    </tr>\n",
       "    <tr>\n",
       "      <th>19</th>\n",
       "      <td>0.392998</td>\n",
       "      <td>0.004614</td>\n",
       "      <td>0.001102</td>\n",
       "      <td>0.000010</td>\n",
       "      <td>0.001</td>\n",
       "      <td>2</td>\n",
       "      <td>200</td>\n",
       "      <td>0.7</td>\n",
       "      <td>{'learning_rate': 0.001, 'max_depth': 2, 'n_es...</td>\n",
       "      <td>0.626761</td>\n",
       "      <td>0.626761</td>\n",
       "      <td>0.626761</td>\n",
       "      <td>0.626761</td>\n",
       "      <td>0.000000e+00</td>\n",
       "      <td>277</td>\n",
       "    </tr>\n",
       "    <tr>\n",
       "      <th>45</th>\n",
       "      <td>0.332195</td>\n",
       "      <td>0.033533</td>\n",
       "      <td>0.001574</td>\n",
       "      <td>0.000178</td>\n",
       "      <td>0.001</td>\n",
       "      <td>4</td>\n",
       "      <td>100</td>\n",
       "      <td>0.5</td>\n",
       "      <td>{'learning_rate': 0.001, 'max_depth': 4, 'n_es...</td>\n",
       "      <td>0.626761</td>\n",
       "      <td>0.626761</td>\n",
       "      <td>0.626761</td>\n",
       "      <td>0.626761</td>\n",
       "      <td>0.000000e+00</td>\n",
       "      <td>277</td>\n",
       "    </tr>\n",
       "    <tr>\n",
       "      <th>17</th>\n",
       "      <td>0.254175</td>\n",
       "      <td>0.014141</td>\n",
       "      <td>0.001609</td>\n",
       "      <td>0.001025</td>\n",
       "      <td>0.001</td>\n",
       "      <td>2</td>\n",
       "      <td>100</td>\n",
       "      <td>1</td>\n",
       "      <td>{'learning_rate': 0.001, 'max_depth': 2, 'n_es...</td>\n",
       "      <td>0.626761</td>\n",
       "      <td>0.626761</td>\n",
       "      <td>0.626761</td>\n",
       "      <td>0.626761</td>\n",
       "      <td>0.000000e+00</td>\n",
       "      <td>277</td>\n",
       "    </tr>\n",
       "    <tr>\n",
       "      <th>48</th>\n",
       "      <td>0.588540</td>\n",
       "      <td>0.009230</td>\n",
       "      <td>0.001718</td>\n",
       "      <td>0.000212</td>\n",
       "      <td>0.001</td>\n",
       "      <td>4</td>\n",
       "      <td>200</td>\n",
       "      <td>0.5</td>\n",
       "      <td>{'learning_rate': 0.001, 'max_depth': 4, 'n_es...</td>\n",
       "      <td>0.626761</td>\n",
       "      <td>0.626761</td>\n",
       "      <td>0.626761</td>\n",
       "      <td>0.626761</td>\n",
       "      <td>0.000000e+00</td>\n",
       "      <td>277</td>\n",
       "    </tr>\n",
       "    <tr>\n",
       "      <th>0</th>\n",
       "      <td>0.121811</td>\n",
       "      <td>0.008550</td>\n",
       "      <td>0.001635</td>\n",
       "      <td>0.000734</td>\n",
       "      <td>0.001</td>\n",
       "      <td>1</td>\n",
       "      <td>100</td>\n",
       "      <td>0.5</td>\n",
       "      <td>{'learning_rate': 0.001, 'max_depth': 1, 'n_es...</td>\n",
       "      <td>0.626761</td>\n",
       "      <td>0.626761</td>\n",
       "      <td>0.626761</td>\n",
       "      <td>0.626761</td>\n",
       "      <td>0.000000e+00</td>\n",
       "      <td>277</td>\n",
       "    </tr>\n",
       "  </tbody>\n",
       "</table>\n",
       "<p>300 rows × 15 columns</p>\n",
       "</div>"
      ],
      "text/plain": [
       "     mean_fit_time  std_fit_time  mean_score_time  std_score_time  \\\n",
       "217       0.847790      0.005928         0.001847        0.000049   \n",
       "266       1.043795      0.007507         0.002041        0.000313   \n",
       "215       0.718804      0.018634         0.001485        0.000037   \n",
       "207       0.868223      0.009090         0.001944        0.000066   \n",
       "258       0.355843      0.011618         0.001268        0.000020   \n",
       "..             ...           ...              ...             ...   \n",
       "19        0.392998      0.004614         0.001102        0.000010   \n",
       "45        0.332195      0.033533         0.001574        0.000178   \n",
       "17        0.254175      0.014141         0.001609        0.001025   \n",
       "48        0.588540      0.009230         0.001718        0.000212   \n",
       "0         0.121811      0.008550         0.001635        0.000734   \n",
       "\n",
       "    param_learning_rate param_max_depth param_n_estimators param_subsample  \\\n",
       "217                 0.5               3                300             0.7   \n",
       "266                 0.1               2                400               1   \n",
       "215                 0.5               3                200               1   \n",
       "207                 0.5               2                500             0.5   \n",
       "258                 0.1               2                200             0.5   \n",
       "..                  ...             ...                ...             ...   \n",
       "19                0.001               2                200             0.7   \n",
       "45                0.001               4                100             0.5   \n",
       "17                0.001               2                100               1   \n",
       "48                0.001               4                200             0.5   \n",
       "0                 0.001               1                100             0.5   \n",
       "\n",
       "                                                params  split0_test_score  \\\n",
       "217  {'learning_rate': 0.5, 'max_depth': 3, 'n_esti...           0.978873   \n",
       "266  {'learning_rate': 0.1, 'max_depth': 2, 'n_esti...           0.964789   \n",
       "215  {'learning_rate': 0.5, 'max_depth': 3, 'n_esti...           0.964789   \n",
       "207  {'learning_rate': 0.5, 'max_depth': 2, 'n_esti...           0.964789   \n",
       "258  {'learning_rate': 0.1, 'max_depth': 2, 'n_esti...           0.971831   \n",
       "..                                                 ...                ...   \n",
       "19   {'learning_rate': 0.001, 'max_depth': 2, 'n_es...           0.626761   \n",
       "45   {'learning_rate': 0.001, 'max_depth': 4, 'n_es...           0.626761   \n",
       "17   {'learning_rate': 0.001, 'max_depth': 2, 'n_es...           0.626761   \n",
       "48   {'learning_rate': 0.001, 'max_depth': 4, 'n_es...           0.626761   \n",
       "0    {'learning_rate': 0.001, 'max_depth': 1, 'n_es...           0.626761   \n",
       "\n",
       "     split1_test_score  split2_test_score  mean_test_score  std_test_score  \\\n",
       "217           0.978873           0.978873         0.978873    1.110223e-16   \n",
       "266           0.971831           0.985915         0.974178    8.783233e-03   \n",
       "215           0.971831           0.985915         0.974178    8.783233e-03   \n",
       "207           0.978873           0.978873         0.974178    6.639500e-03   \n",
       "258           0.971831           0.978873         0.974178    3.319750e-03   \n",
       "..                 ...                ...              ...             ...   \n",
       "19            0.626761           0.626761         0.626761    0.000000e+00   \n",
       "45            0.626761           0.626761         0.626761    0.000000e+00   \n",
       "17            0.626761           0.626761         0.626761    0.000000e+00   \n",
       "48            0.626761           0.626761         0.626761    0.000000e+00   \n",
       "0             0.626761           0.626761         0.626761    0.000000e+00   \n",
       "\n",
       "     rank_test_score  \n",
       "217                1  \n",
       "266                2  \n",
       "215                2  \n",
       "207                2  \n",
       "258                2  \n",
       "..               ...  \n",
       "19               277  \n",
       "45               277  \n",
       "17               277  \n",
       "48               277  \n",
       "0                277  \n",
       "\n",
       "[300 rows x 15 columns]"
      ]
     },
     "execution_count": 14,
     "metadata": {},
     "output_type": "execute_result"
    }
   ],
   "source": [
    "result_df = pd.DataFrame(gs.cv_results_)\n",
    "result_df.sort_values('rank_test_score')"
   ]
  },
  {
   "cell_type": "code",
   "execution_count": 15,
   "metadata": {},
   "outputs": [
    {
     "data": {
      "text/plain": [
       "0.965034965034965"
      ]
     },
     "execution_count": 15,
     "metadata": {},
     "output_type": "execute_result"
    }
   ],
   "source": [
    "pred_test = gs.predict(X_test)\n",
    "accuracy_score(y_test, pred_test)"
   ]
  },
  {
   "cell_type": "code",
   "execution_count": 16,
   "metadata": {},
   "outputs": [
    {
     "data": {
      "text/plain": [
       "array([1.50635606e-04, 5.43323618e-03, 3.98511899e-05, 2.33387158e-03,\n",
       "       2.29636281e-03, 1.52236065e-02, 1.22640118e-02, 2.66145898e-02,\n",
       "       2.82706180e-04, 1.02621253e-02, 1.41076961e-03, 3.48322222e-02,\n",
       "       6.84745885e-03, 2.47117010e-02, 5.19956125e-03, 3.10459655e-03,\n",
       "       1.06064434e-03, 3.31066212e-03, 1.42655469e-03, 1.62053378e-02,\n",
       "       4.92297429e-01, 3.22384333e-02, 2.16830043e-02, 5.74039896e-03,\n",
       "       7.25384666e-04, 1.01171725e-03, 3.20598618e-04, 2.69638177e-01,\n",
       "       3.33210748e-03, 2.24432224e-06])"
      ]
     },
     "execution_count": 16,
     "metadata": {},
     "output_type": "execute_result"
    }
   ],
   "source": [
    "model = gs.best_estimator_\n",
    "model.feature_importances_"
   ]
  },
  {
   "cell_type": "markdown",
   "metadata": {},
   "source": [
    "# XGBoost(Extra Gradient Boost)\n",
    "- https://xgboost.readthedocs.io/\n",
    "- Gradient Boost 알고리즘을 기반으로 개선해서 나온 모델.\n",
    "- 캐글 경진대회에서 상위에 입상한 데이터 과학자들이 사용한 것을 알려저 유명해짐.\n",
    "- Gradient Boost의 단점인 느린수행시간을 해결하고 과적합을 제어할 수 있는 규제를 제공하여 성능을 높임.\n",
    "- 두가지 개발 방법\n",
    "    - [Scikit-learn 래퍼 XGBoost 모듈 사용](https://xgboost.readthedocs.io/en/latest/python/python_api.html#module-xgboost.sklearn)\n",
    "    - [파이썬 래퍼 XGBoost 모듈 사용](https://xgboost.readthedocs.io/en/latest/python/python_api.html#module-xgboost.training)\n",
    "- 설치   \n",
    "``\n",
    "pip install xgboost\n",
    "conda install -y -c anaconda py-xgboost\n",
    "``\n",
    "\n"
   ]
  },
  {
   "cell_type": "code",
   "execution_count": 1,
   "metadata": {},
   "outputs": [
    {
     "name": "stdout",
     "output_type": "stream",
     "text": [
      "Collecting xgboost\n",
      "  Downloading xgboost-1.3.3-py3-none-macosx_10_14_x86_64.macosx_10_15_x86_64.macosx_11_0_x86_64.whl (1.2 MB)\n",
      "\u001b[K     |████████████████████████████████| 1.2 MB 888 kB/s eta 0:00:01\n",
      "\u001b[?25hRequirement already satisfied: scipy in /Library/Frameworks/Python.framework/Versions/3.6/lib/python3.6/site-packages (from xgboost) (1.4.1)\n",
      "Requirement already satisfied: numpy in /Library/Frameworks/Python.framework/Versions/3.6/lib/python3.6/site-packages (from xgboost) (1.16.0)\n",
      "Installing collected packages: xgboost\n",
      "Successfully installed xgboost-1.3.3\n"
     ]
    }
   ],
   "source": [
    "!pip install xgboost"
   ]
  },
  {
   "cell_type": "markdown",
   "metadata": {},
   "source": [
    "## Scikit-learn 래퍼 XGBoost\n",
    "- XGBoost를 Scikit-learn프레임워크와 연동할 수 있도록 개발됨.\n",
    "- Scikit-learn의 Estimator들과 동일한 패턴으로 코드를 작성할 수 있다.\n",
    "- GridSearchCV나 Pipeline 등 Scikit-learn이 제공하는 다양한 유틸리티들을 사용할 수 있다.\n",
    "- XGBClassifier: 분류\n",
    "- XGBRegressor : 회귀 \n",
    "\n",
    "### 주요 매개변수\n",
    "- learning_rate : 학습률, 보통 0.01 ~ 0.2 사이의 값 사용\n",
    "- n_estimators : week tree 개수\n",
    "- max_depth: 트리의 depth 지정."
   ]
  },
  {
   "cell_type": "code",
   "execution_count": 17,
   "metadata": {},
   "outputs": [],
   "source": [
    "from xgboost import XGBClassifier\n",
    "\n",
    "xgb = XGBClassifier(n_estimators=200,\n",
    "                   learning_rate=0.5,\n",
    "                   max_depth=2,\n",
    "                   random_state=1)"
   ]
  },
  {
   "cell_type": "code",
   "execution_count": 18,
   "metadata": {},
   "outputs": [
    {
     "name": "stdout",
     "output_type": "stream",
     "text": [
      "[11:33:04] WARNING: /Users/travis/build/dmlc/xgboost/src/learner.cc:1061: Starting in XGBoost 1.3.0, the default evaluation metric used with the objective 'binary:logistic' was changed from 'error' to 'logloss'. Explicitly set eval_metric if you'd like to restore the old behavior.\n"
     ]
    },
    {
     "name": "stderr",
     "output_type": "stream",
     "text": [
      "/Library/Frameworks/Python.framework/Versions/3.6/lib/python3.6/site-packages/xgboost/sklearn.py:888: UserWarning: The use of label encoder in XGBClassifier is deprecated and will be removed in a future release. To remove this warning, do the following: 1) Pass option use_label_encoder=False when constructing XGBClassifier object; and 2) Encode your labels (y) as integers starting with 0, i.e. 0, 1, 2, ..., [num_class - 1].\n",
      "  warnings.warn(label_encoder_deprecation_msg, UserWarning)\n"
     ]
    },
    {
     "data": {
      "text/plain": [
       "XGBClassifier(base_score=0.5, booster='gbtree', colsample_bylevel=1,\n",
       "              colsample_bynode=1, colsample_bytree=1, gamma=0, gpu_id=-1,\n",
       "              importance_type='gain', interaction_constraints='',\n",
       "              learning_rate=0.5, max_delta_step=0, max_depth=2,\n",
       "              min_child_weight=1, missing=nan, monotone_constraints='()',\n",
       "              n_estimators=200, n_jobs=8, num_parallel_tree=1, random_state=1,\n",
       "              reg_alpha=0, reg_lambda=1, scale_pos_weight=1, subsample=1,\n",
       "              tree_method='exact', validate_parameters=1, verbosity=None)"
      ]
     },
     "execution_count": 18,
     "metadata": {},
     "output_type": "execute_result"
    }
   ],
   "source": [
    "xgb.fit(X_train, y_train)"
   ]
  },
  {
   "cell_type": "code",
   "execution_count": 19,
   "metadata": {},
   "outputs": [],
   "source": [
    "pred_train = xgb.predict(X_train)\n",
    "pred_test = xgb.predict(X_test)"
   ]
  },
  {
   "cell_type": "code",
   "execution_count": 20,
   "metadata": {},
   "outputs": [
    {
     "data": {
      "text/plain": [
       "(1.0, 0.965034965034965)"
      ]
     },
     "execution_count": 20,
     "metadata": {},
     "output_type": "execute_result"
    }
   ],
   "source": [
    "accuracy_score(y_train, pred_train), accuracy_score(y_test, pred_test)"
   ]
  },
  {
   "cell_type": "code",
   "execution_count": 24,
   "metadata": {},
   "outputs": [
    {
     "data": {
      "text/plain": [
       "worst concave points       0.339365\n",
       "worst radius               0.224706\n",
       "worst perimeter            0.128668\n",
       "mean concave points        0.099189\n",
       "worst area                 0.045809\n",
       "mean concavity             0.033942\n",
       "mean area                  0.027058\n",
       "perimeter error            0.017987\n",
       "mean texture               0.017378\n",
       "worst concavity            0.012857\n",
       "worst texture              0.012405\n",
       "area error                 0.011520\n",
       "mean compactness           0.005710\n",
       "worst symmetry             0.004881\n",
       "mean symmetry              0.004199\n",
       "worst smoothness           0.004186\n",
       "compactness error          0.002225\n",
       "mean fractal dimension     0.002193\n",
       "concave points error       0.001284\n",
       "worst fractal dimension    0.001183\n",
       "symmetry error             0.000973\n",
       "mean smoothness            0.000943\n",
       "fractal dimension error    0.000840\n",
       "texture error              0.000333\n",
       "worst compactness          0.000166\n",
       "mean perimeter             0.000000\n",
       "smoothness error           0.000000\n",
       "radius error               0.000000\n",
       "concavity error            0.000000\n",
       "mean radius                0.000000\n",
       "dtype: float32"
      ]
     },
     "execution_count": 24,
     "metadata": {},
     "output_type": "execute_result"
    }
   ],
   "source": [
    "fi = xgb.feature_importances_\n",
    "fi_s = pd.Series(fi, index = data['feature_names'])\n",
    "fi_s.sort_values(ascending = False)"
   ]
  },
  {
   "cell_type": "code",
   "execution_count": null,
   "metadata": {},
   "outputs": [],
   "source": []
  }
 ],
 "metadata": {
  "kernelspec": {
   "display_name": "Python 3",
   "language": "python",
   "name": "python3"
  },
  "language_info": {
   "codemirror_mode": {
    "name": "ipython",
    "version": 3
   },
   "file_extension": ".py",
   "mimetype": "text/x-python",
   "name": "python",
   "nbconvert_exporter": "python",
   "pygments_lexer": "ipython3",
   "version": "3.6.5"
  },
  "toc": {
   "base_numbering": 1,
   "nav_menu": {},
   "number_sections": false,
   "sideBar": true,
   "skip_h1_title": false,
   "title_cell": "Table of Contents",
   "title_sidebar": "Contents",
   "toc_cell": false,
   "toc_position": {},
   "toc_section_display": true,
   "toc_window_display": false
  },
  "varInspector": {
   "cols": {
    "lenName": 16,
    "lenType": 16,
    "lenVar": 40
   },
   "kernels_config": {
    "python": {
     "delete_cmd_postfix": "",
     "delete_cmd_prefix": "del ",
     "library": "var_list.py",
     "varRefreshCmd": "print(var_dic_list())"
    },
    "r": {
     "delete_cmd_postfix": ") ",
     "delete_cmd_prefix": "rm(",
     "library": "var_list.r",
     "varRefreshCmd": "cat(var_dic_list()) "
    }
   },
   "types_to_exclude": [
    "module",
    "function",
    "builtin_function_or_method",
    "instance",
    "_Feature"
   ],
   "window_display": false
  }
 },
 "nbformat": 4,
 "nbformat_minor": 2
}
