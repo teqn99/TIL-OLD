{
 "cells": [
  {
   "cell_type": "markdown",
   "metadata": {},
   "source": [
    "# 데이터셋 API\n",
    "- 데이터 입력 파이프라인을 위한 패키지\n",
    "- tf.data 패키지에서 제공\n",
    "- tf.data.Dataset 추상클래스에서 상속된 여러가지 클래스 객체를 사용 또는 만들어 쓴다.\n",
    "\n",
    "## 데이터 입력 파이프라인이란\n",
    "**모델에 공급**되는 데이터에 대한 전처리 작업과 공급을 담당한다.    \n",
    "- 이미지 데이터의 경우\n",
    "    - 분산 파일시스템으로 부터 이미지를 모으는 작업, \n",
    "    - 이미지에 노이즈를 주거나 변형하는 작업, \n",
    "    - 배치 학습을 위해 무작위로 데이터를 선택하여 배치데이터를 만드는 작업\n",
    "- 텍스트 데이터 경우\n",
    "    - 원문을 토큰화하는 작업\n",
    "    - 임베딩하는 작업\n",
    "    - 길이가 다른 데이터를 패딩하여 합치는 작업 \n",
    "\n",
    "\n",
    "## 데이터셋 API 사용 세단계\n",
    "1. 데이터셋 생성\n",
    "    - from_tensor_slices(), from_generator() 클래스 메소드, tf.data.TFRecordDataset 클래스를 사용해 메모리나 파일에 있는 데이터를 데이터소스로 만든다.\n",
    "    - from_tensor_slices(): 리스트 넘파이배열, 텐서플로 자료형에서 데이터를 생성한다.\n",
    "2. 데이터셋 변형: map(), filter(), batch() 등 메소드를 이용해 데이터 소스를 변형한다.\n",
    "3. for 반복문에서 iterate를 통해 데이터셋 사용\n",
    "\n",
    "## Dataset의 주요 메소드\n",
    "- map(함수) : dataset의 각 원소들을 함수로 처리한다.\n",
    "- shuffle(크기): dataset의 원소들의 순서를 섞는다. 크기는 섞는 공간의 크기로  **데이터보다 크거나 같으면** 완전셔플, **적으면 일부만 가져와서 섞어** 완전셔플이 안된다.=>데이터가 너무너무 많으면 적게 주기도 한다.)\n",
    "- batch(size) : 반복시 제공할 데이터 수. 지정한 batch size만큼 data를 꺼내준다."
   ]
  },
  {
   "cell_type": "code",
   "execution_count": 2,
   "metadata": {},
   "outputs": [],
   "source": [
    "import tensorflow as tf\n",
    "import numpy as np"
   ]
  },
  {
   "cell_type": "code",
   "execution_count": 24,
   "metadata": {},
   "outputs": [],
   "source": [
    "arr = np.arange(9)  # 0 ~ 8까지 9개 데이터 배열"
   ]
  },
  {
   "cell_type": "code",
   "execution_count": 25,
   "metadata": {},
   "outputs": [
    {
     "data": {
      "text/plain": [
       "tensorflow.python.data.ops.dataset_ops.TensorSliceDataset"
      ]
     },
     "execution_count": 25,
     "metadata": {},
     "output_type": "execute_result"
    }
   ],
   "source": [
    "# 메모리에 ndarray로 저장된 데이터를 이용해 Dataset 객체를 생성\n",
    "\n",
    "dataset = tf.data.Dataset.from_tensor_slices(arr)\n",
    "type(dataset)"
   ]
  },
  {
   "cell_type": "code",
   "execution_count": 26,
   "metadata": {},
   "outputs": [
    {
     "data": {
      "text/plain": [
       "tensorflow.python.data.ops.dataset_ops.MapDataset"
      ]
     },
     "execution_count": 26,
     "metadata": {},
     "output_type": "execute_result"
    }
   ],
   "source": [
    "# 각각 원소를 변환 작업을 dataset에 추가 - Dataset.map(변환함수)\n",
    "dataset = dataset.map(lambda x: x**2)\n",
    "type(dataset)"
   ]
  },
  {
   "cell_type": "code",
   "execution_count": 27,
   "metadata": {},
   "outputs": [],
   "source": [
    "# dataset = dataset.filter(lambda x: x%2 == 0)  # 2의 배수만 걸러내기"
   ]
  },
  {
   "cell_type": "code",
   "execution_count": 28,
   "metadata": {},
   "outputs": [],
   "source": [
    "dataset = dataset.shuffle(9)  # 데이터를 랜덤하게 n개만 가져다 섞겠다. (여기서 n = 9)"
   ]
  },
  {
   "cell_type": "code",
   "execution_count": 22,
   "metadata": {},
   "outputs": [],
   "source": [
    "dataset = dataset.batch(4)  # 한번에 지정한 개수(4)만큼 데이터를 제공"
   ]
  },
  {
   "cell_type": "code",
   "execution_count": 23,
   "metadata": {
    "scrolled": true
   },
   "outputs": [
    {
     "name": "stdout",
     "output_type": "stream",
     "text": [
      "tf.Tensor([49  9  4  0], shape=(4,), dtype=int64)\n",
      "tf.Tensor([16 36 64 25], shape=(4,), dtype=int64)\n",
      "tf.Tensor([1], shape=(1,), dtype=int64)\n"
     ]
    }
   ],
   "source": [
    "# Dataset에서 제공되는 값들을 조회\n",
    "for a in dataset:\n",
    "    print(a)"
   ]
  },
  {
   "cell_type": "code",
   "execution_count": 29,
   "metadata": {},
   "outputs": [
    {
     "name": "stdout",
     "output_type": "stream",
     "text": [
      "tf.Tensor(16, shape=(), dtype=int64)\n",
      "tf.Tensor(0, shape=(), dtype=int64)\n",
      "tf.Tensor(25, shape=(), dtype=int64)\n",
      "tf.Tensor(1, shape=(), dtype=int64)\n",
      "tf.Tensor(36, shape=(), dtype=int64)\n",
      "tf.Tensor(49, shape=(), dtype=int64)\n",
      "tf.Tensor(64, shape=(), dtype=int64)\n",
      "tf.Tensor(4, shape=(), dtype=int64)\n",
      "tf.Tensor(9, shape=(), dtype=int64)\n"
     ]
    }
   ],
   "source": [
    "# Dataset에서 제공되는 값들을 조회\n",
    "for a in dataset:\n",
    "    print(a)"
   ]
  },
  {
   "cell_type": "code",
   "execution_count": 30,
   "metadata": {},
   "outputs": [
    {
     "data": {
      "text/plain": [
       "((10,), (10,))"
      ]
     },
     "execution_count": 30,
     "metadata": {},
     "output_type": "execute_result"
    }
   ],
   "source": [
    "x = np.arange(10)\n",
    "y = np.arange(10, 20)\n",
    "x.shape, y.shape"
   ]
  },
  {
   "cell_type": "code",
   "execution_count": 31,
   "metadata": {},
   "outputs": [],
   "source": [
    "ds = tf.data.Dataset.from_tensor_slices((x, y))"
   ]
  },
  {
   "cell_type": "code",
   "execution_count": 33,
   "metadata": {},
   "outputs": [
    {
     "name": "stdout",
     "output_type": "stream",
     "text": [
      "(<tf.Tensor: shape=(), dtype=int64, numpy=0>, <tf.Tensor: shape=(), dtype=int64, numpy=10>)\n",
      "(<tf.Tensor: shape=(), dtype=int64, numpy=1>, <tf.Tensor: shape=(), dtype=int64, numpy=11>)\n",
      "(<tf.Tensor: shape=(), dtype=int64, numpy=2>, <tf.Tensor: shape=(), dtype=int64, numpy=12>)\n",
      "(<tf.Tensor: shape=(), dtype=int64, numpy=3>, <tf.Tensor: shape=(), dtype=int64, numpy=13>)\n",
      "(<tf.Tensor: shape=(), dtype=int64, numpy=4>, <tf.Tensor: shape=(), dtype=int64, numpy=14>)\n",
      "(<tf.Tensor: shape=(), dtype=int64, numpy=5>, <tf.Tensor: shape=(), dtype=int64, numpy=15>)\n",
      "(<tf.Tensor: shape=(), dtype=int64, numpy=6>, <tf.Tensor: shape=(), dtype=int64, numpy=16>)\n",
      "(<tf.Tensor: shape=(), dtype=int64, numpy=7>, <tf.Tensor: shape=(), dtype=int64, numpy=17>)\n",
      "(<tf.Tensor: shape=(), dtype=int64, numpy=8>, <tf.Tensor: shape=(), dtype=int64, numpy=18>)\n",
      "(<tf.Tensor: shape=(), dtype=int64, numpy=9>, <tf.Tensor: shape=(), dtype=int64, numpy=19>)\n"
     ]
    }
   ],
   "source": [
    "for a in ds:\n",
    "    print(a)"
   ]
  },
  {
   "cell_type": "code",
   "execution_count": 34,
   "metadata": {},
   "outputs": [],
   "source": [
    "ds2 = ds.map(lambda x, y: (x**2, y**3))  # x: 2제곱, y: 3제곱"
   ]
  },
  {
   "cell_type": "code",
   "execution_count": 35,
   "metadata": {},
   "outputs": [
    {
     "name": "stdout",
     "output_type": "stream",
     "text": [
      "(<tf.Tensor: shape=(), dtype=int64, numpy=0>, <tf.Tensor: shape=(), dtype=int64, numpy=1000>)\n",
      "(<tf.Tensor: shape=(), dtype=int64, numpy=1>, <tf.Tensor: shape=(), dtype=int64, numpy=1331>)\n",
      "(<tf.Tensor: shape=(), dtype=int64, numpy=4>, <tf.Tensor: shape=(), dtype=int64, numpy=1728>)\n",
      "(<tf.Tensor: shape=(), dtype=int64, numpy=9>, <tf.Tensor: shape=(), dtype=int64, numpy=2197>)\n",
      "(<tf.Tensor: shape=(), dtype=int64, numpy=16>, <tf.Tensor: shape=(), dtype=int64, numpy=2744>)\n",
      "(<tf.Tensor: shape=(), dtype=int64, numpy=25>, <tf.Tensor: shape=(), dtype=int64, numpy=3375>)\n",
      "(<tf.Tensor: shape=(), dtype=int64, numpy=36>, <tf.Tensor: shape=(), dtype=int64, numpy=4096>)\n",
      "(<tf.Tensor: shape=(), dtype=int64, numpy=49>, <tf.Tensor: shape=(), dtype=int64, numpy=4913>)\n",
      "(<tf.Tensor: shape=(), dtype=int64, numpy=64>, <tf.Tensor: shape=(), dtype=int64, numpy=5832>)\n",
      "(<tf.Tensor: shape=(), dtype=int64, numpy=81>, <tf.Tensor: shape=(), dtype=int64, numpy=6859>)\n"
     ]
    }
   ],
   "source": [
    "for a in ds2:\n",
    "    print(a)"
   ]
  },
  {
   "cell_type": "code",
   "execution_count": 36,
   "metadata": {},
   "outputs": [],
   "source": [
    "ds3 = ds2.shuffle(10)"
   ]
  },
  {
   "cell_type": "code",
   "execution_count": 37,
   "metadata": {},
   "outputs": [
    {
     "name": "stdout",
     "output_type": "stream",
     "text": [
      "(<tf.Tensor: shape=(), dtype=int64, numpy=25>, <tf.Tensor: shape=(), dtype=int64, numpy=3375>)\n",
      "(<tf.Tensor: shape=(), dtype=int64, numpy=9>, <tf.Tensor: shape=(), dtype=int64, numpy=2197>)\n",
      "(<tf.Tensor: shape=(), dtype=int64, numpy=0>, <tf.Tensor: shape=(), dtype=int64, numpy=1000>)\n",
      "(<tf.Tensor: shape=(), dtype=int64, numpy=1>, <tf.Tensor: shape=(), dtype=int64, numpy=1331>)\n",
      "(<tf.Tensor: shape=(), dtype=int64, numpy=16>, <tf.Tensor: shape=(), dtype=int64, numpy=2744>)\n",
      "(<tf.Tensor: shape=(), dtype=int64, numpy=64>, <tf.Tensor: shape=(), dtype=int64, numpy=5832>)\n",
      "(<tf.Tensor: shape=(), dtype=int64, numpy=4>, <tf.Tensor: shape=(), dtype=int64, numpy=1728>)\n",
      "(<tf.Tensor: shape=(), dtype=int64, numpy=81>, <tf.Tensor: shape=(), dtype=int64, numpy=6859>)\n",
      "(<tf.Tensor: shape=(), dtype=int64, numpy=36>, <tf.Tensor: shape=(), dtype=int64, numpy=4096>)\n",
      "(<tf.Tensor: shape=(), dtype=int64, numpy=49>, <tf.Tensor: shape=(), dtype=int64, numpy=4913>)\n"
     ]
    }
   ],
   "source": [
    "for a in ds3:\n",
    "    print(a)"
   ]
  },
  {
   "cell_type": "code",
   "execution_count": 38,
   "metadata": {},
   "outputs": [],
   "source": [
    "ds4 = ds2.batch(4)"
   ]
  },
  {
   "cell_type": "code",
   "execution_count": 39,
   "metadata": {},
   "outputs": [
    {
     "name": "stdout",
     "output_type": "stream",
     "text": [
      "(<tf.Tensor: shape=(4,), dtype=int64, numpy=array([0, 1, 4, 9])>, <tf.Tensor: shape=(4,), dtype=int64, numpy=array([1000, 1331, 1728, 2197])>)\n",
      "(<tf.Tensor: shape=(4,), dtype=int64, numpy=array([16, 25, 36, 49])>, <tf.Tensor: shape=(4,), dtype=int64, numpy=array([2744, 3375, 4096, 4913])>)\n",
      "(<tf.Tensor: shape=(2,), dtype=int64, numpy=array([64, 81])>, <tf.Tensor: shape=(2,), dtype=int64, numpy=array([5832, 6859])>)\n"
     ]
    }
   ],
   "source": [
    "for a in ds4:\n",
    "    print(a)"
   ]
  },
  {
   "cell_type": "code",
   "execution_count": 40,
   "metadata": {},
   "outputs": [
    {
     "name": "stdout",
     "output_type": "stream",
     "text": [
      "(<tf.Tensor: shape=(4,), dtype=int64, numpy=array([0, 1, 4, 9])>, <tf.Tensor: shape=(4,), dtype=int64, numpy=array([1000, 1331, 1728, 2197])>)\n",
      "(<tf.Tensor: shape=(4,), dtype=int64, numpy=array([16, 25, 36, 49])>, <tf.Tensor: shape=(4,), dtype=int64, numpy=array([2744, 3375, 4096, 4913])>)\n",
      "(<tf.Tensor: shape=(2,), dtype=int64, numpy=array([64, 81])>, <tf.Tensor: shape=(2,), dtype=int64, numpy=array([5832, 6859])>)\n",
      "(<tf.Tensor: shape=(4,), dtype=int64, numpy=array([0, 1, 4, 9])>, <tf.Tensor: shape=(4,), dtype=int64, numpy=array([1000, 1331, 1728, 2197])>)\n",
      "(<tf.Tensor: shape=(4,), dtype=int64, numpy=array([16, 25, 36, 49])>, <tf.Tensor: shape=(4,), dtype=int64, numpy=array([2744, 3375, 4096, 4913])>)\n",
      "(<tf.Tensor: shape=(2,), dtype=int64, numpy=array([64, 81])>, <tf.Tensor: shape=(2,), dtype=int64, numpy=array([5832, 6859])>)\n",
      "(<tf.Tensor: shape=(4,), dtype=int64, numpy=array([0, 1, 4, 9])>, <tf.Tensor: shape=(4,), dtype=int64, numpy=array([1000, 1331, 1728, 2197])>)\n",
      "(<tf.Tensor: shape=(4,), dtype=int64, numpy=array([16, 25, 36, 49])>, <tf.Tensor: shape=(4,), dtype=int64, numpy=array([2744, 3375, 4096, 4913])>)\n",
      "(<tf.Tensor: shape=(2,), dtype=int64, numpy=array([64, 81])>, <tf.Tensor: shape=(2,), dtype=int64, numpy=array([5832, 6859])>)\n"
     ]
    }
   ],
   "source": [
    "for a in ds4.repeat(3):  # .repeat(n): n번 만큼 반복, n생략 시 무한 반복\n",
    "    print(a)"
   ]
  },
  {
   "cell_type": "code",
   "execution_count": 50,
   "metadata": {},
   "outputs": [],
   "source": [
    "ds5 = ds2.batch(4, drop_remainder=True)"
   ]
  },
  {
   "cell_type": "code",
   "execution_count": 52,
   "metadata": {},
   "outputs": [
    {
     "name": "stdout",
     "output_type": "stream",
     "text": [
      "(<tf.Tensor: shape=(4,), dtype=int64, numpy=array([0, 1, 4, 9])>, <tf.Tensor: shape=(4,), dtype=int64, numpy=array([1000, 1331, 1728, 2197])>)\n",
      "(<tf.Tensor: shape=(4,), dtype=int64, numpy=array([16, 25, 36, 49])>, <tf.Tensor: shape=(4,), dtype=int64, numpy=array([2744, 3375, 4096, 4913])>)\n"
     ]
    }
   ],
   "source": [
    "for a in ds5:\n",
    "    print(a)"
   ]
  },
  {
   "cell_type": "code",
   "execution_count": 41,
   "metadata": {},
   "outputs": [
    {
     "name": "stdout",
     "output_type": "stream",
     "text": [
      "WARNING:tensorflow:AutoGraph could not transform <function <lambda> at 0x7ff77051cea0> and will run it as-is.\n",
      "Cause: could not parse the source code:\n",
      "\n",
      "                         .map(lambda x, y: (x**2, y**3))\\\n",
      "                         .shuffle(10)\\\n",
      "                         .batch(4)\\\n",
      "                         .repeat(3)\n",
      "\n",
      "This error may be avoided by creating the lambda in a standalone statement.\n",
      "\n",
      "WARNING: AutoGraph could not transform <function <lambda> at 0x7ff77051cea0> and will run it as-is.\n",
      "Cause: could not parse the source code:\n",
      "\n",
      "                         .map(lambda x, y: (x**2, y**3))\\\n",
      "                         .shuffle(10)\\\n",
      "                         .batch(4)\\\n",
      "                         .repeat(3)\n",
      "\n",
      "This error may be avoided by creating the lambda in a standalone statement.\n",
      "\n"
     ]
    }
   ],
   "source": [
    "dataset = tf.data.Dataset.from_tensor_slices((x, y))\\\n",
    "                         .map(lambda x, y: (x**2, y**3))\\\n",
    "                         .shuffle(10)\\\n",
    "                         .batch(4)\\\n",
    "                         .repeat(3)\n",
    "# 한번에 작성해본 것"
   ]
  },
  {
   "cell_type": "code",
   "execution_count": 43,
   "metadata": {},
   "outputs": [
    {
     "name": "stdout",
     "output_type": "stream",
     "text": [
      "(<tf.Tensor: shape=(4,), dtype=int64, numpy=array([ 1, 81,  9, 49])>, <tf.Tensor: shape=(4,), dtype=int64, numpy=array([1331, 6859, 2197, 4913])>)\n",
      "(<tf.Tensor: shape=(4,), dtype=int64, numpy=array([ 0, 25, 16, 36])>, <tf.Tensor: shape=(4,), dtype=int64, numpy=array([1000, 3375, 2744, 4096])>)\n",
      "(<tf.Tensor: shape=(2,), dtype=int64, numpy=array([64,  4])>, <tf.Tensor: shape=(2,), dtype=int64, numpy=array([5832, 1728])>)\n",
      "(<tf.Tensor: shape=(4,), dtype=int64, numpy=array([81,  0, 36, 64])>, <tf.Tensor: shape=(4,), dtype=int64, numpy=array([6859, 1000, 4096, 5832])>)\n",
      "(<tf.Tensor: shape=(4,), dtype=int64, numpy=array([16,  4, 49,  1])>, <tf.Tensor: shape=(4,), dtype=int64, numpy=array([2744, 1728, 4913, 1331])>)\n",
      "(<tf.Tensor: shape=(2,), dtype=int64, numpy=array([25,  9])>, <tf.Tensor: shape=(2,), dtype=int64, numpy=array([3375, 2197])>)\n",
      "(<tf.Tensor: shape=(4,), dtype=int64, numpy=array([36, 49, 16,  9])>, <tf.Tensor: shape=(4,), dtype=int64, numpy=array([4096, 4913, 2744, 2197])>)\n",
      "(<tf.Tensor: shape=(4,), dtype=int64, numpy=array([ 0,  4, 64, 25])>, <tf.Tensor: shape=(4,), dtype=int64, numpy=array([1000, 1728, 5832, 3375])>)\n",
      "(<tf.Tensor: shape=(2,), dtype=int64, numpy=array([81,  1])>, <tf.Tensor: shape=(2,), dtype=int64, numpy=array([6859, 1331])>)\n"
     ]
    }
   ],
   "source": [
    "for a in dataset:\n",
    "    print(a)"
   ]
  },
  {
   "cell_type": "code",
   "execution_count": null,
   "metadata": {},
   "outputs": [],
   "source": []
  },
  {
   "cell_type": "code",
   "execution_count": null,
   "metadata": {},
   "outputs": [],
   "source": []
  },
  {
   "cell_type": "markdown",
   "metadata": {},
   "source": [
    "# 1. 회귀 - Boston Housing Dataset\n",
    "보스턴 주택가격 dataset은 다음과 같은 속성을 바탕으로 해당 타운 주택 가격의 중앙값을 예측하는 문제.\n",
    "- CRIM: 범죄율\n",
    "- ZN: 25,000 평방피트당 주거지역 비율\n",
    "- INDUS: 비소매 상업지구 비율\n",
    "- CHAS: 찰스강에 인접해 있는지 여부(인접:1, 아니면:0)\n",
    "- NOX: 일산화질소 농도(단위: 0.1ppm)\n",
    "- RM: 주택당 방의 수\n",
    "- AGE: 1940년 이전에 건설된 주택의 비율\n",
    "- DIS: 5개의 보스턴 직업고용센터와의 거리(가중 평균)\n",
    "- RAD: 고속도로 접근성\n",
    "- TAX: 재산세율\n",
    "- PTRATIO: 학생/교사 비율\n",
    "- B: 흑인 비율\n",
    "- LSTAT: 하위 계층 비율\n",
    "\n",
    "예측해야하는 것\n",
    "- MEDV: 타운의 주택가격 중앙값(단위: 1,000달러)"
   ]
  },
  {
   "cell_type": "code",
   "execution_count": 1,
   "metadata": {},
   "outputs": [],
   "source": [
    "import numpy as np\n",
    "import tensorflow as tf\n",
    "from tensorflow import keras"
   ]
  },
  {
   "cell_type": "code",
   "execution_count": 2,
   "metadata": {},
   "outputs": [],
   "source": [
    "# random seed\n",
    "np.random.seed(1)\n",
    "tf.random.set_seed(1)"
   ]
  },
  {
   "cell_type": "code",
   "execution_count": 3,
   "metadata": {},
   "outputs": [
    {
     "data": {
      "text/plain": [
       "((404, 13), (102, 13))"
      ]
     },
     "execution_count": 3,
     "metadata": {},
     "output_type": "execute_result"
    }
   ],
   "source": [
    "# 데이터셋 로딩\n",
    "(X_train, y_train), (X_test, y_test) = keras.datasets.boston_housing.load_data()\n",
    "X_train.shape, X_test.shape"
   ]
  },
  {
   "cell_type": "code",
   "execution_count": 4,
   "metadata": {},
   "outputs": [
    {
     "data": {
      "text/plain": [
       "array([15.2, 42.3, 50. , 21.1, 17.7])"
      ]
     },
     "execution_count": 4,
     "metadata": {},
     "output_type": "execute_result"
    }
   ],
   "source": [
    "y_train[:5]  # 회귀(Regression)"
   ]
  },
  {
   "cell_type": "code",
   "execution_count": 5,
   "metadata": {},
   "outputs": [
    {
     "data": {
      "text/plain": [
       "array([  1.23247,   0.     ,   8.14   ,   0.     ,   0.538  ,   6.142  ,\n",
       "        91.7    ,   3.9769 ,   4.     , 307.     ,  21.     , 396.9    ,\n",
       "        18.72   ])"
      ]
     },
     "execution_count": 5,
     "metadata": {},
     "output_type": "execute_result"
    }
   ],
   "source": [
    "X_train[0]"
   ]
  },
  {
   "cell_type": "code",
   "execution_count": 6,
   "metadata": {},
   "outputs": [],
   "source": [
    "# 하이퍼파라미터 값들을 설정\n",
    "LEARNING_RATE = 0.01  # 학습률\n",
    "N_EPOCHES = 200  # epoch 횟수, 1 epoch 전체 데이터셋을 한 번 사용한 것\n",
    "N_BATCHES = 32  # batch_size, 32개 데이터셋마다 파라미터(가중치)를 update\n",
    "\n",
    "N_TRAIN = X_train.shape[0]  # train set의 개수\n",
    "N_TEST = X_test.shape[0]  # test set의 개수\n",
    "N_FEATURES = X_train.shape[1]  # input data의 feature(컬럼) 개수"
   ]
  },
  {
   "cell_type": "code",
   "execution_count": 7,
   "metadata": {},
   "outputs": [],
   "source": [
    "# Dataset 생성\n",
    "train_dataset = tf.data.Dataset.from_tensor_slices((X_train, y_train)).shuffle(N_TRAIN).batch(N_BATCHES, drop_remainder=True).repeat()  \n",
    "# 반복시마다 데이터를 주기 위해 repeat()가 필요(여러 epoch를 돌때마다 계속 데이터를 제공하기 위해. repeat가 없으면 1 epoch 후 데이터를 제공하지 못한다.)\n",
    "# drop_remainder는 batch에서 갯수를 못채우고 남겨진 애들은 버리라는 의미 (마지막에 batch_size보다 제공할 데이터가 적으면 학습 시 제공하지 말고 버려라)\n",
    "val_dataset = tf.data.Dataset.from_tensor_slices((X_test, y_test)).batch(N_BATCHES)"
   ]
  },
  {
   "cell_type": "code",
   "execution_count": 8,
   "metadata": {},
   "outputs": [],
   "source": [
    "# Model 생성\n",
    "def create_model():\n",
    "    model = keras.Sequential()\n",
    "    # 입력 Layer를 따로 정의\n",
    "    # 첫번째 Layer를 만들 때 input_shape(1개의 입력 데이터의 형태)를 지정하면 입력 Layer층이 자동으로 생성된다.\n",
    "    model.add(keras.layers.Dense(units=16, activation='relu', input_shape=(N_FEATURES, )))\n",
    "    model.add(keras.layers.Dense(units=8, activation='relu'))\n",
    "    # 출력 Layer\n",
    "    model.add(keras.layers.Dense(units=1))  # 회귀의 출력층: units=1, activation은 사용하지 않는다.\n",
    "    \n",
    "    # Model compile\n",
    "    model.compile(optimizer=tf.keras.optimizers.Adam(learning_rate=LEARNING_RATE),  # optimizer의 하이퍼파라미터를 기본값으로 쓸 경우, 문자열로 'adam'을 선언하면 됨\n",
    "                  loss = 'mse')  # 회귀의 Loss 함수: mse\n",
    "    return model"
   ]
  },
  {
   "cell_type": "code",
   "execution_count": 9,
   "metadata": {},
   "outputs": [],
   "source": [
    "model = create_model()"
   ]
  },
  {
   "cell_type": "code",
   "execution_count": 10,
   "metadata": {},
   "outputs": [
    {
     "name": "stdout",
     "output_type": "stream",
     "text": [
      "Model: \"sequential\"\n",
      "_________________________________________________________________\n",
      "Layer (type)                 Output Shape              Param #   \n",
      "=================================================================\n",
      "dense (Dense)                (None, 16)                224       \n",
      "_________________________________________________________________\n",
      "dense_1 (Dense)              (None, 8)                 136       \n",
      "_________________________________________________________________\n",
      "dense_2 (Dense)              (None, 1)                 9         \n",
      "=================================================================\n",
      "Total params: 369\n",
      "Trainable params: 369\n",
      "Non-trainable params: 0\n",
      "_________________________________________________________________\n"
     ]
    }
   ],
   "source": [
    "model.summary()"
   ]
  },
  {
   "cell_type": "code",
   "execution_count": 11,
   "metadata": {},
   "outputs": [],
   "source": [
    "# 1 step: 한 번 가중치를 업데이트, batch_size\n",
    "# 1 epoch: 전체 train 데이터를 한 번 학습\n",
    "steps_per_epoch = N_TRAIN // N_BATCHES  # 학습 데이터 개수 // 배치 수\n",
    "validation_steps = int(np.ceil(N_TEST / N_BATCHES))"
   ]
  },
  {
   "cell_type": "code",
   "execution_count": 12,
   "metadata": {},
   "outputs": [
    {
     "name": "stdout",
     "output_type": "stream",
     "text": [
      "Train for 12 steps, validate for 4 steps\n",
      "Epoch 1/200\n",
      "12/12 [==============================] - 0s 40ms/step - loss: 267.5482 - val_loss: 89.9268\n",
      "Epoch 2/200\n",
      "12/12 [==============================] - 0s 2ms/step - loss: 104.3041 - val_loss: 92.1591\n",
      "Epoch 3/200\n",
      "12/12 [==============================] - 0s 2ms/step - loss: 69.2335 - val_loss: 79.4875\n",
      "Epoch 4/200\n",
      "12/12 [==============================] - 0s 2ms/step - loss: 60.0414 - val_loss: 78.7272\n",
      "Epoch 5/200\n",
      "12/12 [==============================] - 0s 2ms/step - loss: 54.1168 - val_loss: 99.6899\n",
      "Epoch 6/200\n",
      "12/12 [==============================] - 0s 2ms/step - loss: 57.2010 - val_loss: 81.1017\n",
      "Epoch 7/200\n",
      "12/12 [==============================] - 0s 2ms/step - loss: 49.4346 - val_loss: 76.8680\n",
      "Epoch 8/200\n",
      "12/12 [==============================] - 0s 2ms/step - loss: 48.3889 - val_loss: 69.2279\n",
      "Epoch 9/200\n",
      "12/12 [==============================] - 0s 2ms/step - loss: 46.7533 - val_loss: 69.9994\n",
      "Epoch 10/200\n",
      "12/12 [==============================] - 0s 2ms/step - loss: 46.6647 - val_loss: 69.8096\n",
      "Epoch 11/200\n",
      "12/12 [==============================] - 0s 2ms/step - loss: 46.2320 - val_loss: 63.0438\n",
      "Epoch 12/200\n",
      "12/12 [==============================] - 0s 2ms/step - loss: 42.7287 - val_loss: 67.8373\n",
      "Epoch 13/200\n",
      "12/12 [==============================] - 0s 2ms/step - loss: 41.3486 - val_loss: 56.7629\n",
      "Epoch 14/200\n",
      "12/12 [==============================] - 0s 2ms/step - loss: 42.9502 - val_loss: 73.3999\n",
      "Epoch 15/200\n",
      "12/12 [==============================] - 0s 2ms/step - loss: 45.7728 - val_loss: 63.2794\n",
      "Epoch 16/200\n",
      "12/12 [==============================] - 0s 2ms/step - loss: 43.3037 - val_loss: 55.9891\n",
      "Epoch 17/200\n",
      "12/12 [==============================] - 0s 2ms/step - loss: 39.5153 - val_loss: 50.5328\n",
      "Epoch 18/200\n",
      "12/12 [==============================] - 0s 2ms/step - loss: 38.7193 - val_loss: 49.6772\n",
      "Epoch 19/200\n",
      "12/12 [==============================] - 0s 2ms/step - loss: 40.4464 - val_loss: 54.6358\n",
      "Epoch 20/200\n",
      "12/12 [==============================] - 0s 2ms/step - loss: 43.0223 - val_loss: 46.5390\n",
      "Epoch 21/200\n",
      "12/12 [==============================] - 0s 2ms/step - loss: 50.4684 - val_loss: 50.4022\n",
      "Epoch 22/200\n",
      "12/12 [==============================] - 0s 2ms/step - loss: 43.4682 - val_loss: 58.6413\n",
      "Epoch 23/200\n",
      "12/12 [==============================] - 0s 2ms/step - loss: 36.5466 - val_loss: 48.4514\n",
      "Epoch 24/200\n",
      "12/12 [==============================] - 0s 2ms/step - loss: 37.0623 - val_loss: 63.4676\n",
      "Epoch 25/200\n",
      "12/12 [==============================] - 0s 2ms/step - loss: 38.7517 - val_loss: 47.8930\n",
      "Epoch 26/200\n",
      "12/12 [==============================] - 0s 2ms/step - loss: 35.1879 - val_loss: 44.6185\n",
      "Epoch 27/200\n",
      "12/12 [==============================] - 0s 2ms/step - loss: 37.1256 - val_loss: 48.8982\n",
      "Epoch 28/200\n",
      "12/12 [==============================] - 0s 2ms/step - loss: 37.1783 - val_loss: 49.1504\n",
      "Epoch 29/200\n",
      "12/12 [==============================] - 0s 2ms/step - loss: 37.5814 - val_loss: 47.2109\n",
      "Epoch 30/200\n",
      "12/12 [==============================] - 0s 2ms/step - loss: 37.7023 - val_loss: 50.4992\n",
      "Epoch 31/200\n",
      "12/12 [==============================] - 0s 2ms/step - loss: 36.2403 - val_loss: 51.1744\n",
      "Epoch 32/200\n",
      "12/12 [==============================] - 0s 2ms/step - loss: 39.4924 - val_loss: 47.8075\n",
      "Epoch 33/200\n",
      "12/12 [==============================] - 0s 2ms/step - loss: 34.4858 - val_loss: 45.6256\n",
      "Epoch 34/200\n",
      "12/12 [==============================] - 0s 2ms/step - loss: 34.1422 - val_loss: 44.0839\n",
      "Epoch 35/200\n",
      "12/12 [==============================] - 0s 2ms/step - loss: 39.9123 - val_loss: 46.9344\n",
      "Epoch 36/200\n",
      "12/12 [==============================] - 0s 2ms/step - loss: 34.4319 - val_loss: 45.7797\n",
      "Epoch 37/200\n",
      "12/12 [==============================] - 0s 2ms/step - loss: 34.5043 - val_loss: 43.3405\n",
      "Epoch 38/200\n",
      "12/12 [==============================] - 0s 2ms/step - loss: 38.0359 - val_loss: 43.7995\n",
      "Epoch 39/200\n",
      "12/12 [==============================] - 0s 2ms/step - loss: 31.8935 - val_loss: 44.1240\n",
      "Epoch 40/200\n",
      "12/12 [==============================] - 0s 2ms/step - loss: 36.3624 - val_loss: 46.4932\n",
      "Epoch 41/200\n",
      "12/12 [==============================] - 0s 2ms/step - loss: 31.8794 - val_loss: 44.3963\n",
      "Epoch 42/200\n",
      "12/12 [==============================] - 0s 2ms/step - loss: 38.3852 - val_loss: 55.8216\n",
      "Epoch 43/200\n",
      "12/12 [==============================] - 0s 2ms/step - loss: 47.7427 - val_loss: 53.4220\n",
      "Epoch 44/200\n",
      "12/12 [==============================] - 0s 2ms/step - loss: 49.6612 - val_loss: 96.0825\n",
      "Epoch 45/200\n",
      "12/12 [==============================] - 0s 2ms/step - loss: 47.4204 - val_loss: 52.7548\n",
      "Epoch 46/200\n",
      "12/12 [==============================] - 0s 2ms/step - loss: 34.3894 - val_loss: 45.1220\n",
      "Epoch 47/200\n",
      "12/12 [==============================] - 0s 2ms/step - loss: 33.5003 - val_loss: 44.8242\n",
      "Epoch 48/200\n",
      "12/12 [==============================] - 0s 2ms/step - loss: 34.4695 - val_loss: 55.0738\n",
      "Epoch 49/200\n",
      "12/12 [==============================] - 0s 2ms/step - loss: 32.8714 - val_loss: 45.0144\n",
      "Epoch 50/200\n",
      "12/12 [==============================] - 0s 2ms/step - loss: 32.8220 - val_loss: 46.8683\n",
      "Epoch 51/200\n",
      "12/12 [==============================] - 0s 2ms/step - loss: 43.3874 - val_loss: 45.0868\n",
      "Epoch 52/200\n",
      "12/12 [==============================] - 0s 2ms/step - loss: 35.9184 - val_loss: 48.4310\n",
      "Epoch 53/200\n",
      "12/12 [==============================] - 0s 2ms/step - loss: 31.2595 - val_loss: 40.8235\n",
      "Epoch 54/200\n",
      "12/12 [==============================] - 0s 2ms/step - loss: 32.1380 - val_loss: 40.2662\n",
      "Epoch 55/200\n",
      "12/12 [==============================] - 0s 2ms/step - loss: 30.0286 - val_loss: 45.0784\n",
      "Epoch 56/200\n",
      "12/12 [==============================] - 0s 2ms/step - loss: 30.5623 - val_loss: 43.6291\n",
      "Epoch 57/200\n",
      "12/12 [==============================] - 0s 2ms/step - loss: 31.1400 - val_loss: 41.5354\n",
      "Epoch 58/200\n",
      "12/12 [==============================] - 0s 2ms/step - loss: 32.2539 - val_loss: 47.5577\n",
      "Epoch 59/200\n",
      "12/12 [==============================] - 0s 2ms/step - loss: 45.0412 - val_loss: 48.6702\n",
      "Epoch 60/200\n",
      "12/12 [==============================] - 0s 2ms/step - loss: 42.8486 - val_loss: 65.4878\n",
      "Epoch 61/200\n",
      "12/12 [==============================] - 0s 2ms/step - loss: 40.2100 - val_loss: 48.6186\n",
      "Epoch 62/200\n",
      "12/12 [==============================] - 0s 2ms/step - loss: 42.5537 - val_loss: 53.3849\n",
      "Epoch 63/200\n",
      "12/12 [==============================] - 0s 2ms/step - loss: 44.2068 - val_loss: 42.1797\n",
      "Epoch 64/200\n",
      "12/12 [==============================] - 0s 2ms/step - loss: 32.3468 - val_loss: 44.4902\n",
      "Epoch 65/200\n",
      "12/12 [==============================] - 0s 2ms/step - loss: 31.5091 - val_loss: 40.3762\n",
      "Epoch 66/200\n",
      "12/12 [==============================] - 0s 2ms/step - loss: 30.5192 - val_loss: 39.1000\n",
      "Epoch 67/200\n",
      "12/12 [==============================] - 0s 2ms/step - loss: 29.2956 - val_loss: 40.1937\n",
      "Epoch 68/200\n",
      "12/12 [==============================] - 0s 2ms/step - loss: 31.2255 - val_loss: 47.8942\n",
      "Epoch 69/200\n",
      "12/12 [==============================] - 0s 2ms/step - loss: 30.2740 - val_loss: 40.8963\n",
      "Epoch 70/200\n",
      "12/12 [==============================] - 0s 2ms/step - loss: 29.0990 - val_loss: 39.6623\n",
      "Epoch 71/200\n",
      "12/12 [==============================] - 0s 2ms/step - loss: 27.9430 - val_loss: 38.9224\n",
      "Epoch 72/200\n",
      "12/12 [==============================] - 0s 2ms/step - loss: 28.5833 - val_loss: 43.3984\n",
      "Epoch 73/200\n",
      "12/12 [==============================] - 0s 2ms/step - loss: 32.8642 - val_loss: 42.9959\n",
      "Epoch 74/200\n",
      "12/12 [==============================] - 0s 2ms/step - loss: 30.2011 - val_loss: 40.3222\n",
      "Epoch 75/200\n",
      "12/12 [==============================] - 0s 2ms/step - loss: 30.3701 - val_loss: 40.1687\n",
      "Epoch 76/200\n",
      "12/12 [==============================] - 0s 2ms/step - loss: 28.2870 - val_loss: 42.7642\n",
      "Epoch 77/200\n",
      "12/12 [==============================] - 0s 2ms/step - loss: 32.4646 - val_loss: 38.7650\n",
      "Epoch 78/200\n",
      "12/12 [==============================] - 0s 2ms/step - loss: 29.6328 - val_loss: 38.9591\n",
      "Epoch 79/200\n",
      "12/12 [==============================] - 0s 2ms/step - loss: 32.9071 - val_loss: 41.0001\n",
      "Epoch 80/200\n",
      "12/12 [==============================] - 0s 2ms/step - loss: 28.3782 - val_loss: 38.6884\n"
     ]
    },
    {
     "name": "stdout",
     "output_type": "stream",
     "text": [
      "Epoch 81/200\n",
      "12/12 [==============================] - 0s 2ms/step - loss: 29.7877 - val_loss: 42.9405\n",
      "Epoch 82/200\n",
      "12/12 [==============================] - 0s 2ms/step - loss: 25.0405 - val_loss: 38.5647\n",
      "Epoch 83/200\n",
      "12/12 [==============================] - 0s 2ms/step - loss: 27.5067 - val_loss: 49.7989\n",
      "Epoch 84/200\n",
      "12/12 [==============================] - 0s 2ms/step - loss: 29.3596 - val_loss: 46.0778\n",
      "Epoch 85/200\n",
      "12/12 [==============================] - 0s 2ms/step - loss: 31.8179 - val_loss: 41.7817\n",
      "Epoch 86/200\n",
      "12/12 [==============================] - 0s 2ms/step - loss: 26.1240 - val_loss: 40.7516\n",
      "Epoch 87/200\n",
      "12/12 [==============================] - 0s 2ms/step - loss: 24.6231 - val_loss: 38.6702\n",
      "Epoch 88/200\n",
      "12/12 [==============================] - 0s 2ms/step - loss: 25.6573 - val_loss: 41.9770\n",
      "Epoch 89/200\n",
      "12/12 [==============================] - 0s 2ms/step - loss: 28.8570 - val_loss: 46.8523\n",
      "Epoch 90/200\n",
      "12/12 [==============================] - 0s 2ms/step - loss: 26.4077 - val_loss: 42.5908\n",
      "Epoch 91/200\n",
      "12/12 [==============================] - 0s 2ms/step - loss: 25.5789 - val_loss: 42.6560\n",
      "Epoch 92/200\n",
      "12/12 [==============================] - 0s 2ms/step - loss: 26.6192 - val_loss: 40.9983\n",
      "Epoch 93/200\n",
      "12/12 [==============================] - 0s 2ms/step - loss: 23.9762 - val_loss: 41.5095\n",
      "Epoch 94/200\n",
      "12/12 [==============================] - 0s 2ms/step - loss: 21.4107 - val_loss: 42.2290\n",
      "Epoch 95/200\n",
      "12/12 [==============================] - 0s 2ms/step - loss: 20.5730 - val_loss: 43.1069\n",
      "Epoch 96/200\n",
      "12/12 [==============================] - 0s 2ms/step - loss: 23.1805 - val_loss: 53.9579\n",
      "Epoch 97/200\n",
      "12/12 [==============================] - 0s 2ms/step - loss: 25.6836 - val_loss: 44.3063\n",
      "Epoch 98/200\n",
      "12/12 [==============================] - 0s 2ms/step - loss: 21.9968 - val_loss: 46.5311\n",
      "Epoch 99/200\n",
      "12/12 [==============================] - 0s 2ms/step - loss: 21.9822 - val_loss: 47.9499\n",
      "Epoch 100/200\n",
      "12/12 [==============================] - 0s 2ms/step - loss: 20.1148 - val_loss: 52.4211\n",
      "Epoch 101/200\n",
      "12/12 [==============================] - 0s 2ms/step - loss: 22.8422 - val_loss: 47.4283\n",
      "Epoch 102/200\n",
      "12/12 [==============================] - 0s 2ms/step - loss: 21.5641 - val_loss: 50.7186\n",
      "Epoch 103/200\n",
      "12/12 [==============================] - 0s 2ms/step - loss: 19.8647 - val_loss: 50.4457\n",
      "Epoch 104/200\n",
      "12/12 [==============================] - 0s 2ms/step - loss: 25.8958 - val_loss: 53.7699\n",
      "Epoch 105/200\n",
      "12/12 [==============================] - 0s 2ms/step - loss: 21.0555 - val_loss: 47.4220\n",
      "Epoch 106/200\n",
      "12/12 [==============================] - 0s 2ms/step - loss: 21.4170 - val_loss: 56.9950\n",
      "Epoch 107/200\n",
      "12/12 [==============================] - 0s 2ms/step - loss: 24.3927 - val_loss: 50.8255\n",
      "Epoch 108/200\n",
      "12/12 [==============================] - 0s 2ms/step - loss: 27.1681 - val_loss: 63.4081\n",
      "Epoch 109/200\n",
      "12/12 [==============================] - 0s 2ms/step - loss: 27.6582 - val_loss: 47.3204\n",
      "Epoch 110/200\n",
      "12/12 [==============================] - 0s 2ms/step - loss: 22.9717 - val_loss: 49.8413\n",
      "Epoch 111/200\n",
      "12/12 [==============================] - 0s 2ms/step - loss: 21.1196 - val_loss: 55.1213\n",
      "Epoch 112/200\n",
      "12/12 [==============================] - 0s 2ms/step - loss: 19.3614 - val_loss: 49.3557\n",
      "Epoch 113/200\n",
      "12/12 [==============================] - 0s 2ms/step - loss: 19.6548 - val_loss: 52.9213\n",
      "Epoch 114/200\n",
      "12/12 [==============================] - 0s 2ms/step - loss: 19.7593 - val_loss: 58.5654\n",
      "Epoch 115/200\n",
      "12/12 [==============================] - 0s 2ms/step - loss: 18.7926 - val_loss: 57.6927\n",
      "Epoch 116/200\n",
      "12/12 [==============================] - 0s 2ms/step - loss: 17.9682 - val_loss: 53.9628\n",
      "Epoch 117/200\n",
      "12/12 [==============================] - 0s 2ms/step - loss: 18.7638 - val_loss: 60.1065\n",
      "Epoch 118/200\n",
      "12/12 [==============================] - 0s 2ms/step - loss: 22.2695 - val_loss: 54.2513\n",
      "Epoch 119/200\n",
      "12/12 [==============================] - 0s 2ms/step - loss: 22.7029 - val_loss: 53.9018\n",
      "Epoch 120/200\n",
      "12/12 [==============================] - 0s 2ms/step - loss: 19.0041 - val_loss: 58.0196\n",
      "Epoch 121/200\n",
      "12/12 [==============================] - 0s 2ms/step - loss: 18.2954 - val_loss: 48.4944\n",
      "Epoch 122/200\n",
      "12/12 [==============================] - 0s 2ms/step - loss: 17.2247 - val_loss: 53.2683\n",
      "Epoch 123/200\n",
      "12/12 [==============================] - 0s 2ms/step - loss: 17.7211 - val_loss: 61.3817\n",
      "Epoch 124/200\n",
      "12/12 [==============================] - 0s 2ms/step - loss: 18.2307 - val_loss: 54.6986\n",
      "Epoch 125/200\n",
      "12/12 [==============================] - 0s 2ms/step - loss: 16.7902 - val_loss: 56.4765\n",
      "Epoch 126/200\n",
      "12/12 [==============================] - 0s 2ms/step - loss: 16.6313 - val_loss: 65.5861\n",
      "Epoch 127/200\n",
      "12/12 [==============================] - 0s 2ms/step - loss: 17.7609 - val_loss: 66.5506\n",
      "Epoch 128/200\n",
      "12/12 [==============================] - 0s 2ms/step - loss: 16.9258 - val_loss: 58.4273\n",
      "Epoch 129/200\n",
      "12/12 [==============================] - 0s 2ms/step - loss: 15.8823 - val_loss: 59.7270\n",
      "Epoch 130/200\n",
      "12/12 [==============================] - 0s 2ms/step - loss: 15.2181 - val_loss: 59.5220\n",
      "Epoch 131/200\n",
      "12/12 [==============================] - 0s 2ms/step - loss: 15.4040 - val_loss: 56.9889\n",
      "Epoch 132/200\n",
      "12/12 [==============================] - 0s 2ms/step - loss: 15.7075 - val_loss: 56.4080\n",
      "Epoch 133/200\n",
      "12/12 [==============================] - 0s 2ms/step - loss: 19.1725 - val_loss: 64.7207\n",
      "Epoch 134/200\n",
      "12/12 [==============================] - 0s 2ms/step - loss: 15.9369 - val_loss: 57.7830\n",
      "Epoch 135/200\n",
      "12/12 [==============================] - 0s 2ms/step - loss: 14.5266 - val_loss: 57.6684\n",
      "Epoch 136/200\n",
      "12/12 [==============================] - 0s 2ms/step - loss: 14.3674 - val_loss: 58.5649\n",
      "Epoch 137/200\n",
      "12/12 [==============================] - 0s 2ms/step - loss: 14.8716 - val_loss: 64.1236\n",
      "Epoch 138/200\n",
      "12/12 [==============================] - 0s 2ms/step - loss: 15.5174 - val_loss: 64.1147\n",
      "Epoch 139/200\n",
      "12/12 [==============================] - 0s 2ms/step - loss: 15.6306 - val_loss: 53.5352\n",
      "Epoch 140/200\n",
      "12/12 [==============================] - 0s 2ms/step - loss: 18.6771 - val_loss: 64.0013\n",
      "Epoch 141/200\n",
      "12/12 [==============================] - 0s 2ms/step - loss: 16.6114 - val_loss: 61.7824\n",
      "Epoch 142/200\n",
      "12/12 [==============================] - 0s 2ms/step - loss: 17.2283 - val_loss: 69.5829\n",
      "Epoch 143/200\n",
      "12/12 [==============================] - 0s 2ms/step - loss: 19.4308 - val_loss: 59.6602\n",
      "Epoch 144/200\n",
      "12/12 [==============================] - 0s 2ms/step - loss: 18.4793 - val_loss: 72.1725\n",
      "Epoch 145/200\n",
      "12/12 [==============================] - 0s 2ms/step - loss: 17.1213 - val_loss: 57.5262\n",
      "Epoch 146/200\n",
      "12/12 [==============================] - 0s 2ms/step - loss: 16.5820 - val_loss: 56.5732\n",
      "Epoch 147/200\n",
      "12/12 [==============================] - 0s 2ms/step - loss: 16.8160 - val_loss: 79.8558\n",
      "Epoch 148/200\n",
      "12/12 [==============================] - 0s 2ms/step - loss: 15.8011 - val_loss: 61.2357\n",
      "Epoch 149/200\n",
      "12/12 [==============================] - 0s 2ms/step - loss: 14.6239 - val_loss: 49.4704\n",
      "Epoch 150/200\n",
      "12/12 [==============================] - 0s 2ms/step - loss: 18.2312 - val_loss: 71.7071\n",
      "Epoch 151/200\n",
      "12/12 [==============================] - 0s 2ms/step - loss: 16.9849 - val_loss: 64.7615\n",
      "Epoch 152/200\n",
      "12/12 [==============================] - 0s 2ms/step - loss: 15.6824 - val_loss: 66.4492\n",
      "Epoch 153/200\n",
      "12/12 [==============================] - 0s 2ms/step - loss: 15.8644 - val_loss: 65.5935\n",
      "Epoch 154/200\n",
      "12/12 [==============================] - 0s 2ms/step - loss: 19.3379 - val_loss: 51.2014\n",
      "Epoch 155/200\n",
      "12/12 [==============================] - 0s 2ms/step - loss: 19.0777 - val_loss: 63.2050\n",
      "Epoch 156/200\n",
      "12/12 [==============================] - 0s 2ms/step - loss: 14.8845 - val_loss: 61.9164\n",
      "Epoch 157/200\n",
      "12/12 [==============================] - 0s 2ms/step - loss: 15.9601 - val_loss: 65.5635\n",
      "Epoch 158/200\n",
      "12/12 [==============================] - 0s 2ms/step - loss: 15.3834 - val_loss: 64.3484\n",
      "Epoch 159/200\n",
      "12/12 [==============================] - 0s 2ms/step - loss: 13.6668 - val_loss: 62.0254\n",
      "Epoch 160/200\n"
     ]
    },
    {
     "name": "stdout",
     "output_type": "stream",
     "text": [
      "12/12 [==============================] - 0s 2ms/step - loss: 14.4003 - val_loss: 60.5423\n",
      "Epoch 161/200\n",
      "12/12 [==============================] - 0s 2ms/step - loss: 15.3995 - val_loss: 80.3617\n",
      "Epoch 162/200\n",
      "12/12 [==============================] - 0s 2ms/step - loss: 18.0237 - val_loss: 57.1399\n",
      "Epoch 163/200\n",
      "12/12 [==============================] - 0s 2ms/step - loss: 20.0912 - val_loss: 67.4427\n",
      "Epoch 164/200\n",
      "12/12 [==============================] - 0s 2ms/step - loss: 15.5847 - val_loss: 72.1314\n",
      "Epoch 165/200\n",
      "12/12 [==============================] - 0s 2ms/step - loss: 16.3312 - val_loss: 56.7348\n",
      "Epoch 166/200\n",
      "12/12 [==============================] - 0s 2ms/step - loss: 14.8061 - val_loss: 81.2350\n",
      "Epoch 167/200\n",
      "12/12 [==============================] - 0s 2ms/step - loss: 17.3312 - val_loss: 59.9095\n",
      "Epoch 168/200\n",
      "12/12 [==============================] - 0s 2ms/step - loss: 15.8270 - val_loss: 66.0559\n",
      "Epoch 169/200\n",
      "12/12 [==============================] - 0s 2ms/step - loss: 15.7369 - val_loss: 80.4277\n",
      "Epoch 170/200\n",
      "12/12 [==============================] - 0s 2ms/step - loss: 15.8358 - val_loss: 67.4424\n",
      "Epoch 171/200\n",
      "12/12 [==============================] - 0s 2ms/step - loss: 14.6969 - val_loss: 77.7987\n",
      "Epoch 172/200\n",
      "12/12 [==============================] - 0s 2ms/step - loss: 17.3785 - val_loss: 71.4901\n",
      "Epoch 173/200\n",
      "12/12 [==============================] - 0s 2ms/step - loss: 14.7617 - val_loss: 70.1036\n",
      "Epoch 174/200\n",
      "12/12 [==============================] - 0s 2ms/step - loss: 16.0117 - val_loss: 81.7182\n",
      "Epoch 175/200\n",
      "12/12 [==============================] - 0s 2ms/step - loss: 15.5456 - val_loss: 65.7274\n",
      "Epoch 176/200\n",
      "12/12 [==============================] - 0s 2ms/step - loss: 15.9764 - val_loss: 66.0755\n",
      "Epoch 177/200\n",
      "12/12 [==============================] - 0s 2ms/step - loss: 15.1473 - val_loss: 68.8635\n",
      "Epoch 178/200\n",
      "12/12 [==============================] - 0s 2ms/step - loss: 16.0042 - val_loss: 89.0268\n",
      "Epoch 179/200\n",
      "12/12 [==============================] - 0s 2ms/step - loss: 16.7304 - val_loss: 71.9156\n",
      "Epoch 180/200\n",
      "12/12 [==============================] - 0s 2ms/step - loss: 14.1753 - val_loss: 64.3314\n",
      "Epoch 181/200\n",
      "12/12 [==============================] - 0s 2ms/step - loss: 14.0403 - val_loss: 61.1465\n",
      "Epoch 182/200\n",
      "12/12 [==============================] - 0s 2ms/step - loss: 13.9538 - val_loss: 61.8442\n",
      "Epoch 183/200\n",
      "12/12 [==============================] - 0s 2ms/step - loss: 14.6509 - val_loss: 65.9594\n",
      "Epoch 184/200\n",
      "12/12 [==============================] - 0s 2ms/step - loss: 13.5672 - val_loss: 65.8363\n",
      "Epoch 185/200\n",
      "12/12 [==============================] - 0s 2ms/step - loss: 16.0178 - val_loss: 58.6031\n",
      "Epoch 186/200\n",
      "12/12 [==============================] - 0s 2ms/step - loss: 16.3250 - val_loss: 62.0180\n",
      "Epoch 187/200\n",
      "12/12 [==============================] - 0s 2ms/step - loss: 15.5296 - val_loss: 63.8459\n",
      "Epoch 188/200\n",
      "12/12 [==============================] - 0s 2ms/step - loss: 21.5299 - val_loss: 58.9148\n",
      "Epoch 189/200\n",
      "12/12 [==============================] - 0s 2ms/step - loss: 23.4712 - val_loss: 58.8589\n",
      "Epoch 190/200\n",
      "12/12 [==============================] - 0s 2ms/step - loss: 16.5358 - val_loss: 76.2886\n",
      "Epoch 191/200\n",
      "12/12 [==============================] - 0s 2ms/step - loss: 16.6642 - val_loss: 60.5292\n",
      "Epoch 192/200\n",
      "12/12 [==============================] - 0s 2ms/step - loss: 16.4263 - val_loss: 66.2762\n",
      "Epoch 193/200\n",
      "12/12 [==============================] - 0s 2ms/step - loss: 14.5900 - val_loss: 62.2937\n",
      "Epoch 194/200\n",
      "12/12 [==============================] - 0s 2ms/step - loss: 16.0503 - val_loss: 58.7815\n",
      "Epoch 195/200\n",
      "12/12 [==============================] - 0s 2ms/step - loss: 15.3268 - val_loss: 61.6548\n",
      "Epoch 196/200\n",
      "12/12 [==============================] - 0s 2ms/step - loss: 14.1822 - val_loss: 69.4316\n",
      "Epoch 197/200\n",
      "12/12 [==============================] - 0s 2ms/step - loss: 14.0145 - val_loss: 64.8825\n",
      "Epoch 198/200\n",
      "12/12 [==============================] - 0s 2ms/step - loss: 13.6550 - val_loss: 60.4855\n",
      "Epoch 199/200\n",
      "12/12 [==============================] - 0s 2ms/step - loss: 16.5389 - val_loss: 64.7692\n",
      "Epoch 200/200\n",
      "12/12 [==============================] - 0s 2ms/step - loss: 14.0913 - val_loss: 57.9575\n"
     ]
    }
   ],
   "source": [
    "history = model.fit(train_dataset,  # train dataset (X_train, y_train)\n",
    "                    epochs=N_EPOCHES,\n",
    "                    steps_per_epoch=steps_per_epoch,  # 1 epoch당 step 수\n",
    "                    validation_data=val_dataset,  # 검증 Dataset 지정\n",
    "                    validation_steps=validation_steps\n",
    "                   )"
   ]
  },
  {
   "cell_type": "code",
   "execution_count": 13,
   "metadata": {},
   "outputs": [
    {
     "data": {
      "text/plain": [
       "dict_keys(['loss', 'val_loss'])"
      ]
     },
     "execution_count": 13,
     "metadata": {},
     "output_type": "execute_result"
    }
   ],
   "source": [
    "history.history.keys()"
   ]
  },
  {
   "cell_type": "code",
   "execution_count": 14,
   "metadata": {},
   "outputs": [
    {
     "data": {
      "text/plain": [
       "{'loss': [267.54815038045246,\n",
       "  104.30407969156902,\n",
       "  69.23347918192546,\n",
       "  60.04138898849487,\n",
       "  54.116767724355064,\n",
       "  57.200984954833984,\n",
       "  49.43464374542236,\n",
       "  48.38888661066691,\n",
       "  46.75333070755005,\n",
       "  46.66474437713623,\n",
       "  46.23195584615072,\n",
       "  42.72865311304728,\n",
       "  41.34861342112223,\n",
       "  42.95024315516154,\n",
       "  45.772807121276855,\n",
       "  43.3036527633667,\n",
       "  39.51527444521586,\n",
       "  38.71933992703756,\n",
       "  40.44642527898153,\n",
       "  43.02230882644653,\n",
       "  50.46841581662496,\n",
       "  43.46821562449137,\n",
       "  36.546589056650795,\n",
       "  37.0623033841451,\n",
       "  38.751724084218345,\n",
       "  35.18793137868246,\n",
       "  37.125555197397865,\n",
       "  37.17826636632284,\n",
       "  37.58138100306193,\n",
       "  37.702343463897705,\n",
       "  36.24028015136719,\n",
       "  39.49236639340719,\n",
       "  34.485824743906655,\n",
       "  34.142175833384194,\n",
       "  39.91227380434672,\n",
       "  34.43192688624064,\n",
       "  34.50432205200195,\n",
       "  38.0359431107839,\n",
       "  31.893465042114258,\n",
       "  36.362414042154946,\n",
       "  31.879402319590252,\n",
       "  38.385223706563316,\n",
       "  47.74273268381754,\n",
       "  49.66123024622599,\n",
       "  47.420417626698814,\n",
       "  34.38943751653036,\n",
       "  33.50034888585409,\n",
       "  34.46949847539266,\n",
       "  32.87144843737284,\n",
       "  32.82201568285624,\n",
       "  43.387442429860435,\n",
       "  35.91840251286825,\n",
       "  31.259540398915608,\n",
       "  32.13804848988851,\n",
       "  30.02857192357381,\n",
       "  30.562283515930176,\n",
       "  31.14000415802002,\n",
       "  32.25391721725464,\n",
       "  45.04124410947164,\n",
       "  42.848559061686196,\n",
       "  40.20999717712402,\n",
       "  42.55369806289673,\n",
       "  44.20684162775675,\n",
       "  32.34681351979574,\n",
       "  31.509071985880535,\n",
       "  30.519191821416218,\n",
       "  29.295574982961018,\n",
       "  31.225452264149983,\n",
       "  30.274013837178547,\n",
       "  29.098982016245525,\n",
       "  27.943002621332806,\n",
       "  28.583325147628784,\n",
       "  32.864198525746666,\n",
       "  30.20112180709839,\n",
       "  30.370121558507282,\n",
       "  28.286989132563274,\n",
       "  32.46457680066427,\n",
       "  29.63283348083496,\n",
       "  32.907149950663246,\n",
       "  28.378248929977417,\n",
       "  29.787706931432087,\n",
       "  25.040479977925617,\n",
       "  27.506743669509888,\n",
       "  29.359645048777264,\n",
       "  31.817870140075684,\n",
       "  26.12399673461914,\n",
       "  24.62311903635661,\n",
       "  25.657312870025635,\n",
       "  28.85701648394267,\n",
       "  26.407670974731445,\n",
       "  25.57888126373291,\n",
       "  26.61922812461853,\n",
       "  23.97617530822754,\n",
       "  21.410657326380413,\n",
       "  20.572962125142414,\n",
       "  23.18052403132121,\n",
       "  25.68358890215556,\n",
       "  21.996828476587932,\n",
       "  21.98223336537679,\n",
       "  20.11483422915141,\n",
       "  22.84216086069743,\n",
       "  21.564079999923706,\n",
       "  19.864686250686646,\n",
       "  25.895764191945393,\n",
       "  21.055541197458904,\n",
       "  21.41695801417033,\n",
       "  24.392653306325276,\n",
       "  27.16813063621521,\n",
       "  27.658186237017315,\n",
       "  22.971677382787068,\n",
       "  21.11964027086894,\n",
       "  19.36144534746806,\n",
       "  19.654770731925964,\n",
       "  19.75926963488261,\n",
       "  18.792649745941162,\n",
       "  17.96824034055074,\n",
       "  18.763758500417072,\n",
       "  22.26949167251587,\n",
       "  22.702914158503216,\n",
       "  19.004060824712116,\n",
       "  18.295400778452557,\n",
       "  17.22468090057373,\n",
       "  17.721118132273357,\n",
       "  18.230743805567425,\n",
       "  16.790189186731975,\n",
       "  16.63127573331197,\n",
       "  17.760876655578613,\n",
       "  16.92575963338216,\n",
       "  15.882323145866394,\n",
       "  15.218063831329346,\n",
       "  15.403952042261759,\n",
       "  15.7074875831604,\n",
       "  19.17253081003825,\n",
       "  15.936930020650228,\n",
       "  14.526646455128988,\n",
       "  14.367376883824667,\n",
       "  14.871615568796793,\n",
       "  15.517387549082438,\n",
       "  15.630619287490845,\n",
       "  18.677064259847004,\n",
       "  16.611409028371174,\n",
       "  17.22832997639974,\n",
       "  19.430760542551678,\n",
       "  18.479345321655273,\n",
       "  17.12127995491028,\n",
       "  16.58202338218689,\n",
       "  16.816011428833008,\n",
       "  15.801119407018026,\n",
       "  14.623919486999512,\n",
       "  18.231169899304707,\n",
       "  16.984889149665833,\n",
       "  15.682355721791586,\n",
       "  15.864377935727438,\n",
       "  19.337898015975952,\n",
       "  19.07774782180786,\n",
       "  14.884473959604898,\n",
       "  15.960146427154541,\n",
       "  15.383429368336996,\n",
       "  13.666763226191202,\n",
       "  14.400272448857626,\n",
       "  15.399547696113586,\n",
       "  18.023653268814087,\n",
       "  20.09116331736247,\n",
       "  15.58474357922872,\n",
       "  16.331223964691162,\n",
       "  14.806082010269165,\n",
       "  17.33120858669281,\n",
       "  15.827021837234497,\n",
       "  15.7369335492452,\n",
       "  15.835775375366211,\n",
       "  14.696909586588541,\n",
       "  17.378499110539753,\n",
       "  14.761690219243368,\n",
       "  16.011680046717327,\n",
       "  15.545622944831848,\n",
       "  15.976359804471334,\n",
       "  15.14729619026184,\n",
       "  16.004238923390705,\n",
       "  16.730406403541565,\n",
       "  14.17532221476237,\n",
       "  14.040324370066324,\n",
       "  13.953754425048828,\n",
       "  14.650949478149414,\n",
       "  13.567161877950033,\n",
       "  16.017797549565632,\n",
       "  16.325005133946735,\n",
       "  15.529609282811483,\n",
       "  21.529910167058308,\n",
       "  23.471194982528687,\n",
       "  16.535781025886536,\n",
       "  16.66417185465495,\n",
       "  16.426254669825237,\n",
       "  14.589999198913574,\n",
       "  16.05031744639079,\n",
       "  15.32682466506958,\n",
       "  14.182239770889282,\n",
       "  14.014469305674234,\n",
       "  13.654966910680136,\n",
       "  16.53889075915019,\n",
       "  14.091347853342691],\n",
       " 'val_loss': [89.92675399780273,\n",
       "  92.15909004211426,\n",
       "  79.4875078201294,\n",
       "  78.72720623016357,\n",
       "  99.6899356842041,\n",
       "  81.1017255783081,\n",
       "  76.86800003051758,\n",
       "  69.22787761688232,\n",
       "  69.99941825866699,\n",
       "  69.80962753295898,\n",
       "  63.043829917907715,\n",
       "  67.83728694915771,\n",
       "  56.7628870010376,\n",
       "  73.3998966217041,\n",
       "  63.27941131591797,\n",
       "  55.989073753356934,\n",
       "  50.53282690048218,\n",
       "  49.67723560333252,\n",
       "  54.63577651977539,\n",
       "  46.53903341293335,\n",
       "  50.402194023132324,\n",
       "  58.64126205444336,\n",
       "  48.4513955116272,\n",
       "  63.46757698059082,\n",
       "  47.89303016662598,\n",
       "  44.6184515953064,\n",
       "  48.89816951751709,\n",
       "  49.15044689178467,\n",
       "  47.21087598800659,\n",
       "  50.49917554855347,\n",
       "  51.17438316345215,\n",
       "  47.80748462677002,\n",
       "  45.62557125091553,\n",
       "  44.08393144607544,\n",
       "  46.934364795684814,\n",
       "  45.77972888946533,\n",
       "  43.34054660797119,\n",
       "  43.799519538879395,\n",
       "  44.123969078063965,\n",
       "  46.49319076538086,\n",
       "  44.39634418487549,\n",
       "  55.821560859680176,\n",
       "  53.421998023986816,\n",
       "  96.08253288269043,\n",
       "  52.75479793548584,\n",
       "  45.12199544906616,\n",
       "  44.824174880981445,\n",
       "  55.073750495910645,\n",
       "  45.01441431045532,\n",
       "  46.86833190917969,\n",
       "  45.086819648742676,\n",
       "  48.43102550506592,\n",
       "  40.82347059249878,\n",
       "  40.266225814819336,\n",
       "  45.07844114303589,\n",
       "  43.629117012023926,\n",
       "  41.535417556762695,\n",
       "  47.557719230651855,\n",
       "  48.67023515701294,\n",
       "  65.48783779144287,\n",
       "  48.61855888366699,\n",
       "  53.384899616241455,\n",
       "  42.17974138259888,\n",
       "  44.490171909332275,\n",
       "  40.37618160247803,\n",
       "  39.10000944137573,\n",
       "  40.19374704360962,\n",
       "  47.89422559738159,\n",
       "  40.896278381347656,\n",
       "  39.662325859069824,\n",
       "  38.92240524291992,\n",
       "  43.398396492004395,\n",
       "  42.99590826034546,\n",
       "  40.32219123840332,\n",
       "  40.16873741149902,\n",
       "  42.764161586761475,\n",
       "  38.765015602111816,\n",
       "  38.95913553237915,\n",
       "  41.00010919570923,\n",
       "  38.68840503692627,\n",
       "  42.940507888793945,\n",
       "  38.564669609069824,\n",
       "  49.79894733428955,\n",
       "  46.07782506942749,\n",
       "  41.78169107437134,\n",
       "  40.75161933898926,\n",
       "  38.67023277282715,\n",
       "  41.97704744338989,\n",
       "  46.85234785079956,\n",
       "  42.59076738357544,\n",
       "  42.655985832214355,\n",
       "  40.99833106994629,\n",
       "  41.50949048995972,\n",
       "  42.229039669036865,\n",
       "  43.10692548751831,\n",
       "  53.95788097381592,\n",
       "  44.306254386901855,\n",
       "  46.531105518341064,\n",
       "  47.9498929977417,\n",
       "  52.42112112045288,\n",
       "  47.428319454193115,\n",
       "  50.71864891052246,\n",
       "  50.445741176605225,\n",
       "  53.769936084747314,\n",
       "  47.42202281951904,\n",
       "  56.99502992630005,\n",
       "  50.82552623748779,\n",
       "  63.408119201660156,\n",
       "  47.32035493850708,\n",
       "  49.84133815765381,\n",
       "  55.12133502960205,\n",
       "  49.35565757751465,\n",
       "  52.9212965965271,\n",
       "  58.56535243988037,\n",
       "  57.6926589012146,\n",
       "  53.96277952194214,\n",
       "  60.10648155212402,\n",
       "  54.251338958740234,\n",
       "  53.90175247192383,\n",
       "  58.0196270942688,\n",
       "  48.494375705718994,\n",
       "  53.268280029296875,\n",
       "  61.38172197341919,\n",
       "  54.69858407974243,\n",
       "  56.47647714614868,\n",
       "  65.58609247207642,\n",
       "  66.55055618286133,\n",
       "  58.42729377746582,\n",
       "  59.72703981399536,\n",
       "  59.52196407318115,\n",
       "  56.988898277282715,\n",
       "  56.40796709060669,\n",
       "  64.72073650360107,\n",
       "  57.782999992370605,\n",
       "  57.668423652648926,\n",
       "  58.56494951248169,\n",
       "  64.123610496521,\n",
       "  64.11468744277954,\n",
       "  53.535162925720215,\n",
       "  64.00128841400146,\n",
       "  61.78236722946167,\n",
       "  69.5828628540039,\n",
       "  59.66019821166992,\n",
       "  72.17254590988159,\n",
       "  57.526230335235596,\n",
       "  56.573232650756836,\n",
       "  79.85580062866211,\n",
       "  61.235737800598145,\n",
       "  49.4703950881958,\n",
       "  71.70709085464478,\n",
       "  64.76154279708862,\n",
       "  66.44920349121094,\n",
       "  65.59346532821655,\n",
       "  51.20139741897583,\n",
       "  63.20497989654541,\n",
       "  61.916386127471924,\n",
       "  65.5635461807251,\n",
       "  64.34839391708374,\n",
       "  62.025373458862305,\n",
       "  60.54229736328125,\n",
       "  80.36166667938232,\n",
       "  57.139930725097656,\n",
       "  67.44265556335449,\n",
       "  72.1314148902893,\n",
       "  56.73477125167847,\n",
       "  81.23501491546631,\n",
       "  59.90949726104736,\n",
       "  66.0558876991272,\n",
       "  80.42774438858032,\n",
       "  67.44238567352295,\n",
       "  77.79873466491699,\n",
       "  71.49013996124268,\n",
       "  70.10362911224365,\n",
       "  81.71819400787354,\n",
       "  65.72738742828369,\n",
       "  66.07551002502441,\n",
       "  68.86347150802612,\n",
       "  89.02683210372925,\n",
       "  71.91558170318604,\n",
       "  64.33136749267578,\n",
       "  61.14653253555298,\n",
       "  61.844176292419434,\n",
       "  65.95943307876587,\n",
       "  65.83633279800415,\n",
       "  58.603092193603516,\n",
       "  62.017985343933105,\n",
       "  63.84587860107422,\n",
       "  58.9147572517395,\n",
       "  58.85887575149536,\n",
       "  76.28855848312378,\n",
       "  60.52923893928528,\n",
       "  66.27617692947388,\n",
       "  62.29368305206299,\n",
       "  58.78150677680969,\n",
       "  61.654845237731934,\n",
       "  69.431556224823,\n",
       "  64.88253355026245,\n",
       "  60.48549795150757,\n",
       "  64.76921844482422,\n",
       "  57.95748519897461]}"
      ]
     },
     "execution_count": 14,
     "metadata": {},
     "output_type": "execute_result"
    }
   ],
   "source": [
    "history.history"
   ]
  },
  {
   "cell_type": "code",
   "execution_count": 15,
   "metadata": {},
   "outputs": [
    {
     "data": {
      "text/plain": [
       "[89.92675399780273,\n",
       " 92.15909004211426,\n",
       " 79.4875078201294,\n",
       " 78.72720623016357,\n",
       " 99.6899356842041,\n",
       " 81.1017255783081,\n",
       " 76.86800003051758,\n",
       " 69.22787761688232,\n",
       " 69.99941825866699,\n",
       " 69.80962753295898,\n",
       " 63.043829917907715,\n",
       " 67.83728694915771,\n",
       " 56.7628870010376,\n",
       " 73.3998966217041,\n",
       " 63.27941131591797,\n",
       " 55.989073753356934,\n",
       " 50.53282690048218,\n",
       " 49.67723560333252,\n",
       " 54.63577651977539,\n",
       " 46.53903341293335,\n",
       " 50.402194023132324,\n",
       " 58.64126205444336,\n",
       " 48.4513955116272,\n",
       " 63.46757698059082,\n",
       " 47.89303016662598,\n",
       " 44.6184515953064,\n",
       " 48.89816951751709,\n",
       " 49.15044689178467,\n",
       " 47.21087598800659,\n",
       " 50.49917554855347,\n",
       " 51.17438316345215,\n",
       " 47.80748462677002,\n",
       " 45.62557125091553,\n",
       " 44.08393144607544,\n",
       " 46.934364795684814,\n",
       " 45.77972888946533,\n",
       " 43.34054660797119,\n",
       " 43.799519538879395,\n",
       " 44.123969078063965,\n",
       " 46.49319076538086,\n",
       " 44.39634418487549,\n",
       " 55.821560859680176,\n",
       " 53.421998023986816,\n",
       " 96.08253288269043,\n",
       " 52.75479793548584,\n",
       " 45.12199544906616,\n",
       " 44.824174880981445,\n",
       " 55.073750495910645,\n",
       " 45.01441431045532,\n",
       " 46.86833190917969,\n",
       " 45.086819648742676,\n",
       " 48.43102550506592,\n",
       " 40.82347059249878,\n",
       " 40.266225814819336,\n",
       " 45.07844114303589,\n",
       " 43.629117012023926,\n",
       " 41.535417556762695,\n",
       " 47.557719230651855,\n",
       " 48.67023515701294,\n",
       " 65.48783779144287,\n",
       " 48.61855888366699,\n",
       " 53.384899616241455,\n",
       " 42.17974138259888,\n",
       " 44.490171909332275,\n",
       " 40.37618160247803,\n",
       " 39.10000944137573,\n",
       " 40.19374704360962,\n",
       " 47.89422559738159,\n",
       " 40.896278381347656,\n",
       " 39.662325859069824,\n",
       " 38.92240524291992,\n",
       " 43.398396492004395,\n",
       " 42.99590826034546,\n",
       " 40.32219123840332,\n",
       " 40.16873741149902,\n",
       " 42.764161586761475,\n",
       " 38.765015602111816,\n",
       " 38.95913553237915,\n",
       " 41.00010919570923,\n",
       " 38.68840503692627,\n",
       " 42.940507888793945,\n",
       " 38.564669609069824,\n",
       " 49.79894733428955,\n",
       " 46.07782506942749,\n",
       " 41.78169107437134,\n",
       " 40.75161933898926,\n",
       " 38.67023277282715,\n",
       " 41.97704744338989,\n",
       " 46.85234785079956,\n",
       " 42.59076738357544,\n",
       " 42.655985832214355,\n",
       " 40.99833106994629,\n",
       " 41.50949048995972,\n",
       " 42.229039669036865,\n",
       " 43.10692548751831,\n",
       " 53.95788097381592,\n",
       " 44.306254386901855,\n",
       " 46.531105518341064,\n",
       " 47.9498929977417,\n",
       " 52.42112112045288,\n",
       " 47.428319454193115,\n",
       " 50.71864891052246,\n",
       " 50.445741176605225,\n",
       " 53.769936084747314,\n",
       " 47.42202281951904,\n",
       " 56.99502992630005,\n",
       " 50.82552623748779,\n",
       " 63.408119201660156,\n",
       " 47.32035493850708,\n",
       " 49.84133815765381,\n",
       " 55.12133502960205,\n",
       " 49.35565757751465,\n",
       " 52.9212965965271,\n",
       " 58.56535243988037,\n",
       " 57.6926589012146,\n",
       " 53.96277952194214,\n",
       " 60.10648155212402,\n",
       " 54.251338958740234,\n",
       " 53.90175247192383,\n",
       " 58.0196270942688,\n",
       " 48.494375705718994,\n",
       " 53.268280029296875,\n",
       " 61.38172197341919,\n",
       " 54.69858407974243,\n",
       " 56.47647714614868,\n",
       " 65.58609247207642,\n",
       " 66.55055618286133,\n",
       " 58.42729377746582,\n",
       " 59.72703981399536,\n",
       " 59.52196407318115,\n",
       " 56.988898277282715,\n",
       " 56.40796709060669,\n",
       " 64.72073650360107,\n",
       " 57.782999992370605,\n",
       " 57.668423652648926,\n",
       " 58.56494951248169,\n",
       " 64.123610496521,\n",
       " 64.11468744277954,\n",
       " 53.535162925720215,\n",
       " 64.00128841400146,\n",
       " 61.78236722946167,\n",
       " 69.5828628540039,\n",
       " 59.66019821166992,\n",
       " 72.17254590988159,\n",
       " 57.526230335235596,\n",
       " 56.573232650756836,\n",
       " 79.85580062866211,\n",
       " 61.235737800598145,\n",
       " 49.4703950881958,\n",
       " 71.70709085464478,\n",
       " 64.76154279708862,\n",
       " 66.44920349121094,\n",
       " 65.59346532821655,\n",
       " 51.20139741897583,\n",
       " 63.20497989654541,\n",
       " 61.916386127471924,\n",
       " 65.5635461807251,\n",
       " 64.34839391708374,\n",
       " 62.025373458862305,\n",
       " 60.54229736328125,\n",
       " 80.36166667938232,\n",
       " 57.139930725097656,\n",
       " 67.44265556335449,\n",
       " 72.1314148902893,\n",
       " 56.73477125167847,\n",
       " 81.23501491546631,\n",
       " 59.90949726104736,\n",
       " 66.0558876991272,\n",
       " 80.42774438858032,\n",
       " 67.44238567352295,\n",
       " 77.79873466491699,\n",
       " 71.49013996124268,\n",
       " 70.10362911224365,\n",
       " 81.71819400787354,\n",
       " 65.72738742828369,\n",
       " 66.07551002502441,\n",
       " 68.86347150802612,\n",
       " 89.02683210372925,\n",
       " 71.91558170318604,\n",
       " 64.33136749267578,\n",
       " 61.14653253555298,\n",
       " 61.844176292419434,\n",
       " 65.95943307876587,\n",
       " 65.83633279800415,\n",
       " 58.603092193603516,\n",
       " 62.017985343933105,\n",
       " 63.84587860107422,\n",
       " 58.9147572517395,\n",
       " 58.85887575149536,\n",
       " 76.28855848312378,\n",
       " 60.52923893928528,\n",
       " 66.27617692947388,\n",
       " 62.29368305206299,\n",
       " 58.78150677680969,\n",
       " 61.654845237731934,\n",
       " 69.431556224823,\n",
       " 64.88253355026245,\n",
       " 60.48549795150757,\n",
       " 64.76921844482422,\n",
       " 57.95748519897461]"
      ]
     },
     "execution_count": 15,
     "metadata": {},
     "output_type": "execute_result"
    }
   ],
   "source": [
    "history.history['val_loss']"
   ]
  },
  {
   "cell_type": "code",
   "execution_count": 16,
   "metadata": {},
   "outputs": [
    {
     "data": {
      "image/png": "[encoded data removed]",
      "text/plain": [
       "<Figure size 720x504 with 1 Axes>"
      ]
     },
     "metadata": {
      "needs_background": "light"
     },
     "output_type": "display_data"
    }
   ],
   "source": [
    "# epoch당 Loss와 val_loss의 변화에 대한 선 그래프 그리기\n",
    "import matplotlib.pyplot as plt\n",
    "\n",
    "plt.figure(figsize=(10,7))\n",
    "plt.plot(range(1,N_EPOCHES+1), history.history['loss'], label='Train loss')\n",
    "plt.plot(range(1,N_EPOCHES+1), history.history['val_loss'], label='Validation loss')\n",
    "\n",
    "plt.xlabel('Epochs')\n",
    "plt.ylabel('Loss(MSE)')\n",
    "plt.ylim(0, 90)\n",
    "plt.legend()\n",
    "plt.grid(True)\n",
    "plt.show()"
   ]
  },
  {
   "cell_type": "code",
   "execution_count": 17,
   "metadata": {},
   "outputs": [
    {
     "name": "stdout",
     "output_type": "stream",
     "text": [
      "4/4 [==============================] - 0s 2ms/step - loss: 57.9575\n"
     ]
    },
    {
     "data": {
      "text/plain": [
       "57.95748519897461"
      ]
     },
     "execution_count": 17,
     "metadata": {},
     "output_type": "execute_result"
    }
   ],
   "source": [
    "# 평가\n",
    "model.evaluate(val_dataset)"
   ]
  },
  {
   "cell_type": "markdown",
   "metadata": {},
   "source": [
    "## 2. Classification\n",
    "\n",
    "### Fashion MNIST(MNIST) Dataset"
   ]
  },
  {
   "cell_type": "markdown",
   "metadata": {},
   "source": [
    "10개의 범주(category)와 70,000개의 흑백 이미지로 구성된 [패션 MNIST](https://github.com/zalandoresearch/fashion-mnist) 데이터셋. \n",
    "이미지는 해상도(28x28 픽셀)가 낮고 다음처럼 개별 의류 품목을 나타낸다:\n",
    "\n",
    "<table>\n",
    "  <tr><td>\n",
    "    <img src=\"https://tensorflow.org/images/fashion-mnist-sprite.png\"\n",
    "         alt=\"Fashion MNIST sprite\"  width=\"600\">\n",
    "  </td></tr>\n",
    "  <tr><td align=\"center\">\n",
    "    <b>그림</b> <a href=\"https://github.com/zalandoresearch/fashion-mnist\">패션-MNIST 샘플</a> (Zalando, MIT License).<br/>&nbsp;\n",
    "  </td></tr>\n",
    "</table>\n",
    "\n",
    "패션 MNIST와 손글씨 MNIST는  비교적 작기 때문에 알고리즘의 작동 여부를 확인하기 위해 사용되곤 하며 코드를 테스트하고 디버깅하는 용도로 좋다."
   ]
  },
  {
   "cell_type": "markdown",
   "metadata": {},
   "source": [
    "이미지는 28x28 크기의 넘파이 배열이고 픽셀 값은 0과 255 사이이다. *레이블*(label)은 0에서 9까지의 정수 배열이다. 아래 표는 이미지에 있는 의류의 **클래스**(class)를 나낸다.\n",
    "\n",
    "<table>\n",
    "  <tr>\n",
    "    <th>레이블</th>\n",
    "    <th>클래스</th>\n",
    "  </tr>\n",
    "  <tr>\n",
    "    <td>0</td>\n",
    "    <td>T-shirt/top</td>\n",
    "  </tr>\n",
    "  <tr>\n",
    "    <td>1</td>\n",
    "    <td>Trousers</td>\n",
    "  </tr>\n",
    "    <tr>\n",
    "    <td>2</td>\n",
    "    <td>Pullover</td>\n",
    "  </tr>\n",
    "    <tr>\n",
    "    <td>3</td>\n",
    "    <td>Dress</td>\n",
    "  </tr>\n",
    "    <tr>\n",
    "    <td>4</td>\n",
    "    <td>Coat</td>\n",
    "  </tr>\n",
    "    <tr>\n",
    "    <td>5</td>\n",
    "    <td>Sandal</td>\n",
    "  </tr>\n",
    "    <tr>\n",
    "    <td>6</td>\n",
    "    <td>Shirt</td>\n",
    "  </tr>\n",
    "    <tr>\n",
    "    <td>7</td>\n",
    "    <td>Sneaker</td>\n",
    "  </tr>\n",
    "    <tr>\n",
    "    <td>8</td>\n",
    "    <td>Bag</td>\n",
    "  </tr>\n",
    "    <tr>\n",
    "    <td>9</td>\n",
    "    <td>Ankle boot</td>\n",
    "  </tr>\n",
    "</table>\n",
    "\n",
    "각 이미지는 하나의 레이블에 매핑되어 있다. 데이터셋에 클래스 이름이 들어있지 않기 때문에 나중에 이미지를 출력할 때 사용하기 위해 별도의 변수를 만들어 저장한다."
   ]
  },
  {
   "cell_type": "code",
   "execution_count": 16,
   "metadata": {},
   "outputs": [],
   "source": [
    "class_names = ['T-shirt/top', 'Trouser', 'Pullover', 'Dress', 'Coat', 'Sandal', 'Shirt', 'Sneaker', 'Bag', 'Ankle boot']"
   ]
  },
  {
   "cell_type": "code",
   "execution_count": 17,
   "metadata": {},
   "outputs": [],
   "source": [
    "import numpy as np\n",
    "import tensorflow as tf\n",
    "from tensorflow import keras\n",
    "\n",
    "np.random.seed(1)\n",
    "tf.random.set_seed(1)"
   ]
  },
  {
   "cell_type": "code",
   "execution_count": 18,
   "metadata": {},
   "outputs": [],
   "source": [
    "# 데이터셋 읽기\n",
    "(X_train, y_train), (X_test, y_test) = keras.datasets.fashion_mnist.load_data()"
   ]
  },
  {
   "cell_type": "code",
   "execution_count": 19,
   "metadata": {},
   "outputs": [
    {
     "data": {
      "text/plain": [
       "((60000, 28, 28), (10000, 28, 28), (60000,), (10000,))"
      ]
     },
     "execution_count": 19,
     "metadata": {},
     "output_type": "execute_result"
    }
   ],
   "source": [
    "X_train.shape, X_test.shape, y_train.shape, y_test.shape"
   ]
  },
  {
   "cell_type": "code",
   "execution_count": 20,
   "metadata": {},
   "outputs": [
    {
     "data": {
      "text/plain": [
       "(array([0, 1, 2, 3, 4, 5, 6, 7, 8, 9], dtype=uint8),\n",
       " array([6000, 6000, 6000, 6000, 6000, 6000, 6000, 6000, 6000, 6000]))"
      ]
     },
     "execution_count": 20,
     "metadata": {},
     "output_type": "execute_result"
    }
   ],
   "source": [
    "np.unique(y_train, return_counts=True)"
   ]
  },
  {
   "cell_type": "code",
   "execution_count": 21,
   "metadata": {},
   "outputs": [
    {
     "data": {
      "text/plain": [
       "(array([0, 1, 2, 3, 4, 5, 6, 7, 8, 9], dtype=uint8),\n",
       " array([1000, 1000, 1000, 1000, 1000, 1000, 1000, 1000, 1000, 1000]))"
      ]
     },
     "execution_count": 21,
     "metadata": {},
     "output_type": "execute_result"
    }
   ],
   "source": [
    "np.unique(y_test, return_counts=True)"
   ]
  },
  {
   "cell_type": "code",
   "execution_count": 22,
   "metadata": {},
   "outputs": [
    {
     "data": {
      "image/png": "[encoded data removed]",
      "text/plain": [
       "<Figure size 1080x1080 with 25 Axes>"
      ]
     },
     "metadata": {
      "needs_background": "light"
     },
     "output_type": "display_data"
    }
   ],
   "source": [
    "# 이미지 확인\n",
    "import matplotlib.pyplot as plt\n",
    "\n",
    "plt.figure(figsize=(15,15))\n",
    "for i in range(25):\n",
    "    plt.subplot(5,5,i+1)\n",
    "    plt.imshow(X_train[i], cmap='gray')\n",
    "    plt.title(class_names[y_train[i]])\n",
    "\n",
    "plt.tight_layout()\n",
    "plt.show()"
   ]
  },
  {
   "cell_type": "code",
   "execution_count": 23,
   "metadata": {},
   "outputs": [],
   "source": [
    "# 하이퍼파라미터 설정\n",
    "LEARNING_RATE = 0.001\n",
    "N_EPOCHS = 50\n",
    "N_BATCHS = 100\n",
    "\n",
    "N_CLASS = 10  # CLASS CATEGORY 개수\n",
    "N_TRAIN = X_train.shape[0]\n",
    "N_TEST = X_test.shape[0]\n",
    "IMAGE_SIZE = 28"
   ]
  },
  {
   "cell_type": "code",
   "execution_count": 24,
   "metadata": {},
   "outputs": [],
   "source": [
    "# 데이터 전처리\n",
    "# X(이미지): 0 ~ 255 -> 0 ~ 1\n",
    "X_train = X_train/255.\n",
    "X_test = X_test/255.\n",
    "\n",
    "# Y(label): 다중분류 - One Hot Encoding\n",
    "y_train = keras.utils.to_categorical(y_train)\n",
    "y_test = keras.utils.to_categorical(y_test)"
   ]
  },
  {
   "cell_type": "code",
   "execution_count": 25,
   "metadata": {},
   "outputs": [
    {
     "data": {
      "text/plain": [
       "(1.0, 0.0)"
      ]
     },
     "execution_count": 25,
     "metadata": {},
     "output_type": "execute_result"
    }
   ],
   "source": [
    "np.max(X_test), np.min(X_test)"
   ]
  },
  {
   "cell_type": "code",
   "execution_count": 26,
   "metadata": {},
   "outputs": [
    {
     "data": {
      "text/plain": [
       "(10000, 10)"
      ]
     },
     "execution_count": 26,
     "metadata": {},
     "output_type": "execute_result"
    }
   ],
   "source": [
    "y_test.shape"
   ]
  },
  {
   "cell_type": "code",
   "execution_count": 27,
   "metadata": {},
   "outputs": [
    {
     "data": {
      "text/plain": [
       "array([[0., 0., 0., 0., 0., 0., 0., 0., 0., 1.],\n",
       "       [0., 0., 1., 0., 0., 0., 0., 0., 0., 0.]], dtype=float32)"
      ]
     },
     "execution_count": 27,
     "metadata": {},
     "output_type": "execute_result"
    }
   ],
   "source": [
    "y_test[:2]"
   ]
  },
  {
   "cell_type": "code",
   "execution_count": 28,
   "metadata": {},
   "outputs": [],
   "source": [
    "# Dataset\n",
    "train_dataset = tf.data.Dataset.from_tensor_slices((X_train, y_train))\\\n",
    "                                .shuffle(N_TRAIN)\\\n",
    "                                .batch(N_BATCHS, drop_remainder=True)\\\n",
    "                                .repeat()"
   ]
  },
  {
   "cell_type": "code",
   "execution_count": 29,
   "metadata": {},
   "outputs": [],
   "source": [
    "val_dataset = tf.data.Dataset.from_tensor_slices((X_test, y_test)).batch(N_BATCHS)"
   ]
  },
  {
   "cell_type": "code",
   "execution_count": 30,
   "metadata": {},
   "outputs": [],
   "source": [
    "# 모델 구현\n",
    "def create_model():\n",
    "    model = keras.Sequential()\n",
    "    \n",
    "    # 입력층 (Input layer)\n",
    "    model.add(keras.layers.Input((28, 28)))\n",
    "    model.add(keras.layers.Flatten())\n",
    "#     model.add(keras.layers.Flatten(input_shape=(28, 28)))  # 위의 두 줄과 동일한 방법\n",
    "    \n",
    "    # 은닉층 (Hidden layer)\n",
    "    model.add(keras.layers.Dense(256, activation='relu'))\n",
    "    model.add(keras.layers.Dense(128, activation='relu'))\n",
    "    model.add(keras.layers.Dense(64, activation='relu'))\n",
    "    \n",
    "    # 출력층 (Output Layer)\n",
    "    # 다중 분류: units-class category 개수, activation-softmax => 각 class별 확률\n",
    "    model.add(keras.layers.Dense(N_CLASS, activation='softmax'))\n",
    "    \n",
    "    # 컴파일\n",
    "    # 다중 분류: Loss-categorical_crossentropy(y를 OneHotEncoding한 경우)\n",
    "    #          sparse-categorical_crossentropy(y를 OneHotEncoding 안 한 경우)\n",
    "    model.compile(optimizer=keras.optimizers.Adam(learning_rate=LEARNING_RATE),\n",
    "                  loss='categorical_crossentropy',\n",
    "                  metrics=['accuracy'])\n",
    "    \n",
    "    return model"
   ]
  },
  {
   "cell_type": "code",
   "execution_count": 31,
   "metadata": {},
   "outputs": [],
   "source": [
    "model = create_model()"
   ]
  },
  {
   "cell_type": "code",
   "execution_count": 32,
   "metadata": {},
   "outputs": [
    {
     "name": "stdout",
     "output_type": "stream",
     "text": [
      "Model: \"sequential_1\"\n",
      "_________________________________________________________________\n",
      "Layer (type)                 Output Shape              Param #   \n",
      "=================================================================\n",
      "flatten (Flatten)            (None, 784)               0         \n",
      "_________________________________________________________________\n",
      "dense_5 (Dense)              (None, 256)               200960    \n",
      "_________________________________________________________________\n",
      "dense_6 (Dense)              (None, 128)               32896     \n",
      "_________________________________________________________________\n",
      "dense_7 (Dense)              (None, 64)                8256      \n",
      "_________________________________________________________________\n",
      "dense_8 (Dense)              (None, 10)                650       \n",
      "=================================================================\n",
      "Total params: 242,762\n",
      "Trainable params: 242,762\n",
      "Non-trainable params: 0\n",
      "_________________________________________________________________\n"
     ]
    }
   ],
   "source": [
    "model.summary()"
   ]
  },
  {
   "cell_type": "code",
   "execution_count": 60,
   "metadata": {},
   "outputs": [
    {
     "data": {
      "image/png": "[encoded data removed]",
      "text/plain": [
       "<IPython.core.display.Image object>"
      ]
     },
     "execution_count": 60,
     "metadata": {},
     "output_type": "execute_result"
    }
   ],
   "source": [
    "from tensorflow.keras.utils import plot_model\n",
    "plot_model(model, to_file='fashion_mnist_model.png', show_shapes=True)"
   ]
  },
  {
   "cell_type": "code",
   "execution_count": 33,
   "metadata": {},
   "outputs": [
    {
     "name": "stdout",
     "output_type": "stream",
     "text": [
      "600 100\n"
     ]
    }
   ],
   "source": [
    "# 학습\n",
    "# epoch당 steps 수 계산\n",
    "steps_per_epoch = N_TRAIN // N_BATCHS  # drop_remainder 때문에 자투리를 버리게 됨\n",
    "validation_steps = int(np.ceil(N_TEST / N_BATCHS))  # val에서는 drop_remainder를 사용하지 않아서, 이런 방법을 사용\n",
    "print(steps_per_epoch, validation_steps)"
   ]
  },
  {
   "cell_type": "code",
   "execution_count": 34,
   "metadata": {},
   "outputs": [
    {
     "name": "stdout",
     "output_type": "stream",
     "text": [
      "Train for 600 steps, validate for 100 steps\n",
      "Epoch 1/50\n",
      "600/600 [==============================] - 3s 4ms/step - loss: 0.5262 - accuracy: 0.8147 - val_loss: 0.4183 - val_accuracy: 0.8510\n",
      "Epoch 2/50\n",
      "600/600 [==============================] - 2s 3ms/step - loss: 0.3684 - accuracy: 0.8655 - val_loss: 0.4054 - val_accuracy: 0.8509\n",
      "Epoch 3/50\n",
      "600/600 [==============================] - 2s 3ms/step - loss: 0.3300 - accuracy: 0.8793 - val_loss: 0.3708 - val_accuracy: 0.8666\n",
      "Epoch 4/50\n",
      "600/600 [==============================] - 2s 3ms/step - loss: 0.3072 - accuracy: 0.8861 - val_loss: 0.3626 - val_accuracy: 0.8689\n",
      "Epoch 5/50\n",
      "600/600 [==============================] - 2s 3ms/step - loss: 0.2870 - accuracy: 0.8941 - val_loss: 0.3545 - val_accuracy: 0.8678\n",
      "Epoch 6/50\n",
      "600/600 [==============================] - 2s 3ms/step - loss: 0.2748 - accuracy: 0.8962 - val_loss: 0.3338 - val_accuracy: 0.8782\n",
      "Epoch 7/50\n",
      "600/600 [==============================] - 2s 3ms/step - loss: 0.2583 - accuracy: 0.9033 - val_loss: 0.3487 - val_accuracy: 0.8727\n",
      "Epoch 8/50\n",
      "600/600 [==============================] - 2s 3ms/step - loss: 0.2505 - accuracy: 0.9055 - val_loss: 0.3283 - val_accuracy: 0.8825\n",
      "Epoch 9/50\n",
      "600/600 [==============================] - 2s 3ms/step - loss: 0.2380 - accuracy: 0.9097 - val_loss: 0.3417 - val_accuracy: 0.8771\n",
      "Epoch 10/50\n",
      "600/600 [==============================] - 2s 3ms/step - loss: 0.2283 - accuracy: 0.9147 - val_loss: 0.3356 - val_accuracy: 0.8836\n",
      "Epoch 11/50\n",
      "600/600 [==============================] - 2s 3ms/step - loss: 0.2212 - accuracy: 0.9158 - val_loss: 0.3315 - val_accuracy: 0.8854\n",
      "Epoch 12/50\n",
      "600/600 [==============================] - 2s 3ms/step - loss: 0.2164 - accuracy: 0.9179 - val_loss: 0.3632 - val_accuracy: 0.8766\n",
      "Epoch 13/50\n",
      "600/600 [==============================] - 2s 3ms/step - loss: 0.2074 - accuracy: 0.9221 - val_loss: 0.3365 - val_accuracy: 0.8818\n",
      "Epoch 14/50\n",
      "600/600 [==============================] - 2s 3ms/step - loss: 0.2003 - accuracy: 0.9244 - val_loss: 0.3366 - val_accuracy: 0.8845\n",
      "Epoch 15/50\n",
      "600/600 [==============================] - 2s 3ms/step - loss: 0.1917 - accuracy: 0.9270 - val_loss: 0.3604 - val_accuracy: 0.8851\n",
      "Epoch 16/50\n",
      "600/600 [==============================] - 2s 3ms/step - loss: 0.1833 - accuracy: 0.9305 - val_loss: 0.3519 - val_accuracy: 0.8911\n",
      "Epoch 17/50\n",
      "600/600 [==============================] - 2s 3ms/step - loss: 0.1781 - accuracy: 0.9333 - val_loss: 0.3857 - val_accuracy: 0.8779\n",
      "Epoch 18/50\n",
      "600/600 [==============================] - 2s 3ms/step - loss: 0.1726 - accuracy: 0.9355 - val_loss: 0.3566 - val_accuracy: 0.8895\n",
      "Epoch 19/50\n",
      "600/600 [==============================] - 2s 3ms/step - loss: 0.1680 - accuracy: 0.9355 - val_loss: 0.3411 - val_accuracy: 0.8918\n",
      "Epoch 20/50\n",
      "600/600 [==============================] - 2s 3ms/step - loss: 0.1645 - accuracy: 0.9370 - val_loss: 0.3732 - val_accuracy: 0.8924\n",
      "Epoch 21/50\n",
      "600/600 [==============================] - 2s 3ms/step - loss: 0.1567 - accuracy: 0.9395 - val_loss: 0.3592 - val_accuracy: 0.8901\n",
      "Epoch 22/50\n",
      "600/600 [==============================] - 2s 3ms/step - loss: 0.1553 - accuracy: 0.9403 - val_loss: 0.3644 - val_accuracy: 0.8902\n",
      "Epoch 23/50\n",
      "600/600 [==============================] - 2s 3ms/step - loss: 0.1476 - accuracy: 0.9442 - val_loss: 0.3743 - val_accuracy: 0.8907\n",
      "Epoch 24/50\n",
      "600/600 [==============================] - 2s 3ms/step - loss: 0.1424 - accuracy: 0.9456 - val_loss: 0.4137 - val_accuracy: 0.8835\n",
      "Epoch 25/50\n",
      "600/600 [==============================] - 1s 2ms/step - loss: 0.1416 - accuracy: 0.9459 - val_loss: 0.3524 - val_accuracy: 0.8892\n",
      "Epoch 26/50\n",
      "600/600 [==============================] - 1s 2ms/step - loss: 0.1340 - accuracy: 0.9482 - val_loss: 0.3764 - val_accuracy: 0.8923\n",
      "Epoch 27/50\n",
      "600/600 [==============================] - 2s 3ms/step - loss: 0.1302 - accuracy: 0.9496 - val_loss: 0.3958 - val_accuracy: 0.8956\n",
      "Epoch 28/50\n",
      "600/600 [==============================] - 2s 3ms/step - loss: 0.1329 - accuracy: 0.9492 - val_loss: 0.4299 - val_accuracy: 0.8953\n",
      "Epoch 29/50\n",
      "600/600 [==============================] - 2s 3ms/step - loss: 0.1207 - accuracy: 0.9528 - val_loss: 0.3966 - val_accuracy: 0.8939\n",
      "Epoch 30/50\n",
      "600/600 [==============================] - 2s 3ms/step - loss: 0.1228 - accuracy: 0.9523 - val_loss: 0.4038 - val_accuracy: 0.8846\n",
      "Epoch 31/50\n",
      "600/600 [==============================] - 2s 3ms/step - loss: 0.1164 - accuracy: 0.9553 - val_loss: 0.4325 - val_accuracy: 0.8933\n",
      "Epoch 32/50\n",
      "600/600 [==============================] - 2s 3ms/step - loss: 0.1139 - accuracy: 0.9560 - val_loss: 0.4532 - val_accuracy: 0.8943\n",
      "Epoch 33/50\n",
      "600/600 [==============================] - 2s 3ms/step - loss: 0.1125 - accuracy: 0.9561 - val_loss: 0.4403 - val_accuracy: 0.8944\n",
      "Epoch 34/50\n",
      "600/600 [==============================] - 2s 3ms/step - loss: 0.1094 - accuracy: 0.9574 - val_loss: 0.4501 - val_accuracy: 0.8948\n",
      "Epoch 35/50\n",
      "600/600 [==============================] - 2s 3ms/step - loss: 0.1075 - accuracy: 0.9579 - val_loss: 0.4245 - val_accuracy: 0.8981\n",
      "Epoch 36/50\n",
      "600/600 [==============================] - 2s 3ms/step - loss: 0.1003 - accuracy: 0.9610 - val_loss: 0.4536 - val_accuracy: 0.8941\n",
      "Epoch 37/50\n",
      "600/600 [==============================] - 2s 3ms/step - loss: 0.1040 - accuracy: 0.9594 - val_loss: 0.4454 - val_accuracy: 0.8867\n",
      "Epoch 38/50\n",
      "600/600 [==============================] - 2s 3ms/step - loss: 0.0950 - accuracy: 0.9632 - val_loss: 0.5245 - val_accuracy: 0.8895\n",
      "Epoch 39/50\n",
      "600/600 [==============================] - 2s 3ms/step - loss: 0.0987 - accuracy: 0.9617 - val_loss: 0.4585 - val_accuracy: 0.8932\n",
      "Epoch 40/50\n",
      "600/600 [==============================] - 2s 3ms/step - loss: 0.0903 - accuracy: 0.9646 - val_loss: 0.5127 - val_accuracy: 0.8924\n",
      "Epoch 41/50\n",
      "600/600 [==============================] - 2s 3ms/step - loss: 0.0921 - accuracy: 0.9642 - val_loss: 0.5527 - val_accuracy: 0.8844\n",
      "Epoch 42/50\n",
      "600/600 [==============================] - 2s 3ms/step - loss: 0.0932 - accuracy: 0.9640 - val_loss: 0.5130 - val_accuracy: 0.8892\n",
      "Epoch 43/50\n",
      "600/600 [==============================] - 2s 3ms/step - loss: 0.0877 - accuracy: 0.9658 - val_loss: 0.4878 - val_accuracy: 0.8918\n",
      "Epoch 44/50\n",
      "600/600 [==============================] - 2s 3ms/step - loss: 0.0893 - accuracy: 0.9659 - val_loss: 0.4976 - val_accuracy: 0.8922\n",
      "Epoch 45/50\n",
      "600/600 [==============================] - 2s 3ms/step - loss: 0.0867 - accuracy: 0.9672 - val_loss: 0.5310 - val_accuracy: 0.8932\n",
      "Epoch 46/50\n",
      "600/600 [==============================] - 2s 3ms/step - loss: 0.0820 - accuracy: 0.9679 - val_loss: 0.5068 - val_accuracy: 0.8952\n",
      "Epoch 47/50\n",
      "600/600 [==============================] - 2s 3ms/step - loss: 0.0791 - accuracy: 0.9696 - val_loss: 0.5192 - val_accuracy: 0.8912\n",
      "Epoch 48/50\n",
      "600/600 [==============================] - 2s 3ms/step - loss: 0.0763 - accuracy: 0.9708 - val_loss: 0.5788 - val_accuracy: 0.8885\n",
      "Epoch 49/50\n",
      "600/600 [==============================] - 2s 3ms/step - loss: 0.0802 - accuracy: 0.9695 - val_loss: 0.5489 - val_accuracy: 0.8912\n",
      "Epoch 50/50\n",
      "600/600 [==============================] - 2s 3ms/step - loss: 0.0755 - accuracy: 0.9711 - val_loss: 0.5654 - val_accuracy: 0.8911\n"
     ]
    }
   ],
   "source": [
    "# 학습\n",
    "history = model.fit(train_dataset,\n",
    "                    epochs=N_EPOCHS,\n",
    "                    steps_per_epoch=steps_per_epoch,\n",
    "                    validation_data=val_dataset,\n",
    "                    validation_steps=validation_steps\n",
    "                   )"
   ]
  },
  {
   "cell_type": "code",
   "execution_count": 35,
   "metadata": {},
   "outputs": [
    {
     "name": "stdout",
     "output_type": "stream",
     "text": [
      "100/100 [==============================] - 0s 2ms/step - loss: 0.5654 - accuracy: 0.8911\n"
     ]
    },
    {
     "data": {
      "text/plain": [
       "[0.5654418549686671, 0.8911]"
      ]
     },
     "execution_count": 35,
     "metadata": {},
     "output_type": "execute_result"
    }
   ],
   "source": [
    "# 평가 - test set (마지막에 한 번)\n",
    "model.evaluate(val_dataset)  # [loss, accuracy] - 함수에서 지정해줬으므로"
   ]
  },
  {
   "cell_type": "code",
   "execution_count": 36,
   "metadata": {},
   "outputs": [
    {
     "data": {
      "text/plain": [
       "dict_keys(['loss', 'accuracy', 'val_loss', 'val_accuracy'])"
      ]
     },
     "execution_count": 36,
     "metadata": {},
     "output_type": "execute_result"
    }
   ],
   "source": [
    "# 결과 시각화 (loss와 지정한 평가지표의 epoch당 변화를 시각화) -> line plot\n",
    "history.history.keys()"
   ]
  },
  {
   "cell_type": "code",
   "execution_count": 37,
   "metadata": {},
   "outputs": [
    {
     "data": {
      "image/png": "[encoded data removed]",
      "text/plain": [
       "<Figure size 1080x360 with 2 Axes>"
      ]
     },
     "metadata": {
      "needs_background": "light"
     },
     "output_type": "display_data"
    }
   ],
   "source": [
    "plt.figure(figsize=(15,5))\n",
    "\n",
    "plt.subplot(1,2,1)\n",
    "plt.plot(range(1, N_EPOCHS+1), history.history['loss'], label='train loss')\n",
    "plt.plot(range(1, N_EPOCHS+1), history.history['val_loss'], label='validation loss')\n",
    "plt.title('LOSS')\n",
    "plt.legend()\n",
    "\n",
    "plt.subplot(1,2,2)\n",
    "plt.plot(range(1, N_EPOCHS+1), history.history['accuracy'], label='train accuracy')\n",
    "plt.plot(range(1, N_EPOCHS+1), history.history['val_accuracy'], label='validation accuracy')\n",
    "plt.title('ACCURACY')\n",
    "plt.legend()\n",
    "\n",
    "plt.tight_layout()\n",
    "plt.show()"
   ]
  },
  {
   "cell_type": "code",
   "execution_count": null,
   "metadata": {},
   "outputs": [],
   "source": []
  },
  {
   "cell_type": "code",
   "execution_count": null,
   "metadata": {},
   "outputs": [],
   "source": []
  },
  {
   "cell_type": "markdown",
   "metadata": {},
   "source": [
    "## IMDB 감성분석\n",
    "### 이진분류 (Binary Classification)\n",
    "- 영화 댓글: 부정(0), 긍정(1)"
   ]
  },
  {
   "cell_type": "code",
   "execution_count": 3,
   "metadata": {},
   "outputs": [],
   "source": [
    "import pickle\n",
    "\n",
    "# 데이터 로드\n",
    "with open('imdb_dataset/x_train.pkl', 'rb') as f:\n",
    "    X_train = pickle.load(f)\n",
    "    \n",
    "with open('imdb_dataset/x_test.pkl', 'rb') as f:\n",
    "    X_test = pickle.load(f)\n",
    "    \n",
    "with open('imdb_dataset/y_train.pkl', 'rb') as f:\n",
    "    y_train = pickle.load(f)\n",
    "    \n",
    "with open('imdb_dataset/y_test.pkl', 'rb') as f:\n",
    "    y_test = pickle.load(f)"
   ]
  },
  {
   "cell_type": "code",
   "execution_count": 4,
   "metadata": {},
   "outputs": [
    {
     "data": {
      "text/plain": [
       "25000"
      ]
     },
     "execution_count": 4,
     "metadata": {},
     "output_type": "execute_result"
    }
   ],
   "source": [
    "len(X_train)"
   ]
  },
  {
   "cell_type": "code",
   "execution_count": 6,
   "metadata": {},
   "outputs": [],
   "source": [
    "# X -> 벡터화(숫자 변경)\n",
    "from sklearn.feature_extraction.text import TfidfVectorizer\n",
    "\n",
    "tfidf = TfidfVectorizer(max_features=10000)\n",
    "tfidf.fit(X_train + X_test)\n",
    "X_train_tfidf = tfidf.transform(X_train)\n",
    "X_test_tfidf = tfidf.transform(X_test)"
   ]
  },
  {
   "cell_type": "code",
   "execution_count": 7,
   "metadata": {},
   "outputs": [
    {
     "data": {
      "text/plain": [
       "((25000, 10000), (25000, 10000))"
      ]
     },
     "execution_count": 7,
     "metadata": {},
     "output_type": "execute_result"
    }
   ],
   "source": [
    "X_train_tfidf.shape, X_test_tfidf.shape"
   ]
  },
  {
   "cell_type": "code",
   "execution_count": 8,
   "metadata": {},
   "outputs": [],
   "source": [
    "# 하이퍼파라미터 설정\n",
    "LEARNING_RATE = 0.001\n",
    "N_EPOCHS = 10\n",
    "N_BATCHS = 50\n",
    "\n",
    "N_TRAIN = X_train_tfidf.shape[0]\n",
    "N_TEST = X_test_tfidf.shape[0]\n",
    "N_FEATURE = X_train_tfidf.shape[1]"
   ]
  },
  {
   "cell_type": "code",
   "execution_count": 9,
   "metadata": {},
   "outputs": [],
   "source": [
    "# Dataset 생성 - y: one hot encoding(X)\n",
    "# Sparse matrix -> ndarray (toarray()를 통해)\n",
    "train_dataset = tf.data.Dataset.from_tensor_slices((X_train_tfidf.toarray(), y_train))\\\n",
    "                               .shuffle(N_TRAIN)\\\n",
    "                               .batch(N_BATCHS, drop_remainder=True)\\\n",
    "                               .repeat()\n",
    "val_dataset = tf.data.Dataset.from_tensor_slices((X_test_tfidf.toarray(), y_test)).batch(N_BATCHS)"
   ]
  },
  {
   "cell_type": "code",
   "execution_count": 10,
   "metadata": {},
   "outputs": [],
   "source": [
    "def create_model():\n",
    "    model = keras.Sequential()\n",
    "    \n",
    "    # Input Layer\n",
    "    model.add(keras.layers.Input((N_FEATURE, )))\n",
    "    \n",
    "    # Hidden Layer\n",
    "    model.add(keras.layers.Dense(512, activation='relu'))\n",
    "    model.add(keras.layers.Dense(256, activation='relu'))\n",
    "    model.add(keras.layers.Dense(256, activation='relu'))\n",
    "    model.add(keras.layers.Dense(128, activation='relu'))\n",
    "    \n",
    "    # Output Layer: 이진 분류(units=1, activation='sigmoid': Logistic 함수)\n",
    "    model.add(keras.layers.Dense(1, activation='sigmoid'))\n",
    "    \n",
    "    # Compile: 이진 분류 - activation(sigmoid) => Loss: binary_crossentropy\n",
    "    model.compile(optimizer=keras.optimizers.Adam(learning_rate=LEARNING_RATE),\n",
    "                  loss = 'binary_crossentropy',\n",
    "                  metrics = ['accuracy']\n",
    "                 )\n",
    "    \n",
    "    return model"
   ]
  },
  {
   "cell_type": "code",
   "execution_count": 11,
   "metadata": {},
   "outputs": [
    {
     "name": "stdout",
     "output_type": "stream",
     "text": [
      "Model: \"sequential\"\n",
      "_________________________________________________________________\n",
      "Layer (type)                 Output Shape              Param #   \n",
      "=================================================================\n",
      "dense (Dense)                (None, 512)               5120512   \n",
      "_________________________________________________________________\n",
      "dense_1 (Dense)              (None, 256)               131328    \n",
      "_________________________________________________________________\n",
      "dense_2 (Dense)              (None, 256)               65792     \n",
      "_________________________________________________________________\n",
      "dense_3 (Dense)              (None, 128)               32896     \n",
      "_________________________________________________________________\n",
      "dense_4 (Dense)              (None, 1)                 129       \n",
      "=================================================================\n",
      "Total params: 5,350,657\n",
      "Trainable params: 5,350,657\n",
      "Non-trainable params: 0\n",
      "_________________________________________________________________\n"
     ]
    }
   ],
   "source": [
    "model = create_model()\n",
    "model.summary()"
   ]
  },
  {
   "cell_type": "code",
   "execution_count": 12,
   "metadata": {},
   "outputs": [
    {
     "data": {
      "text/plain": [
       "(500, 500)"
      ]
     },
     "execution_count": 12,
     "metadata": {},
     "output_type": "execute_result"
    }
   ],
   "source": [
    "# 학습\n",
    "steps_per_epoch = N_TRAIN // N_BATCHS\n",
    "validation_steps = int(np.ceil(N_TEST / N_BATCHS))\n",
    "steps_per_epoch, validation_steps"
   ]
  },
  {
   "cell_type": "code",
   "execution_count": 13,
   "metadata": {},
   "outputs": [
    {
     "name": "stdout",
     "output_type": "stream",
     "text": [
      "Train for 500 steps, validate for 500 steps\n",
      "Epoch 1/10\n",
      "500/500 [==============================] - 26s 52ms/step - loss: 0.3308 - accuracy: 0.8517 - val_loss: 0.3141 - val_accuracy: 0.8648\n",
      "Epoch 2/10\n",
      "500/500 [==============================] - 21s 42ms/step - loss: 0.1421 - accuracy: 0.9456 - val_loss: 0.4190 - val_accuracy: 0.8465\n",
      "Epoch 3/10\n",
      "500/500 [==============================] - 21s 43ms/step - loss: 0.0311 - accuracy: 0.9895 - val_loss: 0.7194 - val_accuracy: 0.8400\n",
      "Epoch 4/10\n",
      "500/500 [==============================] - 26s 51ms/step - loss: 0.0073 - accuracy: 0.9983 - val_loss: 1.2178 - val_accuracy: 0.8415\n",
      "Epoch 5/10\n",
      "500/500 [==============================] - 23s 47ms/step - loss: 0.0032 - accuracy: 0.9992 - val_loss: 1.3121 - val_accuracy: 0.8426\n",
      "Epoch 6/10\n",
      "500/500 [==============================] - 20s 40ms/step - loss: 0.0016 - accuracy: 0.9996 - val_loss: 1.4092 - val_accuracy: 0.8364\n",
      "Epoch 7/10\n",
      "500/500 [==============================] - 20s 40ms/step - loss: 0.0027 - accuracy: 0.9996 - val_loss: 1.4065 - val_accuracy: 0.8420\n",
      "Epoch 8/10\n",
      "500/500 [==============================] - 19s 37ms/step - loss: 1.5318e-05 - accuracy: 1.0000 - val_loss: 1.6639 - val_accuracy: 0.8413\n",
      "Epoch 9/10\n",
      "500/500 [==============================] - 20s 39ms/step - loss: 1.5360e-06 - accuracy: 1.0000 - val_loss: 1.7103 - val_accuracy: 0.8423\n",
      "Epoch 10/10\n",
      "500/500 [==============================] - 21s 42ms/step - loss: 7.8890e-07 - accuracy: 1.0000 - val_loss: 1.7527 - val_accuracy: 0.8429\n"
     ]
    }
   ],
   "source": [
    "history = model.fit(train_dataset, \n",
    "                    epochs=N_EPOCHS,\n",
    "                    steps_per_epoch=steps_per_epoch,\n",
    "                    validation_data=val_dataset,\n",
    "                    validation_steps=validation_steps\n",
    "                   )"
   ]
  },
  {
   "cell_type": "code",
   "execution_count": 14,
   "metadata": {},
   "outputs": [
    {
     "name": "stdout",
     "output_type": "stream",
     "text": [
      "500/500 [==============================] - 4s 8ms/step - loss: 1.7527 - accuracy: 0.8429\n"
     ]
    },
    {
     "data": {
      "text/plain": [
       "[1.752724106669426, 0.84288]"
      ]
     },
     "execution_count": 14,
     "metadata": {},
     "output_type": "execute_result"
    }
   ],
   "source": [
    "# 평가\n",
    "model.evaluate(val_dataset)"
   ]
  },
  {
   "cell_type": "code",
   "execution_count": 15,
   "metadata": {},
   "outputs": [
    {
     "data": {
      "image/png": "[encoded data removed]",
      "text/plain": [
       "<Figure size 1080x360 with 2 Axes>"
      ]
     },
     "metadata": {
      "needs_background": "light"
     },
     "output_type": "display_data"
    }
   ],
   "source": [
    "import matplotlib.pyplot as plt\n",
    "\n",
    "plt.figure(figsize=(15,5))\n",
    "\n",
    "plt.subplot(1,2,1)\n",
    "plt.plot(range(1, N_EPOCHS+1), history.history['loss'], label='train loss')\n",
    "plt.plot(range(1, N_EPOCHS+1), history.history['val_loss'], label='validation loss')\n",
    "plt.title('LOSS')\n",
    "plt.legend()\n",
    "\n",
    "plt.subplot(1,2,2)\n",
    "plt.plot(range(1, N_EPOCHS+1), history.history['accuracy'], label='train accuracy')\n",
    "plt.plot(range(1, N_EPOCHS+1), history.history['val_accuracy'], label='validation accuracy')\n",
    "plt.title('ACCURACY')\n",
    "plt.legend()\n",
    "\n",
    "plt.tight_layout()\n",
    "plt.show()"
   ]
  },
  {
   "cell_type": "code",
   "execution_count": null,
   "metadata": {},
   "outputs": [],
   "source": []
  }
 ],
 "metadata": {
  "kernelspec": {
   "display_name": "Python 3",
   "language": "python",
   "name": "python3"
  },
  "language_info": {
   "codemirror_mode": {
    "name": "ipython",
    "version": 3
   },
   "file_extension": ".py",
   "mimetype": "text/x-python",
   "name": "python",
   "nbconvert_exporter": "python",
   "pygments_lexer": "ipython3",
   "version": "3.6.5"
  },
  "toc": {
   "base_numbering": 1,
   "nav_menu": {},
   "number_sections": false,
   "sideBar": true,
   "skip_h1_title": false,
   "title_cell": "Table of Contents",
   "title_sidebar": "Contents",
   "toc_cell": false,
   "toc_position": {},
   "toc_section_display": true,
   "toc_window_display": false
  },
  "varInspector": {
   "cols": {
    "lenName": 16,
    "lenType": 16,
    "lenVar": 40
   },
   "kernels_config": {
    "python": {
     "delete_cmd_postfix": "",
     "delete_cmd_prefix": "del ",
     "library": "var_list.py",
     "varRefreshCmd": "print(var_dic_list())"
    },
    "r": {
     "delete_cmd_postfix": ") ",
     "delete_cmd_prefix": "rm(",
     "library": "var_list.r",
     "varRefreshCmd": "cat(var_dic_list()) "
    }
   },
   "types_to_exclude": [
    "module",
    "function",
    "builtin_function_or_method",
    "instance",
    "_Feature"
   ],
   "window_display": false
  }
 },
 "nbformat": 4,
 "nbformat_minor": 2
}
