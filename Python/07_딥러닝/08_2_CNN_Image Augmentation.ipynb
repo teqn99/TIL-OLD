{
 "cells": [
  {
   "cell_type": "markdown",
   "metadata": {
    "id": "N7dzZc_rYrhN"
   },
   "source": [
    "# CNN   small datasets 학습\n"
   ]
  },
  {
   "cell_type": "markdown",
   "metadata": {
    "id": "IZSgQnWLYrhV"
   },
   "source": [
    "- Data의 수가 많지 않을 때 CNN을 통한 모형 학습이 어려울 수 있음\n",
    "  - 딥러닝은 많은 수의 데이터를 통해 feature engineering 과정 없이 feature를 찾을 수 있는데 있음 \n",
    "- Data가 많지 않아 CNN 학습에 어려움이 있을 때 사용 가능한 방법\n",
    "    - Data augmentation 활용\n",
    "        - 이미지의 색깔, 각도 등을 약간씩 변형하여 data의 수를 늘림 \n",
    "    - Pre-trained network의 활용\n",
    "        - 매우 큰 데이터셋으로 미리 Training한 모델의 파라미터(가중치)를 가져와서 풀려는 문제에 맞게 모델을 재보정해서 사용하는 것.\n",
    "        - 미리 다양한 데이터를 가지고 학습된 모델을 사용하므로 적은 데이터에도 좋은 성능을 낼 수있다."
   ]
  },
  {
   "cell_type": "markdown",
   "metadata": {
    "id": "b8vvonb2YrhW"
   },
   "source": [
    "## Data for cats vs. dogs\n",
    "- 2013년 Kaggle의 computer vision competition data 활용 https://www.kaggle.com/c/dogs-vs-cats/data\n",
    "- 개와 고양이를 구분하기 위한 문제로 각 12,500개의 이미지를 포함\n",
    "- Medium-resolution color JPEGs\n",
    "- 25000장의 사진 중 4000장의 cats/dogs 사진(2000 cats, 2000 dogs) 만을 사용하여 학습하여 좋은 모형을 만들어 낼 수 있을까?\n",
    "    - 학습: 2000, 검증: 1000, 테스트: 1000\n",
    "    \n",
    "![cats_vs_dogs_samples](https://s3.amazonaws.com/book.keras.io/img/ch5/cats_vs_dogs_samples.jpg)"
   ]
  },
  {
   "cell_type": "markdown",
   "metadata": {
    "id": "Lz3IRzELYrhX"
   },
   "source": [
    "- gdown 패키지 : 구글 드라이브의 공유파일 다운로드 패키지    \n",
    "- `pip install gdown==3.3.1`\n",
    "- 코랩에는 설치 되어 있음."
   ]
  },
  {
   "cell_type": "code",
   "execution_count": null,
   "metadata": {
    "colab": {
     "base_uri": "https://localhost:8080/",
     "height": 103
    },
    "executionInfo": {
     "elapsed": 2699,
     "status": "ok",
     "timestamp": 1619416295336,
     "user": {
      "displayName": "KIM TAEKYUN",
      "photoUrl": "https://lh3.googleusercontent.com/a-/AOh14GiLF5C4fFQDfiq1pEbiM8GO1_TQ5EX9tkNYvrmY8Q=s64",
      "userId": "17041733956875075719"
     },
     "user_tz": -540
    },
    "id": "7IXMulBFYrhX",
    "outputId": "445084d5-fbe3-419c-f262-228575f1b0af"
   },
   "outputs": [
    {
     "name": "stderr",
     "output_type": "stream",
     "text": [
      "Downloading...\n",
      "From: https://drive.google.com/uc?id=1nBE3N2cXQGwD8JaD0JZ2LmFD-n3D5hVU\n",
      "To: /content/cats_and_dogs_small.zip\n",
      "90.8MB [00:00, 133MB/s]\n"
     ]
    },
    {
     "data": {
      "application/vnd.google.colaboratory.intrinsic+json": {
       "type": "string"
      },
      "text/plain": [
       "'cats_and_dogs_small.zip'"
      ]
     },
     "execution_count": 1,
     "metadata": {
      "tags": []
     },
     "output_type": "execute_result"
    }
   ],
   "source": [
    "# 이미지 다운로드\n",
    "# https://drive.google.com/uc?id=공유파일ID\n",
    "\n",
    "import gdown\n",
    "url = 'https://drive.google.com/uc?id=1nBE3N2cXQGwD8JaD0JZ2LmFD-n3D5hVU'\n",
    "fname = 'cats_and_dogs_small.zip'\n",
    "\n",
    "gdown.download(url, fname, quiet=False)  # url, 저장할 경로"
   ]
  },
  {
   "cell_type": "code",
   "execution_count": null,
   "metadata": {
    "id": "Lv6OlrTJrboA"
   },
   "outputs": [],
   "source": [
    "# 리눅스 명령어로 디렉토리 생성\n",
    "!mkdir data"
   ]
  },
  {
   "cell_type": "code",
   "execution_count": null,
   "metadata": {
    "id": "zAuLwzjgYrhZ"
   },
   "outputs": [],
   "source": [
    "# 압축풀기 -q: 로그 남기지 말아라 / -d: 압축을 어디에 풀 것인지 디렉토리 지정\n",
    "!unzip -q cats_and_dogs_small.zip -d data/cats_and_dogs_small"
   ]
  },
  {
   "cell_type": "markdown",
   "metadata": {
    "id": "2zBEjjWgYrha"
   },
   "source": [
    "## Build a network\n",
    "\n",
    "- Input: $150 \\times 150$ 픽셀의 RGB layer \n",
    "- Output: cat or dog (binary classification) \n",
    "- ImageDataGenerator를 이용해 파일시스템에 저장된 이미지데이터셋을 학습시킨다."
   ]
  },
  {
   "cell_type": "code",
   "execution_count": 32,
   "metadata": {
    "executionInfo": {
     "elapsed": 728,
     "status": "ok",
     "timestamp": 1619488140560,
     "user": {
      "displayName": "KIM TAEKYUN",
      "photoUrl": "https://lh3.googleusercontent.com/a-/AOh14GiLF5C4fFQDfiq1pEbiM8GO1_TQ5EX9tkNYvrmY8Q=s64",
      "userId": "17041733956875075719"
     },
     "user_tz": -540
    },
    "id": "8bEo_1zdrboB"
   },
   "outputs": [],
   "source": [
    "import tensorflow as tf\n",
    "from tensorflow import keras\n",
    "from tensorflow.keras import layers\n",
    "import numpy as np\n",
    "\n",
    "np.random.seed(1)\n",
    "tf.random.set_seed(1)"
   ]
  },
  {
   "cell_type": "code",
   "execution_count": 33,
   "metadata": {
    "executionInfo": {
     "elapsed": 571,
     "status": "ok",
     "timestamp": 1619488142335,
     "user": {
      "displayName": "KIM TAEKYUN",
      "photoUrl": "https://lh3.googleusercontent.com/a-/AOh14GiLF5C4fFQDfiq1pEbiM8GO1_TQ5EX9tkNYvrmY8Q=s64",
      "userId": "17041733956875075719"
     },
     "user_tz": -540
    },
    "id": "lH-GNF4prboB"
   },
   "outputs": [],
   "source": [
    "# 하이퍼파라미터\n",
    "LEARNING_RATE = 0.001\n",
    "DROPOUT_RATE = 0.5\n",
    "N_EPOCHS = 50\n",
    "N_BATCHS = 20\n",
    "IMAGE_SIZE = 150"
   ]
  },
  {
   "cell_type": "code",
   "execution_count": 34,
   "metadata": {
    "executionInfo": {
     "elapsed": 721,
     "status": "ok",
     "timestamp": 1619488143613,
     "user": {
      "displayName": "KIM TAEKYUN",
      "photoUrl": "https://lh3.googleusercontent.com/a-/AOh14GiLF5C4fFQDfiq1pEbiM8GO1_TQ5EX9tkNYvrmY8Q=s64",
      "userId": "17041733956875075719"
     },
     "user_tz": -540
    },
    "id": "Irl1AANgrboB"
   },
   "outputs": [],
   "source": [
    "def create_model():\n",
    "    model = keras.Sequential()\n",
    "    model.add(layers.Input((IMAGE_SIZE, IMAGE_SIZE, 3)))\n",
    "\n",
    "    model.add(layers.Conv2D(filters=64, kernel_size=3, padding='same', activation='relu'))\n",
    "    model.add(layers.MaxPool2D(padding='same'))\n",
    "\n",
    "    model.add(layers.Conv2D(filters=128, kernel_size=3, padding='same', activation='relu'))\n",
    "    model.add(layers.MaxPool2D(padding='same'))\n",
    "\n",
    "    model.add(layers.Conv2D(filters=256, kernel_size=3, padding='same', activation='relu'))\n",
    "    model.add(layers.MaxPool2D(padding='same'))\n",
    "\n",
    "    # classification layer\n",
    "    model.add(layers.Flatten())\n",
    "    model.add(layers.Dropout(DROPOUT_RATE))\n",
    "    model.add(layers.Dense(units=512, activation='relu'))\n",
    "\n",
    "    # 출력\n",
    "    model.add(layers.Dense(units=1, activation='sigmoid'))  # dog/cat: binary classification\n",
    "\n",
    "    return model"
   ]
  },
  {
   "cell_type": "code",
   "execution_count": null,
   "metadata": {
    "id": "5iVqChPKrboC"
   },
   "outputs": [],
   "source": [
    "model = create_model()"
   ]
  },
  {
   "cell_type": "code",
   "execution_count": null,
   "metadata": {
    "colab": {
     "base_uri": "https://localhost:8080/"
    },
    "executionInfo": {
     "elapsed": 839,
     "status": "ok",
     "timestamp": 1619418654303,
     "user": {
      "displayName": "KIM TAEKYUN",
      "photoUrl": "https://lh3.googleusercontent.com/a-/AOh14GiLF5C4fFQDfiq1pEbiM8GO1_TQ5EX9tkNYvrmY8Q=s64",
      "userId": "17041733956875075719"
     },
     "user_tz": -540
    },
    "id": "wQ5okYWL3pGb",
    "outputId": "a6f89e53-62c7-438d-a6a7-f37d5cd2b4ae"
   },
   "outputs": [
    {
     "name": "stdout",
     "output_type": "stream",
     "text": [
      "Model: \"sequential_2\"\n",
      "_________________________________________________________________\n",
      "Layer (type)                 Output Shape              Param #   \n",
      "=================================================================\n",
      "conv2d_3 (Conv2D)            (None, 150, 150, 64)      1792      \n",
      "_________________________________________________________________\n",
      "max_pooling2d_3 (MaxPooling2 (None, 75, 75, 64)        0         \n",
      "_________________________________________________________________\n",
      "conv2d_4 (Conv2D)            (None, 75, 75, 128)       73856     \n",
      "_________________________________________________________________\n",
      "max_pooling2d_4 (MaxPooling2 (None, 38, 38, 128)       0         \n",
      "_________________________________________________________________\n",
      "conv2d_5 (Conv2D)            (None, 38, 38, 256)       295168    \n",
      "_________________________________________________________________\n",
      "max_pooling2d_5 (MaxPooling2 (None, 19, 19, 256)       0         \n",
      "_________________________________________________________________\n",
      "flatten_1 (Flatten)          (None, 92416)             0         \n",
      "_________________________________________________________________\n",
      "dropout_1 (Dropout)          (None, 92416)             0         \n",
      "_________________________________________________________________\n",
      "dense_2 (Dense)              (None, 512)               47317504  \n",
      "_________________________________________________________________\n",
      "dense_3 (Dense)              (None, 1)                 513       \n",
      "=================================================================\n",
      "Total params: 47,688,833\n",
      "Trainable params: 47,688,833\n",
      "Non-trainable params: 0\n",
      "_________________________________________________________________\n"
     ]
    }
   ],
   "source": [
    "model.compile(optimizer=keras.optimizers.Adam(learning_rate=LEARNING_RATE),\n",
    "              loss='binary_crossentropy',\n",
    "              metrics=['accuracy']\n",
    "              )\n",
    "model.summary()"
   ]
  },
  {
   "cell_type": "code",
   "execution_count": null,
   "metadata": {
    "id": "zdRY2QVt3pDR"
   },
   "outputs": [],
   "source": [
    "# ImageDataGenerator 생성 -> Augmentation, 입력 pipeline\n",
    "from tensorflow.keras.preprocessing.image import ImageDataGenerator\n",
    "import matplotlib.pyplot as plt\n",
    "\n",
    "test_dir = '/content/data/cats_and_dogs_small/test'\n",
    "validation_dir = '/content/data/cats_and_dogs_small/validation'\n",
    "train_dir = '/content/data/cats_and_dogs_small/train'"
   ]
  },
  {
   "cell_type": "code",
   "execution_count": null,
   "metadata": {
    "id": "u4bwuY8w3pAX"
   },
   "outputs": [],
   "source": [
    "# ImageDataGenerator - No Augmentation\n",
    "train_datagen = ImageDataGenerator(rescale=1./255)\n",
    "test_datagen = ImageDataGenerator(rescale=1./255)"
   ]
  },
  {
   "cell_type": "code",
   "execution_count": null,
   "metadata": {
    "colab": {
     "base_uri": "https://localhost:8080/"
    },
    "executionInfo": {
     "elapsed": 1304,
     "status": "ok",
     "timestamp": 1619419689003,
     "user": {
      "displayName": "KIM TAEKYUN",
      "photoUrl": "https://lh3.googleusercontent.com/a-/AOh14GiLF5C4fFQDfiq1pEbiM8GO1_TQ5EX9tkNYvrmY8Q=s64",
      "userId": "17041733956875075719"
     },
     "user_tz": -540
    },
    "id": "TxnkS3XU3o37",
    "outputId": "8a8f1d4d-37c4-42d1-f201-4c20f8034e7f"
   },
   "outputs": [
    {
     "name": "stdout",
     "output_type": "stream",
     "text": [
      "Found 2000 images belonging to 2 classes.\n",
      "Found 1000 images belonging to 2 classes.\n",
      "Found 1000 images belonging to 2 classes.\n"
     ]
    }
   ],
   "source": [
    "# Gen.flow_from_directory() 이용해서 iterator 생성\n",
    "train_iterator = train_datagen.flow_from_directory(directory=train_dir,  # 이미지들의 디렉토리\n",
    "                                                   target_size=(IMAGE_SIZE, IMAGE_SIZE),  # resize 크기 (height, width)\n",
    "                                                   class_mode='binary',  # dog, cat의 binary\n",
    "                                                   batch_size=N_BATCHS\n",
    "                                                   )\n",
    "validation_iterator = test_datagen.flow_from_directory(directory=validation_dir,\n",
    "                                                       target_size=(IMAGE_SIZE, IMAGE_SIZE),\n",
    "                                                       class_mode='binary',\n",
    "                                                       batch_size=N_BATCHS\n",
    "                                                       )\n",
    "test_iterator = test_datagen.flow_from_directory(directory=test_dir,\n",
    "                                                 target_size=(IMAGE_SIZE, IMAGE_SIZE),\n",
    "                                                 class_mode='binary',\n",
    "                                                 batch_size=N_BATCHS\n",
    "                                                 )"
   ]
  },
  {
   "cell_type": "code",
   "execution_count": null,
   "metadata": {
    "colab": {
     "base_uri": "https://localhost:8080/"
    },
    "executionInfo": {
     "elapsed": 970,
     "status": "ok",
     "timestamp": 1619419707886,
     "user": {
      "displayName": "KIM TAEKYUN",
      "photoUrl": "https://lh3.googleusercontent.com/a-/AOh14GiLF5C4fFQDfiq1pEbiM8GO1_TQ5EX9tkNYvrmY8Q=s64",
      "userId": "17041733956875075719"
     },
     "user_tz": -540
    },
    "id": "dLubVtOV739C",
    "outputId": "a70153f9-0b98-4df7-a6d8-3fb4fdf91acf"
   },
   "outputs": [
    {
     "data": {
      "text/plain": [
       "{'cats': 0, 'dogs': 1}"
      ]
     },
     "execution_count": 17,
     "metadata": {
      "tags": []
     },
     "output_type": "execute_result"
    }
   ],
   "source": [
    "train_iterator.class_indices"
   ]
  },
  {
   "cell_type": "code",
   "execution_count": null,
   "metadata": {
    "colab": {
     "base_uri": "https://localhost:8080/"
    },
    "executionInfo": {
     "elapsed": 747,
     "status": "ok",
     "timestamp": 1619419738459,
     "user": {
      "displayName": "KIM TAEKYUN",
      "photoUrl": "https://lh3.googleusercontent.com/a-/AOh14GiLF5C4fFQDfiq1pEbiM8GO1_TQ5EX9tkNYvrmY8Q=s64",
      "userId": "17041733956875075719"
     },
     "user_tz": -540
    },
    "id": "gCwFf6lu79vm",
    "outputId": "12b430b1-c04b-43da-b078-12b739e45cf3"
   },
   "outputs": [
    {
     "data": {
      "text/plain": [
       "(100, 50, 50)"
      ]
     },
     "execution_count": 18,
     "metadata": {
      "tags": []
     },
     "output_type": "execute_result"
    }
   ],
   "source": [
    "len(train_iterator), len(validation_iterator), len(test_iterator)  # 1 에폭당 step 수"
   ]
  },
  {
   "cell_type": "markdown",
   "metadata": {
    "id": "AIfzRaBOYrhj"
   },
   "source": [
    "\n",
    "##  Model Training(학습)"
   ]
  },
  {
   "cell_type": "code",
   "execution_count": null,
   "metadata": {
    "colab": {
     "base_uri": "https://localhost:8080/"
    },
    "executionInfo": {
     "elapsed": 453457,
     "status": "ok",
     "timestamp": 1619420405145,
     "user": {
      "displayName": "KIM TAEKYUN",
      "photoUrl": "https://lh3.googleusercontent.com/a-/AOh14GiLF5C4fFQDfiq1pEbiM8GO1_TQ5EX9tkNYvrmY8Q=s64",
      "userId": "17041733956875075719"
     },
     "user_tz": -540
    },
    "id": "i34HXe9HrboC",
    "outputId": "561052c9-efd3-4444-cddc-b57e60878814"
   },
   "outputs": [
    {
     "name": "stdout",
     "output_type": "stream",
     "text": [
      "Epoch 1/50\n",
      "100/100 [==============================] - 39s 86ms/step - loss: 0.9510 - accuracy: 0.5071 - val_loss: 0.6920 - val_accuracy: 0.5000\n",
      "Epoch 2/50\n",
      "100/100 [==============================] - 8s 84ms/step - loss: 0.6930 - accuracy: 0.5137 - val_loss: 0.6961 - val_accuracy: 0.5020\n",
      "Epoch 3/50\n",
      "100/100 [==============================] - 8s 85ms/step - loss: 0.6907 - accuracy: 0.5319 - val_loss: 0.6830 - val_accuracy: 0.5660\n",
      "Epoch 4/50\n",
      "100/100 [==============================] - 8s 84ms/step - loss: 0.6734 - accuracy: 0.5614 - val_loss: 0.7494 - val_accuracy: 0.5330\n",
      "Epoch 5/50\n",
      "100/100 [==============================] - 8s 83ms/step - loss: 0.6486 - accuracy: 0.6139 - val_loss: 0.6579 - val_accuracy: 0.6030\n",
      "Epoch 6/50\n",
      "100/100 [==============================] - 8s 83ms/step - loss: 0.6166 - accuracy: 0.6486 - val_loss: 0.6620 - val_accuracy: 0.6190\n",
      "Epoch 7/50\n",
      "100/100 [==============================] - 8s 84ms/step - loss: 0.6023 - accuracy: 0.6717 - val_loss: 0.6928 - val_accuracy: 0.6080\n",
      "Epoch 8/50\n",
      "100/100 [==============================] - 8s 85ms/step - loss: 0.4994 - accuracy: 0.7466 - val_loss: 0.6447 - val_accuracy: 0.6330\n",
      "Epoch 9/50\n",
      "100/100 [==============================] - 8s 84ms/step - loss: 0.4432 - accuracy: 0.7956 - val_loss: 0.7324 - val_accuracy: 0.6450\n",
      "Epoch 10/50\n",
      "100/100 [==============================] - 8s 84ms/step - loss: 0.3570 - accuracy: 0.8466 - val_loss: 0.7488 - val_accuracy: 0.6380\n",
      "Epoch 11/50\n",
      "100/100 [==============================] - 8s 83ms/step - loss: 0.2965 - accuracy: 0.8741 - val_loss: 0.8167 - val_accuracy: 0.6640\n",
      "Epoch 12/50\n",
      "100/100 [==============================] - 8s 84ms/step - loss: 0.2125 - accuracy: 0.9118 - val_loss: 0.9219 - val_accuracy: 0.6480\n",
      "Epoch 13/50\n",
      "100/100 [==============================] - 8s 83ms/step - loss: 0.1891 - accuracy: 0.9238 - val_loss: 1.0352 - val_accuracy: 0.6740\n",
      "Epoch 14/50\n",
      "100/100 [==============================] - 8s 84ms/step - loss: 0.1366 - accuracy: 0.9490 - val_loss: 1.2253 - val_accuracy: 0.6660\n",
      "Epoch 15/50\n",
      "100/100 [==============================] - 8s 84ms/step - loss: 0.0986 - accuracy: 0.9617 - val_loss: 1.0647 - val_accuracy: 0.6630\n",
      "Epoch 16/50\n",
      "100/100 [==============================] - 8s 85ms/step - loss: 0.0751 - accuracy: 0.9827 - val_loss: 1.3878 - val_accuracy: 0.6720\n",
      "Epoch 17/50\n",
      "100/100 [==============================] - 8s 84ms/step - loss: 0.0596 - accuracy: 0.9857 - val_loss: 1.3363 - val_accuracy: 0.6650\n",
      "Epoch 18/50\n",
      "100/100 [==============================] - 8s 84ms/step - loss: 0.0396 - accuracy: 0.9835 - val_loss: 1.5418 - val_accuracy: 0.6650\n",
      "Epoch 19/50\n",
      "100/100 [==============================] - 8s 84ms/step - loss: 0.0415 - accuracy: 0.9909 - val_loss: 1.4914 - val_accuracy: 0.6800\n",
      "Epoch 20/50\n",
      "100/100 [==============================] - 8s 84ms/step - loss: 0.0376 - accuracy: 0.9896 - val_loss: 1.5189 - val_accuracy: 0.6680\n",
      "Epoch 21/50\n",
      "100/100 [==============================] - 8s 84ms/step - loss: 0.0380 - accuracy: 0.9864 - val_loss: 1.5059 - val_accuracy: 0.7010\n",
      "Epoch 22/50\n",
      "100/100 [==============================] - 8s 84ms/step - loss: 0.0144 - accuracy: 0.9955 - val_loss: 1.6954 - val_accuracy: 0.6940\n",
      "Epoch 23/50\n",
      "100/100 [==============================] - 8s 84ms/step - loss: 0.0253 - accuracy: 0.9928 - val_loss: 1.7633 - val_accuracy: 0.6540\n",
      "Epoch 24/50\n",
      "100/100 [==============================] - 8s 84ms/step - loss: 0.0470 - accuracy: 0.9872 - val_loss: 1.7773 - val_accuracy: 0.6550\n",
      "Epoch 25/50\n",
      "100/100 [==============================] - 8s 84ms/step - loss: 0.0882 - accuracy: 0.9782 - val_loss: 1.5081 - val_accuracy: 0.6800\n",
      "Epoch 26/50\n",
      "100/100 [==============================] - 8s 84ms/step - loss: 0.0198 - accuracy: 0.9948 - val_loss: 1.6785 - val_accuracy: 0.6800\n",
      "Epoch 27/50\n",
      "100/100 [==============================] - 8s 84ms/step - loss: 0.0248 - accuracy: 0.9927 - val_loss: 2.2573 - val_accuracy: 0.6660\n",
      "Epoch 28/50\n",
      "100/100 [==============================] - 8s 85ms/step - loss: 0.0396 - accuracy: 0.9886 - val_loss: 1.8077 - val_accuracy: 0.6610\n",
      "Epoch 29/50\n",
      "100/100 [==============================] - 8s 84ms/step - loss: 0.0279 - accuracy: 0.9938 - val_loss: 1.5664 - val_accuracy: 0.6690\n",
      "Epoch 30/50\n",
      "100/100 [==============================] - 8s 84ms/step - loss: 0.0179 - accuracy: 0.9957 - val_loss: 1.7995 - val_accuracy: 0.6760\n",
      "Epoch 31/50\n",
      "100/100 [==============================] - 8s 84ms/step - loss: 0.0104 - accuracy: 0.9971 - val_loss: 1.8303 - val_accuracy: 0.6690\n",
      "Epoch 32/50\n",
      "100/100 [==============================] - 8s 85ms/step - loss: 0.0134 - accuracy: 0.9965 - val_loss: 2.0353 - val_accuracy: 0.6600\n",
      "Epoch 33/50\n",
      "100/100 [==============================] - 8s 84ms/step - loss: 0.0061 - accuracy: 0.9983 - val_loss: 2.2439 - val_accuracy: 0.6380\n",
      "Epoch 34/50\n",
      "100/100 [==============================] - 8s 83ms/step - loss: 0.0393 - accuracy: 0.9891 - val_loss: 1.9991 - val_accuracy: 0.6610\n",
      "Epoch 35/50\n",
      "100/100 [==============================] - 8s 84ms/step - loss: 0.0427 - accuracy: 0.9889 - val_loss: 1.9108 - val_accuracy: 0.6660\n",
      "Epoch 36/50\n",
      "100/100 [==============================] - 8s 85ms/step - loss: 0.0660 - accuracy: 0.9865 - val_loss: 1.7134 - val_accuracy: 0.6470\n",
      "Epoch 37/50\n",
      "100/100 [==============================] - 8s 85ms/step - loss: 0.0217 - accuracy: 0.9912 - val_loss: 1.7098 - val_accuracy: 0.6650\n",
      "Epoch 38/50\n",
      "100/100 [==============================] - 8s 84ms/step - loss: 0.0080 - accuracy: 0.9973 - val_loss: 1.6805 - val_accuracy: 0.6810\n",
      "Epoch 39/50\n",
      "100/100 [==============================] - 8s 85ms/step - loss: 0.0018 - accuracy: 1.0000 - val_loss: 2.4869 - val_accuracy: 0.6740\n",
      "Epoch 40/50\n",
      "100/100 [==============================] - 9s 85ms/step - loss: 0.0048 - accuracy: 0.9980 - val_loss: 2.2146 - val_accuracy: 0.6690\n",
      "Epoch 41/50\n",
      "100/100 [==============================] - 8s 84ms/step - loss: 0.0037 - accuracy: 0.9984 - val_loss: 2.0977 - val_accuracy: 0.6780\n",
      "Epoch 42/50\n",
      "100/100 [==============================] - 8s 83ms/step - loss: 0.0022 - accuracy: 0.9992 - val_loss: 2.3491 - val_accuracy: 0.6630\n",
      "Epoch 43/50\n",
      "100/100 [==============================] - 8s 84ms/step - loss: 0.0036 - accuracy: 0.9995 - val_loss: 2.1217 - val_accuracy: 0.6710\n",
      "Epoch 44/50\n",
      "100/100 [==============================] - 8s 84ms/step - loss: 0.0022 - accuracy: 0.9989 - val_loss: 2.2565 - val_accuracy: 0.6680\n",
      "Epoch 45/50\n",
      "100/100 [==============================] - 8s 84ms/step - loss: 0.0091 - accuracy: 0.9982 - val_loss: 4.4634 - val_accuracy: 0.6480\n",
      "Epoch 46/50\n",
      "100/100 [==============================] - 8s 84ms/step - loss: 0.0726 - accuracy: 0.9794 - val_loss: 1.9914 - val_accuracy: 0.6380\n",
      "Epoch 47/50\n",
      "100/100 [==============================] - 8s 85ms/step - loss: 0.0276 - accuracy: 0.9874 - val_loss: 1.9566 - val_accuracy: 0.6430\n",
      "Epoch 48/50\n",
      "100/100 [==============================] - 8s 84ms/step - loss: 0.0171 - accuracy: 0.9952 - val_loss: 1.8735 - val_accuracy: 0.6550\n",
      "Epoch 49/50\n",
      "100/100 [==============================] - 8s 84ms/step - loss: 0.0095 - accuracy: 0.9986 - val_loss: 1.8871 - val_accuracy: 0.6480\n",
      "Epoch 50/50\n",
      "100/100 [==============================] - 8s 84ms/step - loss: 0.0366 - accuracy: 0.9926 - val_loss: 1.8383 - val_accuracy: 0.6600\n"
     ]
    }
   ],
   "source": [
    "history = model.fit(train_iterator,\n",
    "                    epochs=N_EPOCHS,\n",
    "                    steps_per_epoch=len(train_iterator),\n",
    "                    validation_data=validation_iterator,\n",
    "                    validation_steps=len(validation_iterator))"
   ]
  },
  {
   "cell_type": "code",
   "execution_count": null,
   "metadata": {
    "colab": {
     "base_uri": "https://localhost:8080/"
    },
    "executionInfo": {
     "elapsed": 3370,
     "status": "ok",
     "timestamp": 1619421162083,
     "user": {
      "displayName": "KIM TAEKYUN",
      "photoUrl": "https://lh3.googleusercontent.com/a-/AOh14GiLF5C4fFQDfiq1pEbiM8GO1_TQ5EX9tkNYvrmY8Q=s64",
      "userId": "17041733956875075719"
     },
     "user_tz": -540
    },
    "id": "tU2E8tONrboC",
    "outputId": "432f85aa-370b-4d0b-e48b-08ca71ddb8c0"
   },
   "outputs": [
    {
     "name": "stdout",
     "output_type": "stream",
     "text": [
      "50/50 [==============================] - 3s 51ms/step - loss: 2.1738 - accuracy: 0.6170\n"
     ]
    },
    {
     "data": {
      "text/plain": [
       "[2.1738440990448, 0.6169999837875366]"
      ]
     },
     "execution_count": 20,
     "metadata": {
      "tags": []
     },
     "output_type": "execute_result"
    }
   ],
   "source": [
    "model.evaluate(test_iterator)"
   ]
  },
  {
   "cell_type": "markdown",
   "metadata": {
    "id": "KVw7Fe-VBrmU"
   },
   "source": [
    "- Overfitting 발생\n",
    "    - 원인: 적은 train dataset"
   ]
  },
  {
   "cell_type": "markdown",
   "metadata": {
    "id": "9fAwTvdIYrhm"
   },
   "source": [
    "# Using data augmentation\n",
    "\n",
    "- 학습 이미지의 수가 적어서 overfitting이 발생할 가능성을 줄이기 위해 기존 훈련 데이터로부터 그럴듯하게 이미지 변환을 통해서 이미지(데이터)를 늘리는 작업을 Image augmentation\n",
    "- train_set에만 적용, validation, test set에는 적용하지 않는다. (rescaling만 한다.)"
   ]
  },
  {
   "cell_type": "code",
   "execution_count": null,
   "metadata": {
    "id": "7bF-DJT9rboD"
   },
   "outputs": [],
   "source": [
    "train_datagen = ImageDataGenerator(rescale=1./255,\n",
    "                                   rotation_range=40,\n",
    "                                   width_shift_range=0.1,\n",
    "                                   height_shift_range=0.1,\n",
    "                                   zoom_range=0.2,\n",
    "                                   horizontal_flip=True,\n",
    "                                   brightness_range=(0.7, 1.3),\n",
    "                                   fill_mode='constant'\n",
    "                                   )\n",
    "# validation, test 용\n",
    "test_datagen = ImageDataGenerator(rescale=1./255)"
   ]
  },
  {
   "cell_type": "code",
   "execution_count": null,
   "metadata": {
    "colab": {
     "base_uri": "https://localhost:8080/"
    },
    "executionInfo": {
     "elapsed": 1938,
     "status": "ok",
     "timestamp": 1619423117415,
     "user": {
      "displayName": "KIM TAEKYUN",
      "photoUrl": "https://lh3.googleusercontent.com/a-/AOh14GiLF5C4fFQDfiq1pEbiM8GO1_TQ5EX9tkNYvrmY8Q=s64",
      "userId": "17041733956875075719"
     },
     "user_tz": -540
    },
    "id": "uInb10dzrboD",
    "outputId": "56bcae1e-7973-4bc1-fe90-f4a2fff2a7f4"
   },
   "outputs": [
    {
     "name": "stdout",
     "output_type": "stream",
     "text": [
      "Found 2000 images belonging to 2 classes.\n",
      "Found 1000 images belonging to 2 classes.\n",
      "Found 1000 images belonging to 2 classes.\n"
     ]
    }
   ],
   "source": [
    "train_iterator = train_datagen.flow_from_directory(train_dir,\n",
    "                                                   target_size=(IMAGE_SIZE, IMAGE_SIZE),\n",
    "                                                   class_mode='binary',\n",
    "                                                   batch_size=N_BATCHS,\n",
    "                                                  )\n",
    "validation_iterator = test_datagen.flow_from_directory(validation_dir,\n",
    "                                                       target_size=(IMAGE_SIZE, IMAGE_SIZE),\n",
    "                                                       class_mode='binary',\n",
    "                                                       batch_size=N_BATCHS,\n",
    "                                                      )\n",
    "test_iterator = test_datagen.flow_from_directory(test_dir,\n",
    "                                                 target_size=(IMAGE_SIZE, IMAGE_SIZE),\n",
    "                                                 class_mode='binary',\n",
    "                                                 batch_size=N_BATCHS,\n",
    "                                                )"
   ]
  },
  {
   "cell_type": "code",
   "execution_count": null,
   "metadata": {
    "colab": {
     "base_uri": "https://localhost:8080/"
    },
    "executionInfo": {
     "elapsed": 1390,
     "status": "ok",
     "timestamp": 1619421871421,
     "user": {
      "displayName": "KIM TAEKYUN",
      "photoUrl": "https://lh3.googleusercontent.com/a-/AOh14GiLF5C4fFQDfiq1pEbiM8GO1_TQ5EX9tkNYvrmY8Q=s64",
      "userId": "17041733956875075719"
     },
     "user_tz": -540
    },
    "id": "BWBvXLDirboD",
    "outputId": "b563768d-1aa3-4765-93ae-ad449cbf8b1d"
   },
   "outputs": [
    {
     "data": {
      "text/plain": [
       "((20, 150, 150, 3), (20,))"
      ]
     },
     "execution_count": 27,
     "metadata": {
      "tags": []
     },
     "output_type": "execute_result"
    }
   ],
   "source": [
    "# 이미지 확인\n",
    "batch_image = train_iterator.next()\n",
    "batch_image[0].shape, batch_image[1].shape  # batch_image[0]: image, batch_image[1]: labels"
   ]
  },
  {
   "cell_type": "code",
   "execution_count": null,
   "metadata": {
    "colab": {
     "base_uri": "https://localhost:8080/",
     "height": 591,
     "output_embedded_package_id": "1IopqxuuwMT_UWRzY0Sm6BVTTM7iD387P"
    },
    "executionInfo": {
     "elapsed": 5444,
     "status": "ok",
     "timestamp": 1619422101452,
     "user": {
      "displayName": "KIM TAEKYUN",
      "photoUrl": "https://lh3.googleusercontent.com/a-/AOh14GiLF5C4fFQDfiq1pEbiM8GO1_TQ5EX9tkNYvrmY8Q=s64",
      "userId": "17041733956875075719"
     },
     "user_tz": -540
    },
    "id": "gEZqwG_2rboD",
    "outputId": "09c75115-c70b-4f72-ac7a-1cc45eb930c7"
   },
   "outputs": [
    {
     "data": {
      "text/plain": [
       "Output hidden; open in https://colab.research.google.com to view."
      ]
     },
     "metadata": {},
     "output_type": "display_data"
    }
   ],
   "source": [
    "plt.figure(figsize=(30, 15))\n",
    "for i in range(20):\n",
    "    plt.subplot(4, 5, i+1)\n",
    "    img = batch_image[0][i].astype('uint8')\n",
    "    plt.imshow(img)\n",
    "    plt.axis('off')\n",
    "plt.tight_layout()\n",
    "plt.show()"
   ]
  },
  {
   "cell_type": "code",
   "execution_count": null,
   "metadata": {
    "id": "6VwO4AuUrboD"
   },
   "outputs": [],
   "source": [
    "model2 = create_model()\n",
    "model2.compile(optimizer=keras.optimizers.Adam(learning_rate=LEARNING_RATE),\n",
    "                                               loss='binary_crossentropy',\n",
    "                                               metrics=['accuracy']\n",
    "                                               )"
   ]
  },
  {
   "cell_type": "code",
   "execution_count": null,
   "metadata": {
    "colab": {
     "base_uri": "https://localhost:8080/"
    },
    "executionInfo": {
     "elapsed": 867549,
     "status": "ok",
     "timestamp": 1619423990907,
     "user": {
      "displayName": "KIM TAEKYUN",
      "photoUrl": "https://lh3.googleusercontent.com/a-/AOh14GiLF5C4fFQDfiq1pEbiM8GO1_TQ5EX9tkNYvrmY8Q=s64",
      "userId": "17041733956875075719"
     },
     "user_tz": -540
    },
    "id": "uPz2dC_NrboE",
    "outputId": "c47060f1-2682-4681-cc16-b6ed554acad5"
   },
   "outputs": [
    {
     "name": "stdout",
     "output_type": "stream",
     "text": [
      "Epoch 1/50\n",
      "100/100 [==============================] - 18s 176ms/step - loss: 1.1882 - accuracy: 0.4858 - val_loss: 0.6930 - val_accuracy: 0.5000\n",
      "Epoch 2/50\n",
      "100/100 [==============================] - 17s 174ms/step - loss: 0.6933 - accuracy: 0.4999 - val_loss: 0.6925 - val_accuracy: 0.5000\n",
      "Epoch 3/50\n",
      "100/100 [==============================] - 17s 172ms/step - loss: 0.6939 - accuracy: 0.4886 - val_loss: 0.6932 - val_accuracy: 0.5000\n",
      "Epoch 4/50\n",
      "100/100 [==============================] - 17s 175ms/step - loss: 0.6937 - accuracy: 0.4956 - val_loss: 0.6930 - val_accuracy: 0.5120\n",
      "Epoch 5/50\n",
      "100/100 [==============================] - 17s 172ms/step - loss: 0.6933 - accuracy: 0.4942 - val_loss: 0.8164 - val_accuracy: 0.5000\n",
      "Epoch 6/50\n",
      "100/100 [==============================] - 17s 174ms/step - loss: 0.7069 - accuracy: 0.4955 - val_loss: 0.7137 - val_accuracy: 0.5000\n",
      "Epoch 7/50\n",
      "100/100 [==============================] - 17s 172ms/step - loss: 0.6979 - accuracy: 0.5032 - val_loss: 0.6925 - val_accuracy: 0.5000\n",
      "Epoch 8/50\n",
      "100/100 [==============================] - 17s 174ms/step - loss: 0.6924 - accuracy: 0.5285 - val_loss: 0.6915 - val_accuracy: 0.6120\n",
      "Epoch 9/50\n",
      "100/100 [==============================] - 17s 171ms/step - loss: 0.6924 - accuracy: 0.5439 - val_loss: 0.6908 - val_accuracy: 0.5510\n",
      "Epoch 10/50\n",
      "100/100 [==============================] - 17s 173ms/step - loss: 0.6913 - accuracy: 0.5140 - val_loss: 0.6912 - val_accuracy: 0.5190\n",
      "Epoch 11/50\n",
      "100/100 [==============================] - 18s 175ms/step - loss: 0.6885 - accuracy: 0.5435 - val_loss: 0.6905 - val_accuracy: 0.5160\n",
      "Epoch 12/50\n",
      "100/100 [==============================] - 17s 175ms/step - loss: 0.6920 - accuracy: 0.5014 - val_loss: 0.6926 - val_accuracy: 0.5060\n",
      "Epoch 13/50\n",
      "100/100 [==============================] - 17s 171ms/step - loss: 0.6925 - accuracy: 0.5234 - val_loss: 0.7065 - val_accuracy: 0.5030\n",
      "Epoch 14/50\n",
      "100/100 [==============================] - 17s 171ms/step - loss: 0.6918 - accuracy: 0.5337 - val_loss: 0.6828 - val_accuracy: 0.5570\n",
      "Epoch 15/50\n",
      "100/100 [==============================] - 17s 172ms/step - loss: 0.6778 - accuracy: 0.5629 - val_loss: 0.6643 - val_accuracy: 0.6090\n",
      "Epoch 16/50\n",
      "100/100 [==============================] - 17s 172ms/step - loss: 0.6600 - accuracy: 0.6080 - val_loss: 0.6622 - val_accuracy: 0.5820\n",
      "Epoch 17/50\n",
      "100/100 [==============================] - 17s 172ms/step - loss: 0.6726 - accuracy: 0.5771 - val_loss: 0.6527 - val_accuracy: 0.6470\n",
      "Epoch 18/50\n",
      "100/100 [==============================] - 17s 175ms/step - loss: 0.6604 - accuracy: 0.5889 - val_loss: 0.6584 - val_accuracy: 0.6380\n",
      "Epoch 19/50\n",
      "100/100 [==============================] - 17s 174ms/step - loss: 0.6436 - accuracy: 0.6266 - val_loss: 0.6504 - val_accuracy: 0.6580\n",
      "Epoch 20/50\n",
      "100/100 [==============================] - 18s 177ms/step - loss: 0.6414 - accuracy: 0.6357 - val_loss: 0.6074 - val_accuracy: 0.6790\n",
      "Epoch 21/50\n",
      "100/100 [==============================] - 18s 177ms/step - loss: 0.6235 - accuracy: 0.6642 - val_loss: 0.6608 - val_accuracy: 0.6100\n",
      "Epoch 22/50\n",
      "100/100 [==============================] - 18s 176ms/step - loss: 0.6373 - accuracy: 0.6476 - val_loss: 0.6149 - val_accuracy: 0.6610\n",
      "Epoch 23/50\n",
      "100/100 [==============================] - 17s 174ms/step - loss: 0.5884 - accuracy: 0.6769 - val_loss: 0.6085 - val_accuracy: 0.6640\n",
      "Epoch 24/50\n",
      "100/100 [==============================] - 17s 173ms/step - loss: 0.6129 - accuracy: 0.6740 - val_loss: 0.5976 - val_accuracy: 0.6760\n",
      "Epoch 25/50\n",
      "100/100 [==============================] - 17s 174ms/step - loss: 0.5771 - accuracy: 0.7111 - val_loss: 0.6450 - val_accuracy: 0.6520\n",
      "Epoch 26/50\n",
      "100/100 [==============================] - 17s 172ms/step - loss: 0.5951 - accuracy: 0.6767 - val_loss: 0.5657 - val_accuracy: 0.7080\n",
      "Epoch 27/50\n",
      "100/100 [==============================] - 17s 173ms/step - loss: 0.5864 - accuracy: 0.6775 - val_loss: 0.5725 - val_accuracy: 0.6960\n",
      "Epoch 28/50\n",
      "100/100 [==============================] - 17s 172ms/step - loss: 0.5554 - accuracy: 0.7202 - val_loss: 0.6007 - val_accuracy: 0.6700\n",
      "Epoch 29/50\n",
      "100/100 [==============================] - 17s 173ms/step - loss: 0.5568 - accuracy: 0.7243 - val_loss: 0.5670 - val_accuracy: 0.7150\n",
      "Epoch 30/50\n",
      "100/100 [==============================] - 17s 173ms/step - loss: 0.5603 - accuracy: 0.7128 - val_loss: 0.6019 - val_accuracy: 0.6810\n",
      "Epoch 31/50\n",
      "100/100 [==============================] - 17s 172ms/step - loss: 0.5391 - accuracy: 0.7234 - val_loss: 0.5600 - val_accuracy: 0.6850\n",
      "Epoch 32/50\n",
      "100/100 [==============================] - 17s 173ms/step - loss: 0.5519 - accuracy: 0.7113 - val_loss: 0.5788 - val_accuracy: 0.6780\n",
      "Epoch 33/50\n",
      "100/100 [==============================] - 17s 173ms/step - loss: 0.5474 - accuracy: 0.7189 - val_loss: 0.5727 - val_accuracy: 0.7060\n",
      "Epoch 34/50\n",
      "100/100 [==============================] - 17s 173ms/step - loss: 0.5328 - accuracy: 0.7218 - val_loss: 0.5390 - val_accuracy: 0.7260\n",
      "Epoch 35/50\n",
      "100/100 [==============================] - 17s 174ms/step - loss: 0.5483 - accuracy: 0.7046 - val_loss: 0.5437 - val_accuracy: 0.7140\n",
      "Epoch 36/50\n",
      "100/100 [==============================] - 17s 172ms/step - loss: 0.5459 - accuracy: 0.7105 - val_loss: 0.5568 - val_accuracy: 0.7130\n",
      "Epoch 37/50\n",
      "100/100 [==============================] - 17s 173ms/step - loss: 0.5282 - accuracy: 0.7330 - val_loss: 0.5083 - val_accuracy: 0.7480\n",
      "Epoch 38/50\n",
      "100/100 [==============================] - 17s 173ms/step - loss: 0.5230 - accuracy: 0.7467 - val_loss: 0.5205 - val_accuracy: 0.7340\n",
      "Epoch 39/50\n",
      "100/100 [==============================] - 17s 173ms/step - loss: 0.4935 - accuracy: 0.7646 - val_loss: 0.5237 - val_accuracy: 0.7250\n",
      "Epoch 40/50\n",
      "100/100 [==============================] - 17s 173ms/step - loss: 0.5180 - accuracy: 0.7444 - val_loss: 0.6009 - val_accuracy: 0.6940\n",
      "Epoch 41/50\n",
      "100/100 [==============================] - 17s 171ms/step - loss: 0.5585 - accuracy: 0.7293 - val_loss: 0.5331 - val_accuracy: 0.7270\n",
      "Epoch 42/50\n",
      "100/100 [==============================] - 17s 173ms/step - loss: 0.5027 - accuracy: 0.7470 - val_loss: 0.5343 - val_accuracy: 0.7360\n",
      "Epoch 43/50\n",
      "100/100 [==============================] - 17s 172ms/step - loss: 0.4964 - accuracy: 0.7727 - val_loss: 0.4908 - val_accuracy: 0.7600\n",
      "Epoch 44/50\n",
      "100/100 [==============================] - 17s 173ms/step - loss: 0.4825 - accuracy: 0.7802 - val_loss: 0.5020 - val_accuracy: 0.7510\n",
      "Epoch 45/50\n",
      "100/100 [==============================] - 17s 172ms/step - loss: 0.5015 - accuracy: 0.7479 - val_loss: 0.5034 - val_accuracy: 0.7480\n",
      "Epoch 46/50\n",
      "100/100 [==============================] - 17s 173ms/step - loss: 0.4916 - accuracy: 0.7753 - val_loss: 0.5421 - val_accuracy: 0.7190\n",
      "Epoch 47/50\n",
      "100/100 [==============================] - 17s 172ms/step - loss: 0.4631 - accuracy: 0.7889 - val_loss: 0.4670 - val_accuracy: 0.7690\n",
      "Epoch 48/50\n",
      "100/100 [==============================] - 17s 172ms/step - loss: 0.4598 - accuracy: 0.7894 - val_loss: 0.4938 - val_accuracy: 0.7610\n",
      "Epoch 49/50\n",
      "100/100 [==============================] - 17s 173ms/step - loss: 0.4887 - accuracy: 0.7530 - val_loss: 0.5539 - val_accuracy: 0.7200\n",
      "Epoch 50/50\n",
      "100/100 [==============================] - 17s 172ms/step - loss: 0.4791 - accuracy: 0.7640 - val_loss: 0.5083 - val_accuracy: 0.7550\n"
     ]
    }
   ],
   "source": [
    "history2 = model2.fit(train_iterator,\n",
    "                      epochs=N_EPOCHS,\n",
    "                      steps_per_epoch=len(train_iterator),\n",
    "                      validation_data=validation_iterator,\n",
    "                      validation_steps=len(validation_iterator)\n",
    "                      )"
   ]
  },
  {
   "cell_type": "code",
   "execution_count": null,
   "metadata": {
    "id": "fI72D0fPrboE"
   },
   "outputs": [],
   "source": []
  },
  {
   "cell_type": "code",
   "execution_count": null,
   "metadata": {
    "id": "wstgO13MrboE"
   },
   "outputs": [],
   "source": []
  },
  {
   "cell_type": "code",
   "execution_count": null,
   "metadata": {
    "id": "OR8ZjpfkrboE"
   },
   "outputs": [],
   "source": []
  },
  {
   "cell_type": "code",
   "execution_count": null,
   "metadata": {
    "id": "LVFjLlhtrboE"
   },
   "outputs": [],
   "source": []
  },
  {
   "cell_type": "code",
   "execution_count": null,
   "metadata": {
    "id": "oVJmzFY2rboF"
   },
   "outputs": [],
   "source": []
  },
  {
   "cell_type": "markdown",
   "metadata": {
    "id": "ql8F1bCZYrhr"
   },
   "source": [
    "###  DataFrame 이용\n",
    "- flow_from_dataframe() 사용\n",
    "    - 파일경로와 label을 DataFrame으로 저장하고 그것을 이용해 데이터셋을 읽어온다."
   ]
  },
  {
   "cell_type": "code",
   "execution_count": 1,
   "metadata": {
    "colab": {
     "base_uri": "https://localhost:8080/",
     "height": 103
    },
    "executionInfo": {
     "elapsed": 3327,
     "status": "ok",
     "timestamp": 1619484307492,
     "user": {
      "displayName": "KIM TAEKYUN",
      "photoUrl": "https://lh3.googleusercontent.com/a-/AOh14GiLF5C4fFQDfiq1pEbiM8GO1_TQ5EX9tkNYvrmY8Q=s64",
      "userId": "17041733956875075719"
     },
     "user_tz": -540
    },
    "id": "6mcvpgNirboF",
    "outputId": "7fe65207-5fcc-4240-beb3-597ade267964"
   },
   "outputs": [
    {
     "name": "stderr",
     "output_type": "stream",
     "text": [
      "Downloading...\n",
      "From: https://drive.google.com/uc?id=17ejPJw42TgTv0jCPMMlVTHwF57XYE2kb\n",
      "To: /content/cats_and_dogs_union.zip\n",
      "90.7MB [00:00, 353MB/s]\n"
     ]
    },
    {
     "data": {
      "application/vnd.google.colaboratory.intrinsic+json": {
       "type": "string"
      },
      "text/plain": [
       "'cats_and_dogs_union.zip'"
      ]
     },
     "execution_count": 1,
     "metadata": {
      "tags": []
     },
     "output_type": "execute_result"
    }
   ],
   "source": [
    "import gdown\n",
    "\n",
    "url ='https://drive.google.com/uc?id=17ejPJw42TgTv0jCPMMlVTHwF57XYE2kb'\n",
    "fname = 'cats_and_dogs_union.zip'\n",
    "gdown.download(url, fname, quiet=False)"
   ]
  },
  {
   "cell_type": "code",
   "execution_count": 2,
   "metadata": {
    "executionInfo": {
     "elapsed": 1355,
     "status": "ok",
     "timestamp": 1619484352489,
     "user": {
      "displayName": "KIM TAEKYUN",
      "photoUrl": "https://lh3.googleusercontent.com/a-/AOh14GiLF5C4fFQDfiq1pEbiM8GO1_TQ5EX9tkNYvrmY8Q=s64",
      "userId": "17041733956875075719"
     },
     "user_tz": -540
    },
    "id": "eSLDOjKkrboF"
   },
   "outputs": [],
   "source": [
    "!mkdir data"
   ]
  },
  {
   "cell_type": "code",
   "execution_count": 3,
   "metadata": {
    "executionInfo": {
     "elapsed": 1582,
     "status": "ok",
     "timestamp": 1619484395102,
     "user": {
      "displayName": "KIM TAEKYUN",
      "photoUrl": "https://lh3.googleusercontent.com/a-/AOh14GiLF5C4fFQDfiq1pEbiM8GO1_TQ5EX9tkNYvrmY8Q=s64",
      "userId": "17041733956875075719"
     },
     "user_tz": -540
    },
    "id": "NcQHpy9crboG"
   },
   "outputs": [],
   "source": [
    "!unzip -q ./cats_and_dogs_union.zip -d ./data/cats_and_dogs"
   ]
  },
  {
   "cell_type": "code",
   "execution_count": null,
   "metadata": {
    "id": "ukJTY8n8rboG"
   },
   "outputs": [],
   "source": []
  },
  {
   "cell_type": "markdown",
   "metadata": {
    "id": "eswAMSEOzo8g"
   },
   "source": [
    "# DataFrame 생성\n",
    "- path, label 컬럼"
   ]
  },
  {
   "cell_type": "code",
   "execution_count": 5,
   "metadata": {
    "colab": {
     "base_uri": "https://localhost:8080/"
    },
    "executionInfo": {
     "elapsed": 730,
     "status": "ok",
     "timestamp": 1619484925276,
     "user": {
      "displayName": "KIM TAEKYUN",
      "photoUrl": "https://lh3.googleusercontent.com/a-/AOh14GiLF5C4fFQDfiq1pEbiM8GO1_TQ5EX9tkNYvrmY8Q=s64",
      "userId": "17041733956875075719"
     },
     "user_tz": -540
    },
    "id": "prxAgc8mrboG",
    "outputId": "ab55e2d9-c2e6-485e-a6a4-e8c10d235eee"
   },
   "outputs": [
    {
     "data": {
      "text/plain": [
       "4000"
      ]
     },
     "execution_count": 5,
     "metadata": {
      "tags": []
     },
     "output_type": "execute_result"
    }
   ],
   "source": [
    "# 파일 경로 다루기 - glob\n",
    "from glob import glob\n",
    "# /**: 모든 하위 경로를 의미 / *.jpg: 확장자가 jpg인 모든 파일\n",
    "path_list = glob('/content/data/cats_and_dogs/**/*.jpg')  # 지정한 파일들의 absolute path(절대 경로)를 문자열로 반환 (리스트로 담아서 반환)\n",
    "len(path_list)"
   ]
  },
  {
   "cell_type": "code",
   "execution_count": 6,
   "metadata": {
    "colab": {
     "base_uri": "https://localhost:8080/"
    },
    "executionInfo": {
     "elapsed": 705,
     "status": "ok",
     "timestamp": 1619486146561,
     "user": {
      "displayName": "KIM TAEKYUN",
      "photoUrl": "https://lh3.googleusercontent.com/a-/AOh14GiLF5C4fFQDfiq1pEbiM8GO1_TQ5EX9tkNYvrmY8Q=s64",
      "userId": "17041733956875075719"
     },
     "user_tz": -540
    },
    "id": "P3_joyzNrboG",
    "outputId": "cb8d1ff4-7cb7-49c3-94eb-26379f42fa5b"
   },
   "outputs": [
    {
     "data": {
      "text/plain": [
       "['/content/data/cats_and_dogs/cats/cat.1303.jpg',\n",
       " '/content/data/cats_and_dogs/cats/cat.1974.jpg',\n",
       " '/content/data/cats_and_dogs/cats/cat.1335.jpg',\n",
       " '/content/data/cats_and_dogs/cats/cat.766.jpg',\n",
       " '/content/data/cats_and_dogs/cats/cat.1203.jpg',\n",
       " '/content/data/cats_and_dogs/cats/cat.1351.jpg',\n",
       " '/content/data/cats_and_dogs/cats/cat.151.jpg',\n",
       " '/content/data/cats_and_dogs/cats/cat.1079.jpg',\n",
       " '/content/data/cats_and_dogs/cats/cat.768.jpg',\n",
       " '/content/data/cats_and_dogs/cats/cat.1916.jpg']"
      ]
     },
     "execution_count": 6,
     "metadata": {
      "tags": []
     },
     "output_type": "execute_result"
    }
   ],
   "source": [
    "path_list[:10]"
   ]
  },
  {
   "cell_type": "code",
   "execution_count": 7,
   "metadata": {
    "colab": {
     "base_uri": "https://localhost:8080/"
    },
    "executionInfo": {
     "elapsed": 735,
     "status": "ok",
     "timestamp": 1619486167612,
     "user": {
      "displayName": "KIM TAEKYUN",
      "photoUrl": "https://lh3.googleusercontent.com/a-/AOh14GiLF5C4fFQDfiq1pEbiM8GO1_TQ5EX9tkNYvrmY8Q=s64",
      "userId": "17041733956875075719"
     },
     "user_tz": -540
    },
    "id": "TC5tLyxIrboG",
    "outputId": "2e2e3efa-97b1-4dbd-ab8d-74fed4084503"
   },
   "outputs": [
    {
     "data": {
      "text/plain": [
       "['/content/data/cats_and_dogs/dogs/dog.1999.jpg',\n",
       " '/content/data/cats_and_dogs/dogs/dog.1812.jpg',\n",
       " '/content/data/cats_and_dogs/dogs/dog.486.jpg',\n",
       " '/content/data/cats_and_dogs/dogs/dog.1908.jpg',\n",
       " '/content/data/cats_and_dogs/dogs/dog.603.jpg',\n",
       " '/content/data/cats_and_dogs/dogs/dog.1585.jpg',\n",
       " '/content/data/cats_and_dogs/dogs/dog.1375.jpg',\n",
       " '/content/data/cats_and_dogs/dogs/dog.575.jpg',\n",
       " '/content/data/cats_and_dogs/dogs/dog.577.jpg',\n",
       " '/content/data/cats_and_dogs/dogs/dog.1948.jpg']"
      ]
     },
     "execution_count": 7,
     "metadata": {
      "tags": []
     },
     "output_type": "execute_result"
    }
   ],
   "source": [
    "path_list[-10:]"
   ]
  },
  {
   "cell_type": "code",
   "execution_count": 11,
   "metadata": {
    "colab": {
     "base_uri": "https://localhost:8080/"
    },
    "executionInfo": {
     "elapsed": 748,
     "status": "ok",
     "timestamp": 1619486541711,
     "user": {
      "displayName": "KIM TAEKYUN",
      "photoUrl": "https://lh3.googleusercontent.com/a-/AOh14GiLF5C4fFQDfiq1pEbiM8GO1_TQ5EX9tkNYvrmY8Q=s64",
      "userId": "17041733956875075719"
     },
     "user_tz": -540
    },
    "id": "BEJuu5wPrboG",
    "outputId": "561a3a45-58b7-4f67-e02f-e71687baf007"
   },
   "outputs": [
    {
     "name": "stdout",
     "output_type": "stream",
     "text": [
      "dog.1999.jpg\n",
      "/content/data/cats_and_dogs/dogs\n",
      "dogs\n"
     ]
    }
   ],
   "source": [
    "import os\n",
    "\n",
    "f = '/content/data/cats_and_dogs/dogs/dog.1999.jpg'\n",
    "print(os.path.basename(f))  # basename(경로): 경로에서 파일명만 추출\n",
    "\n",
    "print(os.path.dirname(f))  # dirname(경로): 경로에서 디렉토리 부분만 추출\n",
    "\n",
    "print(os.path.dirname(f).split(r'/')[4])"
   ]
  },
  {
   "cell_type": "code",
   "execution_count": 13,
   "metadata": {
    "executionInfo": {
     "elapsed": 721,
     "status": "ok",
     "timestamp": 1619486696987,
     "user": {
      "displayName": "KIM TAEKYUN",
      "photoUrl": "https://lh3.googleusercontent.com/a-/AOh14GiLF5C4fFQDfiq1pEbiM8GO1_TQ5EX9tkNYvrmY8Q=s64",
      "userId": "17041733956875075719"
     },
     "user_tz": -540
    },
    "id": "FSZ2VsZcrboG"
   },
   "outputs": [],
   "source": [
    "label_list = []\n",
    "for path in path_list:\n",
    "    l = os.path.dirname(path).split(r'/')[4]\n",
    "    label_list.append(l)"
   ]
  },
  {
   "cell_type": "code",
   "execution_count": 15,
   "metadata": {
    "colab": {
     "base_uri": "https://localhost:8080/"
    },
    "executionInfo": {
     "elapsed": 816,
     "status": "ok",
     "timestamp": 1619486791462,
     "user": {
      "displayName": "KIM TAEKYUN",
      "photoUrl": "https://lh3.googleusercontent.com/a-/AOh14GiLF5C4fFQDfiq1pEbiM8GO1_TQ5EX9tkNYvrmY8Q=s64",
      "userId": "17041733956875075719"
     },
     "user_tz": -540
    },
    "id": "HyQZNefNrboG",
    "outputId": "fb88ca47-ec02-4440-d826-212767676d59"
   },
   "outputs": [
    {
     "data": {
      "text/plain": [
       "(['cats', 'cats', 'cats', 'cats', 'cats'],\n",
       " ['dogs', 'dogs', 'dogs', 'dogs', 'dogs'],\n",
       " 4000)"
      ]
     },
     "execution_count": 15,
     "metadata": {
      "tags": []
     },
     "output_type": "execute_result"
    }
   ],
   "source": [
    "label_list[:5], label_list[-5:], len(label_list)"
   ]
  },
  {
   "cell_type": "code",
   "execution_count": 16,
   "metadata": {
    "colab": {
     "base_uri": "https://localhost:8080/"
    },
    "executionInfo": {
     "elapsed": 760,
     "status": "ok",
     "timestamp": 1619486871369,
     "user": {
      "displayName": "KIM TAEKYUN",
      "photoUrl": "https://lh3.googleusercontent.com/a-/AOh14GiLF5C4fFQDfiq1pEbiM8GO1_TQ5EX9tkNYvrmY8Q=s64",
      "userId": "17041733956875075719"
     },
     "user_tz": -540
    },
    "id": "hsQFvpWmrboG",
    "outputId": "e1ed29d3-dae4-42f7-d30b-a2e242ef8ede"
   },
   "outputs": [
    {
     "data": {
      "text/plain": [
       "(4000, 2)"
      ]
     },
     "execution_count": 16,
     "metadata": {
      "tags": []
     },
     "output_type": "execute_result"
    }
   ],
   "source": [
    "import pandas as pd\n",
    "d = {\n",
    "    'path': path_list,\n",
    "    'label': label_list\n",
    "}\n",
    "data_df = pd.DataFrame(d)\n",
    "data_df.shape"
   ]
  },
  {
   "cell_type": "code",
   "execution_count": 17,
   "metadata": {
    "colab": {
     "base_uri": "https://localhost:8080/",
     "height": 204
    },
    "executionInfo": {
     "elapsed": 737,
     "status": "ok",
     "timestamp": 1619486877774,
     "user": {
      "displayName": "KIM TAEKYUN",
      "photoUrl": "https://lh3.googleusercontent.com/a-/AOh14GiLF5C4fFQDfiq1pEbiM8GO1_TQ5EX9tkNYvrmY8Q=s64",
      "userId": "17041733956875075719"
     },
     "user_tz": -540
    },
    "id": "p6VT3ar0rboG",
    "outputId": "8bc9ead5-cfe7-4195-d017-f2e45889ca47"
   },
   "outputs": [
    {
     "data": {
      "text/html": [
       "<div>\n",
       "<style scoped>\n",
       "    .dataframe tbody tr th:only-of-type {\n",
       "        vertical-align: middle;\n",
       "    }\n",
       "\n",
       "    .dataframe tbody tr th {\n",
       "        vertical-align: top;\n",
       "    }\n",
       "\n",
       "    .dataframe thead th {\n",
       "        text-align: right;\n",
       "    }\n",
       "</style>\n",
       "<table border=\"1\" class=\"dataframe\">\n",
       "  <thead>\n",
       "    <tr style=\"text-align: right;\">\n",
       "      <th></th>\n",
       "      <th>path</th>\n",
       "      <th>label</th>\n",
       "    </tr>\n",
       "  </thead>\n",
       "  <tbody>\n",
       "    <tr>\n",
       "      <th>0</th>\n",
       "      <td>/content/data/cats_and_dogs/cats/cat.1303.jpg</td>\n",
       "      <td>cats</td>\n",
       "    </tr>\n",
       "    <tr>\n",
       "      <th>1</th>\n",
       "      <td>/content/data/cats_and_dogs/cats/cat.1974.jpg</td>\n",
       "      <td>cats</td>\n",
       "    </tr>\n",
       "    <tr>\n",
       "      <th>2</th>\n",
       "      <td>/content/data/cats_and_dogs/cats/cat.1335.jpg</td>\n",
       "      <td>cats</td>\n",
       "    </tr>\n",
       "    <tr>\n",
       "      <th>3</th>\n",
       "      <td>/content/data/cats_and_dogs/cats/cat.766.jpg</td>\n",
       "      <td>cats</td>\n",
       "    </tr>\n",
       "    <tr>\n",
       "      <th>4</th>\n",
       "      <td>/content/data/cats_and_dogs/cats/cat.1203.jpg</td>\n",
       "      <td>cats</td>\n",
       "    </tr>\n",
       "  </tbody>\n",
       "</table>\n",
       "</div>"
      ],
      "text/plain": [
       "                                            path label\n",
       "0  /content/data/cats_and_dogs/cats/cat.1303.jpg  cats\n",
       "1  /content/data/cats_and_dogs/cats/cat.1974.jpg  cats\n",
       "2  /content/data/cats_and_dogs/cats/cat.1335.jpg  cats\n",
       "3   /content/data/cats_and_dogs/cats/cat.766.jpg  cats\n",
       "4  /content/data/cats_and_dogs/cats/cat.1203.jpg  cats"
      ]
     },
     "execution_count": 17,
     "metadata": {
      "tags": []
     },
     "output_type": "execute_result"
    }
   ],
   "source": [
    "data_df.head()"
   ]
  },
  {
   "cell_type": "code",
   "execution_count": 18,
   "metadata": {
    "colab": {
     "base_uri": "https://localhost:8080/",
     "height": 204
    },
    "executionInfo": {
     "elapsed": 895,
     "status": "ok",
     "timestamp": 1619486891046,
     "user": {
      "displayName": "KIM TAEKYUN",
      "photoUrl": "https://lh3.googleusercontent.com/a-/AOh14GiLF5C4fFQDfiq1pEbiM8GO1_TQ5EX9tkNYvrmY8Q=s64",
      "userId": "17041733956875075719"
     },
     "user_tz": -540
    },
    "id": "3scjex0arboH",
    "outputId": "bf69381e-5214-4642-f1c9-65cb06cfff45"
   },
   "outputs": [
    {
     "data": {
      "text/html": [
       "<div>\n",
       "<style scoped>\n",
       "    .dataframe tbody tr th:only-of-type {\n",
       "        vertical-align: middle;\n",
       "    }\n",
       "\n",
       "    .dataframe tbody tr th {\n",
       "        vertical-align: top;\n",
       "    }\n",
       "\n",
       "    .dataframe thead th {\n",
       "        text-align: right;\n",
       "    }\n",
       "</style>\n",
       "<table border=\"1\" class=\"dataframe\">\n",
       "  <thead>\n",
       "    <tr style=\"text-align: right;\">\n",
       "      <th></th>\n",
       "      <th>path</th>\n",
       "      <th>label</th>\n",
       "    </tr>\n",
       "  </thead>\n",
       "  <tbody>\n",
       "    <tr>\n",
       "      <th>3995</th>\n",
       "      <td>/content/data/cats_and_dogs/dogs/dog.1585.jpg</td>\n",
       "      <td>dogs</td>\n",
       "    </tr>\n",
       "    <tr>\n",
       "      <th>3996</th>\n",
       "      <td>/content/data/cats_and_dogs/dogs/dog.1375.jpg</td>\n",
       "      <td>dogs</td>\n",
       "    </tr>\n",
       "    <tr>\n",
       "      <th>3997</th>\n",
       "      <td>/content/data/cats_and_dogs/dogs/dog.575.jpg</td>\n",
       "      <td>dogs</td>\n",
       "    </tr>\n",
       "    <tr>\n",
       "      <th>3998</th>\n",
       "      <td>/content/data/cats_and_dogs/dogs/dog.577.jpg</td>\n",
       "      <td>dogs</td>\n",
       "    </tr>\n",
       "    <tr>\n",
       "      <th>3999</th>\n",
       "      <td>/content/data/cats_and_dogs/dogs/dog.1948.jpg</td>\n",
       "      <td>dogs</td>\n",
       "    </tr>\n",
       "  </tbody>\n",
       "</table>\n",
       "</div>"
      ],
      "text/plain": [
       "                                               path label\n",
       "3995  /content/data/cats_and_dogs/dogs/dog.1585.jpg  dogs\n",
       "3996  /content/data/cats_and_dogs/dogs/dog.1375.jpg  dogs\n",
       "3997   /content/data/cats_and_dogs/dogs/dog.575.jpg  dogs\n",
       "3998   /content/data/cats_and_dogs/dogs/dog.577.jpg  dogs\n",
       "3999  /content/data/cats_and_dogs/dogs/dog.1948.jpg  dogs"
      ]
     },
     "execution_count": 18,
     "metadata": {
      "tags": []
     },
     "output_type": "execute_result"
    }
   ],
   "source": [
    "data_df.tail()"
   ]
  },
  {
   "cell_type": "code",
   "execution_count": 20,
   "metadata": {
    "colab": {
     "base_uri": "https://localhost:8080/"
    },
    "executionInfo": {
     "elapsed": 749,
     "status": "ok",
     "timestamp": 1619487026922,
     "user": {
      "displayName": "KIM TAEKYUN",
      "photoUrl": "https://lh3.googleusercontent.com/a-/AOh14GiLF5C4fFQDfiq1pEbiM8GO1_TQ5EX9tkNYvrmY8Q=s64",
      "userId": "17041733956875075719"
     },
     "user_tz": -540
    },
    "id": "pt-_mMjOrboH",
    "outputId": "3fdb21b8-5fc3-498c-8b71-352ddbe0651e"
   },
   "outputs": [
    {
     "data": {
      "text/plain": [
       "dogs    2000\n",
       "cats    2000\n",
       "Name: label, dtype: int64"
      ]
     },
     "execution_count": 20,
     "metadata": {
      "tags": []
     },
     "output_type": "execute_result"
    }
   ],
   "source": [
    "data_df['label'].value_counts()"
   ]
  },
  {
   "cell_type": "code",
   "execution_count": 21,
   "metadata": {
    "executionInfo": {
     "elapsed": 813,
     "status": "ok",
     "timestamp": 1619487073213,
     "user": {
      "displayName": "KIM TAEKYUN",
      "photoUrl": "https://lh3.googleusercontent.com/a-/AOh14GiLF5C4fFQDfiq1pEbiM8GO1_TQ5EX9tkNYvrmY8Q=s64",
      "userId": "17041733956875075719"
     },
     "user_tz": -540
    },
    "id": "0aHL8IQcrboH"
   },
   "outputs": [],
   "source": [
    "data_df.to_csv('./data/cats_and_dogs_filelist.csv', encoding='utf-8', index=None)"
   ]
  },
  {
   "cell_type": "code",
   "execution_count": 23,
   "metadata": {
    "executionInfo": {
     "elapsed": 722,
     "status": "ok",
     "timestamp": 1619487167016,
     "user": {
      "displayName": "KIM TAEKYUN",
      "photoUrl": "https://lh3.googleusercontent.com/a-/AOh14GiLF5C4fFQDfiq1pEbiM8GO1_TQ5EX9tkNYvrmY8Q=s64",
      "userId": "17041733956875075719"
     },
     "user_tz": -540
    },
    "id": "PywB1QJirboH"
   },
   "outputs": [],
   "source": [
    "# cats, dogs DataFrame으로 분리\n",
    "cats_df = data_df[data_df['label'] == 'cats']\n",
    "dogs_df = data_df[data_df['label'] == 'dogs']"
   ]
  },
  {
   "cell_type": "code",
   "execution_count": 24,
   "metadata": {
    "colab": {
     "base_uri": "https://localhost:8080/"
    },
    "executionInfo": {
     "elapsed": 731,
     "status": "ok",
     "timestamp": 1619487199084,
     "user": {
      "displayName": "KIM TAEKYUN",
      "photoUrl": "https://lh3.googleusercontent.com/a-/AOh14GiLF5C4fFQDfiq1pEbiM8GO1_TQ5EX9tkNYvrmY8Q=s64",
      "userId": "17041733956875075719"
     },
     "user_tz": -540
    },
    "id": "SuVJEP0CvDis",
    "outputId": "c8d90beb-a20c-430f-8f41-2f1808814592"
   },
   "outputs": [
    {
     "data": {
      "text/plain": [
       "((2000, 2), (2000, 2))"
      ]
     },
     "execution_count": 24,
     "metadata": {
      "tags": []
     },
     "output_type": "execute_result"
    }
   ],
   "source": [
    "cats_df.shape, dogs_df.shape"
   ]
  },
  {
   "cell_type": "code",
   "execution_count": 25,
   "metadata": {
    "executionInfo": {
     "elapsed": 676,
     "status": "ok",
     "timestamp": 1619487484003,
     "user": {
      "displayName": "KIM TAEKYUN",
      "photoUrl": "https://lh3.googleusercontent.com/a-/AOh14GiLF5C4fFQDfiq1pEbiM8GO1_TQ5EX9tkNYvrmY8Q=s64",
      "userId": "17041733956875075719"
     },
     "user_tz": -540
    },
    "id": "Ie5PgPmA9Yq6"
   },
   "outputs": [],
   "source": [
    "# train/test DataFrame 생성 (8 : 2)\n",
    "split_idx = int(dogs_df.shape[0]*0.8)"
   ]
  },
  {
   "cell_type": "code",
   "execution_count": 26,
   "metadata": {
    "colab": {
     "base_uri": "https://localhost:8080/"
    },
    "executionInfo": {
     "elapsed": 1054,
     "status": "ok",
     "timestamp": 1619487581585,
     "user": {
      "displayName": "KIM TAEKYUN",
      "photoUrl": "https://lh3.googleusercontent.com/a-/AOh14GiLF5C4fFQDfiq1pEbiM8GO1_TQ5EX9tkNYvrmY8Q=s64",
      "userId": "17041733956875075719"
     },
     "user_tz": -540
    },
    "id": "cKXK_aFH-eV4",
    "outputId": "9a22fac1-a23f-41e5-9bee-ca3e7c3087f9"
   },
   "outputs": [
    {
     "name": "stdout",
     "output_type": "stream",
     "text": [
      "(3200, 2)\n"
     ]
    },
    {
     "data": {
      "text/plain": [
       "dogs    1600\n",
       "cats    1600\n",
       "Name: label, dtype: int64"
      ]
     },
     "execution_count": 26,
     "metadata": {
      "tags": []
     },
     "output_type": "execute_result"
    }
   ],
   "source": [
    "train_df = pd.concat([dogs_df[:split_idx], cats_df[:split_idx]], axis=0)  # dogs, cats의 0-1599(1600개)를 묶어서 train_df 생성\n",
    "print(train_df.shape)\n",
    "train_df['label'].value_counts()"
   ]
  },
  {
   "cell_type": "code",
   "execution_count": 27,
   "metadata": {
    "colab": {
     "base_uri": "https://localhost:8080/"
    },
    "executionInfo": {
     "elapsed": 678,
     "status": "ok",
     "timestamp": 1619487618769,
     "user": {
      "displayName": "KIM TAEKYUN",
      "photoUrl": "https://lh3.googleusercontent.com/a-/AOh14GiLF5C4fFQDfiq1pEbiM8GO1_TQ5EX9tkNYvrmY8Q=s64",
      "userId": "17041733956875075719"
     },
     "user_tz": -540
    },
    "id": "DUS56zsW-2E7",
    "outputId": "ea32d912-90ad-4673-864f-dbbfbf0d729f"
   },
   "outputs": [
    {
     "name": "stdout",
     "output_type": "stream",
     "text": [
      "(800, 2)\n"
     ]
    },
    {
     "data": {
      "text/plain": [
       "dogs    400\n",
       "cats    400\n",
       "Name: label, dtype: int64"
      ]
     },
     "execution_count": 27,
     "metadata": {
      "tags": []
     },
     "output_type": "execute_result"
    }
   ],
   "source": [
    "test_df = pd.concat([dogs_df[split_idx:], cats_df[split_idx:]], axis=0)\n",
    "print(test_df.shape)\n",
    "test_df['label'].value_counts()"
   ]
  },
  {
   "cell_type": "code",
   "execution_count": 29,
   "metadata": {
    "executionInfo": {
     "elapsed": 752,
     "status": "ok",
     "timestamp": 1619487804145,
     "user": {
      "displayName": "KIM TAEKYUN",
      "photoUrl": "https://lh3.googleusercontent.com/a-/AOh14GiLF5C4fFQDfiq1pEbiM8GO1_TQ5EX9tkNYvrmY8Q=s64",
      "userId": "17041733956875075719"
     },
     "user_tz": -540
    },
    "id": "8sS8kXsh-_P6"
   },
   "outputs": [],
   "source": [
    "from tensorflow.keras.preprocessing.image import ImageDataGenerator\n",
    "\n",
    "train_datagen = ImageDataGenerator(rescale=1./255,\n",
    "                                   rotation_range=40,\n",
    "                                   width_shift_range=0.1,\n",
    "                                   height_shift_range=0.1,\n",
    "                                   zoom_range=0.2,\n",
    "                                   horizontal_flip=True,\n",
    "                                   brightness_range=(0.7, 1.3),\n",
    "                                   fill_mode='constant'\n",
    "                                   )\n",
    "# validation, test 용\n",
    "test_datagen = ImageDataGenerator(rescale=1./255)"
   ]
  },
  {
   "cell_type": "code",
   "execution_count": 35,
   "metadata": {
    "colab": {
     "base_uri": "https://localhost:8080/"
    },
    "executionInfo": {
     "elapsed": 741,
     "status": "ok",
     "timestamp": 1619488165706,
     "user": {
      "displayName": "KIM TAEKYUN",
      "photoUrl": "https://lh3.googleusercontent.com/a-/AOh14GiLF5C4fFQDfiq1pEbiM8GO1_TQ5EX9tkNYvrmY8Q=s64",
      "userId": "17041733956875075719"
     },
     "user_tz": -540
    },
    "id": "prIbQgJs_H1G",
    "outputId": "716ae092-4626-4d2e-8302-fbcba9eff90e"
   },
   "outputs": [
    {
     "name": "stdout",
     "output_type": "stream",
     "text": [
      "Found 3200 validated image filenames belonging to 2 classes.\n",
      "Found 800 validated image filenames belonging to 2 classes.\n"
     ]
    }
   ],
   "source": [
    "train_iterator = train_datagen.flow_from_dataframe(dataframe=train_df,  # path, label을 가진 DataFrame객체를 지정\n",
    "                                                   x_col='path',  # 이미지 경로를 가진 컬럼명\n",
    "                                                   y_col='label',  # label 컬럼명\n",
    "                                                   target_size=(IMAGE_SIZE, IMAGE_SIZE),\n",
    "                                                   class_mode='binary',\n",
    "                                                   batch_size=N_BATCHS\n",
    "                                                  )\n",
    "test_iterator = test_datagen.flow_from_dataframe(dataframe=test_df,\n",
    "                                                 x_col='path',\n",
    "                                                 y_col='label',\n",
    "                                                 target_size=(IMAGE_SIZE, IMAGE_SIZE),\n",
    "                                                 class_mode='binary',\n",
    "                                                 batch_size=N_BATCHS\n",
    "                                                 )"
   ]
  },
  {
   "cell_type": "code",
   "execution_count": 36,
   "metadata": {
    "colab": {
     "base_uri": "https://localhost:8080/"
    },
    "executionInfo": {
     "elapsed": 6072,
     "status": "ok",
     "timestamp": 1619488173428,
     "user": {
      "displayName": "KIM TAEKYUN",
      "photoUrl": "https://lh3.googleusercontent.com/a-/AOh14GiLF5C4fFQDfiq1pEbiM8GO1_TQ5EX9tkNYvrmY8Q=s64",
      "userId": "17041733956875075719"
     },
     "user_tz": -540
    },
    "id": "tmaCripzAuk4",
    "outputId": "8fdbf2c7-8c57-4d2b-bdea-e06eb95aa9e8"
   },
   "outputs": [
    {
     "name": "stdout",
     "output_type": "stream",
     "text": [
      "Model: \"sequential\"\n",
      "_________________________________________________________________\n",
      "Layer (type)                 Output Shape              Param #   \n",
      "=================================================================\n",
      "conv2d (Conv2D)              (None, 150, 150, 64)      1792      \n",
      "_________________________________________________________________\n",
      "max_pooling2d (MaxPooling2D) (None, 75, 75, 64)        0         \n",
      "_________________________________________________________________\n",
      "conv2d_1 (Conv2D)            (None, 75, 75, 128)       73856     \n",
      "_________________________________________________________________\n",
      "max_pooling2d_1 (MaxPooling2 (None, 38, 38, 128)       0         \n",
      "_________________________________________________________________\n",
      "conv2d_2 (Conv2D)            (None, 38, 38, 256)       295168    \n",
      "_________________________________________________________________\n",
      "max_pooling2d_2 (MaxPooling2 (None, 19, 19, 256)       0         \n",
      "_________________________________________________________________\n",
      "flatten (Flatten)            (None, 92416)             0         \n",
      "_________________________________________________________________\n",
      "dropout (Dropout)            (None, 92416)             0         \n",
      "_________________________________________________________________\n",
      "dense (Dense)                (None, 512)               47317504  \n",
      "_________________________________________________________________\n",
      "dense_1 (Dense)              (None, 1)                 513       \n",
      "=================================================================\n",
      "Total params: 47,688,833\n",
      "Trainable params: 47,688,833\n",
      "Non-trainable params: 0\n",
      "_________________________________________________________________\n"
     ]
    }
   ],
   "source": [
    "model = create_model()\n",
    "model.compile(optimizer=keras.optimizers.Adam(learning_rate=LEARNING_RATE),\n",
    "              loss='binary_crossentropy',\n",
    "              metrics=['accuracy']\n",
    "              )\n",
    "model.summary()"
   ]
  },
  {
   "cell_type": "code",
   "execution_count": 37,
   "metadata": {
    "colab": {
     "base_uri": "https://localhost:8080/"
    },
    "executionInfo": {
     "elapsed": 735,
     "status": "ok",
     "timestamp": 1619488200299,
     "user": {
      "displayName": "KIM TAEKYUN",
      "photoUrl": "https://lh3.googleusercontent.com/a-/AOh14GiLF5C4fFQDfiq1pEbiM8GO1_TQ5EX9tkNYvrmY8Q=s64",
      "userId": "17041733956875075719"
     },
     "user_tz": -540
    },
    "id": "6m89_BRgAuiQ",
    "outputId": "3da576a0-8a76-4741-88ca-12838b91e431"
   },
   "outputs": [
    {
     "data": {
      "text/plain": [
       "{'cats': 0, 'dogs': 1}"
      ]
     },
     "execution_count": 37,
     "metadata": {
      "tags": []
     },
     "output_type": "execute_result"
    }
   ],
   "source": [
    "train_iterator.class_indices"
   ]
  },
  {
   "cell_type": "code",
   "execution_count": 39,
   "metadata": {
    "colab": {
     "base_uri": "https://localhost:8080/"
    },
    "executionInfo": {
     "elapsed": 1411443,
     "status": "ok",
     "timestamp": 1619489785305,
     "user": {
      "displayName": "KIM TAEKYUN",
      "photoUrl": "https://lh3.googleusercontent.com/a-/AOh14GiLF5C4fFQDfiq1pEbiM8GO1_TQ5EX9tkNYvrmY8Q=s64",
      "userId": "17041733956875075719"
     },
     "user_tz": -540
    },
    "id": "BPrWr6F7AufY",
    "outputId": "0716ecb9-ea3f-45b8-d359-7eb50386b638"
   },
   "outputs": [
    {
     "name": "stdout",
     "output_type": "stream",
     "text": [
      "Epoch 1/50\n",
      "160/160 [==============================] - 61s 172ms/step - loss: 0.9046 - accuracy: 0.4770 - val_loss: 0.6931 - val_accuracy: 0.5562\n",
      "Epoch 2/50\n",
      "160/160 [==============================] - 27s 171ms/step - loss: 0.6930 - accuracy: 0.4888 - val_loss: 0.6931 - val_accuracy: 0.5000\n",
      "Epoch 3/50\n",
      "160/160 [==============================] - 28s 172ms/step - loss: 0.6931 - accuracy: 0.5009 - val_loss: 0.6924 - val_accuracy: 0.5000\n",
      "Epoch 4/50\n",
      "160/160 [==============================] - 27s 171ms/step - loss: 0.6933 - accuracy: 0.5135 - val_loss: 0.6928 - val_accuracy: 0.5113\n",
      "Epoch 5/50\n",
      "160/160 [==============================] - 27s 170ms/step - loss: 0.6921 - accuracy: 0.5221 - val_loss: 0.6847 - val_accuracy: 0.5625\n",
      "Epoch 6/50\n",
      "160/160 [==============================] - 27s 170ms/step - loss: 0.6907 - accuracy: 0.5215 - val_loss: 0.6857 - val_accuracy: 0.5725\n",
      "Epoch 7/50\n",
      "160/160 [==============================] - 28s 172ms/step - loss: 0.6929 - accuracy: 0.5385 - val_loss: 0.6932 - val_accuracy: 0.5000\n",
      "Epoch 8/50\n",
      "160/160 [==============================] - 27s 171ms/step - loss: 0.6943 - accuracy: 0.4933 - val_loss: 0.6933 - val_accuracy: 0.5000\n",
      "Epoch 9/50\n",
      "160/160 [==============================] - 27s 171ms/step - loss: 0.6929 - accuracy: 0.5120 - val_loss: 0.6931 - val_accuracy: 0.4988\n",
      "Epoch 10/50\n",
      "160/160 [==============================] - 28s 173ms/step - loss: 0.6935 - accuracy: 0.5073 - val_loss: 0.6930 - val_accuracy: 0.4988\n",
      "Epoch 11/50\n",
      "160/160 [==============================] - 29s 179ms/step - loss: 0.6926 - accuracy: 0.5185 - val_loss: 0.6934 - val_accuracy: 0.5000\n",
      "Epoch 12/50\n",
      "160/160 [==============================] - 28s 172ms/step - loss: 0.6941 - accuracy: 0.5046 - val_loss: 0.6929 - val_accuracy: 0.5000\n",
      "Epoch 13/50\n",
      "160/160 [==============================] - 28s 174ms/step - loss: 0.6936 - accuracy: 0.5040 - val_loss: 0.6927 - val_accuracy: 0.5063\n",
      "Epoch 14/50\n",
      "160/160 [==============================] - 28s 172ms/step - loss: 0.6934 - accuracy: 0.4970 - val_loss: 0.6923 - val_accuracy: 0.5150\n",
      "Epoch 15/50\n",
      "160/160 [==============================] - 27s 171ms/step - loss: 0.6922 - accuracy: 0.5064 - val_loss: 0.6910 - val_accuracy: 0.5100\n",
      "Epoch 16/50\n",
      "160/160 [==============================] - 27s 172ms/step - loss: 0.6933 - accuracy: 0.4791 - val_loss: 0.6932 - val_accuracy: 0.5013\n",
      "Epoch 17/50\n",
      "160/160 [==============================] - 27s 170ms/step - loss: 0.6940 - accuracy: 0.4995 - val_loss: 0.6931 - val_accuracy: 0.5000\n",
      "Epoch 18/50\n",
      "160/160 [==============================] - 27s 170ms/step - loss: 0.6932 - accuracy: 0.4975 - val_loss: 0.6931 - val_accuracy: 0.5000\n",
      "Epoch 19/50\n",
      "160/160 [==============================] - 27s 172ms/step - loss: 0.6931 - accuracy: 0.5091 - val_loss: 0.6931 - val_accuracy: 0.5000\n",
      "Epoch 20/50\n",
      "160/160 [==============================] - 27s 171ms/step - loss: 0.6932 - accuracy: 0.4819 - val_loss: 0.6931 - val_accuracy: 0.5013\n",
      "Epoch 21/50\n",
      "160/160 [==============================] - 27s 170ms/step - loss: 0.6932 - accuracy: 0.4923 - val_loss: 0.6931 - val_accuracy: 0.5000\n",
      "Epoch 22/50\n",
      "160/160 [==============================] - 28s 173ms/step - loss: 0.6931 - accuracy: 0.5176 - val_loss: 0.6931 - val_accuracy: 0.5000\n",
      "Epoch 23/50\n",
      "160/160 [==============================] - 27s 170ms/step - loss: 0.6932 - accuracy: 0.4957 - val_loss: 0.6931 - val_accuracy: 0.5000\n",
      "Epoch 24/50\n",
      "160/160 [==============================] - 28s 175ms/step - loss: 0.6932 - accuracy: 0.4866 - val_loss: 0.6931 - val_accuracy: 0.5000\n",
      "Epoch 25/50\n",
      "160/160 [==============================] - 28s 173ms/step - loss: 0.6932 - accuracy: 0.4901 - val_loss: 0.6931 - val_accuracy: 0.5000\n",
      "Epoch 26/50\n",
      "160/160 [==============================] - 28s 172ms/step - loss: 0.6933 - accuracy: 0.5091 - val_loss: 0.6905 - val_accuracy: 0.5625\n",
      "Epoch 27/50\n",
      "160/160 [==============================] - 27s 172ms/step - loss: 0.6951 - accuracy: 0.4961 - val_loss: 0.6929 - val_accuracy: 0.5050\n",
      "Epoch 28/50\n",
      "160/160 [==============================] - 28s 172ms/step - loss: 0.6941 - accuracy: 0.5050 - val_loss: 0.6924 - val_accuracy: 0.5387\n",
      "Epoch 29/50\n",
      "160/160 [==============================] - 27s 171ms/step - loss: 0.6929 - accuracy: 0.5195 - val_loss: 0.6931 - val_accuracy: 0.5000\n",
      "Epoch 30/50\n",
      "160/160 [==============================] - 27s 170ms/step - loss: 0.6933 - accuracy: 0.4883 - val_loss: 0.6931 - val_accuracy: 0.5013\n",
      "Epoch 31/50\n",
      "160/160 [==============================] - 27s 171ms/step - loss: 0.6932 - accuracy: 0.5060 - val_loss: 0.6931 - val_accuracy: 0.5000\n",
      "Epoch 32/50\n",
      "160/160 [==============================] - 27s 171ms/step - loss: 0.6932 - accuracy: 0.4779 - val_loss: 0.6925 - val_accuracy: 0.5138\n",
      "Epoch 33/50\n",
      "160/160 [==============================] - 28s 173ms/step - loss: 0.6971 - accuracy: 0.4947 - val_loss: 0.6932 - val_accuracy: 0.5000\n",
      "Epoch 34/50\n",
      "160/160 [==============================] - 28s 173ms/step - loss: 0.6932 - accuracy: 0.5123 - val_loss: 0.6931 - val_accuracy: 0.5000\n",
      "Epoch 35/50\n",
      "160/160 [==============================] - 28s 172ms/step - loss: 0.6933 - accuracy: 0.4951 - val_loss: 0.6909 - val_accuracy: 0.5675\n",
      "Epoch 36/50\n",
      "160/160 [==============================] - 27s 171ms/step - loss: 0.6932 - accuracy: 0.5070 - val_loss: 0.6882 - val_accuracy: 0.5188\n",
      "Epoch 37/50\n",
      "160/160 [==============================] - 27s 172ms/step - loss: 0.6947 - accuracy: 0.5094 - val_loss: 0.6883 - val_accuracy: 0.5475\n",
      "Epoch 38/50\n",
      "160/160 [==============================] - 28s 172ms/step - loss: 0.6935 - accuracy: 0.5106 - val_loss: 0.6849 - val_accuracy: 0.6275\n",
      "Epoch 39/50\n",
      "160/160 [==============================] - 28s 172ms/step - loss: 0.6960 - accuracy: 0.5071 - val_loss: 0.6854 - val_accuracy: 0.5462\n",
      "Epoch 40/50\n",
      "160/160 [==============================] - 28s 173ms/step - loss: 0.6864 - accuracy: 0.5585 - val_loss: 0.6827 - val_accuracy: 0.5950\n",
      "Epoch 41/50\n",
      "160/160 [==============================] - 28s 173ms/step - loss: 0.6876 - accuracy: 0.5483 - val_loss: 0.6768 - val_accuracy: 0.5612\n",
      "Epoch 42/50\n",
      "160/160 [==============================] - 28s 172ms/step - loss: 0.6820 - accuracy: 0.5683 - val_loss: 0.6649 - val_accuracy: 0.5725\n",
      "Epoch 43/50\n",
      "160/160 [==============================] - 27s 171ms/step - loss: 0.6715 - accuracy: 0.5902 - val_loss: 0.6473 - val_accuracy: 0.6250\n",
      "Epoch 44/50\n",
      "160/160 [==============================] - 27s 171ms/step - loss: 0.6742 - accuracy: 0.5830 - val_loss: 0.6449 - val_accuracy: 0.6175\n",
      "Epoch 45/50\n",
      "160/160 [==============================] - 28s 172ms/step - loss: 0.6596 - accuracy: 0.6149 - val_loss: 0.6492 - val_accuracy: 0.6388\n",
      "Epoch 46/50\n",
      "160/160 [==============================] - 28s 172ms/step - loss: 0.6517 - accuracy: 0.6295 - val_loss: 0.6308 - val_accuracy: 0.6562\n",
      "Epoch 47/50\n",
      "160/160 [==============================] - 28s 172ms/step - loss: 0.6342 - accuracy: 0.6473 - val_loss: 0.5893 - val_accuracy: 0.7075\n",
      "Epoch 48/50\n",
      "160/160 [==============================] - 28s 173ms/step - loss: 0.6272 - accuracy: 0.6423 - val_loss: 0.5751 - val_accuracy: 0.7362\n",
      "Epoch 49/50\n",
      "160/160 [==============================] - 28s 172ms/step - loss: 0.6124 - accuracy: 0.6774 - val_loss: 0.5982 - val_accuracy: 0.6825\n",
      "Epoch 50/50\n",
      "160/160 [==============================] - 28s 172ms/step - loss: 0.5958 - accuracy: 0.6862 - val_loss: 0.6082 - val_accuracy: 0.6800\n"
     ]
    },
    {
     "data": {
      "text/plain": [
       "<tensorflow.python.keras.callbacks.History at 0x7f46c004ded0>"
      ]
     },
     "execution_count": 39,
     "metadata": {
      "tags": []
     },
     "output_type": "execute_result"
    }
   ],
   "source": [
    "model.fit(train_iterator,\n",
    "          epochs=N_EPOCHS,\n",
    "          steps_per_epoch=len(train_iterator),\n",
    "          validation_data=test_iterator,\n",
    "          validation_steps=len(test_iterator),\n",
    "          )"
   ]
  },
  {
   "cell_type": "markdown",
   "metadata": {
    "id": "xDLGWNXsIloT"
   },
   "source": [
    "# 추론"
   ]
  },
  {
   "cell_type": "code",
   "execution_count": 52,
   "metadata": {
    "executionInfo": {
     "elapsed": 821,
     "status": "ok",
     "timestamp": 1619490711914,
     "user": {
      "displayName": "KIM TAEKYUN",
      "photoUrl": "https://lh3.googleusercontent.com/a-/AOh14GiLF5C4fFQDfiq1pEbiM8GO1_TQ5EX9tkNYvrmY8Q=s64",
      "userId": "17041733956875075719"
     },
     "user_tz": -540
    },
    "id": "Lb4coSySAucV"
   },
   "outputs": [],
   "source": [
    "from tensorflow.keras.preprocessing.image import load_img, img_to_array\n",
    "\n",
    "def predict_cat_dog(path):\n",
    "    class_name = ['cat', 'dog']\n",
    "    img = load_img(path, target_size=(IMAGE_SIZE, IMAGE_SIZE))\n",
    "    # image -> ndarray\n",
    "    sample = img_to_array(img)[np.newaxis, ...]\n",
    "    # scaling\n",
    "    sample = sample/255.\n",
    "\n",
    "    pred = model.predict(sample)  # 확률로 뽑아내는 과정\n",
    "    pred = pred[0, 0]\n",
    "    pred_class = np.where(pred < 0.5, 0, 1)\n",
    "    pred_class_name = class_name[pred_class]\n",
    "    return pred, pred_class, pred_class_name"
   ]
  },
  {
   "cell_type": "code",
   "execution_count": 53,
   "metadata": {
    "executionInfo": {
     "elapsed": 1143,
     "status": "ok",
     "timestamp": 1619490712366,
     "user": {
      "displayName": "KIM TAEKYUN",
      "photoUrl": "https://lh3.googleusercontent.com/a-/AOh14GiLF5C4fFQDfiq1pEbiM8GO1_TQ5EX9tkNYvrmY8Q=s64",
      "userId": "17041733956875075719"
     },
     "user_tz": -540
    },
    "id": "Yq__rRJBAuZK"
   },
   "outputs": [],
   "source": [
    "pred, pred_class, pred_class_name = predict_cat_dog('/content/dog.jpg')"
   ]
  },
  {
   "cell_type": "code",
   "execution_count": 55,
   "metadata": {
    "colab": {
     "base_uri": "https://localhost:8080/"
    },
    "executionInfo": {
     "elapsed": 740,
     "status": "ok",
     "timestamp": 1619490718764,
     "user": {
      "displayName": "KIM TAEKYUN",
      "photoUrl": "https://lh3.googleusercontent.com/a-/AOh14GiLF5C4fFQDfiq1pEbiM8GO1_TQ5EX9tkNYvrmY8Q=s64",
      "userId": "17041733956875075719"
     },
     "user_tz": -540
    },
    "id": "na0bVRrpAuVn",
    "outputId": "9ee77b4d-817d-4789-aefa-aef6c141be07"
   },
   "outputs": [
    {
     "data": {
      "text/plain": [
       "(0.4169263, array(0), 'cat')"
      ]
     },
     "execution_count": 55,
     "metadata": {
      "tags": []
     },
     "output_type": "execute_result"
    }
   ],
   "source": [
    "pred, pred_class, pred_class_name"
   ]
  }
 ],
 "metadata": {
  "accelerator": "GPU",
  "colab": {
   "collapsed_sections": [],
   "name": "08_2_CNN_Image Augmentation.ipynb",
   "provenance": [],
   "toc_visible": true
  },
  "kernelspec": {
   "display_name": "Python 3",
   "language": "python",
   "name": "python3"
  },
  "language_info": {
   "codemirror_mode": {
    "name": "ipython",
    "version": 3
   },
   "file_extension": ".py",
   "mimetype": "text/x-python",
   "name": "python",
   "nbconvert_exporter": "python",
   "pygments_lexer": "ipython3",
   "version": "3.6.5"
  },
  "toc": {
   "base_numbering": 1,
   "nav_menu": {},
   "number_sections": false,
   "sideBar": true,
   "skip_h1_title": false,
   "title_cell": "Table of Contents",
   "title_sidebar": "Contents",
   "toc_cell": false,
   "toc_position": {},
   "toc_section_display": true,
   "toc_window_display": false
  },
  "varInspector": {
   "cols": {
    "lenName": 16,
    "lenType": 16,
    "lenVar": 40
   },
   "kernels_config": {
    "python": {
     "delete_cmd_postfix": "",
     "delete_cmd_prefix": "del ",
     "library": "var_list.py",
     "varRefreshCmd": "print(var_dic_list())"
    },
    "r": {
     "delete_cmd_postfix": ") ",
     "delete_cmd_prefix": "rm(",
     "library": "var_list.r",
     "varRefreshCmd": "cat(var_dic_list()) "
    }
   },
   "types_to_exclude": [
    "module",
    "function",
    "builtin_function_or_method",
    "instance",
    "_Feature"
   ],
   "window_display": false
  }
 },
 "nbformat": 4,
 "nbformat_minor": 1
}
