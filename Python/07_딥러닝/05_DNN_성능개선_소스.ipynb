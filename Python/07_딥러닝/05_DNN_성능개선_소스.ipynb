{
 "cells": [
  {
   "cell_type": "code",
   "execution_count": 7,
   "metadata": {
    "executionInfo": {
     "elapsed": 1326,
     "status": "ok",
     "timestamp": 1618984410778,
     "user": {
      "displayName": "KIM TAEKYUN",
      "photoUrl": "https://lh3.googleusercontent.com/a-/AOh14GiLF5C4fFQDfiq1pEbiM8GO1_TQ5EX9tkNYvrmY8Q=s64",
      "userId": "17041733956875075719"
     },
     "user_tz": -540
    },
    "id": "210eQbOpCVOu"
   },
   "outputs": [],
   "source": [
    "import numpy as np\n",
    "import matplotlib.pyplot as plt\n",
    "import tensorflow as tf\n",
    "from tensorflow import keras"
   ]
  },
  {
   "cell_type": "code",
   "execution_count": 8,
   "metadata": {
    "executionInfo": {
     "elapsed": 1288,
     "status": "ok",
     "timestamp": 1618984413153,
     "user": {
      "displayName": "KIM TAEKYUN",
      "photoUrl": "https://lh3.googleusercontent.com/a-/AOh14GiLF5C4fFQDfiq1pEbiM8GO1_TQ5EX9tkNYvrmY8Q=s64",
      "userId": "17041733956875075719"
     },
     "user_tz": -540
    },
    "id": "l61RFv5lCVOw"
   },
   "outputs": [],
   "source": [
    "np.random.seed(1)\n",
    "tf.random.set_seed(1)"
   ]
  },
  {
   "cell_type": "code",
   "execution_count": 9,
   "metadata": {
    "executionInfo": {
     "elapsed": 2159,
     "status": "ok",
     "timestamp": 1618984415656,
     "user": {
      "displayName": "KIM TAEKYUN",
      "photoUrl": "https://lh3.googleusercontent.com/a-/AOh14GiLF5C4fFQDfiq1pEbiM8GO1_TQ5EX9tkNYvrmY8Q=s64",
      "userId": "17041733956875075719"
     },
     "user_tz": -540
    },
    "id": "13MrxlKvCVOx"
   },
   "outputs": [],
   "source": [
    "def plot_result(history, ymin=None, ymax=None):\n",
    "    plt.figure(figsize=(15,5))\n",
    "    plt.subplot(1,2,1)\n",
    "\n",
    "    plt.plot(range(1,N_EPOCHS+1), history.history['loss'], label='train loss')\n",
    "    plt.plot(range(1,N_EPOCHS+1), history.history['val_loss'], label='validation loss')\n",
    "    plt.title('LOSS')\n",
    "    plt.xlabel(\"Epochs\")\n",
    "    plt.ylabel('Loss')\n",
    "    if ymin != None and ymax != None:\n",
    "        plt.ylim(ymin, ymax)\n",
    "    plt.legend()\n",
    "\n",
    "    plt.subplot(1,2,2)\n",
    "    plt.plot(range(1, N_EPOCHS+1), history.history['accuracy'], label='train accuracy')\n",
    "    plt.plot(range(1, N_EPOCHS+1), history.history['val_accuracy'], label='validation accuracy')\n",
    "    plt.title('ACCURACY')\n",
    "    plt.xlabel(\"Epochs\")\n",
    "    plt.ylabel('Accuracy')\n",
    "    if ymin != None and ymax != None:\n",
    "        plt.ylim(ymin, ymax)\n",
    "    plt.legend()\n",
    "\n",
    "    plt.tight_layout()\n",
    "    plt.show()"
   ]
  },
  {
   "cell_type": "code",
   "execution_count": 10,
   "metadata": {
    "executionInfo": {
     "elapsed": 2158,
     "status": "ok",
     "timestamp": 1618984416648,
     "user": {
      "displayName": "KIM TAEKYUN",
      "photoUrl": "https://lh3.googleusercontent.com/a-/AOh14GiLF5C4fFQDfiq1pEbiM8GO1_TQ5EX9tkNYvrmY8Q=s64",
      "userId": "17041733956875075719"
     },
     "user_tz": -540
    },
    "id": "5ksslH_fCVOy"
   },
   "outputs": [],
   "source": [
    "# 하이퍼파라미터\n",
    "LEARNING_RATE = 0.001\n",
    "N_EPOCHS = 20\n",
    "N_BATCHS = 100"
   ]
  },
  {
   "cell_type": "code",
   "execution_count": 11,
   "metadata": {
    "colab": {
     "base_uri": "https://localhost:8080/"
    },
    "executionInfo": {
     "elapsed": 1456,
     "status": "ok",
     "timestamp": 1618984416649,
     "user": {
      "displayName": "KIM TAEKYUN",
      "photoUrl": "https://lh3.googleusercontent.com/a-/AOh14GiLF5C4fFQDfiq1pEbiM8GO1_TQ5EX9tkNYvrmY8Q=s64",
      "userId": "17041733956875075719"
     },
     "user_tz": -540
    },
    "id": "DLw0F-hNCVOy",
    "outputId": "3be0bd11-9fcd-4921-a49d-886710e96de6"
   },
   "outputs": [
    {
     "data": {
      "text/plain": [
       "((60000, 28, 28), (10000, 28, 28))"
      ]
     },
     "execution_count": 11,
     "metadata": {
      "tags": []
     },
     "output_type": "execute_result"
    }
   ],
   "source": [
    "# Data Loading 및 Dataset 생성\n",
    "(train_image, train_label), (test_image, test_label) = keras.datasets.mnist.load_data()\n",
    "train_image.shape, test_image.shape"
   ]
  },
  {
   "cell_type": "code",
   "execution_count": 12,
   "metadata": {
    "executionInfo": {
     "elapsed": 1999,
     "status": "ok",
     "timestamp": 1618984419589,
     "user": {
      "displayName": "KIM TAEKYUN",
      "photoUrl": "https://lh3.googleusercontent.com/a-/AOh14GiLF5C4fFQDfiq1pEbiM8GO1_TQ5EX9tkNYvrmY8Q=s64",
      "userId": "17041733956875075719"
     },
     "user_tz": -540
    },
    "id": "t8La_nIBCVOz"
   },
   "outputs": [],
   "source": [
    "N_TRAIN = train_image.shape[0]\n",
    "N_TEST = test_image.shape[0]\n",
    "IMAGE_SIZE = 28\n",
    "N_CLASS = 10  # mnist의 값들은 총 10개이기 때문"
   ]
  },
  {
   "cell_type": "code",
   "execution_count": 13,
   "metadata": {
    "executionInfo": {
     "elapsed": 3051,
     "status": "ok",
     "timestamp": 1618984420649,
     "user": {
      "displayName": "KIM TAEKYUN",
      "photoUrl": "https://lh3.googleusercontent.com/a-/AOh14GiLF5C4fFQDfiq1pEbiM8GO1_TQ5EX9tkNYvrmY8Q=s64",
      "userId": "17041733956875075719"
     },
     "user_tz": -540
    },
    "id": "H2Kmr1OQCVO0"
   },
   "outputs": [],
   "source": [
    "X_train = train_image/255.\n",
    "X_test = test_image/255.\n",
    "\n",
    "y_train = keras.utils.to_categorical(train_label)\n",
    "y_test = keras.utils.to_categorical(test_label)"
   ]
  },
  {
   "cell_type": "code",
   "execution_count": 14,
   "metadata": {
    "colab": {
     "base_uri": "https://localhost:8080/"
    },
    "executionInfo": {
     "elapsed": 3039,
     "status": "ok",
     "timestamp": 1618984420651,
     "user": {
      "displayName": "KIM TAEKYUN",
      "photoUrl": "https://lh3.googleusercontent.com/a-/AOh14GiLF5C4fFQDfiq1pEbiM8GO1_TQ5EX9tkNYvrmY8Q=s64",
      "userId": "17041733956875075719"
     },
     "user_tz": -540
    },
    "id": "06dnfASNCVO0",
    "outputId": "e70b3927-4bed-4254-bf8e-d5055a652341"
   },
   "outputs": [
    {
     "data": {
      "text/plain": [
       "(5, array([0., 0., 0., 0., 0., 1., 0., 0., 0., 0.], dtype=float32))"
      ]
     },
     "execution_count": 14,
     "metadata": {
      "tags": []
     },
     "output_type": "execute_result"
    }
   ],
   "source": [
    "train_label[0], y_train[0]"
   ]
  },
  {
   "cell_type": "code",
   "execution_count": 15,
   "metadata": {
    "executionInfo": {
     "elapsed": 8343,
     "status": "ok",
     "timestamp": 1618984425971,
     "user": {
      "displayName": "KIM TAEKYUN",
      "photoUrl": "https://lh3.googleusercontent.com/a-/AOh14GiLF5C4fFQDfiq1pEbiM8GO1_TQ5EX9tkNYvrmY8Q=s64",
      "userId": "17041733956875075719"
     },
     "user_tz": -540
    },
    "id": "O_GTCa4zCVO1"
   },
   "outputs": [],
   "source": [
    "# Dataset\n",
    "train_dataset = tf.data.Dataset.from_tensor_slices((X_train, y_train))\\\n",
    "                               .shuffle(N_TRAIN)\\\n",
    "                               .batch(N_BATCHS, drop_remainder=True)\\\n",
    "                               .repeat()\n",
    "val_dataset = tf.data.Dataset.from_tensor_slices((X_test, y_test)).batch(N_BATCHS)"
   ]
  },
  {
   "cell_type": "code",
   "execution_count": 17,
   "metadata": {
    "colab": {
     "base_uri": "https://localhost:8080/"
    },
    "executionInfo": {
     "elapsed": 662,
     "status": "ok",
     "timestamp": 1618985703305,
     "user": {
      "displayName": "KIM TAEKYUN",
      "photoUrl": "https://lh3.googleusercontent.com/a-/AOh14GiLF5C4fFQDfiq1pEbiM8GO1_TQ5EX9tkNYvrmY8Q=s64",
      "userId": "17041733956875075719"
     },
     "user_tz": -540
    },
    "id": "x6NSJ0DpCVO1",
    "outputId": "4fe84d60-8e7e-445c-de15-f894123443b3"
   },
   "outputs": [
    {
     "data": {
      "text/plain": [
       "(600, 100)"
      ]
     },
     "execution_count": 17,
     "metadata": {
      "tags": []
     },
     "output_type": "execute_result"
    }
   ],
   "source": [
    "steps_per_epoch = N_TRAIN // N_BATCHS\n",
    "validation_steps = int(np.ceil(N_TEST / N_BATCHS))\n",
    "steps_per_epoch, validation_steps"
   ]
  },
  {
   "cell_type": "markdown",
   "metadata": {
    "id": "ReJ0SPV4CVO3"
   },
   "source": [
    "# 모델의 크기 변경"
   ]
  },
  {
   "cell_type": "code",
   "execution_count": 13,
   "metadata": {
    "executionInfo": {
     "elapsed": 8345,
     "status": "ok",
     "timestamp": 1618973415361,
     "user": {
      "displayName": "KIM TAEKYUN",
      "photoUrl": "https://lh3.googleusercontent.com/a-/AOh14GiLF5C4fFQDfiq1pEbiM8GO1_TQ5EX9tkNYvrmY8Q=s64",
      "userId": "17041733956875075719"
     },
     "user_tz": -540
    },
    "id": "YG56CtUgCVO4"
   },
   "outputs": [],
   "source": [
    "# 작은 모델 => Layer층, units수가 적은 것\n",
    "def create_model():\n",
    "    model = keras.Sequential()\n",
    "    \n",
    "    # Input Layer\n",
    "    model.add(keras.layers.Input((IMAGE_SIZE, IMAGE_SIZE)))\n",
    "    model.add(keras.layers.Flatten())\n",
    "    \n",
    "    # Hidden Layer\n",
    "    model.add(keras.layers.Dense(8, activation='relu'))\n",
    "    \n",
    "    # Output Layer\n",
    "    model.add(keras.layers.Dense(N_CLASS, activation='softmax'))\n",
    "    \n",
    "    # Compile\n",
    "    model.compile(optimizer=keras.optimizers.Adam(learning_rate=LEARNING_RATE),\n",
    "                  loss='categorical_crossentropy',\n",
    "                  metrics=['accuracy']\n",
    "                 )\n",
    "    \n",
    "    return model"
   ]
  },
  {
   "cell_type": "code",
   "execution_count": 14,
   "metadata": {
    "colab": {
     "base_uri": "https://localhost:8080/"
    },
    "executionInfo": {
     "elapsed": 8338,
     "status": "ok",
     "timestamp": 1618973415362,
     "user": {
      "displayName": "KIM TAEKYUN",
      "photoUrl": "https://lh3.googleusercontent.com/a-/AOh14GiLF5C4fFQDfiq1pEbiM8GO1_TQ5EX9tkNYvrmY8Q=s64",
      "userId": "17041733956875075719"
     },
     "user_tz": -540
    },
    "id": "8MSeghm3CVO4",
    "outputId": "388f54aa-3566-47aa-8860-a02e53e7f79c"
   },
   "outputs": [
    {
     "name": "stdout",
     "output_type": "stream",
     "text": [
      "Model: \"sequential\"\n",
      "_________________________________________________________________\n",
      "Layer (type)                 Output Shape              Param #   \n",
      "=================================================================\n",
      "flatten (Flatten)            (None, 784)               0         \n",
      "_________________________________________________________________\n",
      "dense (Dense)                (None, 8)                 6280      \n",
      "_________________________________________________________________\n",
      "dense_1 (Dense)              (None, 10)                90        \n",
      "=================================================================\n",
      "Total params: 6,370\n",
      "Trainable params: 6,370\n",
      "Non-trainable params: 0\n",
      "_________________________________________________________________\n"
     ]
    }
   ],
   "source": [
    "model = create_model()\n",
    "model.summary()"
   ]
  },
  {
   "cell_type": "code",
   "execution_count": 15,
   "metadata": {
    "colab": {
     "base_uri": "https://localhost:8080/",
     "height": 369
    },
    "executionInfo": {
     "elapsed": 9183,
     "status": "ok",
     "timestamp": 1618973416215,
     "user": {
      "displayName": "KIM TAEKYUN",
      "photoUrl": "https://lh3.googleusercontent.com/a-/AOh14GiLF5C4fFQDfiq1pEbiM8GO1_TQ5EX9tkNYvrmY8Q=s64",
      "userId": "17041733956875075719"
     },
     "user_tz": -540
    },
    "id": "4IGh1tk-PumQ",
    "outputId": "5d0d0323-ca68-42c5-ec80-1d1a96bf8bf9"
   },
   "outputs": [
    {
     "data": {
      "image/png": "[encoded data removed]",
      "text/plain": [
       "<IPython.core.display.Image object>"
      ]
     },
     "execution_count": 15,
     "metadata": {
      "tags": []
     },
     "output_type": "execute_result"
    }
   ],
   "source": [
    "from keras.utils import plot_model\n",
    "plot_model(model)"
   ]
  },
  {
   "cell_type": "code",
   "execution_count": 16,
   "metadata": {
    "colab": {
     "base_uri": "https://localhost:8080/"
    },
    "executionInfo": {
     "elapsed": 47720,
     "status": "ok",
     "timestamp": 1618973454759,
     "user": {
      "displayName": "KIM TAEKYUN",
      "photoUrl": "https://lh3.googleusercontent.com/a-/AOh14GiLF5C4fFQDfiq1pEbiM8GO1_TQ5EX9tkNYvrmY8Q=s64",
      "userId": "17041733956875075719"
     },
     "user_tz": -540
    },
    "id": "biFkgaRcCVO5",
    "outputId": "b1888992-94be-46c8-c500-d9645980ac23"
   },
   "outputs": [
    {
     "name": "stdout",
     "output_type": "stream",
     "text": [
      "Epoch 1/20\n",
      "600/600 [==============================] - 5s 3ms/step - loss: 1.3855 - accuracy: 0.5793 - val_loss: 0.4234 - val_accuracy: 0.8837\n",
      "Epoch 2/20\n",
      "600/600 [==============================] - 2s 3ms/step - loss: 0.4011 - accuracy: 0.8877 - val_loss: 0.3323 - val_accuracy: 0.9096\n",
      "Epoch 3/20\n",
      "600/600 [==============================] - 2s 3ms/step - loss: 0.3259 - accuracy: 0.9069 - val_loss: 0.3055 - val_accuracy: 0.9150\n",
      "Epoch 4/20\n",
      "600/600 [==============================] - 2s 3ms/step - loss: 0.3025 - accuracy: 0.9154 - val_loss: 0.2922 - val_accuracy: 0.9191\n",
      "Epoch 5/20\n",
      "600/600 [==============================] - 2s 3ms/step - loss: 0.2817 - accuracy: 0.9201 - val_loss: 0.2804 - val_accuracy: 0.9227\n",
      "Epoch 6/20\n",
      "600/600 [==============================] - 2s 3ms/step - loss: 0.2820 - accuracy: 0.9208 - val_loss: 0.2761 - val_accuracy: 0.9239\n",
      "Epoch 7/20\n",
      "600/600 [==============================] - 2s 3ms/step - loss: 0.2704 - accuracy: 0.9244 - val_loss: 0.2732 - val_accuracy: 0.9239\n",
      "Epoch 8/20\n",
      "600/600 [==============================] - 2s 3ms/step - loss: 0.2655 - accuracy: 0.9268 - val_loss: 0.2717 - val_accuracy: 0.9231\n",
      "Epoch 9/20\n",
      "600/600 [==============================] - 2s 3ms/step - loss: 0.2604 - accuracy: 0.9270 - val_loss: 0.2640 - val_accuracy: 0.9271\n",
      "Epoch 10/20\n",
      "600/600 [==============================] - 2s 3ms/step - loss: 0.2523 - accuracy: 0.9285 - val_loss: 0.2616 - val_accuracy: 0.9261\n",
      "Epoch 11/20\n",
      "600/600 [==============================] - 2s 3ms/step - loss: 0.2516 - accuracy: 0.9286 - val_loss: 0.2585 - val_accuracy: 0.9282\n",
      "Epoch 12/20\n",
      "600/600 [==============================] - 2s 3ms/step - loss: 0.2420 - accuracy: 0.9318 - val_loss: 0.2596 - val_accuracy: 0.9271\n",
      "Epoch 13/20\n",
      "600/600 [==============================] - 2s 3ms/step - loss: 0.2482 - accuracy: 0.9319 - val_loss: 0.2599 - val_accuracy: 0.9260\n",
      "Epoch 14/20\n",
      "600/600 [==============================] - 2s 3ms/step - loss: 0.2372 - accuracy: 0.9335 - val_loss: 0.2546 - val_accuracy: 0.9277\n",
      "Epoch 15/20\n",
      "600/600 [==============================] - 2s 3ms/step - loss: 0.2331 - accuracy: 0.9348 - val_loss: 0.2593 - val_accuracy: 0.9255\n",
      "Epoch 16/20\n",
      "600/600 [==============================] - 2s 3ms/step - loss: 0.2364 - accuracy: 0.9335 - val_loss: 0.2546 - val_accuracy: 0.9283\n",
      "Epoch 17/20\n",
      "600/600 [==============================] - 2s 3ms/step - loss: 0.2362 - accuracy: 0.9329 - val_loss: 0.2518 - val_accuracy: 0.9285\n",
      "Epoch 18/20\n",
      "600/600 [==============================] - 2s 3ms/step - loss: 0.2276 - accuracy: 0.9369 - val_loss: 0.2521 - val_accuracy: 0.9292\n",
      "Epoch 19/20\n",
      "600/600 [==============================] - 2s 3ms/step - loss: 0.2333 - accuracy: 0.9339 - val_loss: 0.2512 - val_accuracy: 0.9280\n",
      "Epoch 20/20\n",
      "600/600 [==============================] - 2s 3ms/step - loss: 0.2337 - accuracy: 0.9352 - val_loss: 0.2550 - val_accuracy: 0.9278\n"
     ]
    }
   ],
   "source": [
    "# 학습\n",
    "history = model.fit(train_dataset,\n",
    "                    epochs=N_EPOCHS,\n",
    "                    steps_per_epoch=steps_per_epoch,\n",
    "                    validation_data=val_dataset,\n",
    "                    validation_steps=validation_steps\n",
    "                   )"
   ]
  },
  {
   "cell_type": "code",
   "execution_count": 17,
   "metadata": {
    "colab": {
     "base_uri": "https://localhost:8080/",
     "height": 369
    },
    "executionInfo": {
     "elapsed": 48523,
     "status": "ok",
     "timestamp": 1618973455570,
     "user": {
      "displayName": "KIM TAEKYUN",
      "photoUrl": "https://lh3.googleusercontent.com/a-/AOh14GiLF5C4fFQDfiq1pEbiM8GO1_TQ5EX9tkNYvrmY8Q=s64",
      "userId": "17041733956875075719"
     },
     "user_tz": -540
    },
    "id": "hsfW29fwCVO5",
    "outputId": "6e1b1c60-37e4-4a17-8bd8-b9f0aee22123"
   },
   "outputs": [
    {
     "data": {
      "image/png": "[encoded data removed]",
      "text/plain": [
       "<Figure size 1080x360 with 2 Axes>"
      ]
     },
     "metadata": {
      "needs_background": "light",
      "tags": []
     },
     "output_type": "display_data"
    }
   ],
   "source": [
    "plot_result(history)"
   ]
  },
  {
   "cell_type": "code",
   "execution_count": 18,
   "metadata": {
    "executionInfo": {
     "elapsed": 48523,
     "status": "ok",
     "timestamp": 1618973455571,
     "user": {
      "displayName": "KIM TAEKYUN",
      "photoUrl": "https://lh3.googleusercontent.com/a-/AOh14GiLF5C4fFQDfiq1pEbiM8GO1_TQ5EX9tkNYvrmY8Q=s64",
      "userId": "17041733956875075719"
     },
     "user_tz": -540
    },
    "id": "pF_T6A0qCVO6"
   },
   "outputs": [],
   "source": [
    "# 큰 모델\n",
    "# Hidden Layer : 4개 - 256, 256, 128, 128\n",
    "def create_model():\n",
    "    model = keras.Sequential()\n",
    "    \n",
    "    # Input Layer\n",
    "    model.add(keras.layers.Input((IMAGE_SIZE, IMAGE_SIZE)))\n",
    "    model.add(keras.layers.Flatten())\n",
    "    \n",
    "    # Hidden Layer\n",
    "    model.add(keras.layers.Dense(256, activation='relu'))\n",
    "    model.add(keras.layers.Dense(256, activation='relu'))\n",
    "    model.add(keras.layers.Dense(128, activation='relu'))\n",
    "    model.add(keras.layers.Dense(128, activation='relu'))\n",
    "    \n",
    "    # Output Layer\n",
    "    model.add(keras.layers.Dense(N_CLASS, activation='softmax'))\n",
    "    \n",
    "    # Compile\n",
    "    model.compile(optimizer=keras.optimizers.Adam(learning_rate=LEARNING_RATE),\n",
    "                  loss='categorical_crossentropy',\n",
    "                  metrics=['accuracy']\n",
    "                 )\n",
    "    \n",
    "    return model"
   ]
  },
  {
   "cell_type": "code",
   "execution_count": 19,
   "metadata": {
    "colab": {
     "base_uri": "https://localhost:8080/"
    },
    "executionInfo": {
     "elapsed": 48517,
     "status": "ok",
     "timestamp": 1618973455572,
     "user": {
      "displayName": "KIM TAEKYUN",
      "photoUrl": "https://lh3.googleusercontent.com/a-/AOh14GiLF5C4fFQDfiq1pEbiM8GO1_TQ5EX9tkNYvrmY8Q=s64",
      "userId": "17041733956875075719"
     },
     "user_tz": -540
    },
    "id": "f6wX1tY3CVO7",
    "outputId": "3a795b53-ce34-4f90-fb96-aa37a27a2db1"
   },
   "outputs": [
    {
     "name": "stdout",
     "output_type": "stream",
     "text": [
      "Model: \"sequential_1\"\n",
      "_________________________________________________________________\n",
      "Layer (type)                 Output Shape              Param #   \n",
      "=================================================================\n",
      "flatten_1 (Flatten)          (None, 784)               0         \n",
      "_________________________________________________________________\n",
      "dense_2 (Dense)              (None, 256)               200960    \n",
      "_________________________________________________________________\n",
      "dense_3 (Dense)              (None, 256)               65792     \n",
      "_________________________________________________________________\n",
      "dense_4 (Dense)              (None, 128)               32896     \n",
      "_________________________________________________________________\n",
      "dense_5 (Dense)              (None, 128)               16512     \n",
      "_________________________________________________________________\n",
      "dense_6 (Dense)              (None, 10)                1290      \n",
      "=================================================================\n",
      "Total params: 317,450\n",
      "Trainable params: 317,450\n",
      "Non-trainable params: 0\n",
      "_________________________________________________________________\n"
     ]
    }
   ],
   "source": [
    "model = create_model()\n",
    "model.summary()"
   ]
  },
  {
   "cell_type": "code",
   "execution_count": 20,
   "metadata": {
    "colab": {
     "base_uri": "https://localhost:8080/"
    },
    "executionInfo": {
     "elapsed": 100296,
     "status": "ok",
     "timestamp": 1618973507359,
     "user": {
      "displayName": "KIM TAEKYUN",
      "photoUrl": "https://lh3.googleusercontent.com/a-/AOh14GiLF5C4fFQDfiq1pEbiM8GO1_TQ5EX9tkNYvrmY8Q=s64",
      "userId": "17041733956875075719"
     },
     "user_tz": -540
    },
    "id": "tcabdprnCVO7",
    "outputId": "bbc6d142-1184-449d-a5a9-ef151d85e033"
   },
   "outputs": [
    {
     "name": "stdout",
     "output_type": "stream",
     "text": [
      "Epoch 1/20\n",
      "600/600 [==============================] - 3s 4ms/step - loss: 0.4786 - accuracy: 0.8655 - val_loss: 0.1196 - val_accuracy: 0.9617\n",
      "Epoch 2/20\n",
      "600/600 [==============================] - 3s 4ms/step - loss: 0.1000 - accuracy: 0.9685 - val_loss: 0.0855 - val_accuracy: 0.9728\n",
      "Epoch 3/20\n",
      "600/600 [==============================] - 3s 4ms/step - loss: 0.0603 - accuracy: 0.9809 - val_loss: 0.0739 - val_accuracy: 0.9772\n",
      "Epoch 4/20\n",
      "600/600 [==============================] - 3s 4ms/step - loss: 0.0457 - accuracy: 0.9853 - val_loss: 0.0927 - val_accuracy: 0.9742\n",
      "Epoch 5/20\n",
      "600/600 [==============================] - 3s 4ms/step - loss: 0.0404 - accuracy: 0.9858 - val_loss: 0.0852 - val_accuracy: 0.9774\n",
      "Epoch 6/20\n",
      "600/600 [==============================] - 3s 4ms/step - loss: 0.0291 - accuracy: 0.9907 - val_loss: 0.0870 - val_accuracy: 0.9768\n",
      "Epoch 7/20\n",
      "600/600 [==============================] - 3s 4ms/step - loss: 0.0269 - accuracy: 0.9914 - val_loss: 0.0785 - val_accuracy: 0.9806\n",
      "Epoch 8/20\n",
      "600/600 [==============================] - 3s 4ms/step - loss: 0.0238 - accuracy: 0.9926 - val_loss: 0.0790 - val_accuracy: 0.9779\n",
      "Epoch 9/20\n",
      "600/600 [==============================] - 2s 3ms/step - loss: 0.0223 - accuracy: 0.9928 - val_loss: 0.0818 - val_accuracy: 0.9803\n",
      "Epoch 10/20\n",
      "600/600 [==============================] - 3s 4ms/step - loss: 0.0179 - accuracy: 0.9937 - val_loss: 0.0787 - val_accuracy: 0.9807\n",
      "Epoch 11/20\n",
      "600/600 [==============================] - 2s 4ms/step - loss: 0.0171 - accuracy: 0.9943 - val_loss: 0.0830 - val_accuracy: 0.9787\n",
      "Epoch 12/20\n",
      "600/600 [==============================] - 3s 4ms/step - loss: 0.0156 - accuracy: 0.9947 - val_loss: 0.0718 - val_accuracy: 0.9809\n",
      "Epoch 13/20\n",
      "600/600 [==============================] - 3s 4ms/step - loss: 0.0105 - accuracy: 0.9968 - val_loss: 0.0869 - val_accuracy: 0.9806\n",
      "Epoch 14/20\n",
      "600/600 [==============================] - 3s 4ms/step - loss: 0.0120 - accuracy: 0.9962 - val_loss: 0.0855 - val_accuracy: 0.9825\n",
      "Epoch 15/20\n",
      "600/600 [==============================] - 3s 4ms/step - loss: 0.0147 - accuracy: 0.9949 - val_loss: 0.0825 - val_accuracy: 0.9817\n",
      "Epoch 16/20\n",
      "600/600 [==============================] - 3s 4ms/step - loss: 0.0077 - accuracy: 0.9979 - val_loss: 0.0879 - val_accuracy: 0.9790\n",
      "Epoch 17/20\n",
      "600/600 [==============================] - 3s 4ms/step - loss: 0.0106 - accuracy: 0.9969 - val_loss: 0.0950 - val_accuracy: 0.9796\n",
      "Epoch 18/20\n",
      "600/600 [==============================] - 3s 4ms/step - loss: 0.0130 - accuracy: 0.9962 - val_loss: 0.0763 - val_accuracy: 0.9832\n",
      "Epoch 19/20\n",
      "600/600 [==============================] - 3s 4ms/step - loss: 0.0076 - accuracy: 0.9973 - val_loss: 0.0853 - val_accuracy: 0.9812\n",
      "Epoch 20/20\n",
      "600/600 [==============================] - 3s 4ms/step - loss: 0.0089 - accuracy: 0.9976 - val_loss: 0.0939 - val_accuracy: 0.9793\n"
     ]
    }
   ],
   "source": [
    "# 학습\n",
    "history = model.fit(train_dataset,\n",
    "                    epochs=N_EPOCHS,\n",
    "                    steps_per_epoch=steps_per_epoch,\n",
    "                    validation_data=val_dataset,\n",
    "                    validation_steps=validation_steps\n",
    "                   )"
   ]
  },
  {
   "cell_type": "code",
   "execution_count": 21,
   "metadata": {
    "colab": {
     "base_uri": "https://localhost:8080/",
     "height": 369
    },
    "executionInfo": {
     "elapsed": 101032,
     "status": "ok",
     "timestamp": 1618973508102,
     "user": {
      "displayName": "KIM TAEKYUN",
      "photoUrl": "https://lh3.googleusercontent.com/a-/AOh14GiLF5C4fFQDfiq1pEbiM8GO1_TQ5EX9tkNYvrmY8Q=s64",
      "userId": "17041733956875075719"
     },
     "user_tz": -540
    },
    "id": "O89Gbs-9CVO8",
    "outputId": "e5909e4c-43ee-489b-94ca-46838d74127f"
   },
   "outputs": [
    {
     "data": {
      "image/png": "[encoded data removed]",
      "text/plain": [
       "<Figure size 1080x360 with 2 Axes>"
      ]
     },
     "metadata": {
      "needs_background": "light",
      "tags": []
     },
     "output_type": "display_data"
    }
   ],
   "source": [
    "plot_result(history)"
   ]
  },
  {
   "cell_type": "markdown",
   "metadata": {
    "id": "Je63p2PZVe3t"
   },
   "source": [
    "# Dropout 적용\n",
    "- dropout layer는 적용하려는 layer앞에 추가한다.\n",
    "- dropout 비율은 0 ~ 1 사이의 실수로 지정하는데, 보통 0.2 ~ 0.5의 값을 지정한다.\n",
    "- dropout이 적용된 모델을 학습시킬때는 epoch수를 더 늘려준다."
   ]
  },
  {
   "cell_type": "code",
   "execution_count": 23,
   "metadata": {
    "executionInfo": {
     "elapsed": 768,
     "status": "ok",
     "timestamp": 1618973864437,
     "user": {
      "displayName": "KIM TAEKYUN",
      "photoUrl": "https://lh3.googleusercontent.com/a-/AOh14GiLF5C4fFQDfiq1pEbiM8GO1_TQ5EX9tkNYvrmY8Q=s64",
      "userId": "17041733956875075719"
     },
     "user_tz": -540
    },
    "id": "NfL8xPFeV8Qv"
   },
   "outputs": [],
   "source": [
    "DROPOUT_RATE = 0.5\n",
    "\n",
    "def create_dropout_model():\n",
    "    model = keras.Sequential()\n",
    "    \n",
    "    # Input Layer\n",
    "    model.add(keras.layers.Input((IMAGE_SIZE, IMAGE_SIZE)))\n",
    "    model.add(keras.layers.Flatten())\n",
    "    \n",
    "    # Hidden Layer\n",
    "    model.add(keras.layers.Dropout(rate=DROPOUT_RATE))\n",
    "    model.add(keras.layers.Dense(256, activation='relu'))\n",
    "\n",
    "    model.add(keras.layers.Dropout(rate=DROPOUT_RATE))\n",
    "    model.add(keras.layers.Dense(256, activation='relu'))\n",
    "\n",
    "    model.add(keras.layers.Dropout(rate=DROPOUT_RATE))\n",
    "    model.add(keras.layers.Dense(128, activation='relu'))\n",
    "\n",
    "    model.add(keras.layers.Dropout(rate=DROPOUT_RATE))\n",
    "    model.add(keras.layers.Dense(128, activation='relu'))\n",
    "    \n",
    "    # Output Layer\n",
    "    model.add(keras.layers.Dropout(rate=DROPOUT_RATE))\n",
    "    model.add(keras.layers.Dense(N_CLASS, activation='softmax'))\n",
    "    \n",
    "    # Compile\n",
    "    model.compile(optimizer=keras.optimizers.Adam(learning_rate=LEARNING_RATE),\n",
    "                  loss='categorical_crossentropy',\n",
    "                  metrics=['accuracy']\n",
    "                 )\n",
    "    \n",
    "    return model"
   ]
  },
  {
   "cell_type": "code",
   "execution_count": 24,
   "metadata": {
    "colab": {
     "base_uri": "https://localhost:8080/"
    },
    "executionInfo": {
     "elapsed": 708,
     "status": "ok",
     "timestamp": 1618973872718,
     "user": {
      "displayName": "KIM TAEKYUN",
      "photoUrl": "https://lh3.googleusercontent.com/a-/AOh14GiLF5C4fFQDfiq1pEbiM8GO1_TQ5EX9tkNYvrmY8Q=s64",
      "userId": "17041733956875075719"
     },
     "user_tz": -540
    },
    "id": "SSNUb3DBXHWv",
    "outputId": "66b2e76f-375e-45a4-b0b8-84fad96bb0c9"
   },
   "outputs": [
    {
     "name": "stdout",
     "output_type": "stream",
     "text": [
      "Model: \"sequential_2\"\n",
      "_________________________________________________________________\n",
      "Layer (type)                 Output Shape              Param #   \n",
      "=================================================================\n",
      "flatten_2 (Flatten)          (None, 784)               0         \n",
      "_________________________________________________________________\n",
      "dropout (Dropout)            (None, 784)               0         \n",
      "_________________________________________________________________\n",
      "dense_7 (Dense)              (None, 256)               200960    \n",
      "_________________________________________________________________\n",
      "dropout_1 (Dropout)          (None, 256)               0         \n",
      "_________________________________________________________________\n",
      "dense_8 (Dense)              (None, 256)               65792     \n",
      "_________________________________________________________________\n",
      "dropout_2 (Dropout)          (None, 256)               0         \n",
      "_________________________________________________________________\n",
      "dense_9 (Dense)              (None, 128)               32896     \n",
      "_________________________________________________________________\n",
      "dropout_3 (Dropout)          (None, 128)               0         \n",
      "_________________________________________________________________\n",
      "dense_10 (Dense)             (None, 128)               16512     \n",
      "_________________________________________________________________\n",
      "dropout_4 (Dropout)          (None, 128)               0         \n",
      "_________________________________________________________________\n",
      "dense_11 (Dense)             (None, 10)                1290      \n",
      "=================================================================\n",
      "Total params: 317,450\n",
      "Trainable params: 317,450\n",
      "Non-trainable params: 0\n",
      "_________________________________________________________________\n"
     ]
    }
   ],
   "source": [
    "model = create_dropout_model()\n",
    "model.summary()"
   ]
  },
  {
   "cell_type": "code",
   "execution_count": 26,
   "metadata": {
    "colab": {
     "base_uri": "https://localhost:8080/",
     "height": 1000
    },
    "executionInfo": {
     "elapsed": 1297,
     "status": "ok",
     "timestamp": 1618974045662,
     "user": {
      "displayName": "KIM TAEKYUN",
      "photoUrl": "https://lh3.googleusercontent.com/a-/AOh14GiLF5C4fFQDfiq1pEbiM8GO1_TQ5EX9tkNYvrmY8Q=s64",
      "userId": "17041733956875075719"
     },
     "user_tz": -540
    },
    "id": "FN3lTdiiXM9M",
    "outputId": "bb97e53c-f8b5-4d52-bca6-4b2a0938322a"
   },
   "outputs": [
    {
     "data": {
      "image/png": "[encoded data removed]",
      "text/plain": [
       "<IPython.core.display.Image object>"
      ]
     },
     "execution_count": 26,
     "metadata": {
      "tags": []
     },
     "output_type": "execute_result"
    }
   ],
   "source": [
    "plot_model(model, show_shapes=True)"
   ]
  },
  {
   "cell_type": "code",
   "execution_count": 27,
   "metadata": {
    "colab": {
     "base_uri": "https://localhost:8080/"
    },
    "executionInfo": {
     "elapsed": 55123,
     "status": "ok",
     "timestamp": 1618974214489,
     "user": {
      "displayName": "KIM TAEKYUN",
      "photoUrl": "https://lh3.googleusercontent.com/a-/AOh14GiLF5C4fFQDfiq1pEbiM8GO1_TQ5EX9tkNYvrmY8Q=s64",
      "userId": "17041733956875075719"
     },
     "user_tz": -540
    },
    "id": "B0s6zcnNXvqw",
    "outputId": "e6b9b4cd-ab1e-4922-ff34-a5f0bd4853cf"
   },
   "outputs": [
    {
     "name": "stdout",
     "output_type": "stream",
     "text": [
      "Epoch 1/20\n",
      "600/600 [==============================] - 3s 4ms/step - loss: 1.7042 - accuracy: 0.3811 - val_loss: 0.3354 - val_accuracy: 0.9149\n",
      "Epoch 2/20\n",
      "600/600 [==============================] - 3s 4ms/step - loss: 0.6112 - accuracy: 0.8231 - val_loss: 0.2144 - val_accuracy: 0.9419\n",
      "Epoch 3/20\n",
      "600/600 [==============================] - 3s 4ms/step - loss: 0.4670 - accuracy: 0.8696 - val_loss: 0.1708 - val_accuracy: 0.9525\n",
      "Epoch 4/20\n",
      "600/600 [==============================] - 3s 4ms/step - loss: 0.3942 - accuracy: 0.8937 - val_loss: 0.1531 - val_accuracy: 0.9573\n",
      "Epoch 5/20\n",
      "600/600 [==============================] - 3s 4ms/step - loss: 0.3537 - accuracy: 0.9036 - val_loss: 0.1482 - val_accuracy: 0.9571\n",
      "Epoch 6/20\n",
      "600/600 [==============================] - 3s 4ms/step - loss: 0.3471 - accuracy: 0.9064 - val_loss: 0.1299 - val_accuracy: 0.9632\n",
      "Epoch 7/20\n",
      "600/600 [==============================] - 3s 4ms/step - loss: 0.3141 - accuracy: 0.9166 - val_loss: 0.1243 - val_accuracy: 0.9642\n",
      "Epoch 8/20\n",
      "600/600 [==============================] - 3s 4ms/step - loss: 0.3059 - accuracy: 0.9174 - val_loss: 0.1186 - val_accuracy: 0.9678\n",
      "Epoch 9/20\n",
      "600/600 [==============================] - 3s 4ms/step - loss: 0.3042 - accuracy: 0.9181 - val_loss: 0.1202 - val_accuracy: 0.9645\n",
      "Epoch 10/20\n",
      "600/600 [==============================] - 3s 4ms/step - loss: 0.2919 - accuracy: 0.9213 - val_loss: 0.1117 - val_accuracy: 0.9675\n",
      "Epoch 11/20\n",
      "600/600 [==============================] - 3s 4ms/step - loss: 0.2781 - accuracy: 0.9256 - val_loss: 0.1113 - val_accuracy: 0.9681\n",
      "Epoch 12/20\n",
      "600/600 [==============================] - 3s 4ms/step - loss: 0.2796 - accuracy: 0.9250 - val_loss: 0.1127 - val_accuracy: 0.9692\n",
      "Epoch 13/20\n",
      "600/600 [==============================] - 3s 4ms/step - loss: 0.2704 - accuracy: 0.9286 - val_loss: 0.1120 - val_accuracy: 0.9690\n",
      "Epoch 14/20\n",
      "600/600 [==============================] - 3s 4ms/step - loss: 0.2755 - accuracy: 0.9260 - val_loss: 0.1067 - val_accuracy: 0.9697\n",
      "Epoch 15/20\n",
      "600/600 [==============================] - 3s 4ms/step - loss: 0.2636 - accuracy: 0.9284 - val_loss: 0.1060 - val_accuracy: 0.9713\n",
      "Epoch 16/20\n",
      "600/600 [==============================] - 3s 4ms/step - loss: 0.2530 - accuracy: 0.9324 - val_loss: 0.1040 - val_accuracy: 0.9698\n",
      "Epoch 17/20\n",
      "600/600 [==============================] - 3s 4ms/step - loss: 0.2589 - accuracy: 0.9311 - val_loss: 0.0997 - val_accuracy: 0.9738\n",
      "Epoch 18/20\n",
      "600/600 [==============================] - 3s 4ms/step - loss: 0.2400 - accuracy: 0.9342 - val_loss: 0.0990 - val_accuracy: 0.9719\n",
      "Epoch 19/20\n",
      "600/600 [==============================] - 3s 4ms/step - loss: 0.2400 - accuracy: 0.9346 - val_loss: 0.1020 - val_accuracy: 0.9721\n",
      "Epoch 20/20\n",
      "600/600 [==============================] - 3s 4ms/step - loss: 0.2463 - accuracy: 0.9318 - val_loss: 0.0985 - val_accuracy: 0.9718\n"
     ]
    }
   ],
   "source": [
    "history = model.fit(train_dataset,\n",
    "                    epochs=N_EPOCHS,\n",
    "                    steps_per_epoch=steps_per_epoch,\n",
    "                    validation_data=val_dataset,\n",
    "                    validation_steps=validation_steps)"
   ]
  },
  {
   "cell_type": "code",
   "execution_count": 28,
   "metadata": {
    "colab": {
     "base_uri": "https://localhost:8080/",
     "height": 369
    },
    "executionInfo": {
     "elapsed": 1796,
     "status": "ok",
     "timestamp": 1618975030227,
     "user": {
      "displayName": "KIM TAEKYUN",
      "photoUrl": "https://lh3.googleusercontent.com/a-/AOh14GiLF5C4fFQDfiq1pEbiM8GO1_TQ5EX9tkNYvrmY8Q=s64",
      "userId": "17041733956875075719"
     },
     "user_tz": -540
    },
    "id": "JGoeXYOgYTHK",
    "outputId": "3a557877-1131-4b17-902b-1b59e7df19bc"
   },
   "outputs": [
    {
     "data": {
      "image/png": "[encoded data removed]",
      "text/plain": [
       "<Figure size 1080x360 with 2 Axes>"
      ]
     },
     "metadata": {
      "needs_background": "light",
      "tags": []
     },
     "output_type": "display_data"
    }
   ],
   "source": [
    "plot_result(history)"
   ]
  },
  {
   "cell_type": "code",
   "execution_count": 29,
   "metadata": {
    "colab": {
     "base_uri": "https://localhost:8080/"
    },
    "executionInfo": {
     "elapsed": 1170,
     "status": "ok",
     "timestamp": 1618975680470,
     "user": {
      "displayName": "KIM TAEKYUN",
      "photoUrl": "https://lh3.googleusercontent.com/a-/AOh14GiLF5C4fFQDfiq1pEbiM8GO1_TQ5EX9tkNYvrmY8Q=s64",
      "userId": "17041733956875075719"
     },
     "user_tz": -540
    },
    "id": "Wh0X_-tpbnDP",
    "outputId": "2fb8871e-b685-4aa0-885d-f5918add46f5"
   },
   "outputs": [
    {
     "name": "stdout",
     "output_type": "stream",
     "text": [
      "100/100 [==============================] - 0s 2ms/step - loss: 0.0985 - accuracy: 0.9718\n"
     ]
    },
    {
     "data": {
      "text/plain": [
       "[0.0984523594379425, 0.9718000292778015]"
      ]
     },
     "execution_count": 29,
     "metadata": {
      "tags": []
     },
     "output_type": "execute_result"
    }
   ],
   "source": [
    "model.evaluate(val_dataset)"
   ]
  },
  {
   "cell_type": "code",
   "execution_count": 30,
   "metadata": {
    "colab": {
     "base_uri": "https://localhost:8080/"
    },
    "executionInfo": {
     "elapsed": 615,
     "status": "ok",
     "timestamp": 1618975692029,
     "user": {
      "displayName": "KIM TAEKYUN",
      "photoUrl": "https://lh3.googleusercontent.com/a-/AOh14GiLF5C4fFQDfiq1pEbiM8GO1_TQ5EX9tkNYvrmY8Q=s64",
      "userId": "17041733956875075719"
     },
     "user_tz": -540
    },
    "id": "voNqIv9MeGLk",
    "outputId": "96a61e13-7b10-4439-9e9e-58308b508a20"
   },
   "outputs": [
    {
     "data": {
      "text/plain": [
       "(10000, 28, 28)"
      ]
     },
     "execution_count": 30,
     "metadata": {
      "tags": []
     },
     "output_type": "execute_result"
    }
   ],
   "source": [
    "X_test.shape"
   ]
  },
  {
   "cell_type": "code",
   "execution_count": 31,
   "metadata": {
    "colab": {
     "base_uri": "https://localhost:8080/"
    },
    "executionInfo": {
     "elapsed": 854,
     "status": "ok",
     "timestamp": 1618975728274,
     "user": {
      "displayName": "KIM TAEKYUN",
      "photoUrl": "https://lh3.googleusercontent.com/a-/AOh14GiLF5C4fFQDfiq1pEbiM8GO1_TQ5EX9tkNYvrmY8Q=s64",
      "userId": "17041733956875075719"
     },
     "user_tz": -540
    },
    "id": "MpKQc0kPeJDM",
    "outputId": "cfdb353c-03d1-4d30-89f5-bc8e12c8afa1"
   },
   "outputs": [
    {
     "data": {
      "text/plain": [
       "(5, 28, 28)"
      ]
     },
     "execution_count": 31,
     "metadata": {
      "tags": []
     },
     "output_type": "execute_result"
    }
   ],
   "source": [
    "pred_dataset = X_test[:5]\n",
    "pred_dataset.shape"
   ]
  },
  {
   "cell_type": "code",
   "execution_count": 33,
   "metadata": {
    "colab": {
     "base_uri": "https://localhost:8080/"
    },
    "executionInfo": {
     "elapsed": 1438,
     "status": "ok",
     "timestamp": 1618975761601,
     "user": {
      "displayName": "KIM TAEKYUN",
      "photoUrl": "https://lh3.googleusercontent.com/a-/AOh14GiLF5C4fFQDfiq1pEbiM8GO1_TQ5EX9tkNYvrmY8Q=s64",
      "userId": "17041733956875075719"
     },
     "user_tz": -540
    },
    "id": "elyrk8gSeR6K",
    "outputId": "d7af39bb-cd90-46a3-9149-97d37016db1a"
   },
   "outputs": [
    {
     "data": {
      "text/plain": [
       "array([7, 2, 1, 0, 4])"
      ]
     },
     "execution_count": 33,
     "metadata": {
      "tags": []
     },
     "output_type": "execute_result"
    }
   ],
   "source": [
    "pred = model.predict(pred_dataset)\n",
    "np.argmax(pred, axis=-1)"
   ]
  },
  {
   "cell_type": "code",
   "execution_count": 34,
   "metadata": {
    "colab": {
     "base_uri": "https://localhost:8080/"
    },
    "executionInfo": {
     "elapsed": 680,
     "status": "ok",
     "timestamp": 1618975771265,
     "user": {
      "displayName": "KIM TAEKYUN",
      "photoUrl": "https://lh3.googleusercontent.com/a-/AOh14GiLF5C4fFQDfiq1pEbiM8GO1_TQ5EX9tkNYvrmY8Q=s64",
      "userId": "17041733956875075719"
     },
     "user_tz": -540
    },
    "id": "u3VktVOeeUl2",
    "outputId": "06dc846d-c020-4b34-c2d3-3b783f1e5762"
   },
   "outputs": [
    {
     "data": {
      "text/plain": [
       "array([7, 2, 1, 0, 4], dtype=uint8)"
      ]
     },
     "execution_count": 34,
     "metadata": {
      "tags": []
     },
     "output_type": "execute_result"
    }
   ],
   "source": [
    "test_label[:5]\n",
    "# 전부 정답이다."
   ]
  },
  {
   "cell_type": "code",
   "execution_count": null,
   "metadata": {
    "id": "p4JLrpIJeceZ"
   },
   "outputs": [],
   "source": []
  },
  {
   "cell_type": "markdown",
   "metadata": {
    "id": "AKHMigE6EyeJ"
   },
   "source": [
    "# Batch Nomalization"
   ]
  },
  {
   "cell_type": "code",
   "execution_count": 18,
   "metadata": {
    "executionInfo": {
     "elapsed": 681,
     "status": "ok",
     "timestamp": 1618986457391,
     "user": {
      "displayName": "KIM TAEKYUN",
      "photoUrl": "https://lh3.googleusercontent.com/a-/AOh14GiLF5C4fFQDfiq1pEbiM8GO1_TQ5EX9tkNYvrmY8Q=s64",
      "userId": "17041733956875075719"
     },
     "user_tz": -540
    },
    "id": "z-Mid0tPE0ow"
   },
   "outputs": [],
   "source": [
    "def create_BN_model():\n",
    "    model = keras.Sequential()\n",
    "\n",
    "    # Input Layer\n",
    "    model.add(keras.layers.Input((IMAGE_SIZE, IMAGE_SIZE)))\n",
    "    model.add(keras.layers.Flatten())\n",
    "\n",
    "    # Hidden Layer\n",
    "    model.add(keras.layers.Dense(256))  # Fully Connected Layer (Dense Layer)\n",
    "    model.add(keras.layers.BatchNormalization())  # Batch Nomalization\n",
    "    model.add(keras.layers.ReLU())  # Activation Layer\n",
    "\n",
    "    model.add(keras.layers.Dense(256))  # Fully Connected Layer (Dense Layer)\n",
    "    model.add(keras.layers.BatchNormalization())  # Batch Nomalization\n",
    "    model.add(keras.layers.ReLU())  # Activation Layer\n",
    "\n",
    "    model.add(keras.layers.Dense(128))  # Fully Connected Layer (Dense Layer)\n",
    "    model.add(keras.layers.BatchNormalization())  # Batch Nomalization\n",
    "    model.add(keras.layers.ReLU())  # Activation Layer\n",
    "\n",
    "    model.add(keras.layers.Dense(128))  # Fully Connected Layer (Dense Layer)\n",
    "    model.add(keras.layers.BatchNormalization())  # Batch Nomalization\n",
    "    model.add(keras.layers.ReLU())  # Activation Layer\n",
    "\n",
    "    # Output Layer\n",
    "    model.add(keras.layers.Dense(N_CLASS))\n",
    "    model.add(keras.layers.BatchNormalization())\n",
    "    model.add(keras.layers.Softmax())\n",
    "\n",
    "    # Compile\n",
    "    model.compile(optimizer='adam', loss='categorical_crossentropy', metrics=['accuracy'])\n",
    "\n",
    "    return model"
   ]
  },
  {
   "cell_type": "code",
   "execution_count": 19,
   "metadata": {
    "colab": {
     "base_uri": "https://localhost:8080/"
    },
    "executionInfo": {
     "elapsed": 863,
     "status": "ok",
     "timestamp": 1618986480203,
     "user": {
      "displayName": "KIM TAEKYUN",
      "photoUrl": "https://lh3.googleusercontent.com/a-/AOh14GiLF5C4fFQDfiq1pEbiM8GO1_TQ5EX9tkNYvrmY8Q=s64",
      "userId": "17041733956875075719"
     },
     "user_tz": -540
    },
    "id": "Uju4t-uTHNYw",
    "outputId": "011ba6b7-d9a9-4561-8c09-274ecf7dd197"
   },
   "outputs": [
    {
     "name": "stdout",
     "output_type": "stream",
     "text": [
      "Model: \"sequential\"\n",
      "_________________________________________________________________\n",
      "Layer (type)                 Output Shape              Param #   \n",
      "=================================================================\n",
      "flatten (Flatten)            (None, 784)               0         \n",
      "_________________________________________________________________\n",
      "dense (Dense)                (None, 256)               200960    \n",
      "_________________________________________________________________\n",
      "batch_normalization (BatchNo (None, 256)               1024      \n",
      "_________________________________________________________________\n",
      "re_lu (ReLU)                 (None, 256)               0         \n",
      "_________________________________________________________________\n",
      "dense_1 (Dense)              (None, 256)               65792     \n",
      "_________________________________________________________________\n",
      "batch_normalization_1 (Batch (None, 256)               1024      \n",
      "_________________________________________________________________\n",
      "re_lu_1 (ReLU)               (None, 256)               0         \n",
      "_________________________________________________________________\n",
      "dense_2 (Dense)              (None, 128)               32896     \n",
      "_________________________________________________________________\n",
      "batch_normalization_2 (Batch (None, 128)               512       \n",
      "_________________________________________________________________\n",
      "re_lu_2 (ReLU)               (None, 128)               0         \n",
      "_________________________________________________________________\n",
      "dense_3 (Dense)              (None, 128)               16512     \n",
      "_________________________________________________________________\n",
      "batch_normalization_3 (Batch (None, 128)               512       \n",
      "_________________________________________________________________\n",
      "re_lu_3 (ReLU)               (None, 128)               0         \n",
      "_________________________________________________________________\n",
      "dense_4 (Dense)              (None, 10)                1290      \n",
      "_________________________________________________________________\n",
      "batch_normalization_4 (Batch (None, 10)                40        \n",
      "_________________________________________________________________\n",
      "softmax (Softmax)            (None, 10)                0         \n",
      "=================================================================\n",
      "Total params: 320,562\n",
      "Trainable params: 319,006\n",
      "Non-trainable params: 1,556\n",
      "_________________________________________________________________\n"
     ]
    }
   ],
   "source": [
    "model = create_BN_model()\n",
    "model.summary()"
   ]
  },
  {
   "cell_type": "code",
   "execution_count": 20,
   "metadata": {
    "colab": {
     "base_uri": "https://localhost:8080/"
    },
    "executionInfo": {
     "elapsed": 59933,
     "status": "ok",
     "timestamp": 1618986735072,
     "user": {
      "displayName": "KIM TAEKYUN",
      "photoUrl": "https://lh3.googleusercontent.com/a-/AOh14GiLF5C4fFQDfiq1pEbiM8GO1_TQ5EX9tkNYvrmY8Q=s64",
      "userId": "17041733956875075719"
     },
     "user_tz": -540
    },
    "id": "r4G-9YxmHS6m",
    "outputId": "e3a1c710-c637-4df6-8acc-a94b454e912a"
   },
   "outputs": [
    {
     "name": "stdout",
     "output_type": "stream",
     "text": [
      "Epoch 1/20\n",
      "600/600 [==============================] - 7s 5ms/step - loss: 0.6004 - accuracy: 0.8829 - val_loss: 0.1898 - val_accuracy: 0.9686\n",
      "Epoch 2/20\n",
      "600/600 [==============================] - 3s 4ms/step - loss: 0.1766 - accuracy: 0.9729 - val_loss: 0.1306 - val_accuracy: 0.9737\n",
      "Epoch 3/20\n",
      "600/600 [==============================] - 3s 4ms/step - loss: 0.1090 - accuracy: 0.9800 - val_loss: 0.1017 - val_accuracy: 0.9751\n",
      "Epoch 4/20\n",
      "600/600 [==============================] - 3s 4ms/step - loss: 0.0757 - accuracy: 0.9846 - val_loss: 0.0780 - val_accuracy: 0.9795\n",
      "Epoch 5/20\n",
      "600/600 [==============================] - 3s 4ms/step - loss: 0.0533 - accuracy: 0.9891 - val_loss: 0.0669 - val_accuracy: 0.9818\n",
      "Epoch 6/20\n",
      "600/600 [==============================] - 3s 4ms/step - loss: 0.0445 - accuracy: 0.9902 - val_loss: 0.0754 - val_accuracy: 0.9791\n",
      "Epoch 7/20\n",
      "600/600 [==============================] - 3s 4ms/step - loss: 0.0401 - accuracy: 0.9903 - val_loss: 0.0644 - val_accuracy: 0.9813\n",
      "Epoch 8/20\n",
      "600/600 [==============================] - 3s 4ms/step - loss: 0.0301 - accuracy: 0.9929 - val_loss: 0.0652 - val_accuracy: 0.9821\n",
      "Epoch 9/20\n",
      "600/600 [==============================] - 3s 4ms/step - loss: 0.0278 - accuracy: 0.9927 - val_loss: 0.0655 - val_accuracy: 0.9811\n",
      "Epoch 10/20\n",
      "600/600 [==============================] - 3s 4ms/step - loss: 0.0259 - accuracy: 0.9931 - val_loss: 0.0664 - val_accuracy: 0.9824\n",
      "Epoch 11/20\n",
      "600/600 [==============================] - 3s 4ms/step - loss: 0.0204 - accuracy: 0.9948 - val_loss: 0.0751 - val_accuracy: 0.9804\n",
      "Epoch 12/20\n",
      "600/600 [==============================] - 3s 4ms/step - loss: 0.0184 - accuracy: 0.9952 - val_loss: 0.0695 - val_accuracy: 0.9819\n",
      "Epoch 13/20\n",
      "600/600 [==============================] - 3s 4ms/step - loss: 0.0168 - accuracy: 0.9954 - val_loss: 0.0625 - val_accuracy: 0.9830\n",
      "Epoch 14/20\n",
      "600/600 [==============================] - 3s 4ms/step - loss: 0.0156 - accuracy: 0.9961 - val_loss: 0.0697 - val_accuracy: 0.9803\n",
      "Epoch 15/20\n",
      "600/600 [==============================] - 3s 4ms/step - loss: 0.0166 - accuracy: 0.9955 - val_loss: 0.0648 - val_accuracy: 0.9829\n",
      "Epoch 16/20\n",
      "600/600 [==============================] - 3s 4ms/step - loss: 0.0110 - accuracy: 0.9969 - val_loss: 0.0725 - val_accuracy: 0.9815\n",
      "Epoch 17/20\n",
      "600/600 [==============================] - 3s 4ms/step - loss: 0.0128 - accuracy: 0.9966 - val_loss: 0.0684 - val_accuracy: 0.9818\n",
      "Epoch 18/20\n",
      "600/600 [==============================] - 3s 4ms/step - loss: 0.0111 - accuracy: 0.9967 - val_loss: 0.0690 - val_accuracy: 0.9817\n",
      "Epoch 19/20\n",
      "600/600 [==============================] - 3s 4ms/step - loss: 0.0101 - accuracy: 0.9973 - val_loss: 0.0700 - val_accuracy: 0.9818\n",
      "Epoch 20/20\n",
      "600/600 [==============================] - 3s 4ms/step - loss: 0.0124 - accuracy: 0.9966 - val_loss: 0.0633 - val_accuracy: 0.9834\n"
     ]
    }
   ],
   "source": [
    "history = model.fit(train_dataset,\n",
    "                    epochs=N_EPOCHS,\n",
    "                    steps_per_epoch=steps_per_epoch,\n",
    "                    validation_data=val_dataset,\n",
    "                    validation_steps=validation_steps)"
   ]
  },
  {
   "cell_type": "code",
   "execution_count": 22,
   "metadata": {
    "colab": {
     "base_uri": "https://localhost:8080/",
     "height": 369
    },
    "executionInfo": {
     "elapsed": 1558,
     "status": "ok",
     "timestamp": 1618986790877,
     "user": {
      "displayName": "KIM TAEKYUN",
      "photoUrl": "https://lh3.googleusercontent.com/a-/AOh14GiLF5C4fFQDfiq1pEbiM8GO1_TQ5EX9tkNYvrmY8Q=s64",
      "userId": "17041733956875075719"
     },
     "user_tz": -540
    },
    "id": "TFtVk4NQICt2",
    "outputId": "a67eeaa7-5be8-4f30-d017-ac2073be9a46"
   },
   "outputs": [
    {
     "data": {
      "image/png": "[encoded data removed]",
      "text/plain": [
       "<Figure size 1080x360 with 2 Axes>"
      ]
     },
     "metadata": {
      "needs_background": "light",
      "tags": []
     },
     "output_type": "display_data"
    }
   ],
   "source": [
    "plot_result(history)"
   ]
  },
  {
   "cell_type": "markdown",
   "metadata": {
    "id": "HqzGeckZMFJc"
   },
   "source": [
    "# 학습률 조절"
   ]
  },
  {
   "cell_type": "code",
   "execution_count": 26,
   "metadata": {
    "executionInfo": {
     "elapsed": 1143,
     "status": "ok",
     "timestamp": 1618989555453,
     "user": {
      "displayName": "KIM TAEKYUN",
      "photoUrl": "https://lh3.googleusercontent.com/a-/AOh14GiLF5C4fFQDfiq1pEbiM8GO1_TQ5EX9tkNYvrmY8Q=s64",
      "userId": "17041733956875075719"
     },
     "user_tz": -540
    },
    "id": "6upBVk17Ibzj"
   },
   "outputs": [],
   "source": [
    "LEARNING_RATE = 0.001\n",
    "N_EPOCHS = 30\n",
    "\n",
    "def create_model():\n",
    "    model = keras.Sequential()\n",
    "    # Input Layer\n",
    "    model.add(keras.layers.Input((IMAGE_SIZE, IMAGE_SIZE)))\n",
    "    model.add(keras.layers.Flatten())\n",
    "\n",
    "    # Hiddon Layer\n",
    "    model.add(keras.layers.Dense(256, activation='relu'))\n",
    "    model.add(keras.layers.Dense(128, activation='relu'))\n",
    "    model.add(keras.layers.Dense(128, activation='relu'))\n",
    "\n",
    "    # Output Layer\n",
    "    model.add(keras.layers.Dense(N_CLASS, activation='softmax'))\n",
    "\n",
    "    return model"
   ]
  },
  {
   "cell_type": "markdown",
   "metadata": {
    "id": "J3de5jVnM_ln"
   },
   "source": [
    "## ExponentialDecay를 사용\n",
    "- 일정한 step마다 일정한 비율로 학습률을 변경(줄여준다.)"
   ]
  },
  {
   "cell_type": "code",
   "execution_count": 27,
   "metadata": {
    "executionInfo": {
     "elapsed": 999,
     "status": "ok",
     "timestamp": 1618989559032,
     "user": {
      "displayName": "KIM TAEKYUN",
      "photoUrl": "https://lh3.googleusercontent.com/a-/AOh14GiLF5C4fFQDfiq1pEbiM8GO1_TQ5EX9tkNYvrmY8Q=s64",
      "userId": "17041733956875075719"
     },
     "user_tz": -540
    },
    "id": "tpYvTEUkMu4x"
   },
   "outputs": [],
   "source": [
    "lr_scheduler = keras.optimizers.schedules.ExponentialDecay(\n",
    "                                          initial_learning_rate=LEARNING_RATE,  # 시작 학습률\n",
    "                                          decay_steps=steps_per_epoch*10,  # 학습률을 몇 step마다 변경시킬 것인지, 10 epoch마다 변경\n",
    "                                          decay_rate=0.5,  # 학습률의 변화율. (기존학습률 * 지정한 값)\n",
    "                                          staircase=True,  # True: 매 스텝마다 조금씩 변경, False: 한번에 변경\n",
    ")\n",
    "# optimizer의 학습률 대신 lr_scheduler를 설정"
   ]
  },
  {
   "cell_type": "code",
   "execution_count": 28,
   "metadata": {
    "executionInfo": {
     "elapsed": 531,
     "status": "ok",
     "timestamp": 1618989560214,
     "user": {
      "displayName": "KIM TAEKYUN",
      "photoUrl": "https://lh3.googleusercontent.com/a-/AOh14GiLF5C4fFQDfiq1pEbiM8GO1_TQ5EX9tkNYvrmY8Q=s64",
      "userId": "17041733956875075719"
     },
     "user_tz": -540
    },
    "id": "KNEM39lRQFxn"
   },
   "outputs": [],
   "source": [
    "model = create_model()"
   ]
  },
  {
   "cell_type": "code",
   "execution_count": 29,
   "metadata": {
    "executionInfo": {
     "elapsed": 1120,
     "status": "ok",
     "timestamp": 1618989632046,
     "user": {
      "displayName": "KIM TAEKYUN",
      "photoUrl": "https://lh3.googleusercontent.com/a-/AOh14GiLF5C4fFQDfiq1pEbiM8GO1_TQ5EX9tkNYvrmY8Q=s64",
      "userId": "17041733956875075719"
     },
     "user_tz": -540
    },
    "id": "tmxe25IzS5zn"
   },
   "outputs": [],
   "source": [
    "model.compile(optimizer=keras.optimizers.Adam(learning_rate=lr_scheduler), \n",
    "              loss='categorical_crossentropy', metrics=['accuracy'])"
   ]
  },
  {
   "cell_type": "code",
   "execution_count": 30,
   "metadata": {
    "colab": {
     "base_uri": "https://localhost:8080/"
    },
    "executionInfo": {
     "elapsed": 64594,
     "status": "ok",
     "timestamp": 1618989779283,
     "user": {
      "displayName": "KIM TAEKYUN",
      "photoUrl": "https://lh3.googleusercontent.com/a-/AOh14GiLF5C4fFQDfiq1pEbiM8GO1_TQ5EX9tkNYvrmY8Q=s64",
      "userId": "17041733956875075719"
     },
     "user_tz": -540
    },
    "id": "7pgKw8L5TUWA",
    "outputId": "e278664e-ca8b-4d06-d581-731a7784d6ed"
   },
   "outputs": [
    {
     "name": "stdout",
     "output_type": "stream",
     "text": [
      "Epoch 1/30\n",
      "600/600 [==============================] - 3s 4ms/step - loss: 0.4789 - accuracy: 0.8626 - val_loss: 0.1143 - val_accuracy: 0.9645\n",
      "Epoch 2/30\n",
      "600/600 [==============================] - 3s 4ms/step - loss: 0.1001 - accuracy: 0.9687 - val_loss: 0.0907 - val_accuracy: 0.9715\n",
      "Epoch 3/30\n",
      "600/600 [==============================] - 3s 4ms/step - loss: 0.0619 - accuracy: 0.9810 - val_loss: 0.0806 - val_accuracy: 0.9752\n",
      "Epoch 4/30\n",
      "600/600 [==============================] - 2s 3ms/step - loss: 0.0447 - accuracy: 0.9855 - val_loss: 0.0834 - val_accuracy: 0.9750\n",
      "Epoch 5/30\n",
      "600/600 [==============================] - 2s 3ms/step - loss: 0.0352 - accuracy: 0.9889 - val_loss: 0.0836 - val_accuracy: 0.9753\n",
      "Epoch 6/30\n",
      "600/600 [==============================] - 2s 3ms/step - loss: 0.0272 - accuracy: 0.9915 - val_loss: 0.0845 - val_accuracy: 0.9748\n",
      "Epoch 7/30\n",
      "600/600 [==============================] - 2s 3ms/step - loss: 0.0236 - accuracy: 0.9921 - val_loss: 0.0764 - val_accuracy: 0.9796\n",
      "Epoch 8/30\n",
      "600/600 [==============================] - 2s 3ms/step - loss: 0.0199 - accuracy: 0.9932 - val_loss: 0.0818 - val_accuracy: 0.9775\n",
      "Epoch 9/30\n",
      "600/600 [==============================] - 2s 3ms/step - loss: 0.0177 - accuracy: 0.9943 - val_loss: 0.0948 - val_accuracy: 0.9778\n",
      "Epoch 10/30\n",
      "600/600 [==============================] - 2s 3ms/step - loss: 0.0180 - accuracy: 0.9938 - val_loss: 0.0907 - val_accuracy: 0.9791\n",
      "Epoch 11/30\n",
      "600/600 [==============================] - 2s 3ms/step - loss: 0.0065 - accuracy: 0.9977 - val_loss: 0.0758 - val_accuracy: 0.9825\n",
      "Epoch 12/30\n",
      "600/600 [==============================] - 2s 3ms/step - loss: 0.0018 - accuracy: 0.9996 - val_loss: 0.0719 - val_accuracy: 0.9850\n",
      "Epoch 13/30\n",
      "600/600 [==============================] - 2s 3ms/step - loss: 0.0012 - accuracy: 0.9997 - val_loss: 0.0811 - val_accuracy: 0.9834\n",
      "Epoch 14/30\n",
      "600/600 [==============================] - 2s 3ms/step - loss: 0.0036 - accuracy: 0.9989 - val_loss: 0.0897 - val_accuracy: 0.9825\n",
      "Epoch 15/30\n",
      "600/600 [==============================] - 2s 3ms/step - loss: 0.0056 - accuracy: 0.9982 - val_loss: 0.0888 - val_accuracy: 0.9820\n",
      "Epoch 16/30\n",
      "600/600 [==============================] - 2s 3ms/step - loss: 0.0029 - accuracy: 0.9991 - val_loss: 0.0935 - val_accuracy: 0.9815\n",
      "Epoch 17/30\n",
      "600/600 [==============================] - 2s 3ms/step - loss: 0.0038 - accuracy: 0.9988 - val_loss: 0.1038 - val_accuracy: 0.9814\n",
      "Epoch 18/30\n",
      "600/600 [==============================] - 2s 3ms/step - loss: 0.0057 - accuracy: 0.9985 - val_loss: 0.0959 - val_accuracy: 0.9827\n",
      "Epoch 19/30\n",
      "600/600 [==============================] - 2s 3ms/step - loss: 0.0020 - accuracy: 0.9993 - val_loss: 0.1017 - val_accuracy: 0.9824\n",
      "Epoch 20/30\n",
      "600/600 [==============================] - 2s 3ms/step - loss: 0.0047 - accuracy: 0.9985 - val_loss: 0.0924 - val_accuracy: 0.9825\n",
      "Epoch 21/30\n",
      "600/600 [==============================] - 2s 3ms/step - loss: 6.6520e-04 - accuracy: 0.9999 - val_loss: 0.0868 - val_accuracy: 0.9837\n",
      "Epoch 22/30\n",
      "600/600 [==============================] - 2s 3ms/step - loss: 1.6804e-04 - accuracy: 1.0000 - val_loss: 0.0866 - val_accuracy: 0.9848\n",
      "Epoch 23/30\n",
      "600/600 [==============================] - 2s 3ms/step - loss: 7.2989e-05 - accuracy: 1.0000 - val_loss: 0.0879 - val_accuracy: 0.9847\n",
      "Epoch 24/30\n",
      "600/600 [==============================] - 2s 3ms/step - loss: 5.2733e-05 - accuracy: 1.0000 - val_loss: 0.0895 - val_accuracy: 0.9849\n",
      "Epoch 25/30\n",
      "600/600 [==============================] - 2s 3ms/step - loss: 4.3183e-05 - accuracy: 1.0000 - val_loss: 0.0909 - val_accuracy: 0.9852\n",
      "Epoch 26/30\n",
      "600/600 [==============================] - 2s 3ms/step - loss: 3.2878e-05 - accuracy: 1.0000 - val_loss: 0.0928 - val_accuracy: 0.9850\n",
      "Epoch 27/30\n",
      "600/600 [==============================] - 2s 3ms/step - loss: 2.5221e-05 - accuracy: 1.0000 - val_loss: 0.0945 - val_accuracy: 0.9854\n",
      "Epoch 28/30\n",
      "600/600 [==============================] - 2s 3ms/step - loss: 1.7456e-05 - accuracy: 1.0000 - val_loss: 0.0965 - val_accuracy: 0.9852\n",
      "Epoch 29/30\n",
      "600/600 [==============================] - 2s 3ms/step - loss: 1.5034e-05 - accuracy: 1.0000 - val_loss: 0.0980 - val_accuracy: 0.9852\n",
      "Epoch 30/30\n",
      "600/600 [==============================] - 2s 3ms/step - loss: 1.0862e-05 - accuracy: 1.0000 - val_loss: 0.1002 - val_accuracy: 0.9851\n"
     ]
    }
   ],
   "source": [
    "history = model.fit(train_dataset,\n",
    "                    epochs=N_EPOCHS,\n",
    "                    steps_per_epoch=steps_per_epoch,\n",
    "                    validation_data=val_dataset,\n",
    "                    validation_steps=validation_steps)"
   ]
  },
  {
   "cell_type": "markdown",
   "metadata": {
    "id": "OM84qOMHUoM_"
   },
   "source": [
    "# Learning Rate 조절과 관련 callback 사용\n",
    "- Callback: 학습 도중 특정 이벤트(변화)가 발생하면 호출되는 기능\n",
    "\n",
    "## ReduceLROnPlateau callback\n",
    "- patience epoch 동안 monitor에 지정한 지표가 향상되지 않으면 현재 learning_rate에 factor(0 ~ 1 실수)를 곱해서 learning_rate를 조정한다.\n"
   ]
  },
  {
   "cell_type": "code",
   "execution_count": 32,
   "metadata": {
    "executionInfo": {
     "elapsed": 725,
     "status": "ok",
     "timestamp": 1618990726537,
     "user": {
      "displayName": "KIM TAEKYUN",
      "photoUrl": "https://lh3.googleusercontent.com/a-/AOh14GiLF5C4fFQDfiq1pEbiM8GO1_TQ5EX9tkNYvrmY8Q=s64",
      "userId": "17041733956875075719"
     },
     "user_tz": -540
    },
    "id": "CjP6So2ZToyw"
   },
   "outputs": [],
   "source": [
    "model = create_model()\n",
    "model.compile(optimizer=keras.optimizers.Adam(learning_rate=LEARNING_RATE),\n",
    "              loss='categorical_crossentropy',\n",
    "              metrics=['accuracy'])"
   ]
  },
  {
   "cell_type": "code",
   "execution_count": 34,
   "metadata": {
    "colab": {
     "base_uri": "https://localhost:8080/"
    },
    "executionInfo": {
     "elapsed": 82547,
     "status": "ok",
     "timestamp": 1618991214961,
     "user": {
      "displayName": "KIM TAEKYUN",
      "photoUrl": "https://lh3.googleusercontent.com/a-/AOh14GiLF5C4fFQDfiq1pEbiM8GO1_TQ5EX9tkNYvrmY8Q=s64",
      "userId": "17041733956875075719"
     },
     "user_tz": -540
    },
    "id": "dN8X0LiiXXTe",
    "outputId": "647f4276-2e0f-4d21-8c7e-44fa1cd0e333"
   },
   "outputs": [
    {
     "name": "stdout",
     "output_type": "stream",
     "text": [
      "Epoch 1/30\n",
      "600/600 [==============================] - 3s 4ms/step - loss: 0.4813 - accuracy: 0.8580 - val_loss: 0.1346 - val_accuracy: 0.9614\n",
      "Epoch 2/30\n",
      "600/600 [==============================] - 3s 4ms/step - loss: 0.1040 - accuracy: 0.9684 - val_loss: 0.0954 - val_accuracy: 0.9713\n",
      "Epoch 3/30\n",
      "600/600 [==============================] - 3s 4ms/step - loss: 0.0642 - accuracy: 0.9802 - val_loss: 0.0823 - val_accuracy: 0.9738\n",
      "Epoch 4/30\n",
      "600/600 [==============================] - 3s 4ms/step - loss: 0.0457 - accuracy: 0.9852 - val_loss: 0.0916 - val_accuracy: 0.9732\n",
      "Epoch 5/30\n",
      "600/600 [==============================] - 3s 4ms/step - loss: 0.0363 - accuracy: 0.9879 - val_loss: 0.0710 - val_accuracy: 0.9781\n",
      "Epoch 6/30\n",
      "600/600 [==============================] - 3s 4ms/step - loss: 0.0267 - accuracy: 0.9912 - val_loss: 0.0758 - val_accuracy: 0.9784\n",
      "Epoch 7/30\n",
      "600/600 [==============================] - 3s 4ms/step - loss: 0.0240 - accuracy: 0.9915 - val_loss: 0.1110 - val_accuracy: 0.9676\n",
      "Epoch 8/30\n",
      "600/600 [==============================] - 3s 4ms/step - loss: 0.0196 - accuracy: 0.9939 - val_loss: 0.0729 - val_accuracy: 0.9805\n",
      "Epoch 9/30\n",
      "600/600 [==============================] - 3s 4ms/step - loss: 0.0162 - accuracy: 0.9950 - val_loss: 0.1032 - val_accuracy: 0.9769\n",
      "Epoch 10/30\n",
      "600/600 [==============================] - 3s 4ms/step - loss: 0.0160 - accuracy: 0.9948 - val_loss: 0.0932 - val_accuracy: 0.9769\n",
      "Epoch 11/30\n",
      "600/600 [==============================] - 3s 4ms/step - loss: 0.0159 - accuracy: 0.9945 - val_loss: 0.0961 - val_accuracy: 0.9759\n",
      "Epoch 12/30\n",
      "600/600 [==============================] - 3s 4ms/step - loss: 0.0186 - accuracy: 0.9942 - val_loss: 0.0804 - val_accuracy: 0.9796\n",
      "Epoch 13/30\n",
      "600/600 [==============================] - 3s 4ms/step - loss: 0.0087 - accuracy: 0.9971 - val_loss: 0.0931 - val_accuracy: 0.9797\n",
      "Epoch 14/30\n",
      "600/600 [==============================] - 3s 4ms/step - loss: 0.0108 - accuracy: 0.9964 - val_loss: 0.0937 - val_accuracy: 0.9793\n",
      "Epoch 15/30\n",
      "600/600 [==============================] - 3s 4ms/step - loss: 0.0125 - accuracy: 0.9960 - val_loss: 0.1058 - val_accuracy: 0.9751\n",
      "\n",
      "Epoch 00015: ReduceLROnPlateau reducing learning rate to 0.0005000000237487257.\n",
      "Epoch 16/30\n",
      "600/600 [==============================] - 3s 4ms/step - loss: 0.0044 - accuracy: 0.9985 - val_loss: 0.0772 - val_accuracy: 0.9843\n",
      "Epoch 17/30\n",
      "600/600 [==============================] - 3s 4ms/step - loss: 5.8191e-04 - accuracy: 0.9999 - val_loss: 0.0796 - val_accuracy: 0.9841\n",
      "Epoch 18/30\n",
      "600/600 [==============================] - 3s 4ms/step - loss: 1.9477e-04 - accuracy: 1.0000 - val_loss: 0.0817 - val_accuracy: 0.9846\n",
      "Epoch 19/30\n",
      "600/600 [==============================] - 3s 4ms/step - loss: 2.0691e-04 - accuracy: 1.0000 - val_loss: 0.0971 - val_accuracy: 0.9829\n",
      "Epoch 20/30\n",
      "600/600 [==============================] - 3s 4ms/step - loss: 0.0048 - accuracy: 0.9983 - val_loss: 0.0970 - val_accuracy: 0.9818\n",
      "Epoch 21/30\n",
      "600/600 [==============================] - 3s 4ms/step - loss: 0.0035 - accuracy: 0.9987 - val_loss: 0.0979 - val_accuracy: 0.9820\n",
      "Epoch 22/30\n",
      "600/600 [==============================] - 3s 4ms/step - loss: 0.0014 - accuracy: 0.9996 - val_loss: 0.0884 - val_accuracy: 0.9843\n",
      "Epoch 23/30\n",
      "600/600 [==============================] - 3s 4ms/step - loss: 5.5609e-04 - accuracy: 0.9999 - val_loss: 0.1107 - val_accuracy: 0.9814\n",
      "Epoch 24/30\n",
      "600/600 [==============================] - 3s 4ms/step - loss: 0.0046 - accuracy: 0.9985 - val_loss: 0.1063 - val_accuracy: 0.9808\n",
      "Epoch 25/30\n",
      "600/600 [==============================] - 3s 4ms/step - loss: 0.0019 - accuracy: 0.9995 - val_loss: 0.1197 - val_accuracy: 0.9809\n",
      "\n",
      "Epoch 00025: ReduceLROnPlateau reducing learning rate to 0.0002500000118743628.\n",
      "Epoch 26/30\n",
      "600/600 [==============================] - 3s 4ms/step - loss: 5.5478e-04 - accuracy: 0.9998 - val_loss: 0.0975 - val_accuracy: 0.9838\n",
      "Epoch 27/30\n",
      "600/600 [==============================] - 3s 4ms/step - loss: 7.0462e-05 - accuracy: 1.0000 - val_loss: 0.0950 - val_accuracy: 0.9842\n",
      "Epoch 28/30\n",
      "600/600 [==============================] - 3s 4ms/step - loss: 3.7929e-05 - accuracy: 1.0000 - val_loss: 0.0956 - val_accuracy: 0.9844\n",
      "Epoch 29/30\n",
      "600/600 [==============================] - 3s 4ms/step - loss: 2.9199e-05 - accuracy: 1.0000 - val_loss: 0.0964 - val_accuracy: 0.9848\n",
      "Epoch 30/30\n",
      "600/600 [==============================] - 3s 4ms/step - loss: 2.2554e-05 - accuracy: 1.0000 - val_loss: 0.0976 - val_accuracy: 0.9849\n"
     ]
    }
   ],
   "source": [
    "# ReduceLROnPlateau callback 생성\n",
    "rlp_callback = keras.callbacks.ReduceLROnPlateau(patience=10,  # 10 epoch 동안 기다려라\n",
    "                                                 monitor='val_loss',  # val_loss가 향상되지 않으면(줄어들지 않으면) 이라는 조건\n",
    "                                                 factor=0.5,  # 현재 학습률에 0.5를 곱한 것을 새 학습률로 조정해라\n",
    "                                                 verbose=1  # 학습률이 바뀌면 로그를 출력\n",
    "                                                 )\n",
    "# Callback은 fit할 때 적용\n",
    "history = model.fit(train_dataset,\n",
    "                    epochs=N_EPOCHS,\n",
    "                    steps_per_epoch=steps_per_epoch,\n",
    "                    validation_data=val_dataset,\n",
    "                    validation_steps=validation_steps,\n",
    "                    callbacks=[rlp_callback])"
   ]
  },
  {
   "cell_type": "markdown",
   "metadata": {
    "id": "AwYyZcFxbRH1"
   },
   "source": [
    "## LearningRateScheduler callback 사용\n",
    "- 사용자 정의 학습률 조정 함수를 만들어 적용\n",
    "- 학습률을 조정하는 함수를 만들어서 callback 생성 시 등록\n",
    "    - 매개변수\n",
    "        1. epoch\n",
    "        2. 현시점의 learning rate\n",
    "    - 반환값\n",
    "        - 조정한 learning rate"
   ]
  },
  {
   "cell_type": "code",
   "execution_count": 38,
   "metadata": {
    "executionInfo": {
     "elapsed": 668,
     "status": "ok",
     "timestamp": 1618992602495,
     "user": {
      "displayName": "KIM TAEKYUN",
      "photoUrl": "https://lh3.googleusercontent.com/a-/AOh14GiLF5C4fFQDfiq1pEbiM8GO1_TQ5EX9tkNYvrmY8Q=s64",
      "userId": "17041733956875075719"
     },
     "user_tz": -540
    },
    "id": "f7kzp4A9ZAWW"
   },
   "outputs": [],
   "source": [
    "def user_lr(epoch, lr):\n",
    "    if epoch < 5:\n",
    "        return lr\n",
    "    elif epoch < 10:\n",
    "        if epoch == 6:\n",
    "            print('==============Change Learning Rate to ', lr*0.5, ', Epochs: ', epoch)\n",
    "        return lr*0.5\n",
    "    elif epoch < 20:\n",
    "        if epoch == 11:\n",
    "            print('==============Change Learning Rate to ', lr*0.5, ', Epochs: ', epoch)\n",
    "        return lr*0.5\n",
    "    else:\n",
    "        return lr"
   ]
  },
  {
   "cell_type": "code",
   "execution_count": 39,
   "metadata": {
    "executionInfo": {
     "elapsed": 1296,
     "status": "ok",
     "timestamp": 1618992605480,
     "user": {
      "displayName": "KIM TAEKYUN",
      "photoUrl": "https://lh3.googleusercontent.com/a-/AOh14GiLF5C4fFQDfiq1pEbiM8GO1_TQ5EX9tkNYvrmY8Q=s64",
      "userId": "17041733956875075719"
     },
     "user_tz": -540
    },
    "id": "NQni7ebDdjI6"
   },
   "outputs": [],
   "source": [
    "lr_scheduler_callback = keras.callbacks.LearningRateScheduler(user_lr)\n",
    "\n",
    "model = create_model()\n",
    "model.compile(optimizer=keras.optimizers.Adam(learning_rate=LEARNING_RATE),\n",
    "              loss='categorical_crossentropy',\n",
    "              metrics=['accuracy'])"
   ]
  },
  {
   "cell_type": "code",
   "execution_count": 40,
   "metadata": {
    "colab": {
     "base_uri": "https://localhost:8080/"
    },
    "executionInfo": {
     "elapsed": 80706,
     "status": "ok",
     "timestamp": 1618992685314,
     "user": {
      "displayName": "KIM TAEKYUN",
      "photoUrl": "https://lh3.googleusercontent.com/a-/AOh14GiLF5C4fFQDfiq1pEbiM8GO1_TQ5EX9tkNYvrmY8Q=s64",
      "userId": "17041733956875075719"
     },
     "user_tz": -540
    },
    "id": "HqUSyjtLdz7W",
    "outputId": "5924b03d-9947-427d-82c0-90cff88f2b02"
   },
   "outputs": [
    {
     "name": "stdout",
     "output_type": "stream",
     "text": [
      "Epoch 1/30\n",
      "600/600 [==============================] - 3s 4ms/step - loss: 0.4927 - accuracy: 0.8578 - val_loss: 0.1077 - val_accuracy: 0.9679\n",
      "Epoch 2/30\n",
      "600/600 [==============================] - 3s 4ms/step - loss: 0.1007 - accuracy: 0.9693 - val_loss: 0.0945 - val_accuracy: 0.9693\n",
      "Epoch 3/30\n",
      "600/600 [==============================] - 3s 4ms/step - loss: 0.0645 - accuracy: 0.9798 - val_loss: 0.0824 - val_accuracy: 0.9740\n",
      "Epoch 4/30\n",
      "600/600 [==============================] - 3s 4ms/step - loss: 0.0428 - accuracy: 0.9862 - val_loss: 0.0796 - val_accuracy: 0.9763\n",
      "Epoch 5/30\n",
      "600/600 [==============================] - 3s 4ms/step - loss: 0.0371 - accuracy: 0.9877 - val_loss: 0.0777 - val_accuracy: 0.9760\n",
      "Epoch 6/30\n",
      "600/600 [==============================] - 3s 4ms/step - loss: 0.0194 - accuracy: 0.9944 - val_loss: 0.0629 - val_accuracy: 0.9827\n",
      "Epoch 7/30\n",
      "==============Change Learning Rate to  0.0002500000118743628 , Epochs:  6\n",
      "600/600 [==============================] - 3s 4ms/step - loss: 0.0066 - accuracy: 0.9982 - val_loss: 0.0596 - val_accuracy: 0.9843\n",
      "Epoch 8/30\n",
      "600/600 [==============================] - 3s 4ms/step - loss: 0.0042 - accuracy: 0.9994 - val_loss: 0.0594 - val_accuracy: 0.9841\n",
      "Epoch 9/30\n",
      "600/600 [==============================] - 3s 4ms/step - loss: 0.0028 - accuracy: 0.9997 - val_loss: 0.0598 - val_accuracy: 0.9850\n",
      "Epoch 10/30\n",
      "600/600 [==============================] - 3s 4ms/step - loss: 0.0023 - accuracy: 0.9998 - val_loss: 0.0607 - val_accuracy: 0.9842\n",
      "Epoch 11/30\n",
      "600/600 [==============================] - 3s 4ms/step - loss: 0.0028 - accuracy: 0.9996 - val_loss: 0.0610 - val_accuracy: 0.9844\n",
      "Epoch 12/30\n",
      "==============Change Learning Rate to  7.812500371073838e-06 , Epochs:  11\n",
      "600/600 [==============================] - 3s 4ms/step - loss: 0.0021 - accuracy: 0.9998 - val_loss: 0.0612 - val_accuracy: 0.9840\n",
      "Epoch 13/30\n",
      "600/600 [==============================] - 3s 4ms/step - loss: 0.0021 - accuracy: 0.9997 - val_loss: 0.0613 - val_accuracy: 0.9841\n",
      "Epoch 14/30\n",
      "600/600 [==============================] - 3s 4ms/step - loss: 0.0021 - accuracy: 0.9998 - val_loss: 0.0614 - val_accuracy: 0.9840\n",
      "Epoch 15/30\n",
      "600/600 [==============================] - 3s 4ms/step - loss: 0.0022 - accuracy: 0.9998 - val_loss: 0.0614 - val_accuracy: 0.9841\n",
      "Epoch 16/30\n",
      "600/600 [==============================] - 3s 4ms/step - loss: 0.0020 - accuracy: 0.9998 - val_loss: 0.0615 - val_accuracy: 0.9841\n",
      "Epoch 17/30\n",
      "600/600 [==============================] - 3s 4ms/step - loss: 0.0018 - accuracy: 0.9999 - val_loss: 0.0615 - val_accuracy: 0.9842\n",
      "Epoch 18/30\n",
      "600/600 [==============================] - 3s 4ms/step - loss: 0.0025 - accuracy: 0.9997 - val_loss: 0.0615 - val_accuracy: 0.9842\n",
      "Epoch 19/30\n",
      "600/600 [==============================] - 3s 4ms/step - loss: 0.0020 - accuracy: 0.9998 - val_loss: 0.0615 - val_accuracy: 0.9842\n",
      "Epoch 20/30\n",
      "600/600 [==============================] - 3s 4ms/step - loss: 0.0019 - accuracy: 0.9998 - val_loss: 0.0615 - val_accuracy: 0.9842\n",
      "Epoch 21/30\n",
      "600/600 [==============================] - 3s 4ms/step - loss: 0.0021 - accuracy: 0.9998 - val_loss: 0.0615 - val_accuracy: 0.9842\n",
      "Epoch 22/30\n",
      "600/600 [==============================] - 3s 4ms/step - loss: 0.0023 - accuracy: 0.9997 - val_loss: 0.0615 - val_accuracy: 0.9842\n",
      "Epoch 23/30\n",
      "600/600 [==============================] - 3s 4ms/step - loss: 0.0020 - accuracy: 0.9998 - val_loss: 0.0615 - val_accuracy: 0.9842\n",
      "Epoch 24/30\n",
      "600/600 [==============================] - 3s 4ms/step - loss: 0.0019 - accuracy: 0.9999 - val_loss: 0.0615 - val_accuracy: 0.9842\n",
      "Epoch 25/30\n",
      "600/600 [==============================] - 3s 4ms/step - loss: 0.0018 - accuracy: 0.9998 - val_loss: 0.0615 - val_accuracy: 0.9842\n",
      "Epoch 26/30\n",
      "600/600 [==============================] - 3s 4ms/step - loss: 0.0022 - accuracy: 0.9997 - val_loss: 0.0615 - val_accuracy: 0.9842\n",
      "Epoch 27/30\n",
      "600/600 [==============================] - 3s 4ms/step - loss: 0.0020 - accuracy: 0.9999 - val_loss: 0.0615 - val_accuracy: 0.9842\n",
      "Epoch 28/30\n",
      "600/600 [==============================] - 3s 4ms/step - loss: 0.0020 - accuracy: 0.9999 - val_loss: 0.0615 - val_accuracy: 0.9842\n",
      "Epoch 29/30\n",
      "600/600 [==============================] - 3s 4ms/step - loss: 0.0018 - accuracy: 0.9999 - val_loss: 0.0615 - val_accuracy: 0.9842\n",
      "Epoch 30/30\n",
      "600/600 [==============================] - 3s 4ms/step - loss: 0.0020 - accuracy: 0.9998 - val_loss: 0.0615 - val_accuracy: 0.9842\n"
     ]
    }
   ],
   "source": [
    "history = model.fit(train_dataset,\n",
    "                    epochs=N_EPOCHS,\n",
    "                    steps_per_epoch=steps_per_epoch,\n",
    "                    validation_data=val_dataset,\n",
    "                    validation_steps=validation_steps,\n",
    "                    callbacks=[lr_scheduler_callback])"
   ]
  },
  {
   "cell_type": "code",
   "execution_count": null,
   "metadata": {
    "id": "bG8XyCjZeJYt"
   },
   "outputs": [],
   "source": []
  }
 ],
 "metadata": {
  "accelerator": "GPU",
  "colab": {
   "collapsed_sections": [],
   "name": "05_DNN_성능개선_소스.ipynb",
   "provenance": []
  },
  "kernelspec": {
   "display_name": "Python 3",
   "language": "python",
   "name": "python3"
  },
  "language_info": {
   "codemirror_mode": {
    "name": "ipython",
    "version": 3
   },
   "file_extension": ".py",
   "mimetype": "text/x-python",
   "name": "python",
   "nbconvert_exporter": "python",
   "pygments_lexer": "ipython3",
   "version": "3.6.5"
  }
 },
 "nbformat": 4,
 "nbformat_minor": 1
}
