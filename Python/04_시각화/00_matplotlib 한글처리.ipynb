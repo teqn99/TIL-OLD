{
 "cells": [
  {
   "cell_type": "markdown",
   "metadata": {},
   "source": [
    "# matplotlib 한글처리\n",
    "matplotlib에 설정되있는 폰트가 한글을 지원하지 않기 때문에 그래프의 한글이 깨져서 나온다."
   ]
  },
  {
   "cell_type": "code",
   "execution_count": 11,
   "metadata": {
    "ExecuteTime": {
     "end_time": "2020-08-15T14:11:37.991800Z",
     "start_time": "2020-08-15T14:11:37.828240Z"
    },
    "scrolled": true
   },
   "outputs": [
    {
     "data": {
      "image/png": "[encoded data removed]",
      "text/plain": [
       "<Figure size 432x288 with 1 Axes>"
      ]
     },
     "metadata": {
      "needs_background": "light"
     },
     "output_type": "display_data"
    }
   ],
   "source": [
    "import matplotlib.pyplot as plt\n",
    "plt.plot(range(-10,10))\n",
    "plt.xlabel(\"X값\")\n",
    "plt.ylabel(\"Y값\")\n",
    "plt.title('matplotlib 예제')\n",
    "plt.show()"
   ]
  },
  {
   "cell_type": "markdown",
   "metadata": {},
   "source": [
    "## 설정방법\n",
    "1. 설정파일을 변경한다. \n",
    "    - 한번만 하면 된다.\n",
    "2. 프로그램상에서 변경한다.\n",
    "    - 프로그램이 로딩 될때마다 (노트북 파일이나 파이썬 스크립트 실행시마다) 코드를 실행해야 한다.\n",
    "    - 전체 설정에서 변경하고 싶은 것을 재설정한다."
   ]
  },
  {
   "cell_type": "markdown",
   "metadata": {},
   "source": [
    "## OS에 설치된 폰트명 조회"
   ]
  },
  {
   "cell_type": "markdown",
   "metadata": {},
   "source": [
    "폰트 cache 파일을 삭제 한다."
   ]
  },
  {
   "cell_type": "code",
   "execution_count": 2,
   "metadata": {
    "ExecuteTime": {
     "end_time": "2020-08-15T13:55:05.589402Z",
     "start_time": "2020-08-15T13:55:05.584416Z"
    }
   },
   "outputs": [],
   "source": [
    "import matplotlib as mpl\n",
    "import matplotlib.font_manager as fm"
   ]
  },
  {
   "cell_type": "code",
   "execution_count": 4,
   "metadata": {
    "ExecuteTime": {
     "end_time": "2020-08-15T14:13:14.379703Z",
     "start_time": "2020-08-15T14:13:14.371691Z"
    },
    "collapsed": true
   },
   "outputs": [
    {
     "data": {
      "text/plain": [
       "'/Users/taekyunkim/.matplotlib'"
      ]
     },
     "execution_count": 4,
     "metadata": {},
     "output_type": "execute_result"
    }
   ],
   "source": [
    "# cache 파일 조회\n",
    "# 다음 실행 결과로 나온 경로의 파일을 삭제한다. \n",
    "mpl.get_cachedir()"
   ]
  },
  {
   "cell_type": "markdown",
   "metadata": {},
   "source": [
    "전체 폰트 조회"
   ]
  },
  {
   "cell_type": "code",
   "execution_count": 5,
   "metadata": {
    "ExecuteTime": {
     "end_time": "2020-08-15T13:55:27.870422Z",
     "start_time": "2020-08-15T13:55:27.719827Z"
    },
    "collapsed": true
   },
   "outputs": [
    {
     "name": "stdout",
     "output_type": "stream",
     "text": [
      "cmss10 /Library/Frameworks/Python.framework/Versions/3.6/lib/python3.6/site-packages/matplotlib/mpl-data/fonts/ttf/cmss10.ttf\n",
      "cmb10 /Library/Frameworks/Python.framework/Versions/3.6/lib/python3.6/site-packages/matplotlib/mpl-data/fonts/ttf/cmb10.ttf\n",
      "STIXSizeThreeSym /Library/Frameworks/Python.framework/Versions/3.6/lib/python3.6/site-packages/matplotlib/mpl-data/fonts/ttf/STIXSizThreeSymReg.ttf\n",
      "STIXGeneral /Library/Frameworks/Python.framework/Versions/3.6/lib/python3.6/site-packages/matplotlib/mpl-data/fonts/ttf/STIXGeneralBol.ttf\n",
      "DejaVu Sans /Library/Frameworks/Python.framework/Versions/3.6/lib/python3.6/site-packages/matplotlib/mpl-data/fonts/ttf/DejaVuSans-Bold.ttf\n",
      "DejaVu Serif /Library/Frameworks/Python.framework/Versions/3.6/lib/python3.6/site-packages/matplotlib/mpl-data/fonts/ttf/DejaVuSerif-BoldItalic.ttf\n",
      "DejaVu Sans Mono /Library/Frameworks/Python.framework/Versions/3.6/lib/python3.6/site-packages/matplotlib/mpl-data/fonts/ttf/DejaVuSansMono.ttf\n",
      "STIXSizeOneSym /Library/Frameworks/Python.framework/Versions/3.6/lib/python3.6/site-packages/matplotlib/mpl-data/fonts/ttf/STIXSizOneSymReg.ttf\n",
      "STIXNonUnicode /Library/Frameworks/Python.framework/Versions/3.6/lib/python3.6/site-packages/matplotlib/mpl-data/fonts/ttf/STIXNonUniBolIta.ttf\n",
      "DejaVu Serif Display /Library/Frameworks/Python.framework/Versions/3.6/lib/python3.6/site-packages/matplotlib/mpl-data/fonts/ttf/DejaVuSerifDisplay.ttf\n",
      "DejaVu Sans Mono /Library/Frameworks/Python.framework/Versions/3.6/lib/python3.6/site-packages/matplotlib/mpl-data/fonts/ttf/DejaVuSansMono-Oblique.ttf\n",
      "cmtt10 /Library/Frameworks/Python.framework/Versions/3.6/lib/python3.6/site-packages/matplotlib/mpl-data/fonts/ttf/cmtt10.ttf\n",
      "DejaVu Sans /Library/Frameworks/Python.framework/Versions/3.6/lib/python3.6/site-packages/matplotlib/mpl-data/fonts/ttf/DejaVuSans.ttf\n",
      "DejaVu Sans Mono /Library/Frameworks/Python.framework/Versions/3.6/lib/python3.6/site-packages/matplotlib/mpl-data/fonts/ttf/DejaVuSansMono-BoldOblique.ttf\n",
      "STIXSizeTwoSym /Library/Frameworks/Python.framework/Versions/3.6/lib/python3.6/site-packages/matplotlib/mpl-data/fonts/ttf/STIXSizTwoSymBol.ttf\n",
      "cmr10 /Library/Frameworks/Python.framework/Versions/3.6/lib/python3.6/site-packages/matplotlib/mpl-data/fonts/ttf/cmr10.ttf\n",
      "DejaVu Sans /Library/Frameworks/Python.framework/Versions/3.6/lib/python3.6/site-packages/matplotlib/mpl-data/fonts/ttf/DejaVuSans-Oblique.ttf\n",
      "DejaVu Serif /Library/Frameworks/Python.framework/Versions/3.6/lib/python3.6/site-packages/matplotlib/mpl-data/fonts/ttf/DejaVuSerif.ttf\n",
      "cmex10 /Library/Frameworks/Python.framework/Versions/3.6/lib/python3.6/site-packages/matplotlib/mpl-data/fonts/ttf/cmex10.ttf\n",
      "STIXSizeFourSym /Library/Frameworks/Python.framework/Versions/3.6/lib/python3.6/site-packages/matplotlib/mpl-data/fonts/ttf/STIXSizFourSymBol.ttf\n",
      "cmsy10 /Library/Frameworks/Python.framework/Versions/3.6/lib/python3.6/site-packages/matplotlib/mpl-data/fonts/ttf/cmsy10.ttf\n",
      "DejaVu Serif /Library/Frameworks/Python.framework/Versions/3.6/lib/python3.6/site-packages/matplotlib/mpl-data/fonts/ttf/DejaVuSerif-Italic.ttf\n",
      "DejaVu Serif /Library/Frameworks/Python.framework/Versions/3.6/lib/python3.6/site-packages/matplotlib/mpl-data/fonts/ttf/DejaVuSerif-Bold.ttf\n",
      "STIXSizeOneSym /Library/Frameworks/Python.framework/Versions/3.6/lib/python3.6/site-packages/matplotlib/mpl-data/fonts/ttf/STIXSizOneSymBol.ttf\n",
      "STIXGeneral /Library/Frameworks/Python.framework/Versions/3.6/lib/python3.6/site-packages/matplotlib/mpl-data/fonts/ttf/STIXGeneral.ttf\n",
      "STIXGeneral /Library/Frameworks/Python.framework/Versions/3.6/lib/python3.6/site-packages/matplotlib/mpl-data/fonts/ttf/STIXGeneralBolIta.ttf\n",
      "DejaVu Sans /Library/Frameworks/Python.framework/Versions/3.6/lib/python3.6/site-packages/matplotlib/mpl-data/fonts/ttf/DejaVuSans-BoldOblique.ttf\n",
      "DejaVu Sans Display /Library/Frameworks/Python.framework/Versions/3.6/lib/python3.6/site-packages/matplotlib/mpl-data/fonts/ttf/DejaVuSansDisplay.ttf\n",
      "DejaVu Sans Mono /Library/Frameworks/Python.framework/Versions/3.6/lib/python3.6/site-packages/matplotlib/mpl-data/fonts/ttf/DejaVuSansMono-Bold.ttf\n",
      "STIXSizeThreeSym /Library/Frameworks/Python.framework/Versions/3.6/lib/python3.6/site-packages/matplotlib/mpl-data/fonts/ttf/STIXSizThreeSymBol.ttf\n",
      "STIXSizeFourSym /Library/Frameworks/Python.framework/Versions/3.6/lib/python3.6/site-packages/matplotlib/mpl-data/fonts/ttf/STIXSizFourSymReg.ttf\n",
      "STIXNonUnicode /Library/Frameworks/Python.framework/Versions/3.6/lib/python3.6/site-packages/matplotlib/mpl-data/fonts/ttf/STIXNonUniBol.ttf\n",
      "STIXSizeFiveSym /Library/Frameworks/Python.framework/Versions/3.6/lib/python3.6/site-packages/matplotlib/mpl-data/fonts/ttf/STIXSizFiveSymReg.ttf\n",
      "STIXNonUnicode /Library/Frameworks/Python.framework/Versions/3.6/lib/python3.6/site-packages/matplotlib/mpl-data/fonts/ttf/STIXNonUniIta.ttf\n",
      "STIXGeneral /Library/Frameworks/Python.framework/Versions/3.6/lib/python3.6/site-packages/matplotlib/mpl-data/fonts/ttf/STIXGeneralItalic.ttf\n",
      "STIXNonUnicode /Library/Frameworks/Python.framework/Versions/3.6/lib/python3.6/site-packages/matplotlib/mpl-data/fonts/ttf/STIXNonUni.ttf\n",
      "STIXSizeTwoSym /Library/Frameworks/Python.framework/Versions/3.6/lib/python3.6/site-packages/matplotlib/mpl-data/fonts/ttf/STIXSizTwoSymReg.ttf\n",
      "cmmi10 /Library/Frameworks/Python.framework/Versions/3.6/lib/python3.6/site-packages/matplotlib/mpl-data/fonts/ttf/cmmi10.ttf\n",
      "System Font /System/Library/Fonts/SFNS.ttf\n",
      "Sana /System/Library/Fonts/Supplemental/Sana.ttc\n",
      "Galvji /System/Library/Fonts/Supplemental/Galvji.ttc\n",
      "Noto Sans Tai Tham /System/Library/Fonts/Supplemental/NotoSansTaiTham-Regular.ttf\n",
      "Noto Sans Buginese /System/Library/Fonts/Supplemental/NotoSansBuginese-Regular.ttf\n",
      "STIXSizeTwoSym /System/Library/Fonts/Supplemental/STIXSizTwoSymBol.otf\n",
      "Noto Sans Cuneiform /System/Library/Fonts/Supplemental/NotoSansCuneiform-Regular.ttf\n",
      "Noto Sans Inscriptional Parthian /System/Library/Fonts/Supplemental/NotoSansInscriptionalParthian-Regular.ttf\n",
      "Damascus /System/Library/Fonts/Supplemental/Damascus.ttc\n",
      "Luminari /System/Library/Fonts/Supplemental/Luminari.ttf\n",
      "PT Sans /System/Library/Fonts/Supplemental/PTSans.ttc\n",
      ".SF NS Display Condensed /System/Library/Fonts/SFNSDisplayCondensed-Medium.otf\n",
      "STIXSizeOneSym /System/Library/Fonts/Supplemental/STIXSizOneSymBol.otf\n",
      "Noto Sans Javanese /System/Library/Fonts/Supplemental/NotoSansJavanese-Regular.otf\n",
      "Symbol /System/Library/Fonts/Symbol.ttf\n",
      "Verdana /System/Library/Fonts/Supplemental/Verdana Bold Italic.ttf\n",
      "Devanagari MT /System/Library/Fonts/Supplemental/DevanagariMT.ttc\n",
      "Plantagenet Cherokee /System/Library/Fonts/Supplemental/PlantagenetCherokee.ttf\n",
      "Noto Sans Shavian /System/Library/Fonts/Supplemental/NotoSansShavian-Regular.ttf\n",
      "Wingdings /System/Library/Fonts/Supplemental/Wingdings.ttf\n",
      "Brush Script MT /System/Library/Fonts/Supplemental/Brush Script.ttf\n",
      "Optima /System/Library/Fonts/Optima.ttc\n",
      "Georgia /System/Library/Fonts/Supplemental/Georgia.ttf\n",
      "Noto Sans Kaithi /System/Library/Fonts/Supplemental/NotoSansKaithi-Regular.ttf\n",
      "Times New Roman /System/Library/Fonts/Supplemental/Times New Roman.ttf\n",
      "Hiragino Sans /System/Library/Fonts/ヒラギノ角ゴシック W5.ttc\n",
      "Kailasa /System/Library/Fonts/Supplemental/Kailasa.ttc\n",
      "Noto Sans Old Italic /System/Library/Fonts/Supplemental/NotoSansOldItalic-Regular.ttf\n",
      "Kohinoor Telugu /System/Library/Fonts/KohinoorTelugu.ttc\n",
      "Nadeem /System/Library/Fonts/Supplemental/Nadeem.ttc\n",
      "Noto Sans Imperial Aramaic /System/Library/Fonts/Supplemental/NotoSansImperialAramaic-Regular.ttf\n",
      "Gujarati Sangam MN /System/Library/Fonts/Supplemental/Gujarati Sangam MN.ttc\n",
      "Noto Sans Brahmi /System/Library/Fonts/Supplemental/NotoSansBrahmi-Regular.ttf\n",
      "Apple Chancery /System/Library/Fonts/Supplemental/Apple Chancery.ttf\n",
      ".SF Compact Rounded /System/Library/Fonts/SFCompactRounded.ttf\n",
      "Myanmar Sangam MN /System/Library/Fonts/Supplemental/Myanmar Sangam MN.ttc\n",
      "Marion /System/Library/Fonts/Supplemental/Marion.ttc\n",
      "Tamil Sangam MN /System/Library/Fonts/Supplemental/Tamil Sangam MN.ttc\n",
      "Seravek /System/Library/Fonts/Supplemental/Seravek.ttc\n",
      "Hiragino Sans /System/Library/Fonts/ヒラギノ角ゴシック W3.ttc\n",
      "Noto Sans Kayah Li /System/Library/Fonts/Supplemental/NotoSansKayahLi-Regular.ttf\n",
      "Noto Sans Ugaritic /System/Library/Fonts/Supplemental/NotoSansUgaritic-Regular.ttf\n",
      "American Typewriter /System/Library/Fonts/Supplemental/AmericanTypewriter.ttc\n",
      "Iowan Old Style /System/Library/Fonts/Supplemental/Iowan Old Style.ttc\n",
      "STIXVariants /System/Library/Fonts/Supplemental/STIXVar.otf\n",
      "Gill Sans /System/Library/Fonts/Supplemental/GillSans.ttc\n",
      "Times /System/Library/Fonts/Times.ttc\n",
      "Gurmukhi MN /System/Library/Fonts/Supplemental/Gurmukhi MN.ttc\n",
      "Rockwell /System/Library/Fonts/Supplemental/Rockwell.ttc\n",
      "Noto Sans Limbu /System/Library/Fonts/Supplemental/NotoSansLimbu-Regular.ttf\n",
      "Helvetica Neue /System/Library/Fonts/HelveticaNeue.ttc\n",
      "Phosphate /System/Library/Fonts/Supplemental/Phosphate.ttc\n",
      "Sinhala Sangam MN /System/Library/Fonts/Supplemental/Sinhala Sangam MN.ttc\n",
      "Chalkduster /System/Library/Fonts/Supplemental/Chalkduster.ttf\n",
      "STIXIntegralsSm /System/Library/Fonts/Supplemental/STIXIntSmReg.otf\n",
      "Arial Unicode MS /Library/Fonts/Arial Unicode.ttf\n",
      "Noto Sans Sundanese /System/Library/Fonts/Supplemental/NotoSansSundanese-Regular.ttf\n",
      "Trebuchet MS /System/Library/Fonts/Supplemental/Trebuchet MS Italic.ttf\n",
      "Baghdad /System/Library/Fonts/Supplemental/Baghdad.ttc\n",
      "Al Nile /System/Library/Fonts/Supplemental/Al Nile.ttc\n",
      "Waseem /System/Library/Fonts/Supplemental/Waseem.ttc\n",
      "Sathu /System/Library/Fonts/Supplemental/Sathu.ttf\n",
      "Apple Braille /System/Library/Fonts/Apple Braille Pinpoint 8 Dot.ttf\n",
      "PingFang HK /System/Library/Fonts/PingFang.ttc\n",
      "STIXIntegralsD /System/Library/Fonts/Supplemental/STIXIntDReg.otf\n",
      "Futura /System/Library/Fonts/Supplemental/Futura.ttc\n",
      "Hiragino Sans /System/Library/Fonts/ヒラギノ角ゴシック W7.ttc\n",
      "Diwan Thuluth /System/Library/Fonts/Supplemental/Diwan Thuluth.ttf\n",
      "Bodoni 72 Oldstyle /System/Library/Fonts/Supplemental/Bodoni 72 OS.ttc\n",
      "Chalkboard /System/Library/Fonts/Supplemental/Chalkboard.ttc\n",
      "Kannada MN /System/Library/Fonts/Supplemental/Kannada MN.ttc\n",
      "Hiragino Sans /System/Library/Fonts/ヒラギノ角ゴシック W2.ttc\n",
      "Oriya MN /System/Library/Fonts/Supplemental/Oriya MN.ttc\n",
      "STIXIntegralsUp /System/Library/Fonts/Supplemental/STIXIntUpReg.otf\n",
      "STIXVariants /System/Library/Fonts/Supplemental/STIXVarBol.otf\n",
      "Hiragino Maru Gothic Pro /System/Library/Fonts/ヒラギノ丸ゴ ProN W4.ttc\n",
      "Songti SC /System/Library/Fonts/Supplemental/Songti.ttc\n",
      ".SF NS Text Condensed /System/Library/Fonts/SFNSTextCondensed-Light.otf\n",
      "Noto Sans Phoenician /System/Library/Fonts/Supplemental/NotoSansPhoenician-Regular.ttf\n",
      "Hiragino Sans GB /System/Library/Fonts/Hiragino Sans GB.ttc\n",
      "Microsoft Sans Serif /System/Library/Fonts/Supplemental/Microsoft Sans Serif.ttf\n",
      ".SF NS Display Condensed /System/Library/Fonts/SFNSDisplayCondensed-Black.otf\n",
      ".New York /System/Library/Fonts/NewYorkItalic.ttf\n",
      "Mukta Mahee /System/Library/Fonts/MuktaMahee.ttc\n",
      "Noto Sans Samaritan /System/Library/Fonts/Supplemental/NotoSansSamaritan-Regular.ttf\n",
      "Muna /System/Library/Fonts/Supplemental/Muna.ttc\n",
      "Gurmukhi MT /System/Library/Fonts/Supplemental/Gurmukhi.ttf\n",
      "Wingdings 2 /System/Library/Fonts/Supplemental/Wingdings 2.ttf\n",
      "Hiragino Sans /System/Library/Fonts/ヒラギノ角ゴシック W0.ttc\n",
      "Hiragino Sans /System/Library/Fonts/ヒラギノ角ゴシック W8.ttc\n",
      "Superclarendon /System/Library/Fonts/Supplemental/SuperClarendon.ttc\n",
      "STIXGeneral /System/Library/Fonts/Supplemental/STIXGeneral.otf\n",
      "STIXNonUnicode /System/Library/Fonts/Supplemental/STIXNonUniBol.otf\n",
      "AppleMyungjo /System/Library/Fonts/Supplemental/AppleMyungjo.ttf\n",
      ".SF NS Display Condensed /System/Library/Fonts/SFNSDisplayCondensed-Heavy.otf\n",
      "Silom /System/Library/Fonts/Supplemental/Silom.ttf\n",
      ".SF NS Text Condensed /System/Library/Fonts/SFNSTextCondensed-Medium.otf\n",
      "Hiragino Mincho ProN /System/Library/Fonts/ヒラギノ明朝 ProN.ttc\n",
      ".SF NS Display Condensed /System/Library/Fonts/SFNSDisplayCondensed-Semibold.otf\n",
      ".SF NS Rounded /System/Library/Fonts/SFNSRounded.ttf\n",
      "Noto Sans Hanunoo /System/Library/Fonts/Supplemental/NotoSansHanunoo-Regular.ttf\n",
      "Hiragino Sans /System/Library/Fonts/ヒラギノ角ゴシック W9.ttc\n",
      "Noto Sans Kannada /System/Library/Fonts/NotoSansKannada.ttc\n",
      "Arial Hebrew /System/Library/Fonts/ArialHB.ttc\n",
      "Comic Sans MS /System/Library/Fonts/Supplemental/Comic Sans MS Bold.ttf\n",
      "SignPainter /System/Library/Fonts/Supplemental/SignPainter.ttc\n",
      "STIXGeneral /System/Library/Fonts/Supplemental/STIXGeneralBol.otf\n",
      "Verdana /System/Library/Fonts/Supplemental/Verdana Italic.ttf\n",
      "Khmer MN /System/Library/Fonts/Supplemental/Khmer MN.ttc\n",
      "Noto Sans Tai Viet /System/Library/Fonts/Supplemental/NotoSansTaiViet-Regular.ttf\n",
      "Noto Sans Syloti Nagri /System/Library/Fonts/Supplemental/NotoSansSylotiNagri-Regular.ttf\n",
      "Chalkboard SE /System/Library/Fonts/Supplemental/ChalkboardSE.ttc\n",
      "STIXSizeTwoSym /System/Library/Fonts/Supplemental/STIXSizTwoSymReg.otf\n",
      "Noto Sans Linear B /System/Library/Fonts/Supplemental/NotoSansLinearB-Regular.ttf\n",
      "Noto Sans Mandaic /System/Library/Fonts/Supplemental/NotoSansMandaic-Regular.ttf\n",
      "Georgia /System/Library/Fonts/Supplemental/Georgia Bold.ttf\n",
      "Lucida Grande /System/Library/Fonts/LucidaGrande.ttc\n",
      ".Aqua Kana /System/Library/Fonts/AquaKana.ttc\n",
      "Beirut /System/Library/Fonts/Supplemental/Beirut.ttc\n",
      "Avenir Next Condensed /System/Library/Fonts/Avenir Next Condensed.ttc\n",
      "Kohinoor Devanagari /System/Library/Fonts/Kohinoor.ttc\n",
      "AppleGothic /System/Library/Fonts/Supplemental/AppleGothic.ttf\n",
      "STIXSizeFourSym /System/Library/Fonts/Supplemental/STIXSizFourSymReg.otf\n",
      "Noto Sans Mongolian /System/Library/Fonts/Supplemental/NotoSansMongolian-Regular.ttf\n",
      "Hiragino Sans /System/Library/Fonts/ヒラギノ角ゴシック W4.ttc\n",
      "Noto Sans Cham /System/Library/Fonts/Supplemental/NotoSansCham-Regular.ttf\n",
      "STIXSizeThreeSym /System/Library/Fonts/Supplemental/STIXSizThreeSymBol.otf\n",
      "Arial Rounded MT Bold /System/Library/Fonts/Supplemental/Arial Rounded Bold.ttf\n",
      "Noto Sans Meetei Mayek /System/Library/Fonts/Supplemental/NotoSansMeeteiMayek-Regular.ttf\n",
      "Arial Narrow /System/Library/Fonts/Supplemental/Arial Narrow Bold.ttf\n",
      "Mishafi Gold /System/Library/Fonts/Supplemental/Mishafi Gold.ttf\n",
      "Copperplate /System/Library/Fonts/Supplemental/Copperplate.ttc\n",
      "New Peninim MT /System/Library/Fonts/Supplemental/NewPeninimMT.ttc\n",
      "Helvetica /System/Library/Fonts/Helvetica.ttc\n",
      "Verdana /System/Library/Fonts/Supplemental/Verdana.ttf\n",
      "Hoefler Text /System/Library/Fonts/Supplemental/Hoefler Text Ornaments.ttf\n",
      "Noto Sans Buhid /System/Library/Fonts/Supplemental/NotoSansBuhid-Regular.ttf\n",
      "Didot /System/Library/Fonts/Supplemental/Didot.ttc\n",
      "Savoye LET /System/Library/Fonts/Supplemental/Savoye LET.ttc\n",
      ".SF NS Display Condensed /System/Library/Fonts/SFNSDisplayCondensed-Bold.otf\n",
      "Noto Sans Lepcha /System/Library/Fonts/Supplemental/NotoSansLepcha-Regular.ttf\n",
      "Apple Braille /System/Library/Fonts/Apple Braille.ttf\n",
      ".SF NS Text Condensed /System/Library/Fonts/SFNSTextCondensed-Heavy.otf\n",
      "Marker Felt /System/Library/Fonts/MarkerFelt.ttc\n",
      "Gujarati MT /System/Library/Fonts/Supplemental/GujaratiMT.ttc\n",
      "Athelas /System/Library/Fonts/Supplemental/Athelas.ttc\n",
      "Shree Devanagari 714 /System/Library/Fonts/Supplemental/Shree714.ttc\n",
      "Oriya Sangam MN /System/Library/Fonts/Supplemental/Oriya Sangam MN.ttc\n",
      "Devanagari Sangam MN /System/Library/Fonts/Supplemental/Devanagari Sangam MN.ttc\n",
      "Apple Braille /System/Library/Fonts/Apple Braille Outline 6 Dot.ttf\n",
      "Kokonor /System/Library/Fonts/Supplemental/Kokonor.ttf\n",
      "Times New Roman /System/Library/Fonts/Supplemental/Times New Roman Bold.ttf\n",
      "Arial /System/Library/Fonts/Supplemental/Arial Italic.ttf\n",
      "PT Serif /System/Library/Fonts/Supplemental/PTSerif.ttc\n",
      "Noto Sans Thaana /System/Library/Fonts/Supplemental/NotoSansThaana-Regular.ttf\n",
      "Kohinoor Bangla /System/Library/Fonts/KohinoorBangla.ttc\n",
      ".Arabic UI Display /System/Library/Fonts/ArabicUIDisplay.ttc\n",
      "Noto Sans Vai /System/Library/Fonts/Supplemental/NotoSansVai-Regular.ttf\n",
      "Trebuchet MS /System/Library/Fonts/Supplemental/Trebuchet MS Bold.ttf\n",
      "Noto Sans Tifinagh /System/Library/Fonts/Supplemental/NotoSansTifinagh-Regular.ttf\n",
      "Tamil MN /System/Library/Fonts/Supplemental/Tamil MN.ttc\n",
      "Apple SD Gothic Neo /System/Library/Fonts/AppleSDGothicNeo.ttc\n",
      "STIXIntegralsUpSm /System/Library/Fonts/Supplemental/STIXIntUpSmBol.otf\n",
      "Georgia /System/Library/Fonts/Supplemental/Georgia Bold Italic.ttf\n",
      "Trebuchet MS /System/Library/Fonts/Supplemental/Trebuchet MS.ttf\n",
      ".SF NS Display Condensed /System/Library/Fonts/SFNSDisplayCondensed-Ultralight.otf\n",
      "STIXGeneral /System/Library/Fonts/Supplemental/STIXGeneralItalic.otf\n",
      "Big Caslon /System/Library/Fonts/Supplemental/BigCaslon.ttf\n",
      "Noto Sans Inscriptional Pahlavi /System/Library/Fonts/Supplemental/NotoSansInscriptionalPahlavi-Regular.ttf\n",
      "InaiMathi /System/Library/Fonts/Supplemental/InaiMathi-MN.ttc\n",
      "DecoType Naskh /System/Library/Fonts/Supplemental/DecoTypeNaskh.ttc\n",
      "Sukhumvit Set /System/Library/Fonts/Supplemental/SukhumvitSet.ttc\n",
      "Noto Sans Gothic /System/Library/Fonts/Supplemental/NotoSansGothic-Regular.ttf\n",
      "Trattatello /System/Library/Fonts/Supplemental/Trattatello.ttf\n",
      "Noto Sans NKo /System/Library/Fonts/Supplemental/NotoSansNKo-Regular.ttf\n",
      "Telugu MN /System/Library/Fonts/Supplemental/Telugu MN.ttc\n",
      "Baskerville /System/Library/Fonts/Supplemental/Baskerville.ttc\n",
      ".SF NS Mono /System/Library/Fonts/SFNSMonoItalic.ttf\n",
      "Raanana /System/Library/Fonts/Supplemental/Raanana.ttc\n",
      "Courier New /System/Library/Fonts/Supplemental/Courier New Bold.ttf\n",
      "STIXIntegralsUpD /System/Library/Fonts/Supplemental/STIXIntUpDReg.otf\n",
      "Noto Sans Batak /System/Library/Fonts/Supplemental/NotoSansBatak-Regular.ttf\n",
      "Sinhala MN /System/Library/Fonts/Supplemental/Sinhala MN.ttc\n",
      "STIXIntegralsSm /System/Library/Fonts/Supplemental/STIXIntSmBol.otf\n",
      "Apple Symbols /System/Library/Fonts/Apple Symbols.ttf\n",
      "Tahoma /System/Library/Fonts/Supplemental/Tahoma Bold.ttf\n",
      "Menlo /System/Library/Fonts/Menlo.ttc\n",
      "Zapfino /System/Library/Fonts/Supplemental/Zapfino.ttf\n",
      "Webdings /System/Library/Fonts/Supplemental/Webdings.ttf\n",
      "Avenir /System/Library/Fonts/Avenir.ttc\n",
      "Tahoma /System/Library/Fonts/Supplemental/Tahoma.ttf\n",
      "Bodoni 72 /System/Library/Fonts/Supplemental/Bodoni 72.ttc\n",
      "Noto Sans Armenian /System/Library/Fonts/NotoSansArmenian.ttc\n",
      "Courier New /System/Library/Fonts/Supplemental/Courier New.ttf\n",
      "Verdana /System/Library/Fonts/Supplemental/Verdana Bold.ttf\n",
      ".SF Compact Text /System/Library/Fonts/SFCompactText.ttf\n",
      "Arial /System/Library/Fonts/Supplemental/Arial Bold Italic.ttf\n",
      "Palatino /System/Library/Fonts/Palatino.ttc\n",
      "Times New Roman /System/Library/Fonts/Supplemental/Times New Roman Italic.ttf\n",
      "Lao Sangam MN /System/Library/Fonts/Supplemental/Lao Sangam MN.ttf\n",
      "Noteworthy /System/Library/Fonts/Noteworthy.ttc\n",
      "Kefa /System/Library/Fonts/Supplemental/Kefa.ttc\n",
      "Skia /System/Library/Fonts/Supplemental/Skia.ttf\n",
      "Noto Sans Chakma /System/Library/Fonts/Supplemental/NotoSansChakma-Regular.ttf\n",
      "Noto Sans Tagbanwa /System/Library/Fonts/Supplemental/NotoSansTagbanwa-Regular.ttf\n",
      "Noto Sans Yi /System/Library/Fonts/Supplemental/NotoSansYi-Regular.ttf\n",
      "Ayuthaya /System/Library/Fonts/Supplemental/Ayuthaya.ttf\n",
      "Noto Sans Old Turkic /System/Library/Fonts/Supplemental/NotoSansOldTurkic-Regular.ttf\n",
      "Noto Sans Avestan /System/Library/Fonts/Supplemental/NotoSansAvestan-Regular.ttf\n",
      "Bangla MN /System/Library/Fonts/Supplemental/Bangla MN.ttc\n",
      "PT Mono /System/Library/Fonts/Supplemental/PTMono.ttc\n",
      "STIXIntegralsUpD /System/Library/Fonts/Supplemental/STIXIntUpDBol.otf\n",
      "Noto Sans Glagolitic /System/Library/Fonts/Supplemental/NotoSansGlagolitic-Regular.ttf\n",
      "Noto Sans Coptic /System/Library/Fonts/Supplemental/NotoSansCoptic-Regular.ttf\n",
      "Noto Sans Oriya /System/Library/Fonts/NotoSansOriya.ttc\n",
      "Noto Sans Cypriot /System/Library/Fonts/Supplemental/NotoSansCypriot-Regular.ttf\n",
      "Noto Sans Old Persian /System/Library/Fonts/Supplemental/NotoSansOldPersian-Regular.ttf\n",
      "Noto Nastaliq Urdu /System/Library/Fonts/NotoNastaliq.ttc\n",
      "Al Bayan /System/Library/Fonts/Supplemental/AlBayan.ttc\n",
      "Noto Sans Tai Le /System/Library/Fonts/Supplemental/NotoSansTaiLe-Regular.ttf\n",
      "Courier New /System/Library/Fonts/Supplemental/Courier New Bold Italic.ttf\n",
      "Bodoni 72 Smallcaps /System/Library/Fonts/Supplemental/Bodoni 72 Smallcaps Book.ttf\n",
      "Malayalam Sangam MN /System/Library/Fonts/Supplemental/Malayalam Sangam MN.ttc\n",
      ".SF NS Display Condensed /System/Library/Fonts/SFNSDisplayCondensed-Thin.otf\n",
      ".SF NS Mono /System/Library/Fonts/SFNSMono.ttf\n",
      "Bodoni Ornaments /System/Library/Fonts/Supplemental/Bodoni Ornaments.ttf\n",
      "Bradley Hand /System/Library/Fonts/Supplemental/Bradley Hand Bold.ttf\n",
      "Herculanum /System/Library/Fonts/Supplemental/Herculanum.ttf\n",
      ".Helvetica Neue DeskInterface /System/Library/Fonts/HelveticaNeueDeskInterface.ttc\n",
      ".LastResort /System/Library/Fonts/LastResort.otf\n",
      "Zapf Dingbats /System/Library/Fonts/ZapfDingbats.ttf\n",
      "Cochin /System/Library/Fonts/Supplemental/Cochin.ttc\n",
      "Arial Narrow /System/Library/Fonts/Supplemental/Arial Narrow.ttf\n",
      "STIXGeneral /System/Library/Fonts/Supplemental/STIXGeneralBolIta.otf\n",
      "Malayalam MN /System/Library/Fonts/Supplemental/Malayalam MN.ttc\n",
      "Apple Braille /System/Library/Fonts/Apple Braille Pinpoint 6 Dot.ttf\n",
      ".Keyboard /System/Library/Fonts/Keyboard.ttf\n",
      ".SF NS Text Condensed /System/Library/Fonts/SFNSTextCondensed-Regular.otf\n",
      "Hiragino Sans /System/Library/Fonts/ヒラギノ角ゴシック W1.ttc\n",
      "STIXSizeFourSym /System/Library/Fonts/Supplemental/STIXSizFourSymBol.otf\n",
      "STIXIntegralsD /System/Library/Fonts/Supplemental/STIXIntDBol.otf\n",
      "Euphemia UCAS /System/Library/Fonts/Supplemental/EuphemiaCAS.ttc\n",
      "DIN Condensed /System/Library/Fonts/Supplemental/DIN Condensed Bold.ttf\n",
      "Khmer Sangam MN /System/Library/Fonts/Supplemental/Khmer Sangam MN.ttf\n",
      "STIXNonUnicode /System/Library/Fonts/Supplemental/STIXNonUniBolIta.otf\n",
      "Arial /System/Library/Fonts/Supplemental/Arial Bold.ttf\n",
      ".New York /System/Library/Fonts/NewYork.ttf\n",
      "Trebuchet MS /System/Library/Fonts/Supplemental/Trebuchet MS Bold Italic.ttf\n",
      "KufiStandardGK /System/Library/Fonts/Supplemental/KufiStandardGK.ttc\n",
      "Kannada Sangam MN /System/Library/Fonts/Supplemental/Kannada Sangam MN.ttc\n",
      "Noto Sans Ogham /System/Library/Fonts/Supplemental/NotoSansOgham-Regular.ttf\n",
      "Noto Serif Myanmar /System/Library/Fonts/NotoSerifMyanmar.ttc\n",
      "Noto Sans Lycian /System/Library/Fonts/Supplemental/NotoSansLycian-Regular.ttf\n",
      ".SF Compact Text /System/Library/Fonts/SFCompactTextItalic.ttf\n",
      "Apple Braille /System/Library/Fonts/Apple Braille Outline 8 Dot.ttf\n",
      "Snell Roundhand /System/Library/Fonts/Supplemental/SnellRoundhand.ttc\n",
      "Noto Serif Balinese /System/Library/Fonts/Supplemental/NotoSerifBalinese-Regular.ttf\n",
      "Noto Sans Tagalog /System/Library/Fonts/Supplemental/NotoSansTagalog-Regular.ttf\n",
      "Noto Sans Old South Arabian /System/Library/Fonts/Supplemental/NotoSansOldSouthArabian-Regular.ttf\n",
      "Telugu Sangam MN /System/Library/Fonts/Supplemental/Telugu Sangam MN.ttc\n",
      "Heiti TC /System/Library/Fonts/STHeiti Light.ttc\n",
      "STIXSizeOneSym /System/Library/Fonts/Supplemental/STIXSizOneSymReg.otf\n",
      "Arial Black /System/Library/Fonts/Supplemental/Arial Black.ttf\n",
      "Myanmar MN /System/Library/Fonts/Supplemental/Myanmar MN.ttc\n",
      "STIXNonUnicode /System/Library/Fonts/Supplemental/STIXNonUniIta.otf\n",
      "Impact /System/Library/Fonts/Supplemental/Impact.ttf\n",
      "Comic Sans MS /System/Library/Fonts/Supplemental/Comic Sans MS.ttf\n",
      "Noto Sans Carian /System/Library/Fonts/Supplemental/NotoSansCarian-Regular.ttf\n",
      "STIXSizeFiveSym /System/Library/Fonts/Supplemental/STIXSizFiveSymReg.otf\n",
      "Arial /System/Library/Fonts/Supplemental/Arial.ttf\n",
      "Arial Narrow /System/Library/Fonts/Supplemental/Arial Narrow Bold Italic.ttf\n",
      "Farah /System/Library/Fonts/Supplemental/Farah.ttc\n",
      "Noto Sans Lydian /System/Library/Fonts/Supplemental/NotoSansLydian-Regular.ttf\n",
      "STIXSizeThreeSym /System/Library/Fonts/Supplemental/STIXSizThreeSymReg.otf\n",
      "STIXNonUnicode /System/Library/Fonts/Supplemental/STIXNonUni.otf\n",
      "DIN Alternate /System/Library/Fonts/Supplemental/DIN Alternate Bold.ttf\n",
      "STIXIntegralsUp /System/Library/Fonts/Supplemental/STIXIntUpBol.otf\n",
      "Diwan Kufi /System/Library/Fonts/Supplemental/Diwan Kufi.ttc\n",
      "Noto Sans Runic /System/Library/Fonts/Supplemental/NotoSansRunic-Regular.ttf\n",
      "Hoefler Text /System/Library/Fonts/Supplemental/Hoefler Text.ttc\n",
      "Geeza Pro /System/Library/Fonts/GeezaPro.ttc\n",
      ".SF NS Text Condensed /System/Library/Fonts/SFNSTextCondensed-Semibold.otf\n",
      "Noto Sans Bamum /System/Library/Fonts/Supplemental/NotoSansBamum-Regular.ttf\n",
      ".SF NS Display Condensed /System/Library/Fonts/SFNSDisplayCondensed-Regular.otf\n",
      "Avenir Next /System/Library/Fonts/Avenir Next.ttc\n",
      "Farisi /System/Library/Fonts/Supplemental/Farisi.ttf\n",
      ".Arabic UI Text /System/Library/Fonts/ArabicUIText.ttc\n",
      "Thonburi /System/Library/Fonts/Thonburi.ttc\n",
      ".SF NS Display Condensed /System/Library/Fonts/SFNSDisplayCondensed-Light.otf\n",
      "Al Tarikh /System/Library/Fonts/Supplemental/Al Tarikh.ttc\n",
      ".SF NS Text Condensed /System/Library/Fonts/SFNSTextCondensed-Bold.otf\n",
      "Lao MN /System/Library/Fonts/Supplemental/Lao MN.ttc\n",
      "Arial Narrow /System/Library/Fonts/Supplemental/Arial Narrow Italic.ttf\n",
      "Noto Sans Ol Chiki /System/Library/Fonts/Supplemental/NotoSansOlChiki-Regular.ttf\n",
      "Noto Sans Lisu /System/Library/Fonts/Supplemental/NotoSansLisu-Regular.ttf\n",
      "Kohinoor Gujarati /System/Library/Fonts/KohinoorGujarati.ttc\n",
      ".SF Compact Display /System/Library/Fonts/SFCompactDisplay.ttf\n",
      "Papyrus /System/Library/Fonts/Supplemental/Papyrus.ttc\n",
      "Heiti TC /System/Library/Fonts/STHeiti Medium.ttc\n",
      "Mishafi /System/Library/Fonts/Supplemental/Mishafi.ttf\n",
      "Andale Mono /System/Library/Fonts/Supplemental/Andale Mono.ttf\n",
      "Times New Roman /System/Library/Fonts/Supplemental/Times New Roman Bold Italic.ttf\n",
      "Gurmukhi Sangam MN /System/Library/Fonts/Supplemental/Gurmukhi Sangam MN.ttc\n",
      "Wingdings 3 /System/Library/Fonts/Supplemental/Wingdings 3.ttf\n",
      "Corsiva Hebrew /System/Library/Fonts/Supplemental/Corsiva.ttc\n",
      "Mshtakan /System/Library/Fonts/Supplemental/Mshtakan.ttc\n",
      "Courier New /System/Library/Fonts/Supplemental/Courier New Italic.ttf\n",
      "Charter /System/Library/Fonts/Supplemental/Charter.ttc\n",
      "ITF Devanagari /System/Library/Fonts/Supplemental/ITFDevanagari.ttc\n",
      "Noto Sans PhagsPa /System/Library/Fonts/Supplemental/NotoSansPhagsPa-Regular.ttf\n",
      "Noto Sans Rejang /System/Library/Fonts/Supplemental/NotoSansRejang-Regular.ttf\n",
      "PT Serif Caption /System/Library/Fonts/Supplemental/PTSerifCaption.ttc\n",
      "Noto Sans New Tai Lue /System/Library/Fonts/Supplemental/NotoSansNewTaiLue-Regular.ttf\n",
      "Krungthep /System/Library/Fonts/Supplemental/Krungthep.ttf\n",
      "STIXIntegralsUpSm /System/Library/Fonts/Supplemental/STIXIntUpSmReg.otf\n",
      "Georgia /System/Library/Fonts/Supplemental/Georgia Italic.ttf\n",
      "Noto Sans Saurashtra /System/Library/Fonts/Supplemental/NotoSansSaurashtra-Regular.ttf\n",
      "Noto Sans Syriac /System/Library/Fonts/Supplemental/NotoSansSyriac-Regular.ttf\n",
      "Noto Sans Kharoshthi /System/Library/Fonts/Supplemental/NotoSansKharoshthi-Regular.ttf\n",
      "Bangla Sangam MN /System/Library/Fonts/Supplemental/Bangla Sangam MN.ttc\n",
      "Noto Sans Egyptian Hieroglyphs /System/Library/Fonts/Supplemental/NotoSansEgyptianHieroglyphs-Regular.ttf\n",
      "Noto Sans Osmanya /System/Library/Fonts/Supplemental/NotoSansOsmanya-Regular.ttf\n",
      "Hiragino Sans /System/Library/Fonts/ヒラギノ角ゴシック W6.ttc\n",
      "System Font /System/Library/Fonts/SFNSItalic.ttf\n",
      "Noto Sans Myanmar /System/Library/Fonts/NotoSansMyanmar.ttc\n"
     ]
    }
   ],
   "source": [
    "for f in fm.fontManager.ttflist:\n",
    "    print(f.name, f.fname)  # 폰트이름, 폰트파일경로"
   ]
  },
  {
   "cell_type": "markdown",
   "metadata": {},
   "source": [
    "원하는 폰트명 찾기"
   ]
  },
  {
   "cell_type": "code",
   "execution_count": 8,
   "metadata": {
    "ExecuteTime": {
     "end_time": "2020-08-15T13:55:35.115044Z",
     "start_time": "2020-08-15T13:55:35.104073Z"
    },
    "collapsed": true
   },
   "outputs": [
    {
     "data": {
      "text/plain": [
       "[]"
      ]
     },
     "execution_count": 8,
     "metadata": {},
     "output_type": "execute_result"
    }
   ],
   "source": [
    "[(f.name,f.fname) for f in fm.fontManager.ttflist if 'malg' in f.name.lower()]  \n",
    "#mac : AppleGothic\n",
    "# 설정시 폰트 이름을 사용"
   ]
  },
  {
   "cell_type": "markdown",
   "metadata": {},
   "source": [
    "## 폰트등 환경 설정하기 \n",
    "###  설정파일 변경\n",
    "- 한번만 하면 되므로 편리하다."
   ]
  },
  {
   "cell_type": "markdown",
   "metadata": {},
   "source": [
    "설정파일 경로찾기: `matplotlib.matplotlib_fname()`\n",
    "matplotlib 관련 전역 설정들을 찾아 바꿔준다.\n",
    "- 폰트 관련 설정\n",
    "```\n",
    "font.family:Malgun Gothic\n",
    "font.size:12\n",
    "xtick.labelsize:12\n",
    "ytick.labelsize:12 \n",
    "axes.labelsize:12  \n",
    "axes.unicode_minus:False\n",
    "```"
   ]
  },
  {
   "cell_type": "code",
   "execution_count": null,
   "metadata": {
    "ExecuteTime": {
     "end_time": "2020-08-15T13:55:55.271132Z",
     "start_time": "2020-08-15T13:55:55.255175Z"
    }
   },
   "outputs": [],
   "source": [
    "mpl.matplotlib_fname()"
   ]
  },
  {
   "cell_type": "markdown",
   "metadata": {},
   "source": [
    "### 함수를 이용해 설정\n",
    "- `matplotlib.rcParam['설정'] = 값` 으로 변경"
   ]
  },
  {
   "cell_type": "code",
   "execution_count": null,
   "metadata": {
    "ExecuteTime": {
     "end_time": "2020-08-15T14:11:34.301675Z",
     "start_time": "2020-08-15T14:11:34.279765Z"
    }
   },
   "outputs": [],
   "source": [
    "import matplotlib as mpl\n",
    "from matplotlib import font_manager as fm\n",
    "\n",
    "# 한글 폰트 설정\n",
    "font_name = fm.FontProperties(fname=\"c:/Windows/Fonts/malgun.ttf\").get_name()\n",
    "\n",
    "mpl.rcParams[\"font.family\"] = font_name\n",
    "mpl.rcParams[\"font.size\"] = 15\n",
    "mpl.rcParams['xtick.labelsize'] = 12\n",
    "mpl.rcParams['ytick.labelsize'] = 12\n",
    "mpl.rcParams['axes.labelsize'] = 15\n",
    "# tick의 음수기호 '-' 가 깨지는 것 처리\n",
    "mpl.rcParams['axes.unicode_minus'] = False"
   ]
  },
  {
   "cell_type": "code",
   "execution_count": null,
   "metadata": {
    "ExecuteTime": {
     "end_time": "2020-08-15T14:15:52.038055Z",
     "start_time": "2020-08-15T14:15:51.909350Z"
    }
   },
   "outputs": [],
   "source": [
    "import matplotlib.pyplot as plt\n",
    "plt.plot(range(-5,6))\n",
    "plt.xlabel(\"X값\")\n",
    "plt.ylabel(\"Y값\")\n",
    "plt.title('matplotlib 예제')\n",
    "plt.show()"
   ]
  },
  {
   "cell_type": "code",
   "execution_count": null,
   "metadata": {},
   "outputs": [],
   "source": []
  },
  {
   "cell_type": "markdown",
   "metadata": {},
   "source": [
    "## For Mac\n",
    "- 맥북에서는 아래와 같은 방법을 사용한다."
   ]
  },
  {
   "cell_type": "code",
   "execution_count": 9,
   "metadata": {},
   "outputs": [],
   "source": [
    "import matplotlib.pyplot as plt\n",
    "from matplotlib import rc\n",
    "import seaborn as sns\n",
    "%matplotlib inline"
   ]
  },
  {
   "cell_type": "code",
   "execution_count": 10,
   "metadata": {},
   "outputs": [],
   "source": [
    "rc('font', family='AppleGothic')\n",
    "\n",
    "plt.rcParams['axes.unicode_minus'] = False"
   ]
  },
  {
   "cell_type": "code",
   "execution_count": null,
   "metadata": {},
   "outputs": [],
   "source": []
  }
 ],
 "metadata": {
  "kernelspec": {
   "display_name": "Python 3",
   "language": "python",
   "name": "python3"
  },
  "language_info": {
   "codemirror_mode": {
    "name": "ipython",
    "version": 3
   },
   "file_extension": ".py",
   "mimetype": "text/x-python",
   "name": "python",
   "nbconvert_exporter": "python",
   "pygments_lexer": "ipython3",
   "version": "3.6.5"
  },
  "toc": {
   "base_numbering": 1,
   "nav_menu": {},
   "number_sections": true,
   "sideBar": true,
   "skip_h1_title": false,
   "title_cell": "Table of Contents",
   "title_sidebar": "Contents",
   "toc_cell": false,
   "toc_position": {},
   "toc_section_display": true,
   "toc_window_display": false
  },
  "varInspector": {
   "cols": {
    "lenName": 16,
    "lenType": 16,
    "lenVar": 40
   },
   "kernels_config": {
    "python": {
     "delete_cmd_postfix": "",
     "delete_cmd_prefix": "del ",
     "library": "var_list.py",
     "varRefreshCmd": "print(var_dic_list())"
    },
    "r": {
     "delete_cmd_postfix": ") ",
     "delete_cmd_prefix": "rm(",
     "library": "var_list.r",
     "varRefreshCmd": "cat(var_dic_list()) "
    }
   },
   "types_to_exclude": [
    "module",
    "function",
    "builtin_function_or_method",
    "instance",
    "_Feature"
   ],
   "window_display": false
  }
 },
 "nbformat": 4,
 "nbformat_minor": 2
}
