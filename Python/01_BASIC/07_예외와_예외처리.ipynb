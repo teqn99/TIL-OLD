{
 "cells": [
  {
   "cell_type": "code",
   "execution_count": 28,
   "metadata": {},
   "outputs": [
    {
     "name": "stdout",
     "output_type": "stream",
     "text": [
      "숫저 입력(0 제외):10\n",
      "결과: 1.0\n",
      "뺀 결과: 0\n"
     ]
    }
   ],
   "source": [
    "a = 10\n",
    "b = int(input('숫저 입력(0 제외):'))\n",
    "try:    # 예외가 발생할 가능성이 있는 코드를 시도해라. - try 블럭\n",
    "    c = a / b\n",
    "    print(f'결과: {c}')\n",
    "\n",
    "except: # ZeroDivisionError:    # 만약에 예외가 발생한다면 except 블럭을 실행\n",
    "    print('0으로 나눌 수 없음.')\n",
    "\n",
    "d = a - b\n",
    "print(f'뺀 결과: {d}')"
   ]
  },
  {
   "cell_type": "code",
   "execution_count": 29,
   "metadata": {},
   "outputs": [
    {
     "name": "stdout",
     "output_type": "stream",
     "text": [
      "숫저 입력(0 제외):0\n",
      "0으로 나눌 수 없음.\n",
      "뺀 결과: 10\n"
     ]
    }
   ],
   "source": [
    "a = 10\n",
    "b = int(input('숫저 입력(0 제외):'))\n",
    "try:    # 예외가 발생할 가능성이 있는 코드를 시도해라. - try 블럭\n",
    "    c = a / b\n",
    "    print(f'결과: {c}')\n",
    "\n",
    "except ZeroDivisionError:    # 만약에 예외가 발생한다면 except 블럭을 실행\n",
    "    print('0으로 나눌 수 없음.')\n",
    "\n",
    "d = a - b\n",
    "print(f'뺀 결과: {d}')"
   ]
  },
  {
   "cell_type": "code",
   "execution_count": null,
   "metadata": {},
   "outputs": [],
   "source": []
  },
  {
   "cell_type": "code",
   "execution_count": 27,
   "metadata": {},
   "outputs": [
    {
     "name": "stdout",
     "output_type": "stream",
     "text": [
      "1\n",
      "4\n",
      "2\n",
      "3\n",
      "['1', '4', '2', '3']\n"
     ]
    }
   ],
   "source": [
    "a = 1423\n",
    "for i in str(a):\n",
    "    print(i)\n",
    "    \n",
    "print(list(str(a)))"
   ]
  },
  {
   "cell_type": "code",
   "execution_count": null,
   "metadata": {},
   "outputs": [],
   "source": []
  },
  {
   "cell_type": "code",
   "execution_count": 86,
   "metadata": {},
   "outputs": [
    {
     "name": "stdout",
     "output_type": "stream",
     "text": [
      "try blokck opened\n",
      "finally block opened\n",
      "end\n"
     ]
    }
   ],
   "source": [
    "# try - except 구문에서 구문과 상관없이 무조건 사용되야하면 -> finally 사용\n",
    "# finally는 거의 연결을 닫는 용도로 사용됨.\n",
    "try:\n",
    "    #print(1/0)\n",
    "    print('try blokck opened')\n",
    "except ZeroDivisionError:\n",
    "    print('except block opened')\n",
    "finally:    # 무조건 실행되는 코드 블록 - I/O에서 외부자원과 연결을 닫는 코드를 작성\n",
    "    print('finally block opened')\n",
    "print('end')"
   ]
  },
  {
   "cell_type": "markdown",
   "metadata": {},
   "source": [
    "## 함수 / 메소드 호출 흐름\n",
    "- call stack mechanism"
   ]
  },
  {
   "cell_type": "code",
   "execution_count": 115,
   "metadata": {},
   "outputs": [],
   "source": [
    "def a():\n",
    "    print('*' * 30)\n",
    "    print('a started')\n",
    "    try:\n",
    "        b()\n",
    "    except:\n",
    "        print('a made exception')\n",
    "    print('a ended')\n",
    "    print('*' * 30)\n",
    "    \n",
    "def b():\n",
    "    print('*' * 15)\n",
    "    print('b started')\n",
    "    #try:\n",
    "    #    c()\n",
    "    #except:\n",
    "    #    print('b made exception')\n",
    "    c()\n",
    "    print('b ended')\n",
    "    print('*' * 15)\n",
    "    \n",
    "def c():\n",
    "    print('c started')\n",
    "    print(10/0)\n",
    "    print('c ended')"
   ]
  },
  {
   "cell_type": "code",
   "execution_count": 116,
   "metadata": {},
   "outputs": [
    {
     "name": "stdout",
     "output_type": "stream",
     "text": [
      "******************************\n",
      "a started\n",
      "***************\n",
      "b started\n",
      "c started\n",
      "a made exception\n",
      "a ended\n",
      "******************************\n"
     ]
    }
   ],
   "source": [
    "a()"
   ]
  },
  {
   "cell_type": "markdown",
   "metadata": {},
   "source": [
    "### 예외 클래스 정의 및 예외 발생"
   ]
  },
  {
   "cell_type": "code",
   "execution_count": 156,
   "metadata": {},
   "outputs": [],
   "source": [
    "# 예외 클래스 정의: 이름 관례 - ~~~Error\n",
    "class InvalidMonthError(Exception):\n",
    "    \n",
    "    def __init__(self, invalid_month):\n",
    "        self.invalid_month = invalid_month\n",
    "        \n",
    "    def __str__(self):\n",
    "        return f'{self.invalid_month} - 사용할 수 없는 월, 1 ~ 12만 가능'"
   ]
  },
  {
   "cell_type": "code",
   "execution_count": 157,
   "metadata": {},
   "outputs": [],
   "source": [
    "def set_month(month):\n",
    "    \"\"\"\n",
    "    월을 변경하는 함수\n",
    "    [매개변수]\n",
    "        month : int - 변경할 월 ( 1 ~ 12 사이의 수 )\n",
    "    [반환값]\n",
    "    [exception]\n",
    "        변경할 수 없는 월을 매개변수로 받으면 발생\n",
    "    \"\"\"\n",
    "    if month >= 1 and month <= 12:\n",
    "        print(f'{month}월로 변경')\n",
    "    else:\n",
    "        # 예외를 발생\n",
    "        raise InvalidMonthError(month)"
   ]
  },
  {
   "cell_type": "code",
   "execution_count": 158,
   "metadata": {},
   "outputs": [
    {
     "ename": "InvalidMonthError",
     "evalue": "100 - 사용할 수 없는 월, 1 ~ 12만 가능",
     "output_type": "error",
     "traceback": [
      "\u001b[0;31m---------------------------------------------------------------------------\u001b[0m",
      "\u001b[0;31mInvalidMonthError\u001b[0m                         Traceback (most recent call last)",
      "\u001b[0;32m<ipython-input-158-f9015072953c>\u001b[0m in \u001b[0;36m<module>\u001b[0;34m\u001b[0m\n\u001b[0;32m----> 1\u001b[0;31m \u001b[0mset_month\u001b[0m\u001b[0;34m(\u001b[0m\u001b[0;36m100\u001b[0m\u001b[0;34m)\u001b[0m\u001b[0;34m\u001b[0m\u001b[0m\n\u001b[0m\u001b[1;32m      2\u001b[0m \u001b[0;31m# raise Exception()을 통해 예외 상황을 처리 못하도록 막는 방법\u001b[0m\u001b[0;34m\u001b[0m\u001b[0;34m\u001b[0m\u001b[0m\n\u001b[1;32m      3\u001b[0m \u001b[0mprint\u001b[0m\u001b[0;34m(\u001b[0m\u001b[0;34m'다음 작업 진행'\u001b[0m\u001b[0;34m)\u001b[0m\u001b[0;34m\u001b[0m\u001b[0m\n",
      "\u001b[0;32m<ipython-input-157-975f45e6cf61>\u001b[0m in \u001b[0;36mset_month\u001b[0;34m(month)\u001b[0m\n\u001b[1;32m     12\u001b[0m     \u001b[0;32melse\u001b[0m\u001b[0;34m:\u001b[0m\u001b[0;34m\u001b[0m\u001b[0m\n\u001b[1;32m     13\u001b[0m         \u001b[0;31m# 예외를 발생\u001b[0m\u001b[0;34m\u001b[0m\u001b[0;34m\u001b[0m\u001b[0m\n\u001b[0;32m---> 14\u001b[0;31m         \u001b[0;32mraise\u001b[0m \u001b[0mInvalidMonthError\u001b[0m\u001b[0;34m(\u001b[0m\u001b[0mmonth\u001b[0m\u001b[0;34m)\u001b[0m\u001b[0;34m\u001b[0m\u001b[0m\n\u001b[0m",
      "\u001b[0;31mInvalidMonthError\u001b[0m: 100 - 사용할 수 없는 월, 1 ~ 12만 가능"
     ]
    }
   ],
   "source": [
    "set_month(100)\n",
    "# raise Exception()을 통해 예외 상황을 처리 못하도록 막는 방법\n",
    "print('다음 작업 진행')"
   ]
  },
  {
   "cell_type": "code",
   "execution_count": 162,
   "metadata": {},
   "outputs": [
    {
     "name": "stdout",
     "output_type": "stream",
     "text": [
      "100은 안됨,100 - 사용할 수 없는 월, 1 ~ 12만 가능,100\n",
      "1월로 변경\n",
      "다음 작업 진행\n"
     ]
    }
   ],
   "source": [
    "try:\n",
    "    set_month(100)\n",
    "except InvalidMonthError as e :    # except 예외클래스 as 변수: 변수를 이용해 raise된 Exception객체를 받을 수 있다.\n",
    "    print('100은 안됨', e, e.invalid_month, sep = ',')\n",
    "    set_month(1)\n",
    "print('다음 작업 진행')"
   ]
  },
  {
   "cell_type": "code",
   "execution_count": null,
   "metadata": {},
   "outputs": [],
   "source": []
  },
  {
   "cell_type": "code",
   "execution_count": null,
   "metadata": {},
   "outputs": [],
   "source": [
    "# 주문함수\n",
    "1. 재고량을 조회\n",
    "2. 주문량과 재고량을 비교\n",
    "    2-1 재고량 >= 주문량 : 정상 주문 처리\n",
    "    2-2 재고량 < 주문량 : 주문 처리 (X) => 예외를 발생"
   ]
  },
  {
   "cell_type": "code",
   "execution_count": 163,
   "metadata": {},
   "outputs": [],
   "source": [
    "# 주문처리를 못하는 상황에서 발생시킬 예외 클래스\n",
    "class OrderError(Exception):\n",
    "    def __init__(self, error_message):\n",
    "        self.message = error_message\n",
    "        \n",
    "    def __str__(self):\n",
    "        return self.message"
   ]
  },
  {
   "cell_type": "code",
   "execution_count": 179,
   "metadata": {},
   "outputs": [],
   "source": [
    "def order(order_amount):\n",
    "    \"\"\"\n",
    "    [매개변수]\n",
    "        order_amount : int - 주문량    \n",
    "    \"\"\"\n",
    "    # 재고량을 조회\n",
    "    stock_amount = 10\n",
    "    \n",
    "    # 주문 처리\n",
    "    stock_amount = stock_amount - order_amount\n",
    "    \n",
    "    if stock_amount >= 0:\n",
    "        print('주문 처리 완료')\n",
    "        print(f'주문처리량: {order_amount}, 주문후 재고량: {stock_amount}')\n",
    "    \n",
    "    else:\n",
    "        raise OrderError(f'주문 오류: 주문량이 재고량보다 많습니다. 주문량: 주문처리량: {order_amount}, 주문후 재고량: {stock_amount}')"
   ]
  },
  {
   "cell_type": "code",
   "execution_count": 184,
   "metadata": {},
   "outputs": [
    {
     "name": "stdout",
     "output_type": "stream",
     "text": [
      "주문 오류: 주문량이 재고량보다 많습니다. 주문량: 주문처리량: 100, 주문후 재고량: -90\n"
     ]
    }
   ],
   "source": [
    "# 주문요청(Call)\n",
    "try:\n",
    "    order(100)\n",
    "except OrderError as e:\n",
    "    print(e)"
   ]
  },
  {
   "cell_type": "code",
   "execution_count": null,
   "metadata": {},
   "outputs": [],
   "source": [
    "return : 함수 / 메소드의 정상 종료\n",
    "raise : 함수 / 메소드의 비정상 종료"
   ]
  },
  {
   "cell_type": "code",
   "execution_count": null,
   "metadata": {},
   "outputs": [],
   "source": []
  },
  {
   "cell_type": "code",
   "execution_count": null,
   "metadata": {},
   "outputs": [],
   "source": []
  },
  {
   "cell_type": "code",
   "execution_count": null,
   "metadata": {},
   "outputs": [],
   "source": []
  },
  {
   "cell_type": "code",
   "execution_count": null,
   "metadata": {},
   "outputs": [],
   "source": []
  },
  {
   "cell_type": "code",
   "execution_count": null,
   "metadata": {},
   "outputs": [],
   "source": []
  },
  {
   "cell_type": "code",
   "execution_count": null,
   "metadata": {},
   "outputs": [],
   "source": []
  },
  {
   "cell_type": "code",
   "execution_count": 130,
   "metadata": {},
   "outputs": [
    {
     "data": {
      "text/plain": [
       "[1, 3]"
      ]
     },
     "execution_count": 130,
     "metadata": {},
     "output_type": "execute_result"
    }
   ],
   "source": [
    "a = 5\n",
    "b = 3\n",
    "c = 5\n",
    "ans = [a, b, c]\n",
    "answer = []\n",
    "ans.index(max(ans))\n",
    "for i, v in enumerate(ans):\n",
    "    if v == max(ans):\n",
    "        answer.append(i + 1)\n",
    "        \n",
    "answer"
   ]
  },
  {
   "cell_type": "code",
   "execution_count": 145,
   "metadata": {},
   "outputs": [],
   "source": [
    "def solution(answers):\n",
    "    answer = []\n",
    "    p1 = [1, 2, 3, 4, 5] * len(answers)\n",
    "    p2 = [2, 1, 2, 3, 2, 4, 2, 5] * len(answers)\n",
    "    p3 = [3, 3, 1, 1, 2, 2, 4, 4, 5, 5] * len(answers)\n",
    "    p1 = p1[:len(answers)]\n",
    "    p2 = p2[:len(answers)]\n",
    "    p3 = p3[:len(answers)]\n",
    "    \n",
    "    num1, num2, num3 = 0, 0, 0\n",
    "    \n",
    "    for i, v in enumerate(p1):\n",
    "        if v == answers[i]:\n",
    "            num1 += 1\n",
    "            \n",
    "    for i, v in enumerate(p2):\n",
    "        if v == answers[i]:\n",
    "            num2 += 1\n",
    "            \n",
    "    for i, v in enumerate(p3):\n",
    "        if v == answers[i]:\n",
    "            num3 += 1\n",
    "            \n",
    "    ans = [num1, num2, num3]\n",
    "    for i, v in enumerate(ans):\n",
    "        if v == max(ans):\n",
    "            answer.append(i + 1)\n",
    "\n",
    "    return answer"
   ]
  },
  {
   "cell_type": "code",
   "execution_count": 146,
   "metadata": {},
   "outputs": [
    {
     "data": {
      "text/plain": [
       "[1, 2, 3]"
      ]
     },
     "execution_count": 146,
     "metadata": {},
     "output_type": "execute_result"
    }
   ],
   "source": [
    "solution([1, 3, 2, 4, 2])"
   ]
  },
  {
   "cell_type": "code",
   "execution_count": null,
   "metadata": {},
   "outputs": [],
   "source": []
  }
 ],
 "metadata": {
  "kernelspec": {
   "display_name": "Python 3",
   "language": "python",
   "name": "python3"
  },
  "language_info": {
   "codemirror_mode": {
    "name": "ipython",
    "version": 3
   },
   "file_extension": ".py",
   "mimetype": "text/x-python",
   "name": "python",
   "nbconvert_exporter": "python",
   "pygments_lexer": "ipython3",
   "version": "3.6.5"
  }
 },
 "nbformat": 4,
 "nbformat_minor": 4
}
