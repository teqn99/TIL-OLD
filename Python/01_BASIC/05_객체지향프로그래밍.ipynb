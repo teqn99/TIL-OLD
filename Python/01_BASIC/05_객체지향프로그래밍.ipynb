{
 "cells": [
  {
   "cell_type": "markdown",
   "metadata": {},
   "source": [
    "# 객체지향 프로그래밍\n",
    "## Class(클래스) 정의\n",
    "- 객체의 설계도\n",
    "    - 동일한 형태의 객체들이 가져야하는 Attribute와 메소드(Method)를 정의한 것\n",
    "    - 클래스로부터 객체(instance)를 생성\n",
    "- 구문\n",
    "``` python\n",
    "class 클래스이름 : # 클래스 선언부\n",
    "    # 클래스 구현부\n",
    "    # 메소드들을 정의\n",
    "```\n",
    "- 클래스 이름의 관례 \n",
    "    - 파스칼 표기법: 각 단어의 첫글자는 대문자 나머지는 소문자\n",
    "        - ex) BankAccount, Person ...\n",
    "- 객체 생성\n",
    "``` python\n",
    "변수 = 클래스이름()\n",
    "```"
   ]
  },
  {
   "cell_type": "markdown",
   "metadata": {},
   "source": [
    "### Person 클래스를 작성\n",
    "- 객체 구성 요소\n",
    "    - Instance 속성 (Attribute)\n",
    "        - 객체의 데이터 / 상태\n",
    "        - 변수 - instance 변수 (Variable)\n",
    "    - Instance Method\n",
    "        - 객체가 제공하는 기능\n",
    "        - 함수를 객체에 넣은 것\n",
    "1. Person의 속성은 ?\n",
    "    - 이름, 주소, 나이 등\n",
    "2. Person Method ?"
   ]
  },
  {
   "cell_type": "code",
   "execution_count": 2,
   "metadata": {},
   "outputs": [],
   "source": [
    "# Person 클래스 정의 : 코드작성 + 실행\n",
    "class Person:\n",
    "    pass"
   ]
  },
  {
   "cell_type": "code",
   "execution_count": 6,
   "metadata": {},
   "outputs": [],
   "source": [
    "# 객체(instance) 생성\n",
    "p1 = Person()"
   ]
  },
  {
   "cell_type": "code",
   "execution_count": 5,
   "metadata": {},
   "outputs": [
    {
     "name": "stdout",
     "output_type": "stream",
     "text": [
      "<class '__main__.Person'>\n"
     ]
    }
   ],
   "source": [
    "print(type(p1))\n",
    "# class는 instance의 타입\n",
    "# instance는 class의 값"
   ]
  },
  {
   "cell_type": "code",
   "execution_count": 7,
   "metadata": {},
   "outputs": [
    {
     "name": "stdout",
     "output_type": "stream",
     "text": [
      "<class 'int'> <class 'str'> <class 'list'> <class 'bool'> <class 'float'>\n"
     ]
    }
   ],
   "source": [
    "print(type(10), type('abc'), type([1, 2, 3]), type(True), type(3.5))"
   ]
  },
  {
   "cell_type": "markdown",
   "metadata": {},
   "source": [
    "### Attribute\n",
    "- instance 변수\n",
    "- instance에 Attrubute를 추가\n",
    "    1. Initializer(생성자)를 이용해 추가\n",
    "        - 추가할 때 사용\n",
    "    2. 객체.속성명 = 값\n",
    "        - 주로 변경할 때 사용 (추천 x)\n",
    "    3. 메소드를 이용\n",
    "        - 주로 변경할 때 사용\n",
    "- 조회\n",
    "    - 객체.속성명"
   ]
  },
  {
   "cell_type": "code",
   "execution_count": 8,
   "metadata": {},
   "outputs": [],
   "source": [
    "p1.name = 'max'"
   ]
  },
  {
   "cell_type": "code",
   "execution_count": 10,
   "metadata": {},
   "outputs": [],
   "source": [
    "p1.age = 30\n",
    "p1.address = 'NYC'"
   ]
  },
  {
   "cell_type": "code",
   "execution_count": 12,
   "metadata": {},
   "outputs": [
    {
     "name": "stdout",
     "output_type": "stream",
     "text": [
      "NYC\n"
     ]
    }
   ],
   "source": [
    "print(p1.address)"
   ]
  },
  {
   "cell_type": "code",
   "execution_count": 13,
   "metadata": {},
   "outputs": [
    {
     "ename": "AttributeError",
     "evalue": "'Person' object has no attribute 'email'",
     "output_type": "error",
     "traceback": [
      "\u001b[0;31m---------------------------------------------------------------------------\u001b[0m",
      "\u001b[0;31mAttributeError\u001b[0m                            Traceback (most recent call last)",
      "\u001b[0;32m<ipython-input-13-67f272052189>\u001b[0m in \u001b[0;36m<module>\u001b[0;34m\u001b[0m\n\u001b[0;32m----> 1\u001b[0;31m \u001b[0mprint\u001b[0m\u001b[0;34m(\u001b[0m\u001b[0mp1\u001b[0m\u001b[0;34m.\u001b[0m\u001b[0memail\u001b[0m\u001b[0;34m)\u001b[0m\u001b[0;34m\u001b[0m\u001b[0m\n\u001b[0m",
      "\u001b[0;31mAttributeError\u001b[0m: 'Person' object has no attribute 'email'"
     ]
    }
   ],
   "source": [
    "print(p1.email)"
   ]
  },
  {
   "cell_type": "markdown",
   "metadata": {},
   "source": [
    "## Initializer (생성자)\n",
    "- 역할: 클래스로부터 instance를 생성할 때 instance 변수(속성)을 초기화 하는 역할\n",
    "- 객체 생성할 때 딱 한번만 호출되는 특이한 형태의 메소드 \n",
    "- 구문\n",
    "\n",
    "``` python\n",
    "class 클래스:\n",
    "    \n",
    "    def __init__(self [, 매개변수, ...]):\n",
    "        # 구현 \n",
    "        # self.변수명 = 값\n",
    "        \n",
    "```\n",
    "\n",
    "\n",
    "## self 변수\n",
    "- 생성자(Initializer)나 메소드(객체의 기능)의 첫번째 매개변수로 선언\n",
    "    - 현재 객체(instance)를 전달받는 변수\n",
    "- Initializer의 self: 현재 생성되고 있는 객체\n",
    "- 메소드: 메소드를 호출한 객체 (메소드 소유 객체)\n",
    "- 생성자 / 메소드 정의시, 호출시 전달받을 값을 저장하는 매개변수는 두번째부터 선언한다."
   ]
  },
  {
   "cell_type": "code",
   "execution_count": 45,
   "metadata": {},
   "outputs": [],
   "source": [
    "class Person:\n",
    "    # initializer(생성자) 구현\n",
    "    def __init__(self, name, age, address):\n",
    "        # Attribute에 매개변수로 받은 값으로 초기화\n",
    "        self.name = name    # self.name = instance 변수 name\n",
    "        self.age = age\n",
    "        self.address = address\n",
    "        self.age2 = age + 100    # age2는 별도의 입력 없이 age 입력을 통해 만들어지게 되는 변수"
   ]
  },
  {
   "cell_type": "code",
   "execution_count": 36,
   "metadata": {},
   "outputs": [],
   "source": [
    "# 클래스이름(): __init__()를 호출하는 것\n",
    "# --> Person()만 적으면 name, age, address에 대한 정보가 없어 오류 발생\n",
    "\n",
    "# p1 = Person('max', 30, 'NYC')\n",
    "p1 = Person(name = 'max', age = 30, address = 'NYC')"
   ]
  },
  {
   "cell_type": "code",
   "execution_count": 37,
   "metadata": {},
   "outputs": [
    {
     "name": "stdout",
     "output_type": "stream",
     "text": [
      "max 30 NYC 130\n"
     ]
    }
   ],
   "source": [
    "print(p1.name, p1.age, p1.address, p1.age2)"
   ]
  },
  {
   "cell_type": "code",
   "execution_count": 22,
   "metadata": {},
   "outputs": [],
   "source": [
    "p2 = Person('min', 10, 'Brooklyn')"
   ]
  },
  {
   "cell_type": "code",
   "execution_count": 24,
   "metadata": {},
   "outputs": [
    {
     "name": "stdout",
     "output_type": "stream",
     "text": [
      "min 10 Brooklyn\n"
     ]
    }
   ],
   "source": [
    "print(p2.name, p2.age, p2.address)"
   ]
  },
  {
   "cell_type": "code",
   "execution_count": 25,
   "metadata": {},
   "outputs": [
    {
     "name": "stdout",
     "output_type": "stream",
     "text": [
      "max 30 NYC\n"
     ]
    }
   ],
   "source": [
    "print(p1.name, p1.age, p1.address)"
   ]
  },
  {
   "cell_type": "markdown",
   "metadata": {},
   "source": [
    "## instance 메소드(Method)\n",
    "- 객체의 기능(객체가 제공하는 기능)\n",
    "- 주로 instance변수(Attribute)의 값을 처리하는 역할\n",
    "- 구문 (함수구문과 **거의** 동일)\n",
    "\n",
    "```python\n",
    "def 이름(self [, 매개변수, ...]):\n",
    "    # 구현부\n",
    "    # self를 이용해서 객체의 속성이나 메소드를 호출 \n",
    "```\n",
    "- 메소드 이름 관례는 함수 / 변수와 동일\n",
    "    - snake 표기법: 다 소문자로 주고, 단어와 단어는 '_'로 연결\n",
    "- self 매개변수: 메소드가 호출된 객체(instance)를 가리킨다.\n",
    "- 메소드 호출\n",
    "    - 객체.메소드이름(argument1 [, argument2, ...])\n",
    "    - argument1 -> 두번째 매개변수, argument2 -> 세번째 매개변수, ...\n",
    "    "
   ]
  },
  {
   "cell_type": "code",
   "execution_count": 49,
   "metadata": {},
   "outputs": [],
   "source": [
    "class Person2:\n",
    "    # 생성자\n",
    "    def __init__(self, name, age, address = None):\n",
    "        self.name = name\n",
    "        self.age = age\n",
    "        self.address = address\n",
    "        \n",
    "    # 모든 instance 변수의 값들을 출력하는 메소드\n",
    "    def print_info(self):\n",
    "        print(f'이름: {self.name}, 나이: {self.age}, 주소: {self.address}')\n",
    "        \n",
    "    # 모든 instance 변수의 값들을 한 번에 변경하는 메소드\n",
    "    def set_info(self, name, age, address):\n",
    "        self.name = name\n",
    "        self.age = age\n",
    "        self.address = address\n",
    "        \n",
    "    # 나이에 매개변수로 받은 값을 더한 값으로 변경하는 매소드\n",
    "    def add_age(self, add_age = 0):\n",
    "        self.age += add_age"
   ]
  },
  {
   "cell_type": "code",
   "execution_count": 50,
   "metadata": {},
   "outputs": [],
   "source": [
    "p1 = Person2('Daniel', 40, 'LA')"
   ]
  },
  {
   "cell_type": "code",
   "execution_count": 51,
   "metadata": {},
   "outputs": [
    {
     "name": "stdout",
     "output_type": "stream",
     "text": [
      "이름: Daniel, 나이: 40, 주소: LA\n"
     ]
    }
   ],
   "source": [
    "info = p1.print_info()"
   ]
  },
  {
   "cell_type": "code",
   "execution_count": 52,
   "metadata": {},
   "outputs": [],
   "source": [
    "p1.set_info('Robert', 30, 'NYC')"
   ]
  },
  {
   "cell_type": "code",
   "execution_count": 53,
   "metadata": {},
   "outputs": [
    {
     "name": "stdout",
     "output_type": "stream",
     "text": [
      "이름: Robert, 나이: 30, 주소: NYC\n"
     ]
    }
   ],
   "source": [
    "p1.print_info()"
   ]
  },
  {
   "cell_type": "code",
   "execution_count": 55,
   "metadata": {},
   "outputs": [
    {
     "name": "stdout",
     "output_type": "stream",
     "text": [
      "None\n"
     ]
    }
   ],
   "source": [
    "print(info)"
   ]
  },
  {
   "cell_type": "code",
   "execution_count": 56,
   "metadata": {},
   "outputs": [],
   "source": [
    "p1.add_age(3)"
   ]
  },
  {
   "cell_type": "code",
   "execution_count": 57,
   "metadata": {},
   "outputs": [
    {
     "name": "stdout",
     "output_type": "stream",
     "text": [
      "이름: Robert, 나이: 33, 주소: NYC\n"
     ]
    }
   ],
   "source": [
    "p1.print_info()"
   ]
  },
  {
   "cell_type": "code",
   "execution_count": null,
   "metadata": {},
   "outputs": [],
   "source": []
  },
  {
   "cell_type": "markdown",
   "metadata": {},
   "source": [
    "## 정보 은닉 (Information Hidding)\n",
    "- instance 변수 (Attribute)의 값을 외부에서 직접 접근(호출)하지 못하도록 막는다.\n",
    "- 목적: 마음대로 값을 변경하지 못하도록 한다.\n",
    "- instance 변수의 값을 변경(setter) / 조회(getter) 할 수 있는 메소드를 제공한다.\n",
    "    - setter: instance 변수의 값을 변경하는 메소드, 관례상 set으로 시작\n",
    "    - getter: instance 변수의 값을 조회(반환)하는 메소드, 관례상 get으로 시작\n",
    "- 구현\n",
    "    - instance 변수의 이름을 __ 으로 시작   ex) 'self.__name', 'self.__age'\n",
    "    - getter / setter 메소드를 제공    ex) set_name, get_age"
   ]
  },
  {
   "cell_type": "code",
   "execution_count": 84,
   "metadata": {},
   "outputs": [],
   "source": [
    "class MyDate:\n",
    "    \"\"\"\n",
    "    instance 변수로 년, 월, 일 (날짜) 를 관리하는 클래스 \n",
    "    \"\"\"\n",
    "    def __init__(self, year, month, day):\n",
    "        self.__year = year\n",
    "        self.__month = month\n",
    "        self.__day = day\n",
    "        \n",
    "    def set_month(self, month):\n",
    "        \"\"\"\n",
    "        월을 변경하는 메소드\n",
    "        [매개변수]\n",
    "            month: int - 월 (범위 : 1 ~ 12)\n",
    "        \"\"\"\n",
    "        if month >= 1 and month <= 12:\n",
    "            self.__month = month    # __변수 : 같은 클래스 안에서는 호출 가능\n",
    "        else:\n",
    "            print(f'{month}는 잘못된 월입니다. 1 ~ 12 만 가능합니당.')\n",
    "            \n",
    "    def get_month(self):\n",
    "        \"\"\"\n",
    "        instance 변수 월을 반환하는 메소드\n",
    "        [반환값]\n",
    "            int: 월\n",
    "        \"\"\"\n",
    "        return self.__month"
   ]
  },
  {
   "cell_type": "code",
   "execution_count": 85,
   "metadata": {},
   "outputs": [],
   "source": [
    "date = MyDate(2021, 1, 13)"
   ]
  },
  {
   "cell_type": "code",
   "execution_count": 86,
   "metadata": {},
   "outputs": [
    {
     "ename": "AttributeError",
     "evalue": "'MyDate' object has no attribute '__month'",
     "output_type": "error",
     "traceback": [
      "\u001b[0;31m---------------------------------------------------------------------------\u001b[0m",
      "\u001b[0;31mAttributeError\u001b[0m                            Traceback (most recent call last)",
      "\u001b[0;32m<ipython-input-86-c7b9795ab840>\u001b[0m in \u001b[0;36m<module>\u001b[0;34m\u001b[0m\n\u001b[0;32m----> 1\u001b[0;31m \u001b[0mprint\u001b[0m\u001b[0;34m(\u001b[0m\u001b[0mdate\u001b[0m\u001b[0;34m.\u001b[0m\u001b[0m__month\u001b[0m\u001b[0;34m)\u001b[0m\u001b[0;34m\u001b[0m\u001b[0m\n\u001b[0m",
      "\u001b[0;31mAttributeError\u001b[0m: 'MyDate' object has no attribute '__month'"
     ]
    }
   ],
   "source": [
    "print(date.__month)"
   ]
  },
  {
   "cell_type": "code",
   "execution_count": 87,
   "metadata": {},
   "outputs": [
    {
     "name": "stdout",
     "output_type": "stream",
     "text": [
      "1\n"
     ]
    }
   ],
   "source": [
    "print(date.get_month())"
   ]
  },
  {
   "cell_type": "code",
   "execution_count": 88,
   "metadata": {},
   "outputs": [],
   "source": [
    "date.set_month(5)"
   ]
  },
  {
   "cell_type": "code",
   "execution_count": 89,
   "metadata": {},
   "outputs": [
    {
     "name": "stdout",
     "output_type": "stream",
     "text": [
      "5\n"
     ]
    }
   ],
   "source": [
    "print(date.get_month())"
   ]
  },
  {
   "cell_type": "code",
   "execution_count": 90,
   "metadata": {},
   "outputs": [
    {
     "name": "stdout",
     "output_type": "stream",
     "text": [
      "1300는 잘못된 월입니다. 1 ~ 12 만 가능합니당.\n"
     ]
    }
   ],
   "source": [
    "date.set_month(1300)"
   ]
  },
  {
   "cell_type": "code",
   "execution_count": 91,
   "metadata": {},
   "outputs": [
    {
     "name": "stdout",
     "output_type": "stream",
     "text": [
      "5\n"
     ]
    }
   ],
   "source": [
    "print(date.get_month())"
   ]
  },
  {
   "cell_type": "code",
   "execution_count": 93,
   "metadata": {},
   "outputs": [
    {
     "data": {
      "text/plain": [
       "{'_MyDate__year': 2021, '_MyDate__month': 5, '_MyDate__day': 13}"
      ]
     },
     "execution_count": 93,
     "metadata": {},
     "output_type": "execute_result"
    }
   ],
   "source": [
    "# 객체.__dict__ : 객체의 instance 변수들을 확인\n",
    "date.__dict__"
   ]
  },
  {
   "cell_type": "code",
   "execution_count": 97,
   "metadata": {},
   "outputs": [
    {
     "name": "stdout",
     "output_type": "stream",
     "text": [
      "2021\n"
     ]
    }
   ],
   "source": [
    "print(date._MyDate__year)\n",
    "# _year라는 것을 파이썬내에서 Hidding 처리하여 _클래스이름__변수이름 의 형태로 저장\n",
    "# MyDate의 __year이기 때문에 -> _MyDate__year로 변환 저장"
   ]
  },
  {
   "cell_type": "code",
   "execution_count": 100,
   "metadata": {},
   "outputs": [],
   "source": [
    "date.__month = 1000"
   ]
  },
  {
   "cell_type": "code",
   "execution_count": 101,
   "metadata": {},
   "outputs": [
    {
     "data": {
      "text/plain": [
       "{'_MyDate__year': 2021,\n",
       " '_MyDate__month': 5,\n",
       " '_MyDate__day': 13,\n",
       " '__month': 1000}"
      ]
     },
     "execution_count": 101,
     "metadata": {},
     "output_type": "execute_result"
    }
   ],
   "source": [
    "date.__dict__"
   ]
  },
  {
   "cell_type": "code",
   "execution_count": 153,
   "metadata": {},
   "outputs": [],
   "source": [
    "class MyDate2:\n",
    "    def __init__(self, year, month, day):\n",
    "        self.__year = year\n",
    "        self.__month = month\n",
    "        self.__day = day\n",
    "        \n",
    "    def set_year(self, year):\n",
    "        print('>>> set year')\n",
    "        self.__year = year\n",
    "    \n",
    "    def get_year(self):\n",
    "        print('>>> get year')\n",
    "        return self.__year\n",
    "    \n",
    "    #------------------------------------------\n",
    "    \n",
    "    def set_month(self, month):\n",
    "        print('>>> set month')\n",
    "        self.__month = month\n",
    "        \n",
    "    def get_month(self):\n",
    "        print('>>> get month')\n",
    "        return self.__month\n",
    "    \n",
    "    #------------------------------------------\n",
    "    \n",
    "    def set_day(self, day):\n",
    "        print('>>> set day')\n",
    "        self.__day = day\n",
    "        \n",
    "    def get_day(self):\n",
    "        print('>>> get day')\n",
    "        return self.__day\n",
    "    \n",
    "    # 변수명 = property(getter, setter)\n",
    "    # 외부에서 변수명으로 호출하면 getter 메소드를 / 변수에 값을 대입하면 setter 메소드를 호출해준다.\n",
    "    # 편의를 위해 사용\n",
    "    year = property(get_year, set_year)    # 변수 year의 값을 조회하면 get_year, 대입하면 set_year를 호출한다.\n",
    "    month = property(get_month, set_month)\n",
    "    day = property(get_day, set_day)"
   ]
  },
  {
   "cell_type": "code",
   "execution_count": 142,
   "metadata": {},
   "outputs": [],
   "source": [
    "today = MyDate2(2014,1, 14)"
   ]
  },
  {
   "cell_type": "code",
   "execution_count": 143,
   "metadata": {},
   "outputs": [
    {
     "name": "stdout",
     "output_type": "stream",
     "text": [
      ">>> get year\n",
      "2014\n"
     ]
    }
   ],
   "source": [
    "print(today.year)"
   ]
  },
  {
   "cell_type": "code",
   "execution_count": 144,
   "metadata": {},
   "outputs": [
    {
     "name": "stdout",
     "output_type": "stream",
     "text": [
      ">>> set year\n"
     ]
    }
   ],
   "source": [
    "today.year = 2030"
   ]
  },
  {
   "cell_type": "code",
   "execution_count": 145,
   "metadata": {},
   "outputs": [
    {
     "name": "stdout",
     "output_type": "stream",
     "text": [
      ">>> get year\n",
      "2030\n"
     ]
    }
   ],
   "source": [
    "print(today.year)"
   ]
  },
  {
   "cell_type": "code",
   "execution_count": 146,
   "metadata": {},
   "outputs": [
    {
     "name": "stdout",
     "output_type": "stream",
     "text": [
      ">>> get month\n",
      "1\n"
     ]
    }
   ],
   "source": [
    "print(today.month)"
   ]
  },
  {
   "cell_type": "code",
   "execution_count": 147,
   "metadata": {},
   "outputs": [
    {
     "name": "stdout",
     "output_type": "stream",
     "text": [
      ">>> set month\n"
     ]
    }
   ],
   "source": [
    "today.month = 10"
   ]
  },
  {
   "cell_type": "code",
   "execution_count": 148,
   "metadata": {},
   "outputs": [
    {
     "name": "stdout",
     "output_type": "stream",
     "text": [
      ">>> get month\n",
      "10\n"
     ]
    }
   ],
   "source": [
    "print(today.month)"
   ]
  },
  {
   "cell_type": "code",
   "execution_count": 149,
   "metadata": {},
   "outputs": [
    {
     "name": "stdout",
     "output_type": "stream",
     "text": [
      ">>> get day\n",
      "14\n"
     ]
    }
   ],
   "source": [
    "print(today.day)"
   ]
  },
  {
   "cell_type": "code",
   "execution_count": 150,
   "metadata": {},
   "outputs": [
    {
     "name": "stdout",
     "output_type": "stream",
     "text": [
      ">>> set day\n"
     ]
    }
   ],
   "source": [
    "today.day = 30"
   ]
  },
  {
   "cell_type": "code",
   "execution_count": 151,
   "metadata": {},
   "outputs": [
    {
     "name": "stdout",
     "output_type": "stream",
     "text": [
      ">>> get day\n",
      "30\n"
     ]
    }
   ],
   "source": [
    "print(today.day)"
   ]
  },
  {
   "cell_type": "code",
   "execution_count": 152,
   "metadata": {},
   "outputs": [
    {
     "data": {
      "text/plain": [
       "{'_MyDate2__year': 2030, '_MyDate2__month': 10, '_MyDate2__day': 30}"
      ]
     },
     "execution_count": 152,
     "metadata": {},
     "output_type": "execute_result"
    }
   ],
   "source": [
    "today.__dict__"
   ]
  },
  {
   "cell_type": "code",
   "execution_count": 175,
   "metadata": {},
   "outputs": [],
   "source": [
    "# setter / getter + property 변수를 지정하는 것을 setter / getter 메소드에 짓접 설정\n",
    "# 데코레이터(Decorater) 이용\n",
    "# 1. getter / setter 메소드의 이름을 호출될 때 사용할 변수명으로 지정\n",
    "# 2. getter 메소드에 @property 데코레이터를 추가 \n",
    "# 3. setter 메소드에 @getter 메소드의 이름.setter 데코레이터를 추가\n",
    "# 메소드 정의 순서: 반드시 getter를 먼저 정의\n",
    "# getter / setter 메소드 명은 동일"
   ]
  },
  {
   "cell_type": "code",
   "execution_count": 183,
   "metadata": {},
   "outputs": [],
   "source": [
    "class MyDate3:\n",
    "    def __init__(self, year, month, day):\n",
    "        self.__year = year\n",
    "        self.__month = month\n",
    "        self.__day = day\n",
    "        \n",
    "    # year의 값을 반환하는 메소드 (getter)\n",
    "    @property\n",
    "    def year(self):\n",
    "        return self.__year\n",
    "    \n",
    "    @year.setter\n",
    "    def year(self, year):\n",
    "        self.__year = year\n",
    "        \n",
    "    @property\n",
    "    def month(self):\n",
    "        return self.__month\n",
    "    \n",
    "    @month.setter\n",
    "    def month(self, month):\n",
    "        self.__month = month\n",
    "        \n",
    "    @property\n",
    "    def day(self):\n",
    "        return self.__day\n",
    "    \n",
    "    @day.setter\n",
    "    def day(self, day):\n",
    "        self.__day = day"
   ]
  },
  {
   "cell_type": "code",
   "execution_count": 184,
   "metadata": {},
   "outputs": [],
   "source": [
    "today = MyDate3(2021, 1, 13)"
   ]
  },
  {
   "cell_type": "code",
   "execution_count": 185,
   "metadata": {},
   "outputs": [
    {
     "name": "stdout",
     "output_type": "stream",
     "text": [
      "2021\n"
     ]
    }
   ],
   "source": [
    "print(today.year)"
   ]
  },
  {
   "cell_type": "code",
   "execution_count": 186,
   "metadata": {},
   "outputs": [],
   "source": [
    "today.year = 2022"
   ]
  },
  {
   "cell_type": "code",
   "execution_count": 187,
   "metadata": {},
   "outputs": [
    {
     "name": "stdout",
     "output_type": "stream",
     "text": [
      "2022\n"
     ]
    }
   ],
   "source": [
    "print(today.year)"
   ]
  },
  {
   "cell_type": "code",
   "execution_count": 188,
   "metadata": {},
   "outputs": [],
   "source": [
    "today.month = 8"
   ]
  },
  {
   "cell_type": "code",
   "execution_count": 189,
   "metadata": {},
   "outputs": [
    {
     "name": "stdout",
     "output_type": "stream",
     "text": [
      "8\n"
     ]
    }
   ],
   "source": [
    "print(today.month)"
   ]
  },
  {
   "cell_type": "code",
   "execution_count": 190,
   "metadata": {},
   "outputs": [],
   "source": [
    "today.day = 19"
   ]
  },
  {
   "cell_type": "code",
   "execution_count": 191,
   "metadata": {},
   "outputs": [
    {
     "name": "stdout",
     "output_type": "stream",
     "text": [
      "19\n"
     ]
    }
   ],
   "source": [
    "print(today.day)"
   ]
  },
  {
   "cell_type": "code",
   "execution_count": 192,
   "metadata": {},
   "outputs": [
    {
     "data": {
      "text/plain": [
       "{'_MyDate3__year': 2022, '_MyDate3__month': 8, '_MyDate3__day': 19}"
      ]
     },
     "execution_count": 192,
     "metadata": {},
     "output_type": "execute_result"
    }
   ],
   "source": [
    "today.__dict__"
   ]
  },
  {
   "cell_type": "markdown",
   "metadata": {},
   "source": [
    "## TODO \n",
    "- 제품 : 클래스 구현\n",
    "- 속성 : 제품ID(str), 제품이름(str), 제품가격(int), 제조사(str)\n",
    "    - 정보 은닉에 맞춰서 작성. 값을 대입 / 조회하는 것은 변수 처리할 수 있도록\n",
    "- 메소드 : 전체 정보를 출력하는 메소드\n",
    "\n",
    "메소드 : setter - 4개 / getter - 4개, 전체 정보를 출력하는 메소드 1개\n"
   ]
  },
  {
   "cell_type": "code",
   "execution_count": 265,
   "metadata": {},
   "outputs": [],
   "source": [
    "class Item:\n",
    "    def __init__(self, pro_id, name, price, company):\n",
    "        self.__pro_id = pro_id\n",
    "        self.__name = name\n",
    "        self.__price = price\n",
    "        self.__company = company\n",
    "    \n",
    "    @property\n",
    "    def pro_id(self):\n",
    "        return self.__pro_id\n",
    "    \n",
    "    @pro_id.setter\n",
    "    def pro_id(self, pro_id):\n",
    "        self.__pro_id = pro_id\n",
    "        \n",
    "    @property\n",
    "    def name(self):\n",
    "        return self.__name\n",
    "    \n",
    "    @name.setter\n",
    "    def name(self, name):\n",
    "        self.__pro_id = name\n",
    "        \n",
    "    @property\n",
    "    def price(self):\n",
    "        return self.__price\n",
    "    \n",
    "    @price.setter\n",
    "    def price(self, price):\n",
    "        self.__price = price\n",
    "        \n",
    "    @property\n",
    "    def company(self):\n",
    "        return self.__company\n",
    "    \n",
    "    @company.setter\n",
    "    def company(self, company):\n",
    "        self.__company = company\n",
    "        \n",
    "    def print_all_info(self):\n",
    "        print(f'제품ID: {self.__pro_id}, 제품이름: {self.__name}, 가격: {self.__price}, 제조사: {self.__company}')\n",
    "        # instance 변수를 직접 호출\n",
    " #       print(f'제품ID: {self.pro_id}, 제품이름: {self.name}, 가격: {self.price}, 제조사: {self.company}')\n",
    "        # getter 메소드 호출"
   ]
  },
  {
   "cell_type": "code",
   "execution_count": 224,
   "metadata": {},
   "outputs": [
    {
     "name": "stdout",
     "output_type": "stream",
     "text": [
      "제품ID: id-1, 제품이름: 노트북, 가격: 300000, 제조사: 삼성\n",
      "id-100\n",
      "노트북\n",
      "2000000\n",
      "apple\n"
     ]
    }
   ],
   "source": [
    "item = Item('id-1', '노트북', 300000, '삼성')\n",
    "item.print_all_info()\n",
    "\n",
    "# id를 변경\n",
    "item.id = 'id-100'\n",
    "\n",
    "# id를 조회\n",
    "print(item.id)\n",
    "\n",
    "# 이름을 변경\n",
    "item.name = 'mac book air'\n",
    "\n",
    "# 이름을 조회\n",
    "print(item.name)\n",
    "\n",
    "# price를 변경\n",
    "item.price = 2000000\n",
    "\n",
    "# price를 조회\n",
    "print(item.price)\n",
    "\n",
    "# company 변경\n",
    "item.company = 'apple'\n",
    "\n",
    "# company 조회\n",
    "print(item.company)"
   ]
  },
  {
   "cell_type": "code",
   "execution_count": 266,
   "metadata": {},
   "outputs": [
    {
     "name": "stdout",
     "output_type": "stream",
     "text": [
      "제품ID: mac book air, 제품이름: 노트북, 가격: 2000000, 제조사: apple\n"
     ]
    }
   ],
   "source": [
    "item.print_all_info()"
   ]
  },
  {
   "cell_type": "markdown",
   "metadata": {},
   "source": [
    "## 상속\n",
    "- 기존 클래스를 확장해서 새로운 클래스를 구현하는 방식\n"
   ]
  },
  {
   "cell_type": "code",
   "execution_count": 1,
   "metadata": {},
   "outputs": [],
   "source": [
    "class Person:\n",
    "    def eat(self):\n",
    "        print('people can eat')    # 모든 하위 클래스들에 적용될 수 있는 구현 -> 메소드의 구현이 추상적"
   ]
  },
  {
   "cell_type": "code",
   "execution_count": 3,
   "metadata": {},
   "outputs": [],
   "source": [
    "# eat(), study()\n",
    "# Person: 상위(super) 클래스 \n",
    "# Student: 하위(sub) 클래스 \n",
    "\n",
    "class Student(Person):\n",
    "    def study(self):\n",
    "        print('students have to study')"
   ]
  },
  {
   "cell_type": "code",
   "execution_count": 6,
   "metadata": {},
   "outputs": [],
   "source": [
    "class Teacher(Person):\n",
    "    def teach(self):\n",
    "        print('Teachers have to teach Students')"
   ]
  },
  {
   "cell_type": "code",
   "execution_count": null,
   "metadata": {},
   "outputs": [],
   "source": []
  },
  {
   "cell_type": "code",
   "execution_count": 14,
   "metadata": {},
   "outputs": [
    {
     "name": "stdout",
     "output_type": "stream",
     "text": [
      "students have to study\n",
      "people can eat\n"
     ]
    }
   ],
   "source": [
    "s = Student()\n",
    "s.study()\n",
    "s.eat()"
   ]
  },
  {
   "cell_type": "code",
   "execution_count": 15,
   "metadata": {},
   "outputs": [
    {
     "name": "stdout",
     "output_type": "stream",
     "text": [
      "Teachers have to teach Students\n",
      "people can eat\n"
     ]
    }
   ],
   "source": [
    "t = Teacher()\n",
    "t.teach()\n",
    "t.eat()"
   ]
  },
  {
   "cell_type": "code",
   "execution_count": 18,
   "metadata": {},
   "outputs": [],
   "source": [
    "# 상속받은 메소드를 하위 클래스에서 재정의할 수 있다. -- 메소드 오버라이딩(Method overriding)\n",
    "# 상위클래스에 정의된 메소드는 추상적이므로 하위클래스에서 그 클래스가 해야하는 동작에 맞게 구현을 재정의하는 것 \n",
    "class Student2(Person):\n",
    "    def eat(self):\n",
    "        print('students can eat also')\n",
    "    \n",
    "    def study(self):\n",
    "        print('Students have to study more')"
   ]
  },
  {
   "cell_type": "code",
   "execution_count": 17,
   "metadata": {},
   "outputs": [
    {
     "name": "stdout",
     "output_type": "stream",
     "text": [
      "Students have to study more\n",
      "students can eat also\n"
     ]
    }
   ],
   "source": [
    "s2 = Student2()\n",
    "s2.study()\n",
    "s2.eat()"
   ]
  },
  {
   "cell_type": "code",
   "execution_count": 19,
   "metadata": {},
   "outputs": [],
   "source": [
    "class Person:\n",
    "    \n",
    "    def __init__(self, name, age):\n",
    "        self.name = name\n",
    "        self.age = age\n",
    "        \n",
    "    def eat(self):\n",
    "        print(f'{self.name}님이 드신다.')\n",
    "        \n",
    "    def get_info(self):\n",
    "        return f'이름: {self.name}, 나이: {self.age}'"
   ]
  },
  {
   "cell_type": "code",
   "execution_count": 20,
   "metadata": {},
   "outputs": [
    {
     "name": "stdout",
     "output_type": "stream",
     "text": [
      "Niki님이 드신다.\n",
      "이름: Niki, 나이: 30\n"
     ]
    }
   ],
   "source": [
    "p = Person('Niki', 30)\n",
    "p.eat()\n",
    "info = p.get_info()\n",
    "print(info)"
   ]
  },
  {
   "cell_type": "code",
   "execution_count": 29,
   "metadata": {},
   "outputs": [],
   "source": [
    "class Student(Person):\n",
    "    \n",
    "    def __init__(self, name, age, school_name):\n",
    "        super().__init__(name, age)    # 상위클래스의 __init__을 호출해서 거기다 name, age를 넣어라!\n",
    "        self.school_name = school_name\n",
    "        \n",
    "    def get_info(self):\n",
    "        info = super().get_info()    # get_info()함수가 부모 클래스에 있기 때문에, super()를 붙임.\n",
    "        return info + f', 학교이름: {self.school_name}'\n",
    "        "
   ]
  },
  {
   "cell_type": "code",
   "execution_count": 30,
   "metadata": {},
   "outputs": [
    {
     "name": "stdout",
     "output_type": "stream",
     "text": [
      "이름: Max, 나이: 10, 학교이름: High School\n"
     ]
    }
   ],
   "source": [
    "s = Student('Max', 10, 'High School')\n",
    "inf = s.get_info()\n",
    "print(inf)"
   ]
  },
  {
   "cell_type": "markdown",
   "metadata": {},
   "source": [
    "클래스이름() - Student('aa', 20, 'aaa') : 객체생성\n",
    "1. 객체를 만든다. \n",
    "    - 상속: 상위 / 하위 클래스의 객체를 모두 생성 - 상속으로 묶인다.\n",
    "2. 생성자 호출('__ init __')\n",
    "    - 상속: super().__ init __()을 이용해 하위클래스의 생성자에서 상위클래스의 생성자를 호출할 수 있다."
   ]
  },
  {
   "cell_type": "markdown",
   "metadata": {},
   "source": [
    "## 다중상속\n",
    "- 여러 클래스를 상속받는 것\n",
    "- MRO(Method Resolution Order): 메소드를 찾는 순서\n",
    "    1. 자기 자신\n",
    "    2. 상위 클래스: 먼저 선언된 클래스 순서로 메소드를 찾는다. (왼쪽 -> 오른쪽)"
   ]
  },
  {
   "cell_type": "code",
   "execution_count": 7,
   "metadata": {},
   "outputs": [],
   "source": [
    "class Printer:\n",
    "    def printe(self):\n",
    "        print('프린트 한다.')\n",
    "        \n",
    "    def test(self):\n",
    "        print('프린트 기능 테스트')\n",
    "        \n",
    "class Saver:\n",
    "    def save(self):\n",
    "        print('저장한다.')\n",
    "        \n",
    "    def test(self):\n",
    "        print('저장기능 테스트')\n",
    "        "
   ]
  },
  {
   "cell_type": "code",
   "execution_count": 8,
   "metadata": {},
   "outputs": [],
   "source": [
    "class WordProcessor(Printer, Saver):\n",
    "    def write(self):\n",
    "        print('글을 작성한다.')\n",
    "    "
   ]
  },
  {
   "cell_type": "code",
   "execution_count": 9,
   "metadata": {},
   "outputs": [
    {
     "name": "stdout",
     "output_type": "stream",
     "text": [
      "글을 작성한다.\n",
      "프린트 한다.\n",
      "저장한다.\n"
     ]
    }
   ],
   "source": [
    "wp = WordProcessor()\n",
    "wp.write()\n",
    "wp.printe()\n",
    "wp.save()"
   ]
  },
  {
   "cell_type": "code",
   "execution_count": 10,
   "metadata": {},
   "outputs": [
    {
     "name": "stdout",
     "output_type": "stream",
     "text": [
      "프린트 기능 테스트\n"
     ]
    }
   ],
   "source": [
    "wp.test()\n",
    "# 다중 상속이므로, 나열된 부모클래스의 순서(왼 -> 오)대로 먼저 test()함수가 있는지 확인하고, 먼저 있는 함수를 사용"
   ]
  },
  {
   "cell_type": "markdown",
   "metadata": {},
   "source": [
    "## 상속 / 객체 관련 메소드, 변수"
   ]
  },
  {
   "cell_type": "code",
   "execution_count": 11,
   "metadata": {},
   "outputs": [
    {
     "data": {
      "text/plain": [
       "(True, False)"
      ]
     },
     "execution_count": 11,
     "metadata": {},
     "output_type": "execute_result"
    }
   ],
   "source": [
    "#isinstance(객체, 클래스) - 객체가 클래스로부터 생성되었는 지 여부 / 객체가 클래스의 데이터 타입인지?\n",
    "isinstance('abc', str), isinstance('abc', int)"
   ]
  },
  {
   "cell_type": "code",
   "execution_count": 12,
   "metadata": {},
   "outputs": [],
   "source": [
    "def test(var):    # 매개변수 var의 타입이 int이면 \n",
    "    if isinstance(var, int):\n",
    "# -> if type(var) == int:\n",
    "        print(var + 20)\n",
    "    else:\n",
    "        print('only integer')"
   ]
  },
  {
   "cell_type": "code",
   "execution_count": 13,
   "metadata": {},
   "outputs": [
    {
     "name": "stdout",
     "output_type": "stream",
     "text": [
      "30\n"
     ]
    }
   ],
   "source": [
    "test(10)"
   ]
  },
  {
   "cell_type": "code",
   "execution_count": 14,
   "metadata": {},
   "outputs": [
    {
     "name": "stdout",
     "output_type": "stream",
     "text": [
      "only integer\n"
     ]
    }
   ],
   "source": [
    "test('asd')"
   ]
  },
  {
   "cell_type": "code",
   "execution_count": 15,
   "metadata": {},
   "outputs": [
    {
     "data": {
      "text/plain": [
       "True"
      ]
     },
     "execution_count": 15,
     "metadata": {},
     "output_type": "execute_result"
    }
   ],
   "source": [
    "isinstance(wp, WordProcessor)"
   ]
  },
  {
   "cell_type": "code",
   "execution_count": 17,
   "metadata": {},
   "outputs": [
    {
     "data": {
      "text/plain": [
       "(True, True)"
      ]
     },
     "execution_count": 17,
     "metadata": {},
     "output_type": "execute_result"
    }
   ],
   "source": [
    "# 객체의 타입을 물어보는 메소드\n",
    "# 객체 타입 : 생성할 때 사용한 클래스, 상위 클래스\n",
    "# wp 객체의 타입 = WordProcessor, Saver, Printer -> True\n",
    "\n",
    "isinstance(wp, Saver), isinstance(wp, Printer)"
   ]
  },
  {
   "cell_type": "code",
   "execution_count": 65,
   "metadata": {},
   "outputs": [],
   "source": [
    "# 객체.__dict__: 객체의 속성정보를 dictionary로 변환 (key = 속성명, value = 속성값) -> 객체 = 변환 => 딕셔너리"
   ]
  },
  {
   "cell_type": "code",
   "execution_count": 68,
   "metadata": {},
   "outputs": [
    {
     "data": {
      "text/plain": [
       "{'name': 'Max', 'age': 10, 'school_name': 'High School'}"
      ]
     },
     "execution_count": 68,
     "metadata": {},
     "output_type": "execute_result"
    }
   ],
   "source": [
    "s.__dict__    # 상위객체, 하위객체의 속성들을 모두 넣어서 반환"
   ]
  },
  {
   "cell_type": "code",
   "execution_count": 69,
   "metadata": {},
   "outputs": [
    {
     "data": {
      "text/plain": [
       "__main__.Student"
      ]
     },
     "execution_count": 69,
     "metadata": {},
     "output_type": "execute_result"
    }
   ],
   "source": [
    "s.__class__    # 클래스이름 -> __main__.Student (모듈.클래스이름)"
   ]
  },
  {
   "cell_type": "code",
   "execution_count": null,
   "metadata": {},
   "outputs": [],
   "source": []
  },
  {
   "cell_type": "code",
   "execution_count": null,
   "metadata": {},
   "outputs": [],
   "source": []
  },
  {
   "cell_type": "code",
   "execution_count": 18,
   "metadata": {},
   "outputs": [],
   "source": [
    "# 특수메소드, 매직메소드, 던더메소드\n",
    "\n",
    "class Person:\n",
    "    def __init__(self, name, age):\n",
    "        self.name = name\n",
    "        self.age = age\n",
    "        \n",
    "    def __str__(self):      # 자주 쓰임 (기억 해두기)\n",
    "        \"\"\"\n",
    "        객체를 문자열로 변환하는 메소드\n",
    "        내장함수 str()과 연동\n",
    "        [반환값]\n",
    "            str: 객체의 정보(데이터) -> instance 변수들\n",
    "        \"\"\"\n",
    "        print('>>>>>>>')\n",
    "        return f'이름: {self.name}, 나이: {self.age}'\n",
    "        \n",
    "    def __repr__(self):     # 거의 안쓰임\n",
    "        \"\"\"\n",
    "        객체를 표현하는 표현식을 문자열로 만들어 반환\n",
    "        내장함수 repr(객체)와 연동\n",
    "        [반환값]\n",
    "            str: 객체를 생성했던 코드를 문자열로 반환\n",
    "        \"\"\"\n",
    "        return f'Person(\"{self.name}\", {self.age})'\n",
    "    \n",
    "    def __eq__(self, other):\n",
    "        \"\"\"\n",
    "        == 연산자를 재정의, 객체의 instance 변수들의 값이 같으면 True가 나오도록 재정의\n",
    "        객체 1 == 객체 2 // self : 객체 1, other : 객체 2        \n",
    "        \"\"\"\n",
    "        result = False\n",
    "        if isinstance(other, Person):\n",
    "            if self.name == other.name and self.age == other.age:\n",
    "                result = True\n",
    "                \n",
    "        return result\n",
    "    \n",
    "    def __gt__(self, other):\n",
    "        \"\"\"\n",
    "        > 연산자를 재정의 \n",
    "        객체 1 > 객체 2 // self : 객체 1, other : 객체 2\n",
    "        \"\"\"\n",
    "        result = False\n",
    "        if isinstance(other, Person):\n",
    "            if self.age > other.age:\n",
    "                result = True\n",
    "        return result\n",
    "    \n",
    "#    __lt__(self,other) : self < other\n",
    "#    __ge__(self,other) : self >= other\n",
    "#    __le__(self,other) : self <= other\n",
    "#    __ne__(self,other) : self != other\n",
    "\n",
    "    def __add__(self, other):\n",
    "        \"\"\"\n",
    "        + 연산자를 재정의 \n",
    "        객체 1 + 객체 2 // self : 객체 1, other : 객체 2\n",
    "        \"\"\"\n",
    "        # 정수를 받아서 나이와 더한 값을 반환\n",
    "        if isinstance(other, int):\n",
    "            result = self.age + other\n",
    "        elif isinstance(other, Person):\n",
    "            result = self.age + other.age\n",
    "        return result\n",
    "    \n",
    "#    __sub__(self,other) : self - other\n",
    "#    __mul__(self,other) : self * other\n",
    "#    __truediv__(self,other) : self / other\n",
    "#    __floordiv__(self,other) : self // other (몫 연산)\n",
    "#    __mod__(self,other) : self % other"
   ]
  },
  {
   "cell_type": "code",
   "execution_count": 129,
   "metadata": {},
   "outputs": [],
   "source": [
    "p = Person('Mr.Hong', 20)\n",
    "p2 = Person('sdad', 30)\n",
    "p3 = Person('Mr.Hong', 20)"
   ]
  },
  {
   "cell_type": "code",
   "execution_count": 127,
   "metadata": {},
   "outputs": [
    {
     "data": {
      "text/plain": [
       "50"
      ]
     },
     "execution_count": 127,
     "metadata": {},
     "output_type": "execute_result"
    }
   ],
   "source": [
    "p + 30"
   ]
  },
  {
   "cell_type": "code",
   "execution_count": 130,
   "metadata": {},
   "outputs": [
    {
     "data": {
      "text/plain": [
       "50"
      ]
     },
     "execution_count": 130,
     "metadata": {},
     "output_type": "execute_result"
    }
   ],
   "source": [
    "p + p2"
   ]
  },
  {
   "cell_type": "code",
   "execution_count": 120,
   "metadata": {},
   "outputs": [
    {
     "data": {
      "text/plain": [
       "True"
      ]
     },
     "execution_count": 120,
     "metadata": {},
     "output_type": "execute_result"
    }
   ],
   "source": [
    "p2 > p\n",
    "# __gt__ 함수에 의해 가능해진 것"
   ]
  },
  {
   "cell_type": "code",
   "execution_count": 108,
   "metadata": {},
   "outputs": [
    {
     "data": {
      "text/plain": [
       "False"
      ]
     },
     "execution_count": 108,
     "metadata": {},
     "output_type": "execute_result"
    }
   ],
   "source": [
    "p == p2"
   ]
  },
  {
   "cell_type": "code",
   "execution_count": 110,
   "metadata": {},
   "outputs": [
    {
     "data": {
      "text/plain": [
       "True"
      ]
     },
     "execution_count": 110,
     "metadata": {},
     "output_type": "execute_result"
    }
   ],
   "source": [
    "p == p3\n",
    "# __eq__함수에 의해 가능해진 것"
   ]
  },
  {
   "cell_type": "code",
   "execution_count": null,
   "metadata": {},
   "outputs": [],
   "source": []
  },
  {
   "cell_type": "code",
   "execution_count": 96,
   "metadata": {},
   "outputs": [
    {
     "name": "stdout",
     "output_type": "stream",
     "text": [
      "Person(\"Mr.Hong\", 20)\n"
     ]
    }
   ],
   "source": [
    "r = repr(p)    #repr함수를 호출 p.__repr__\n",
    "print(r)"
   ]
  },
  {
   "cell_type": "code",
   "execution_count": 97,
   "metadata": {},
   "outputs": [
    {
     "name": "stdout",
     "output_type": "stream",
     "text": [
      "Person(\"sdad\", 30)\n"
     ]
    }
   ],
   "source": [
    "print(repr(p2))"
   ]
  },
  {
   "cell_type": "code",
   "execution_count": 100,
   "metadata": {},
   "outputs": [
    {
     "data": {
      "text/plain": [
       "2"
      ]
     },
     "execution_count": 100,
     "metadata": {},
     "output_type": "execute_result"
    }
   ],
   "source": [
    "eval('1+1')    # eval('파이썬 코드') -> 파이썬 코드로 실행"
   ]
  },
  {
   "cell_type": "code",
   "execution_count": 102,
   "metadata": {},
   "outputs": [
    {
     "data": {
      "text/plain": [
       "('Mr.Hong', 20)"
      ]
     },
     "execution_count": 102,
     "metadata": {},
     "output_type": "execute_result"
    }
   ],
   "source": [
    "a = eval(r)    # eval(Person(\"Mr.Hong\", 20))를 실행한것 -> eval함수가 Person(\"Mr.Hong\", 20)의 작업을 해준 것\n",
    "a.name, a.age"
   ]
  },
  {
   "cell_type": "code",
   "execution_count": null,
   "metadata": {},
   "outputs": [],
   "source": []
  },
  {
   "cell_type": "code",
   "execution_count": 77,
   "metadata": {},
   "outputs": [
    {
     "name": "stdout",
     "output_type": "stream",
     "text": [
      ">>>>>>>\n",
      "이름: Mr.Hong, 나이: 20\n"
     ]
    }
   ],
   "source": [
    "s = str(p)    # Person 객체를 문자열로 변환 : __str__()\n",
    "print(s)"
   ]
  },
  {
   "cell_type": "code",
   "execution_count": null,
   "metadata": {},
   "outputs": [],
   "source": []
  },
  {
   "cell_type": "markdown",
   "metadata": {},
   "source": [
    "## Class 변수, Class 메소드\n",
    "- class 변수: 클래스 자체의 변수(속성, 데이터), class 메소드: 클래스 변수를 처리하는 메소드\n",
    "    - instance(객체)와는 관계 없다.\n",
    "    \n",
    "## Static 메소드 ( 정적 메소드 )\n",
    "- 클래스의 기능을 제공하는 메소드\n",
    "    - 클래스 변수를 처리하는 일을 하지 않는다.\n",
    "    "
   ]
  },
  {
   "cell_type": "code",
   "execution_count": 43,
   "metadata": {},
   "outputs": [],
   "source": [
    "class Calculater:\n",
    "    \"\"\"다양한 연산을 하는 메소드들을 묶어놓은 클래스\"\"\"\n",
    "    # 클래스 변수: PI\n",
    "    # PI의 값은 변하면 안되기 때문에, 고정된 값이 필요\n",
    "    PI = 3.14\n",
    "    \n",
    "    # 반지름을 받아서 원의 넓이를 구하는 메소드\n",
    "    @classmethod\n",
    "    def circleArea(clzz, radius):\n",
    "        result = (radius ** 2) * clzz.PI\n",
    "        return result\n",
    "    \n",
    "    # staticmethod는 class의 속성들이나 instance의 속성들과는 관련없는 일들을 처리하기 위해 쓰였다! 라는 의미\n",
    "    # class 내가 아니라 기존에 쓰이던 함수같은 걸 class안에 편의를 위해 집어 넣은 느낌\n",
    "    # ex) PI를 사용하고 싶은 경우에는, staticmethod가 아니라 classmethod를 쓰는 게 맞음.\n",
    "    @staticmethod    \n",
    "    def plus(*args):    # *: 가변인자\n",
    "        print(type(args))\n",
    "        return sum(args)\n",
    "    \n",
    "    @staticmethod\n",
    "    def minus(n1, n2):\n",
    "        return n1 - n2"
   ]
  },
  {
   "cell_type": "code",
   "execution_count": 44,
   "metadata": {},
   "outputs": [
    {
     "data": {
      "text/plain": [
       "3.14"
      ]
     },
     "execution_count": 44,
     "metadata": {},
     "output_type": "execute_result"
    }
   ],
   "source": [
    "Calculater.PI"
   ]
  },
  {
   "cell_type": "code",
   "execution_count": 45,
   "metadata": {},
   "outputs": [
    {
     "data": {
      "text/plain": [
       "314.0"
      ]
     },
     "execution_count": 45,
     "metadata": {},
     "output_type": "execute_result"
    }
   ],
   "source": [
    "Calculater.circleArea(10)\n",
    "# circleArea함수에 clzz자리에 Calculater가 들어가고, radius자리에 10이 들어간다"
   ]
  },
  {
   "cell_type": "code",
   "execution_count": 46,
   "metadata": {},
   "outputs": [
    {
     "name": "stdout",
     "output_type": "stream",
     "text": [
      "<class 'tuple'>\n"
     ]
    },
    {
     "data": {
      "text/plain": [
       "15"
      ]
     },
     "execution_count": 46,
     "metadata": {},
     "output_type": "execute_result"
    }
   ],
   "source": [
    "Calculater.plus(1, 2, 3, 4, 5)"
   ]
  },
  {
   "cell_type": "code",
   "execution_count": 47,
   "metadata": {},
   "outputs": [
    {
     "data": {
      "text/plain": [
       "2"
      ]
     },
     "execution_count": 47,
     "metadata": {},
     "output_type": "execute_result"
    }
   ],
   "source": [
    "Calculater.minus(5, 3)"
   ]
  },
  {
   "cell_type": "code",
   "execution_count": null,
   "metadata": {},
   "outputs": [],
   "source": []
  },
  {
   "cell_type": "code",
   "execution_count": null,
   "metadata": {},
   "outputs": [],
   "source": []
  },
  {
   "cell_type": "code",
   "execution_count": null,
   "metadata": {},
   "outputs": [],
   "source": []
  }
 ],
 "metadata": {
  "kernelspec": {
   "display_name": "Python 3",
   "language": "python",
   "name": "python3"
  },
  "language_info": {
   "codemirror_mode": {
    "name": "ipython",
    "version": 3
   },
   "file_extension": ".py",
   "mimetype": "text/x-python",
   "name": "python",
   "nbconvert_exporter": "python",
   "pygments_lexer": "ipython3",
   "version": "3.6.5"
  }
 },
 "nbformat": 4,
 "nbformat_minor": 4
}
