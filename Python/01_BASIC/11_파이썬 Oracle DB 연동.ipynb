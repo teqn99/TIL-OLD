{
 "cells": [
  {
   "cell_type": "markdown",
   "metadata": {
    "slideshow": {
     "slide_type": "slide"
    }
   },
   "source": [
    "# cx_Oracle 모듈\n",
    "- 파이썬에서 오라클 DBMS와 연동는 다양한 함수를 제공하는 모듈\n",
    "- Python DB API 2.0 표준을 따른다. \n",
    "\n",
    "## 참고\n",
    "- [cx_Oracle 모듈 홈페이지](https://oracle.github.io/python-cx_Oracle/)\n",
    "- [Python DB API](https://docs.python.org/ko/3/library/sqlite3.html)"
   ]
  },
  {
   "cell_type": "markdown",
   "metadata": {
    "slideshow": {
     "slide_type": "slide"
    }
   },
   "source": [
    "## cx_Oracle 모듈 설치\n",
    "- [설치 튜토리얼](https://cx-oracle.readthedocs.io/en/latest/user_guide/installation.html)\n",
    "- 패키지 설치\n",
    "```\n",
    "conda install cx_oracle\n",
    "pip install cx_Oracle --upgrade\n",
    "```"
   ]
  },
  {
   "cell_type": "code",
   "execution_count": null,
   "metadata": {},
   "outputs": [],
   "source": []
  },
  {
   "cell_type": "markdown",
   "metadata": {
    "slideshow": {
     "slide_type": "slide"
    }
   },
   "source": [
    "## 코딩 절차\n",
    "1. cx_Oracle 모듈 import"
   ]
  },
  {
   "cell_type": "markdown",
   "metadata": {
    "slideshow": {
     "slide_type": "fragment"
    }
   },
   "source": [
    "2. cx_Oracle모듈의 connect() 함수를 이용해 디비연결"
   ]
  },
  {
   "cell_type": "markdown",
   "metadata": {
    "slideshow": {
     "slide_type": "fragment"
    }
   },
   "source": [
    "3. Connection 객체의 cursor() 메소드를 이용해 Cursor객체 조회.\n",
    "    - Cursor객체: sql문을 전송하고 select결과 조회 기능을 제공하는 객체"
   ]
  },
  {
   "cell_type": "markdown",
   "metadata": {
    "slideshow": {
     "slide_type": "fragment"
    }
   },
   "source": [
    "4. Cursor 의 execute() 메소드를 이용해 SQL문 전송"
   ]
  },
  {
   "cell_type": "markdown",
   "metadata": {
    "slideshow": {
     "slide_type": "fragment"
    }
   },
   "source": [
    "5. SELECT 의 경우 결과 조회.\n",
    "    - 조회결과 한행씩 반환받아 사용\n",
    "    - 조회결과 한번에 반환받아 사용"
   ]
  },
  {
   "cell_type": "markdown",
   "metadata": {
    "slideshow": {
     "slide_type": "fragment"
    }
   },
   "source": [
    "6. INSERT/DELETE/UPDATE의 경우  SQL 문 실행 후 Connection의 commit() 메소드를 이용해 Transaction 처리"
   ]
  },
  {
   "cell_type": "markdown",
   "metadata": {
    "slideshow": {
     "slide_type": "fragment"
    }
   },
   "source": [
    "7. Cursor, Connection 연결 닫기"
   ]
  },
  {
   "cell_type": "markdown",
   "metadata": {
    "slideshow": {
     "slide_type": "slide"
    }
   },
   "source": [
    "### DB 연결\n",
    "- connect() 함수를 이용하며 연결 후 Connection 객체를 받는다.\n",
    "- 연결시 필요한 값\n",
    "    - **host**\n",
    "    - **port번호**\n",
    "    - **SID (DB이름)** -> 오라클에서는 SID, 다른 곳에서는 DB이름\n",
    "    - **user name**\n",
    "    - **password**\n",
    "\n",
    "### Connection 주요 메소드\n",
    "- commit(): 커밋\n",
    "- rollback(): 롤백\n",
    "- close(): 연결 닫기"
   ]
  },
  {
   "cell_type": "code",
   "execution_count": 7,
   "metadata": {},
   "outputs": [
    {
     "name": "stdout",
     "output_type": "stream",
     "text": [
      "<class 'cx_Oracle.Connection'>\n"
     ]
    }
   ],
   "source": [
    "# 방법 1\n",
    "\n",
    "# connect 함수를 통해 연결. 연결(접속)에 성공하면 Connection 객체를 반환\n",
    "# Connection 객체: 연결정보를 가지고 있는 객체\n",
    "import cx_Oracle\n",
    "\n",
    "username = 'c##scott_join'\n",
    "password = 'tiger'\n",
    "url = 'localhost:51521/XE' # host:port/sid 의 규격\n",
    "conn = cx_Oracle.connect(username, password, url) # 연결\n",
    "print(type(conn))\n",
    "conn.close()"
   ]
  },
  {
   "cell_type": "code",
   "execution_count": 8,
   "metadata": {},
   "outputs": [
    {
     "name": "stdout",
     "output_type": "stream",
     "text": [
      "<class 'cx_Oracle.Connection'>\n"
     ]
    }
   ],
   "source": [
    "# 방법 2\n",
    "\n",
    "# username/pwd@url\n",
    "conn2 = cx_Oracle.connect('c##scott_join/tiger@localhost:51521/XE')\n",
    "print(type(conn2))\n",
    "conn2.close()"
   ]
  },
  {
   "cell_type": "markdown",
   "metadata": {
    "slideshow": {
     "slide_type": "slide"
    }
   },
   "source": [
    "#### DSN (Data Source Name) 을 이용한 연결\n",
    "- DSN: DBMS를 연결하기 위한 정보를 모아 놓은 것. (서로 다른 DBMS의 연결정보를 통일하기 위해서 방식)\n",
    "- makedsn(host, port번호, SID) 함수 이용해 생성한다."
   ]
  },
  {
   "cell_type": "code",
   "execution_count": 11,
   "metadata": {},
   "outputs": [
    {
     "name": "stdout",
     "output_type": "stream",
     "text": [
      "(DESCRIPTION=(ADDRESS=(PROTOCOL=TCP)(HOST=localhost)(PORT=51521))(CONNECT_DATA=(SID=XE)))\n",
      "<class 'cx_Oracle.Connection'>\n"
     ]
    }
   ],
   "source": [
    "# 방법 3\n",
    "\n",
    "username = 'c##scott_join'\n",
    "password = 'tiger'\n",
    "host = 'localhost'\n",
    "port = 51521\n",
    "sid = 'XE'\n",
    "\n",
    "dsn = cx_Oracle.makedsn(host, port, sid)\n",
    "print(dsn)\n",
    "conn3 = cx_Oracle.connect(username, password, dsn)\n",
    "print(type(conn3))\n",
    "conn3.close()"
   ]
  },
  {
   "cell_type": "code",
   "execution_count": 13,
   "metadata": {},
   "outputs": [],
   "source": [
    "# with 블록을 사용했기 때문에 자동으로 close처리를 수행한다.\n",
    "with cx_Oracle.connect(username, password, dsn) as conn4:\n",
    "    # DB 관련 작업     ex) conn4.xxxx\n",
    "    pass"
   ]
  },
  {
   "cell_type": "markdown",
   "metadata": {
    "slideshow": {
     "slide_type": "slide"
    }
   },
   "source": [
    "## Cursor 객체\n",
    "- SQL문을 전송하고 select결과를 조회하는 메소드들을 제공한다.\n",
    "- Connection객체의 cursor() 메소드로 받아온다."
   ]
  },
  {
   "cell_type": "markdown",
   "metadata": {
    "slideshow": {
     "slide_type": "subslide"
    }
   },
   "source": [
    "### Cursor의 주요 메소드\n",
    "#### SQL 실행 메소드\n",
    "- execute(sql) : 하나의 sql 문 실행. \n",
    "- executemany(sql): insert, update, delete 배치 처리\n",
    "    - insert, update, delete는 다 처리후 conn.commit()으로 커밋 처리해야한다.\n",
    "    "
   ]
  },
  {
   "cell_type": "markdown",
   "metadata": {
    "slideshow": {
     "slide_type": "fragment"
    }
   },
   "source": [
    "#### select 결과 조회 메소드\n",
    "- execute()로 실행한 SQL이 select인 경우 다음 메소드로 조회한다.\n",
    "- fetchall()  : 조회된 모든 행을 한번에 가져올 때 사용한다. 결과를 tuple들을 묶은 리스트로 반환\n",
    "- fetchone()  : 호출시 마다 한행씩 반환한다. PK로 조회한 경우 많이 사용한다.\n",
    "- fetchmany(n): n행만큼 조회한다. n기본값-100. 특정개수반큼 반복문을 이용해 가져올때 사용."
   ]
  },
  {
   "cell_type": "code",
   "execution_count": 14,
   "metadata": {},
   "outputs": [],
   "source": [
    "import cx_Oracle\n",
    "from pprint import pprint  # 자료구조를 보기 좋게 출력해주는 print 함수"
   ]
  },
  {
   "cell_type": "code",
   "execution_count": 29,
   "metadata": {},
   "outputs": [
    {
     "name": "stdout",
     "output_type": "stream",
     "text": [
      "연결 완료\n",
      "<class 'list'> <class 'tuple'>\n",
      "113\n",
      "[(100, 'Steven', 'AD_PRES'),\n",
      " (101, 'Neena', 'AD_VP'),\n",
      " (102, 'Lex', 'AD_VP'),\n",
      " (103, 'Alexander', 'IT_PROG'),\n",
      " (104, 'Bruce', 'IT_PROG'),\n",
      " (105, 'David', 'IT_PROG'),\n",
      " (106, 'Valli', 'IT_PROG'),\n",
      " (107, 'Diana', 'IT_PROG'),\n",
      " (108, 'Nancy', 'FI_MGR'),\n",
      " (109, 'Daniel', 'FI_ACCOUNT'),\n",
      " (110, 'John', 'FI_ACCOUNT'),\n",
      " (111, 'Ismael', 'FI_ACCOUNT'),\n",
      " (112, 'Jose Manuel', 'FI_ACCOUNT'),\n",
      " (113, 'Luis', 'FI_ACCOUNT'),\n",
      " (114, 'Den', 'PU_MAN'),\n",
      " (115, 'Alexander', 'PU_MAN'),\n",
      " (116, 'Shelli', 'PU_CLERK'),\n",
      " (117, 'Sigal', 'PU_CLERK'),\n",
      " (118, 'Guy', 'PU_CLERK'),\n",
      " (119, 'Karen', 'PU_CLERK'),\n",
      " (120, 'Matthew', 'ST_MAN'),\n",
      " (121, 'Adam', 'ST_MAN'),\n",
      " (122, 'Payam', 'ST_MAN'),\n",
      " (123, 'Shanta', 'ST_MAN'),\n",
      " (124, 'Kevin', 'ST_MAN'),\n",
      " (125, 'Julia', 'ST_CLERK'),\n",
      " (126, 'Irene', 'ST_CLERK'),\n",
      " (127, 'James', 'ST_CLERK'),\n",
      " (128, 'Steven', 'ST_CLERK'),\n",
      " (129, 'Laura', 'ST_CLERK'),\n",
      " (130, 'Mozhe', None),\n",
      " (131, 'James', None),\n",
      " (132, 'TJ', 'ST_CLERK'),\n",
      " (133, 'Jason', 'ST_CLERK'),\n",
      " (134, 'Michael', 'ST_CLERK'),\n",
      " (135, 'Ki', 'ST_CLERK'),\n",
      " (136, 'Hazel', 'ST_CLERK'),\n",
      " (137, 'Renske', 'ST_CLERK'),\n",
      " (138, 'Stephen', 'ST_CLERK'),\n",
      " (139, 'John', 'ST_CLERK'),\n",
      " (140, 'Joshua', None),\n",
      " (141, 'Trenna', 'ST_CLERK'),\n",
      " (142, 'Curtis', 'ST_CLERK'),\n",
      " (143, 'Randall', 'ST_CLERK'),\n",
      " (144, 'Peter', 'ST_CLERK'),\n",
      " (145, 'John', 'SA_MAN'),\n",
      " (146, 'Karen', 'SA_MAN'),\n",
      " (147, 'Alberto', 'SA_MAN'),\n",
      " (148, 'Gerald', 'SA_MAN'),\n",
      " (149, 'Eleni', 'SA_MAN'),\n",
      " (150, 'Peter', 'SA_REP'),\n",
      " (151, 'David', 'SA_REP'),\n",
      " (152, 'Peter', 'SA_REP'),\n",
      " (153, 'Christopher', 'SA_REP'),\n",
      " (154, 'Nanette', 'SA_REP'),\n",
      " (155, 'Oliver', 'SA_REP'),\n",
      " (156, 'Janette', 'SA_REP'),\n",
      " (157, 'Patrick', 'SA_REP'),\n",
      " (158, 'Allan', 'SA_REP'),\n",
      " (159, 'Lindsey', 'SA_REP'),\n",
      " (160, 'Louise', 'SA_REP'),\n",
      " (161, 'Sarath', 'SA_REP'),\n",
      " (162, 'Clara', 'SA_REP'),\n",
      " (163, 'Danielle', 'SA_REP'),\n",
      " (164, 'Mattea', 'SA_REP'),\n",
      " (165, 'David', 'SA_REP'),\n",
      " (166, 'Sundar', 'SA_REP'),\n",
      " (167, 'Amit', 'SA_REP'),\n",
      " (168, 'Lisa', 'SA_REP'),\n",
      " (169, 'Harrison', 'SA_REP'),\n",
      " (170, 'Tayler', 'SA_REP'),\n",
      " (171, 'William', 'SA_REP'),\n",
      " (172, 'Elizabeth', 'SA_REP'),\n",
      " (173, 'Sundita', 'SA_REP'),\n",
      " (174, 'Ellen', 'SA_REP'),\n",
      " (175, 'Alyssa', 'SA_REP'),\n",
      " (176, 'Jonathon', 'SA_REP'),\n",
      " (177, 'Jack', 'SA_REP'),\n",
      " (178, 'Kimberely', 'SA_REP'),\n",
      " (179, 'Charles', 'SA_REP'),\n",
      " (180, 'Winston', 'SH_CLERK'),\n",
      " (181, 'Jean', 'SH_CLERK'),\n",
      " (182, 'Martha', 'SH_CLERK'),\n",
      " (183, 'Girard', 'SH_CLERK'),\n",
      " (184, 'Nandita', 'SH_CLERK'),\n",
      " (185, 'Alexis', 'SH_CLERK'),\n",
      " (186, 'Julia', 'SH_CLERK'),\n",
      " (187, 'Anthony', None),\n",
      " (188, 'Kelly', 'SH_CLERK'),\n",
      " (189, 'Jennifer', 'SH_CLERK'),\n",
      " (190, 'Timothy', None),\n",
      " (191, 'Randall', None),\n",
      " (192, 'Sarah', 'SH_CLERK'),\n",
      " (193, 'Britney', 'SH_CLERK'),\n",
      " (194, 'Samuel', 'SH_CLERK'),\n",
      " (195, 'Vance', 'SH_CLERK'),\n",
      " (196, 'Alana', 'SH_CLERK'),\n",
      " (197, 'Kevin', 'SH_CLERK'),\n",
      " (198, 'Donald', 'SH_CLERK'),\n",
      " (199, 'Douglas', 'SH_CLERK'),\n",
      " (200, 'Jennifer', 'AD_ASST'),\n",
      " (201, 'Michael', 'MK_MAN'),\n",
      " (202, 'Pat', 'MK_REP'),\n",
      " (203, 'Susan', 'HR_REP'),\n",
      " (204, 'Hermann', 'PR_REP'),\n",
      " (205, 'Shelley', 'AC_MGR'),\n",
      " (206, 'William', 'AC_ACCOUNT'),\n",
      " (1000, '홍길동', 'FI_ACCOUNT'),\n",
      " (1100, '이순신', None),\n",
      " (1200, '박영의', 'FI_ACCOUNT'),\n",
      " (1300, '박영의', 'FI_ACCOUNT'),\n",
      " (1500, '홍길동', 'FI_ACCOUNT'),\n",
      " (1510, '홍길동', 'FI_ACCOUNT')]\n"
     ]
    }
   ],
   "source": [
    "# SQL문: 문자열로 작성, 대소문자 구분 X (sql의 keyword들은 보통 대문자, 컬럼명/테이블명은 소문자)\n",
    "#     : ';'은 붙이지 않는다.\n",
    "select_sql = 'SELECT emp_id, emp_name, job_id FROM emp'\n",
    "insert_sql = \"INSERT INTO emp VALUES (1510, '홍길동', 'FI_ACCOUNT', 101, to_date('2021/02/15', 'yyyy/mm/dd'), 30000, 0.2, 100)\"\n",
    "conn = None  # Connection을 대입할 변수\n",
    "cursor = None  # Cursor 객체를 대입할 변수\n",
    "\n",
    "# INSERT 후에 SELECT\n",
    "try:\n",
    "    # 1. 연결\n",
    "    conn = cx_Oracle.connect('c##scott_join/tiger@localhost:51521/XE')\n",
    "    print('연결 완료')\n",
    "    # 2. cursor 생성\n",
    "    cursor = conn.cursor()\n",
    "    # 3. sql 실행\n",
    "    cursor.execute(insert_sql)\n",
    "    cursor.execute(select_sql)\n",
    "    # 4. select 결과 조회\n",
    "    result = cursor.fetchall()  # 조회 결과를 한 번에 반환. 한 행 - tuple로 반환 / 여러 행 - list로 tuple들을 묶어서 반환\n",
    "    print(type(result), type(result[0]))\n",
    "    print(len(result))\n",
    "    pprint(result)\n",
    "    # 5. insert, update, delete를 실행한 경우 commit 처리\n",
    "    conn.commit()\n",
    "    \n",
    "except Exception as e:\n",
    "    print(e)\n",
    "    \n",
    "finally:\n",
    "    # 6. 연결 닫기 - cursor / connection\n",
    "    if cursor != None:\n",
    "        cursor.close()\n",
    "    if conn != None:\n",
    "        conn.close()\n",
    "    "
   ]
  },
  {
   "cell_type": "markdown",
   "metadata": {
    "slideshow": {
     "slide_type": "slide"
    }
   },
   "source": [
    "## placeholder(자리표시자)를 이용해 sql 실행\n",
    "- SQL에 값이 들어갈 자리에 값을 대신할 문자 **`:순번` 또는 `:이름`** 를 넣고 SQL 실행시 값을 전달\n",
    "> placehold 는 DBMS마다 다르다. \n",
    "- execute(SQL, placeholder에 들어갈 값)\n",
    "    - 딕셔너리: placeholder의 이름-값 형식\n",
    "    - 리스트나 튜플: placeholder 순서"
   ]
  },
  {
   "cell_type": "code",
   "execution_count": 30,
   "metadata": {},
   "outputs": [],
   "source": [
    "import cx_Oracle\n",
    "from pprint import pprint"
   ]
  },
  {
   "cell_type": "code",
   "execution_count": 35,
   "metadata": {},
   "outputs": [
    {
     "name": "stdout",
     "output_type": "stream",
     "text": [
      "15000 - 20000 사이 salary 조회 ********************\n",
      "[(101,\n",
      "  'Neena',\n",
      "  'AD_VP',\n",
      "  100,\n",
      "  datetime.datetime(2005, 9, 21, 0, 0),\n",
      "  17000.0,\n",
      "  None,\n",
      "  90),\n",
      " (102,\n",
      "  'Lex',\n",
      "  'AD_VP',\n",
      "  100,\n",
      "  datetime.datetime(2001, 1, 13, 0, 0),\n",
      "  17000.0,\n",
      "  None,\n",
      "  90),\n",
      " (107,\n",
      "  'Diana',\n",
      "  'IT_PROG',\n",
      "  103,\n",
      "  datetime.datetime(2007, 2, 7, 0, 0),\n",
      "  18900.0,\n",
      "  None,\n",
      "  60),\n",
      " (108,\n",
      "  'Nancy',\n",
      "  'FI_MGR',\n",
      "  100,\n",
      "  datetime.datetime(2002, 8, 17, 0, 0),\n",
      "  15008.0,\n",
      "  0.2,\n",
      "  100),\n",
      " (2000,\n",
      "  '이순신',\n",
      "  'FI_ACCOUNT',\n",
      "  101,\n",
      "  datetime.datetime(2021, 2, 23, 0, 0),\n",
      "  19990.0,\n",
      "  None,\n",
      "  110)]\n",
      "2000 - 3000 사이 salary 조회 ********************\n",
      "[]\n"
     ]
    }
   ],
   "source": [
    "select_sql = 'SELECT * FROM emp WHERE salary BETWEEN :1 AND :2'  # :1, :2 - placeholder(여기 들어갈 값은 나중에 지정)\n",
    "insert_sql = \"INSERT INTO emp VALUES\\\n",
    "(:id, :name, :job_id, :mgr_id, to_date(:hire_date, 'yyyymmdd'), :salary, :comm_pct, :dept_id)\"\n",
    "\n",
    "conn = None\n",
    "cursor = None\n",
    "\n",
    "try:\n",
    "    conn = cx_Oracle.connect('c##scott_join/tiger@localhost:51521/XE')\n",
    "    cursor = conn.cursor()\n",
    "    \n",
    "    # sql문 실행\n",
    "    # varchar2 / char / nvarchar / nchar - str\n",
    "    # number(정수 / 실수) - int / double\n",
    "    # date - datetime 객체\n",
    "    # null - none\n",
    "    param_dict = {\n",
    "        'id': 2000,\n",
    "        'name': '이순신',\n",
    "        'job_id': 'FI_ACCOUNT',\n",
    "        'mgr_id': 101,\n",
    "        'hire_date': '20210223',\n",
    "        'salary': 19990,\n",
    "        'comm_pct': None,\n",
    "        'dept_id': 110\n",
    "    }\n",
    "    cursor.execute(insert_sql, param_dict)\n",
    "    \n",
    "    cursor.execute(select_sql, [15000, 20000])  # [10000, 20000]의 첫번째 값은 :1자리, 두번째 값은 :2자리\n",
    "    result1 = cursor.fetchall()\n",
    "    print('15000 - 20000 사이 salary 조회 ********************')\n",
    "    pprint(result1)\n",
    "    \n",
    "    cursor.execute(select_sql, [2000, 3000])\n",
    "    result2 = cursor.fetchall()\n",
    "    print('2000 - 3000 사이 salary 조회 ********************')\n",
    "    pprint(result2)\n",
    "    \n",
    "    conn.commit()\n",
    "    \n",
    "except Exception as e:\n",
    "    print(e)\n",
    "    \n",
    "finally:\n",
    "    if cursor:\n",
    "        cursor.close()\n",
    "    if conn:\n",
    "        conn.close()"
   ]
  },
  {
   "cell_type": "markdown",
   "metadata": {
    "slideshow": {
     "slide_type": "slide"
    }
   },
   "source": [
    "## SELECT  결과 조회\n",
    "\n",
    "### fetchone()\n",
    "- 조회결과 한행씩 반환한다.\n",
    "- PK로 조회시 사용한다.\n",
    "- 반환 type : tuple"
   ]
  },
  {
   "cell_type": "markdown",
   "metadata": {
    "slideshow": {
     "slide_type": "fragment"
    }
   },
   "source": [
    "### fetchall()\n",
    "- 조회한 전체 결과셋을 반환한다.\n",
    "- 한 row를 Tuple로 묶고 그 Tuple들을 List로 묶어서 반환한다."
   ]
  },
  {
   "cell_type": "markdown",
   "metadata": {
    "slideshow": {
     "slide_type": "fragment"
    }
   },
   "source": [
    "### fetchmany(n)\n",
    "- n 행씩 조회할 때 사용\n",
    "- n 기본값 100"
   ]
  },
  {
   "cell_type": "code",
   "execution_count": 38,
   "metadata": {},
   "outputs": [],
   "source": [
    "# emp_id(PK)로 직원 정보를 조회하는 함수\n",
    "def select_emp_by_id(emp_id):\n",
    "    sql = \"SELECT * FROM emp WHERE emp_id = :1\"\n",
    "\n",
    "    with cx_Oracle.connect('c##scott_join/tiger@localhost:51521/XE') as conn:\n",
    "        with conn.cursor() as cursor:\n",
    "            # sql 실행\n",
    "            cursor.execute(sql, [emp_id])\n",
    "            result = cursor.fetchone()  # 한 행 조회(tuple). 조회결과가 없으면 None을 반환\n",
    "            return result"
   ]
  },
  {
   "cell_type": "code",
   "execution_count": 41,
   "metadata": {},
   "outputs": [
    {
     "name": "stdout",
     "output_type": "stream",
     "text": [
      "(100, 'Steven', 'AD_PRES', None, datetime.datetime(2003, 6, 17, 0, 0), 24000.0, None, 90)\n"
     ]
    }
   ],
   "source": [
    "r = select_emp_by_id(100)\n",
    "if r != None:\n",
    "    print(r)\n",
    "else:\n",
    "    print('조회결과가 없습니다.')"
   ]
  },
  {
   "cell_type": "code",
   "execution_count": 42,
   "metadata": {},
   "outputs": [
    {
     "name": "stdout",
     "output_type": "stream",
     "text": [
      "조회결과가 없습니다.\n"
     ]
    }
   ],
   "source": [
    "r = select_emp_by_id(3000)\n",
    "if r != None:\n",
    "    print(r)\n",
    "else:\n",
    "    print('조회결과가 없습니다.')"
   ]
  },
  {
   "cell_type": "code",
   "execution_count": 50,
   "metadata": {},
   "outputs": [
    {
     "name": "stdout",
     "output_type": "stream",
     "text": [
      "10\n",
      "[(100, 'Steven', 'AD_PRES', None, datetime.datetime(2003, 6, 17, 0, 0), 24000.0, None, 90), (101, 'Neena', 'AD_VP', 100, datetime.datetime(2005, 9, 21, 0, 0), 17000.0, None, 90), (102, 'Lex', 'AD_VP', 100, datetime.datetime(2001, 1, 13, 0, 0), 17000.0, None, 90), (103, 'Alexander', 'IT_PROG', 102, datetime.datetime(2006, 1, 3, 0, 0), 27000.0, None, 60), (104, 'Bruce', 'IT_PROG', 103, datetime.datetime(2007, 5, 21, 0, 0), 27000.0, None, 60), (105, 'David', 'IT_PROG', 103, datetime.datetime(2005, 6, 25, 0, 0), 21600.0, None, 60), (106, 'Valli', 'IT_PROG', 103, datetime.datetime(2006, 2, 5, 0, 0), 21600.0, None, 60), (107, 'Diana', 'IT_PROG', 103, datetime.datetime(2007, 2, 7, 0, 0), 18900.0, None, 60), (108, 'Nancy', 'FI_MGR', 100, datetime.datetime(2002, 8, 17, 0, 0), 15008.0, 0.2, 100), (109, 'Daniel', 'FI_ACCOUNT', 100, datetime.datetime(2002, 8, 16, 0, 0), 12000.0, 0.2, 100)]\n",
      "10\n",
      "[(110, 'John', 'FI_ACCOUNT', 100, datetime.datetime(2005, 9, 28, 0, 0), 11200.0, 0.2, 100), (111, 'Ismael', 'FI_ACCOUNT', 100, datetime.datetime(2005, 9, 30, 0, 0), 10700.0, 0.2, 100), (112, 'Jose Manuel', 'FI_ACCOUNT', 100, datetime.datetime(2006, 3, 7, 0, 0), 10800.0, 0.2, 100), (113, 'Luis', 'FI_ACCOUNT', 100, datetime.datetime(2007, 12, 7, 0, 0), 9900.0, 0.2, 100), (114, 'Den', 'PU_MAN', 100, datetime.datetime(2002, 12, 7, 0, 0), 11000.0, None, 30), (115, 'Alexander', 'PU_MAN', 100, datetime.datetime(2003, 5, 18, 0, 0), 9100.0, None, 30), (116, 'Shelli', 'PU_CLERK', 114, datetime.datetime(2005, 12, 24, 0, 0), 4350.0, None, 30), (117, 'Sigal', 'PU_CLERK', 114, datetime.datetime(2005, 7, 24, 0, 0), 4200.0, None, 30), (118, 'Guy', 'PU_CLERK', 114, datetime.datetime(2006, 11, 15, 0, 0), 3900.0, None, 30), (119, 'Karen', 'PU_CLERK', 114, datetime.datetime(2007, 8, 10, 0, 0), 3750.0, None, 30)]\n"
     ]
    }
   ],
   "source": [
    "sql = 'SELECT * FROM emp ORDER BY emp_id'\n",
    "with cx_Oracle.connect('c##scott_join/tiger@localhost:51521/XE') as conn:\n",
    "    with conn.cursor() as cursor:\n",
    "        cursor.execute(sql)\n",
    "        result = cursor.fetchmany(10)  # 10개만 조회\n",
    "        print(len(result))\n",
    "        print(result)\n",
    "        \n",
    "        result = cursor.fetchmany(10)  # 다음 10개\n",
    "        print(len(result))\n",
    "        print(result)"
   ]
  },
  {
   "cell_type": "code",
   "execution_count": null,
   "metadata": {},
   "outputs": [],
   "source": []
  },
  {
   "cell_type": "markdown",
   "metadata": {},
   "source": [
    "### cursor를 for in 문을 이용해 select결과 조회\n",
    "- select후 cursor는 Iterable 한 객체.\n",
    "- cursor는 반복시마다 조회한 한행을 반환."
   ]
  },
  {
   "cell_type": "code",
   "execution_count": 59,
   "metadata": {},
   "outputs": [
    {
     "name": "stdout",
     "output_type": "stream",
     "text": [
      "1. (108, 'Nancy', 'FI_MGR', 100, datetime.datetime(2002, 8, 17, 0, 0), 15008.0, 0.2, 100)\n",
      "2. (109, 'Daniel', 'FI_ACCOUNT', 100, datetime.datetime(2002, 8, 16, 0, 0), 12000.0, 0.2, 100)\n",
      "3. (110, 'John', 'FI_ACCOUNT', 100, datetime.datetime(2005, 9, 28, 0, 0), 11200.0, 0.2, 100)\n",
      "4. (111, 'Ismael', 'FI_ACCOUNT', 100, datetime.datetime(2005, 9, 30, 0, 0), 10700.0, 0.2, 100)\n",
      "5. (112, 'Jose Manuel', 'FI_ACCOUNT', 100, datetime.datetime(2006, 3, 7, 0, 0), 10800.0, 0.2, 100)\n",
      "6. (113, 'Luis', 'FI_ACCOUNT', 100, datetime.datetime(2007, 12, 7, 0, 0), 9900.0, 0.2, 100)\n",
      "7. (149, 'Eleni', 'SA_MAN', 100, datetime.datetime(2007, 10, 15, 0, 0), 10500.0, 0.2, 80)\n",
      "8. (151, 'David', 'SA_REP', 145, datetime.datetime(2005, 3, 24, 0, 0), 9500.0, 0.25, 80)\n",
      "9. (152, 'Peter', 'SA_REP', 145, datetime.datetime(2005, 8, 20, 0, 0), 9000.0, 0.25, 80)\n",
      "10. (153, 'Christopher', 'SA_REP', 145, datetime.datetime(2006, 3, 30, 0, 0), 8000.0, 0.2, 80)\n",
      "11. (154, 'Nanette', 'SA_REP', 145, datetime.datetime(2006, 12, 9, 0, 0), 7500.0, 0.2, 80)\n",
      "12. (155, 'Oliver', 'SA_REP', 145, datetime.datetime(2007, 11, 23, 0, 0), 7000.0, 0.15, 80)\n",
      "13. (161, 'Sarath', 'SA_REP', 146, datetime.datetime(2006, 11, 3, 0, 0), 7000.0, 0.25, 80)\n",
      "14. (162, 'Clara', 'SA_REP', 147, datetime.datetime(2005, 11, 11, 0, 0), 10500.0, 0.25, 80)\n",
      "15. (163, 'Danielle', 'SA_REP', 147, datetime.datetime(2007, 3, 19, 0, 0), 9500.0, 0.15, 80)\n",
      "16. (164, 'Mattea', 'SA_REP', 147, datetime.datetime(2008, 1, 24, 0, 0), 7200.0, 0.1, 80)\n",
      "17. (165, 'David', 'SA_REP', 147, datetime.datetime(2008, 2, 23, 0, 0), 6800.0, 0.1, 80)\n",
      "18. (166, 'Sundar', 'SA_REP', 147, datetime.datetime(2008, 3, 24, 0, 0), 9600.0, 0.1, 80)\n",
      "19. (167, 'Amit', 'SA_REP', 147, datetime.datetime(2008, 4, 21, 0, 0), 9300.0, 0.1, 80)\n",
      "20. (168, 'Lisa', 'SA_REP', 148, datetime.datetime(2005, 3, 11, 0, 0), 11500.0, 0.25, 80)\n",
      "21. (169, 'Harrison', 'SA_REP', 148, datetime.datetime(2006, 3, 23, 0, 0), 10000.0, 0.2, 80)\n",
      "22. (170, 'Tayler', 'SA_REP', 148, datetime.datetime(2006, 1, 24, 0, 0), 9600.0, 0.2, 80)\n",
      "23. (171, 'William', 'SA_REP', 148, datetime.datetime(2007, 2, 23, 0, 0), 7400.0, 0.15, 80)\n",
      "24. (172, 'Elizabeth', 'SA_REP', 148, datetime.datetime(2007, 3, 24, 0, 0), 7300.0, 0.15, 80)\n",
      "25. (173, 'Sundita', 'SA_REP', 148, datetime.datetime(2008, 4, 21, 0, 0), 9150.0, 0.1, 80)\n",
      "26. (175, 'Alyssa', 'SA_REP', 149, datetime.datetime(2005, 3, 19, 0, 0), 8800.0, 0.25, None)\n",
      "27. (176, 'Jonathon', 'SA_REP', 149, datetime.datetime(2006, 3, 24, 0, 0), 8600.0, 0.2, 80)\n",
      "28. (177, 'Jack', 'SA_REP', 149, datetime.datetime(2006, 4, 23, 0, 0), 8400.0, 0.2, 80)\n",
      "29. (178, 'Kimberely', 'SA_REP', 149, datetime.datetime(2007, 5, 24, 0, 0), 7000.0, 0.15, None)\n",
      "30. (179, 'Charles', 'SA_REP', 149, datetime.datetime(2008, 1, 4, 0, 0), 9300.0, 0.1, 80)\n",
      "31. (1000, '홍길동', 'FI_ACCOUNT', 100, datetime.datetime(2017, 10, 20, 0, 0), 7500.0, 0.1, 20)\n",
      "32. (1500, '홍길동', 'FI_ACCOUNT', 101, datetime.datetime(2021, 2, 15, 0, 0), 30000.0, 0.2, 100)\n",
      "33. (1510, '홍길동', 'FI_ACCOUNT', 101, datetime.datetime(2021, 2, 15, 0, 0), 30000.0, 0.2, 100)\n"
     ]
    }
   ],
   "source": [
    "sql = 'SELECT * FROM emp WHERE comm_pct IS NOT NULL ORDER BY emp_id'\n",
    "with cx_Oracle.connect('c##scott_join/tiger@localhost:51521/XE') as conn:\n",
    "    with conn.cursor() as cursor:\n",
    "        cursor.execute(sql)\n",
    "        \n",
    "        # 한 행씩 처리하는 경우\n",
    "        for idx, row in enumerate(cursor, start = 1):  # 한번 반복할 때마다 cursor.fetchone()을 수행\n",
    "            print(f'{idx}. {row}')\n",
    "            \n",
    "        \"\"\"\n",
    "        r = cursor.fetchone()\n",
    "        while r!= None:\n",
    "            print(r)\n",
    "            print('*' * 30)\n",
    "            r = cursor.fetchone()\n",
    "        \"\"\""
   ]
  },
  {
   "cell_type": "code",
   "execution_count": 61,
   "metadata": {},
   "outputs": [
    {
     "name": "stdout",
     "output_type": "stream",
     "text": [
      "[('AD_VP', 34000, 17000),\n",
      " ('FI_ACCOUNT', 156090, 14190),\n",
      " ('PU_CLERK', 16200, 4050),\n",
      " ('SH_CLERK', 83850, 4932.35),\n",
      " ('HR_REP', 9750, 9750),\n",
      " ('PU_MAN', 20100, 10050),\n",
      " ('AC_MGR', 12008, 12008),\n",
      " ('ST_CLERK', 71850, 4226.47),\n",
      " ('AD_ASST', 8250, 8250),\n",
      " ('IT_PROG', 116100, 23220),\n",
      " (None, 33300, 4757.14),\n",
      " ('SA_MAN', 61000, 12200),\n",
      " ('AC_ACCOUNT', 8300, 8300),\n",
      " ('FI_MGR', 15008, 15008),\n",
      " ('ST_MAN', 42550, 8510),\n",
      " ('AD_PRES', 24000, 24000),\n",
      " ('MK_MAN', 13000, 13000),\n",
      " ('SA_REP', 262950, 8765),\n",
      " ('MK_REP', 9000, 9000),\n",
      " ('PR_REP', 10000, 10000)]\n"
     ]
    }
   ],
   "source": [
    "sql = \"SELECT job_id, sum(salary), round(avg(salary), 2) FROM emp GROUP BY job_id\"\n",
    "\n",
    "with cx_Oracle.connect('c##scott_join/tiger@localhost:51521/XE') as conn:\n",
    "    with conn.cursor() as cursor:\n",
    "        cursor.execute(sql)\n",
    "        result = cursor.fetchall()\n",
    "        pprint(result)"
   ]
  },
  {
   "cell_type": "code",
   "execution_count": 62,
   "metadata": {},
   "outputs": [
    {
     "name": "stdout",
     "output_type": "stream",
     "text": [
      "[('Michael', 'Marketing'),\n",
      " ('Pat', 'Marketing'),\n",
      " ('홍길동', 'Marketing'),\n",
      " ('Den', 'Purchasing'),\n",
      " ('Alexander', 'Purchasing'),\n",
      " ('Shelli', 'Purchasing'),\n",
      " ('Sigal', 'Purchasing'),\n",
      " ('Guy', 'Purchasing'),\n",
      " ('Karen', 'Purchasing'),\n",
      " ('Susan', 'Human Resources'),\n",
      " ('Matthew', 'Shipping'),\n",
      " ('Adam', 'Shipping'),\n",
      " ('Payam', 'Shipping'),\n",
      " ('Shanta', 'Shipping'),\n",
      " ('Kevin', 'Shipping'),\n",
      " ('Julia', 'Shipping'),\n",
      " ('Irene', 'Shipping'),\n",
      " ('James', 'Shipping'),\n",
      " ('Steven', 'Shipping'),\n",
      " ('Laura', 'Shipping'),\n",
      " ('Mozhe', 'Shipping'),\n",
      " ('James', 'Shipping'),\n",
      " ('TJ', 'Shipping'),\n",
      " ('Jason', 'Shipping'),\n",
      " ('Michael', 'Shipping'),\n",
      " ('Ki', 'Shipping'),\n",
      " ('Hazel', 'Shipping'),\n",
      " ('Renske', 'Shipping'),\n",
      " ('Stephen', 'Shipping'),\n",
      " ('John', 'Shipping'),\n",
      " ('Joshua', 'Shipping'),\n",
      " ('Trenna', 'Shipping'),\n",
      " ('Curtis', 'Shipping'),\n",
      " ('Randall', 'Shipping'),\n",
      " ('Peter', 'Shipping'),\n",
      " ('Winston', 'Shipping'),\n",
      " ('Jean', 'Shipping'),\n",
      " ('Martha', 'Shipping'),\n",
      " ('Julia', 'Shipping'),\n",
      " ('Anthony', 'Shipping'),\n",
      " ('Kelly', 'Shipping'),\n",
      " ('Jennifer', 'Shipping'),\n",
      " ('Timothy', 'Shipping'),\n",
      " ('Randall', 'Shipping'),\n",
      " ('Sarah', 'Shipping'),\n",
      " ('Britney', 'Shipping'),\n",
      " ('Samuel', 'Shipping'),\n",
      " ('Vance', 'Shipping'),\n",
      " ('Alana', 'Shipping'),\n",
      " ('Kevin', 'Shipping'),\n",
      " ('Donald', 'Shipping'),\n",
      " ('Douglas', 'Shipping'),\n",
      " ('Alexander', 'IT'),\n",
      " ('Bruce', 'IT'),\n",
      " ('David', 'IT'),\n",
      " ('Valli', 'IT'),\n",
      " ('Diana', 'IT'),\n",
      " ('Hermann', 'Public Relations'),\n",
      " ('John', 'Sales'),\n",
      " ('Karen', 'Sales'),\n",
      " ('Alberto', 'Sales'),\n",
      " ('Gerald', 'Sales'),\n",
      " ('Eleni', 'Sales'),\n",
      " ('Peter', 'Sales'),\n",
      " ('David', 'Sales'),\n",
      " ('Peter', 'Sales'),\n",
      " ('Christopher', 'Sales'),\n",
      " ('Nanette', 'Sales'),\n",
      " ('Oliver', 'Sales'),\n",
      " ('Janette', 'Sales'),\n",
      " ('Patrick', 'Sales'),\n",
      " ('Allan', 'Sales'),\n",
      " ('Lindsey', 'Sales'),\n",
      " ('Louise', 'Sales'),\n",
      " ('Sarath', 'Sales'),\n",
      " ('Clara', 'Sales'),\n",
      " ('Danielle', 'Sales'),\n",
      " ('Mattea', 'Sales'),\n",
      " ('David', 'Sales'),\n",
      " ('Sundar', 'Sales'),\n",
      " ('Amit', 'Sales'),\n",
      " ('Lisa', 'Sales'),\n",
      " ('Harrison', 'Sales'),\n",
      " ('Tayler', 'Sales'),\n",
      " ('William', 'Sales'),\n",
      " ('Elizabeth', 'Sales'),\n",
      " ('Sundita', 'Sales'),\n",
      " ('Ellen', 'Sales'),\n",
      " ('Jonathon', 'Sales'),\n",
      " ('Jack', 'Sales'),\n",
      " ('Charles', 'Sales'),\n",
      " ('Steven', 'Executive'),\n",
      " ('Neena', 'Executive'),\n",
      " ('Lex', 'Executive'),\n",
      " ('Nancy', 'Finance'),\n",
      " ('Daniel', 'Finance'),\n",
      " ('John', 'Finance'),\n",
      " ('Ismael', 'Finance'),\n",
      " ('Jose Manuel', 'Finance'),\n",
      " ('Luis', 'Finance'),\n",
      " ('홍길동', 'Finance'),\n",
      " ('홍길동', 'Finance'),\n",
      " ('Shelley', 'Accounting'),\n",
      " ('William', 'Accounting'),\n",
      " ('이순신', 'Accounting'),\n",
      " ('Alyssa', None),\n",
      " ('Kimberely', None),\n",
      " ('Girard', None),\n",
      " ('Nandita', None),\n",
      " ('Alexis', None),\n",
      " ('Jennifer', None),\n",
      " ('이순신', None),\n",
      " ('박영의', None),\n",
      " ('박영의', None)]\n"
     ]
    }
   ],
   "source": [
    "sql = \"SELECT e.emp_name, d.dept_name FROM emp e LEFT JOIN dept d ON e.dept_id = d.dept_id \"\n",
    "\n",
    "with cx_Oracle.connect('c##scott_join/tiger@localhost:51521/XE') as conn:\n",
    "    with conn.cursor() as cursor:\n",
    "        cursor.execute(sql)\n",
    "        result = cursor.fetchall()\n",
    "        pprint(result)"
   ]
  },
  {
   "cell_type": "markdown",
   "metadata": {
    "slideshow": {
     "slide_type": "slide"
    }
   },
   "source": [
    "## INSERT / UPDATE/ DELETE\n",
    "- SQL 실행 후 Connection객체의 commit()을 호출 해야 최종적으로 적용된다.\n",
    "- commit()\n",
    "    - 최종 적용\n",
    "- rollback()\n",
    "    - 변경전 상태로 되돌리기\n",
    "\n",
    "### 사용할 테이블\n",
    "```sql\n",
    "create table test(\n",
    "    id varchar2(10),\n",
    "    name varchar2(100),\n",
    "    age number(3));\n",
    "```"
   ]
  },
  {
   "cell_type": "code",
   "execution_count": 67,
   "metadata": {},
   "outputs": [
    {
     "name": "stdout",
     "output_type": "stream",
     "text": [
      "ORA-00955: name is already used by an existing object\n"
     ]
    }
   ],
   "source": [
    "create_sql = 'create table test(id varchar2(10), name varchar2(100), age number(3))'\n",
    "insert_sql = 'INSERT INTO test VALUES (:1, :2, :3)'\n",
    "\n",
    "with cx_Oracle.connect('c##scott_join/tiger@localhost:51521/XE') as conn:\n",
    "    with conn.cursor() as cursor:\n",
    "        try:\n",
    "            cursor.execute(create_sql)  # 테이블 생성\n",
    "        except Exception as e:\n",
    "            print(e)\n",
    "        # insert\n",
    "        cursor.execute(insert_sql, [1, '이름1', 20])\n",
    "        cursor.execute(insert_sql, [2, '이름2', 30])\n",
    "        cursor.execute(insert_sql, [3, '이름3', 40])\n",
    "        conn.commit()  # commit"
   ]
  },
  {
   "cell_type": "code",
   "execution_count": 69,
   "metadata": {},
   "outputs": [],
   "source": [
    "delete_sql = \"DELETE FROM test WHERE name = :1\"\n",
    "\n",
    "with cx_Oracle.connect('c##scott_join/tiger@localhost:51521/XE') as conn:\n",
    "    with conn.cursor() as cursor:\n",
    "        cursor.execute(delete_sql, ['이름1'])\n",
    "        conn.commit()"
   ]
  },
  {
   "cell_type": "code",
   "execution_count": 71,
   "metadata": {},
   "outputs": [],
   "source": [
    "update_sql = 'UPDATE test SET name = :1'\n",
    "\n",
    "with cx_Oracle.connect('c##scott_join/tiger@localhost:51521/XE') as conn:\n",
    "    with conn.cursor() as cursor:\n",
    "        cursor.execute(update_sql, ['새이름'])\n",
    "        conn.commit()"
   ]
  },
  {
   "cell_type": "code",
   "execution_count": 84,
   "metadata": {},
   "outputs": [
    {
     "name": "stdout",
     "output_type": "stream",
     "text": [
      "[('2', '새이름', 30),\n",
      " ('3', '새이름', 40),\n",
      " ('a-1', '이름1', 20),\n",
      " ('2', '새이름', 30),\n",
      " ('3', '새이름', 40),\n",
      " ('a-2', '이름2', 30),\n",
      " ('a-3', '이름3', 40),\n",
      " ('a-4', '이름4', 50),\n",
      " ('a-1', '이름1', 20),\n",
      " ('a-2', '이름2', 30),\n",
      " ('a-3', '이름3', 40),\n",
      " ('a-4', '이름4', 50)]\n"
     ]
    }
   ],
   "source": [
    "select_sql = 'SELECT * FROM test'\n",
    "\n",
    "with cx_Oracle.connect('c##scott_join/tiger@localhost:51521/XE') as conn:\n",
    "    with conn.cursor() as cursor:\n",
    "        cursor.execute(select_sql)\n",
    "        pprint(cursor.fetchall())"
   ]
  },
  {
   "cell_type": "markdown",
   "metadata": {
    "slideshow": {
     "slide_type": "slide"
    }
   },
   "source": [
    "## batch(일괄작업) 처리\n",
    "- 한번에 메소드 호출로 다수 행을 처리한다.\n",
    "- executemany(sql, placeholder에 전달할값)\n",
    "    - placeholder에 전달할 값을 list로 묶어서 전달하면 sql문이 그 개수만큼 한번에 처리된다."
   ]
  },
  {
   "cell_type": "code",
   "execution_count": 83,
   "metadata": {},
   "outputs": [],
   "source": [
    "insert_sql = \"INSERT INTO test VALUES (:1 ,:2, :3)\"\n",
    "param = [\n",
    "    ['a-1', '이름1', 20],\n",
    "    ['a-2', '이름2', 30],\n",
    "    ['a-3', '이름3', 40],\n",
    "    ['a-4', '이름4', 50]\n",
    "]\n",
    "\n",
    "with cx_Oracle.connect('c##scott_join/tiger@localhost:51521/XE') as conn:\n",
    "    with conn.cursor() as cursor:\n",
    "        cursor.executemany(insert_sql, param)\n",
    "        conn.commit()"
   ]
  },
  {
   "cell_type": "code",
   "execution_count": null,
   "metadata": {},
   "outputs": [],
   "source": []
  },
  {
   "cell_type": "code",
   "execution_count": null,
   "metadata": {},
   "outputs": [],
   "source": []
  },
  {
   "cell_type": "markdown",
   "metadata": {},
   "source": [
    "## TODO : 매개변수로 dept_id를 받아서 EMP 테이블에서 그 부서의 직원들의 salary를 두배 update하는 함수."
   ]
  },
  {
   "cell_type": "code",
   "execution_count": 85,
   "metadata": {},
   "outputs": [],
   "source": [
    "def update_salary_by_dept_id(dept_id):\n",
    "    update_sql = \"UPDATE emp SET salary = 2 * salary WHERE dept_id = :1\"\n",
    "    \n",
    "    with cx_Oracle.connect('c##scott_join/tiger@localhost:51521/XE') as conn:\n",
    "        with conn.cursor() as cursor:\n",
    "            cursor.execute(update_sql, [dept_id])\n",
    "            conn.commit()"
   ]
  },
  {
   "cell_type": "code",
   "execution_count": null,
   "metadata": {},
   "outputs": [],
   "source": []
  },
  {
   "cell_type": "code",
   "execution_count": null,
   "metadata": {},
   "outputs": [],
   "source": []
  },
  {
   "cell_type": "markdown",
   "metadata": {},
   "source": [
    "## TODO : 매개변수로 job_id를 받아서 그 업무를 하는 직원들을 EMP 테이블에서 삭제하는 함수."
   ]
  },
  {
   "cell_type": "code",
   "execution_count": 10,
   "metadata": {},
   "outputs": [],
   "source": [
    "def delete_people_by_job_id(job_id):\n",
    "    if job_id != None:\n",
    "        delete_sql = \"DELETE FROM emp WHERE job_id = :1\"\n",
    "    else:\n",
    "        delete_sql = \"DELETE FROM emp WHERE job_id IS NULL\"  # is null을 사용해야하는 경우에는 이런 식으로\n",
    "    \n",
    "    with cx_Oracle.connect('c##scott_join/tiger@localhost:51521/XE') as conn:\n",
    "        with conn.cursor() as cursor:\n",
    "            if job_id != None:\n",
    "                cursor.execute(delete_sql, [job_id])\n",
    "            else:\n",
    "                cursor.execute(delete_sql)  # 이 부분도 마찬가지로 if문으로 분리해줘야 한다.\n",
    "            conn.commit()"
   ]
  },
  {
   "cell_type": "code",
   "execution_count": null,
   "metadata": {},
   "outputs": [],
   "source": []
  },
  {
   "cell_type": "code",
   "execution_count": null,
   "metadata": {},
   "outputs": [],
   "source": []
  },
  {
   "cell_type": "markdown",
   "metadata": {
    "slideshow": {
     "slide_type": "slide"
    }
   },
   "source": [
    "# TODO : 매개변수로 직원 이름을 입력받아 EMP 테이블에서 그  직원들의 전체 정보를 조회결과를 출력하는 함수."
   ]
  },
  {
   "cell_type": "code",
   "execution_count": 14,
   "metadata": {},
   "outputs": [],
   "source": [
    "import cx_Oracle\n",
    "\n",
    "def print_all_by_emp_name(emp_name):\n",
    "    sql = \"SELECT * FROM emp WHERE emp_name = :1\"\n",
    "    sql = \"SELECT * FROM emp WHERE emp_name LIKE '%' || :1 || '%'\"\n",
    "    \n",
    "    with cx_Oracle.connect('c##scott_join/tiger@localhost:51521/XE') as conn:\n",
    "        with conn.cursor() as cursor:\n",
    "            cursor.execute(sql, [emp_name])\n",
    "            result = cursor.fetchall()\n",
    "            return result"
   ]
  },
  {
   "cell_type": "code",
   "execution_count": 15,
   "metadata": {},
   "outputs": [
    {
     "name": "stdout",
     "output_type": "stream",
     "text": [
      "[(110, 'John', 'FI_ACCOUNT', 100, datetime.datetime(2005, 9, 28, 0, 0), 11200.0, 0.2, 100), (112, 'Jose Manuel', 'FI_ACCOUNT', 100, datetime.datetime(2006, 3, 7, 0, 0), 10800.0, 0.2, 100), (139, 'John', 'ST_CLERK', 123, datetime.datetime(2008, 2, 6, 0, 0), 4050.0, None, 50), (140, 'Joshua', None, 123, datetime.datetime(2008, 2, 6, 0, 0), 3750.0, None, 50), (145, 'John', 'SA_MAN', 100, datetime.datetime(2004, 10, 1, 0, 0), 14000.0, None, 80), (176, 'Jonathon', 'SA_REP', 149, datetime.datetime(2006, 3, 24, 0, 0), 8600.0, 0.2, 80)]\n"
     ]
    }
   ],
   "source": [
    "r = print_all_by_emp_name('Jo')\n",
    "print(r)"
   ]
  },
  {
   "cell_type": "markdown",
   "metadata": {
    "slideshow": {
     "slide_type": "slide"
    }
   },
   "source": [
    "# TODO: 사용자로 부터 직원정보를 입력받아 EMP 테이블에 입력한다.\n",
    "- emp_id, emp_name, job_id, mgr_id, hire_date, salary, comm_pct, dept_id 를 하나씩 입력받는다.\n",
    "- job_id, mgr_id, comm_pct, dept_id 을 입력하지 않은 경우 NULL 을 넣는다. (placehold 사용시 None을 대입)\n",
    "- 입력된 값을 EMP 테이블에 insert 한다.\n",
    "- 주의 job_id, mgr_id, dept_id는 FK 컬럼이므로 부모테이블의 PK값을 넣어야 한다."
   ]
  },
  {
   "cell_type": "code",
   "execution_count": 1,
   "metadata": {},
   "outputs": [],
   "source": [
    "def insert_info_by_input(emp_id, emp_name, hire_date, salary, job_id = None, mgr_id = None, comm_pct = None, dept_id = None):\n",
    "    insert_sql = \"INSERT INTO emp VALUES (:emp_id, :emp_name, :job_id, :mgr_id, :hire_date, :salary, :comm_pct, :dept_id)\"\n",
    "    param_dict = {\n",
    "        'emp_id': emp_id,\n",
    "        'emp_name': emp_name,\n",
    "        'job_id': job_id,\n",
    "        'mgr_id': mgr_id,\n",
    "        'hire_date': hire_date,\n",
    "        'salary': salary,\n",
    "        'comm_pct': comm_pct,\n",
    "        'dept_id': dept_id\n",
    "    }\n",
    "    \n",
    "    with cx_Oracle.connect('c##scott_join/tiger@localhost:51521/XE') as conn:\n",
    "        with conn.cursor() as cursor:\n",
    "            cursor.execute(insert_sql, param_dict)\n",
    "            conn.commit()"
   ]
  },
  {
   "cell_type": "code",
   "execution_count": 17,
   "metadata": {},
   "outputs": [],
   "source": [
    "def insert_emp():\n",
    "    # 사용자로부터 insert할 값들을 입력 받기 + 검증\n",
    "    emp_id = int(input('직원 ID: '))\n",
    "    emp_name = input('이름: ')\n",
    "    job_id = input('업무 ID: ')\n",
    "    \n",
    "    if len(job_id.strip()) == 0:\n",
    "        job_id = None\n",
    "        \n",
    "    try:\n",
    "        mgr_id = int(input('상사 ID: '))\n",
    "    except:\n",
    "        mgr_id = None\n",
    "        \n",
    "    hire_date = input('입사일(형식: yyyymmdd): ')\n",
    "    salary = int(input('급여: '))\n",
    "    \n",
    "    try:\n",
    "        comm_pct = float(input('커미션 비율: '))\n",
    "        if comm_pct >= 1:\n",
    "            raise Exception()\n",
    "    except:\n",
    "        comm_pct = None\n",
    "    \n",
    "    try:\n",
    "        dept_id = int(input('부서 ID: '))\n",
    "    except:\n",
    "        dept_id = None\n",
    "        \n",
    "    param = {\n",
    "        'emp_id': emp_id,\n",
    "        'emp_name': emp_name,\n",
    "        'job_id': job_id,\n",
    "        'mgr_id': mgr_id,\n",
    "        'hire_date': hire_date,\n",
    "        'salary': salary,\n",
    "        'comm_pct': comm_pct,\n",
    "        'dept_id': dept_id\n",
    "    }\n",
    "    \n",
    "    insert_sql = \"INSERT INTO emp VALUES (:emp_id, :emp_name, :job_id, :mgr_id, to_date(:hire_date, 'yyyymmdd'), :salary, :comm_pct, :dept_id)\"\n",
    "\n",
    "    # DB 연결\n",
    "    with cx_Oracle.connect('c##scott_join/tiger@localhost:51521/XE') as conn:\n",
    "        with conn.cursor() as cursor:\n",
    "            cursor.execute(insert_sql, param)\n",
    "            conn.commit()\n",
    "            print('INSERT 완료')"
   ]
  },
  {
   "cell_type": "code",
   "execution_count": 20,
   "metadata": {},
   "outputs": [
    {
     "name": "stdout",
     "output_type": "stream",
     "text": [
      "직원 ID: 3500\n",
      "이름: 이민수\n",
      "업무 ID: FI_ACCOUNT\n",
      "상사 ID: \n",
      "입사일(형식: yyyymmdd): 20200101\n",
      "급여: 6000\n",
      "커미션 비율: \n",
      "부서 ID: \n",
      "INSERT 완료\n"
     ]
    }
   ],
   "source": [
    "insert_emp()"
   ]
  },
  {
   "cell_type": "code",
   "execution_count": null,
   "metadata": {},
   "outputs": [],
   "source": []
  }
 ],
 "metadata": {
  "kernelspec": {
   "display_name": "Python 3",
   "language": "python",
   "name": "python3"
  },
  "language_info": {
   "codemirror_mode": {
    "name": "ipython",
    "version": 3
   },
   "file_extension": ".py",
   "mimetype": "text/x-python",
   "name": "python",
   "nbconvert_exporter": "python",
   "pygments_lexer": "ipython3",
   "version": "3.6.5"
  },
  "toc": {
   "base_numbering": 1,
   "nav_menu": {},
   "number_sections": true,
   "sideBar": true,
   "skip_h1_title": false,
   "title_cell": "Table of Contents",
   "title_sidebar": "Contents",
   "toc_cell": false,
   "toc_position": {},
   "toc_section_display": true,
   "toc_window_display": false
  },
  "varInspector": {
   "cols": {
    "lenName": 16,
    "lenType": 16,
    "lenVar": 40
   },
   "kernels_config": {
    "python": {
     "delete_cmd_postfix": "",
     "delete_cmd_prefix": "del ",
     "library": "var_list.py",
     "varRefreshCmd": "print(var_dic_list())"
    },
    "r": {
     "delete_cmd_postfix": ") ",
     "delete_cmd_prefix": "rm(",
     "library": "var_list.r",
     "varRefreshCmd": "cat(var_dic_list()) "
    }
   },
   "types_to_exclude": [
    "module",
    "function",
    "builtin_function_or_method",
    "instance",
    "_Feature"
   ],
   "window_display": false
  }
 },
 "nbformat": 4,
 "nbformat_minor": 2
}
