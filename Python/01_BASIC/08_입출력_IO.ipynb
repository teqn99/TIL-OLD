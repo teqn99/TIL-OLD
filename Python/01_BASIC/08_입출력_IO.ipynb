{
 "cells": [
  {
   "cell_type": "markdown",
   "metadata": {},
   "source": [
    "## 파일의 경로(Path)\n",
    "- 절대경로(Absolute Path): 시작 디렉토리(폴더 - Root 디렉토리)부터 자원의 경로를 표현하는 방식 (시작: Root)\n",
    "    - windows: c:\\text\\python\\io.txt    - c:\\ (Root Directory), 경로구분자: \\\n",
    "    - 리눅스, 유닉스: /text/python/io.txt    - / (Root Directory), 경로구분자: /   \n",
    "- 상대경로: 현재있는 디렉토리에서부터 찾아가는 경로 표현 방식 (시작: 현재 디렉토리)\n",
    "    - '.': 현재 디렉토리\n",
    "    - '..': 상위 디렉토리\n",
    "    - '/': 경로 구분자"
   ]
  },
  {
   "cell_type": "markdown",
   "metadata": {},
   "source": [
    "### OS 모듈\n",
    "- 표준 모듈 (설치는 필요없지만 import는 해야한다.)\n",
    "- 운영 체제(os)에서 제공하는 기능들을 파이썬 프로그램에서 사용할 수 있도록 도와주는 모듈\n"
   ]
  },
  {
   "cell_type": "code",
   "execution_count": 1,
   "metadata": {},
   "outputs": [],
   "source": [
    "import os"
   ]
  },
  {
   "cell_type": "code",
   "execution_count": 3,
   "metadata": {},
   "outputs": [
    {
     "name": "stdout",
     "output_type": "stream",
     "text": [
      "/Users/taekyunkim/Source_by_me_PLAYDATA\n"
     ]
    }
   ],
   "source": [
    "curr_dir = os.getcwd()    # current work diretory\n",
    "print(curr_dir)    # 주피터 노트북: 현재 작성하는 ipynb 파일이 위치한 경로"
   ]
  },
  {
   "cell_type": "code",
   "execution_count": 14,
   "metadata": {},
   "outputs": [
    {
     "data": {
      "text/plain": [
       "\"\\nin windows\\nos.chdir('c:\\\\temp\\\\here')\\nos.chdir('c:/temp/here')\\nos.chdir(r'c:\\temp\\\\here')\\n로 쓸 수 있다.\\n\""
      ]
     },
     "execution_count": 14,
     "metadata": {},
     "output_type": "execute_result"
    }
   ],
   "source": [
    "# 현재 디렉토리 변경\n",
    "os.chdir('/Users/taekyunkim/DSAC_data')\n",
    "\n",
    "\"\"\"\n",
    "in windows\n",
    "os.chdir('c:\\\\temp\\\\here')\n",
    "os.chdir('c:/temp/here')\n",
    "os.chdir(r'c:\\temp\\here')\n",
    "로 쓸 수 있다.\n",
    "\"\"\""
   ]
  },
  {
   "cell_type": "code",
   "execution_count": 6,
   "metadata": {},
   "outputs": [
    {
     "data": {
      "text/plain": [
       "'/Users/taekyunkim/DSAC_data'"
      ]
     },
     "execution_count": 6,
     "metadata": {},
     "output_type": "execute_result"
    }
   ],
   "source": [
    "os.getcwd()"
   ]
  },
  {
   "cell_type": "markdown",
   "metadata": {},
   "source": [
    "### escape 문자\n",
    "#### '\\문자'로 시작하는 문자. text로 표현하지 못하는 문자를 표현하는 문자\n",
    "- '\\n' : 엔터\n",
    "- '\\t' : 탭\n",
    "- '\\b' : 백스페이스\n",
    "- '\\\\\\\\\\' : \\"
   ]
  },
  {
   "cell_type": "code",
   "execution_count": 13,
   "metadata": {},
   "outputs": [
    {
     "name": "stdout",
     "output_type": "stream",
     "text": [
      "c:\tNo more Here\n",
      "HI\n",
      "c:\\here\\is\\the\\route\n",
      "c:/here/is/the/route\n",
      "c:\\here\\is\\the\\route\n"
     ]
    }
   ],
   "source": [
    "print('c:\\tNo more Here\\nHI')\n",
    "print('c:\\\\here\\\\is\\\\the\\\\route')\n",
    "print('c:/here/is/the/route')    # 파이썬에서 문자열로 경로 표시할 때 windows라고해도 /를 사용해도 인식함\n",
    "print(r'c:\\here\\is\\the\\route')    # row string -> \\를 escape 문자의 접두어로 인식하지 않는다."
   ]
  },
  {
   "cell_type": "code",
   "execution_count": null,
   "metadata": {},
   "outputs": [],
   "source": []
  },
  {
   "cell_type": "code",
   "execution_count": 15,
   "metadata": {},
   "outputs": [
    {
     "data": {
      "text/plain": [
       "'/Users/taekyunkim/Source_by_me_PLAYDATA'"
      ]
     },
     "execution_count": 15,
     "metadata": {},
     "output_type": "execute_result"
    }
   ],
   "source": [
    "os.chdir(curr_dir)\n",
    "os.getcwd()"
   ]
  },
  {
   "cell_type": "code",
   "execution_count": 17,
   "metadata": {},
   "outputs": [
    {
     "data": {
      "text/plain": [
       "['my_module.py',\n",
       " '.DS_Store',\n",
       " '06_module_package_import.ipynb',\n",
       " '07_예외와_예외처리.ipynb',\n",
       " '__pycache__',\n",
       " '01_변수_데이터타입.ipynb',\n",
       " '05_객체지향프로그래밍.ipynb',\n",
       " '03_제어문.ipynb',\n",
       " '04_함수_class.ipynb',\n",
       " '.ipynb_checkpoints',\n",
       " '02_자료구조.ipynb',\n",
       " 'my_package',\n",
       " '08_입출력_IO.ipynb']"
      ]
     },
     "execution_count": 17,
     "metadata": {},
     "output_type": "execute_result"
    }
   ],
   "source": [
    "# 특정 디렉토리 안에 있는 하위 디렉토리나 파일들의 이름을 리스트에 담아서 반환\n",
    "# path를 지정하거나 생략하면 현재 디렉토리 내의 내용을 반환\n",
    "path_list = os.listdir()\n",
    "path_list"
   ]
  },
  {
   "cell_type": "code",
   "execution_count": 19,
   "metadata": {},
   "outputs": [
    {
     "data": {
      "text/plain": [
       "['06_module_package_import.ipynb',\n",
       " '07_예외와_예외처리.ipynb',\n",
       " '01_변수_데이터타입.ipynb',\n",
       " '05_객체지향프로그래밍.ipynb',\n",
       " '03_제어문.ipynb',\n",
       " '04_함수_class.ipynb',\n",
       " '02_자료구조.ipynb',\n",
       " '08_입출력_IO.ipynb']"
      ]
     },
     "execution_count": 19,
     "metadata": {},
     "output_type": "execute_result"
    }
   ],
   "source": [
    "# ipynb 이름을 가진 리스트\n",
    "[filename for filename in os.listdir() if filename.endswith('.ipynb')]"
   ]
  },
  {
   "cell_type": "code",
   "execution_count": 25,
   "metadata": {
    "scrolled": true
   },
   "outputs": [
    {
     "ename": "FileNotFoundError",
     "evalue": "[Errno 2] No such file or directory: 'test4/test5/test6'",
     "output_type": "error",
     "traceback": [
      "\u001b[0;31m---------------------------------------------------------------------------\u001b[0m",
      "\u001b[0;31mFileNotFoundError\u001b[0m                         Traceback (most recent call last)",
      "\u001b[0;32m<ipython-input-25-aa4e65dc0e88>\u001b[0m in \u001b[0;36m<module>\u001b[0;34m\u001b[0m\n\u001b[0;32m----> 1\u001b[0;31m \u001b[0mos\u001b[0m\u001b[0;34m.\u001b[0m\u001b[0mmkdir\u001b[0m\u001b[0;34m(\u001b[0m\u001b[0;34m'test4/test5/test6'\u001b[0m\u001b[0;34m)\u001b[0m\u001b[0;34m\u001b[0m\u001b[0m\n\u001b[0m\u001b[1;32m      2\u001b[0m \u001b[0;31m# 이미 존재하는 test4 아래 test5 아래 test6를 만들어라.\u001b[0m\u001b[0;34m\u001b[0m\u001b[0;34m\u001b[0m\u001b[0m\n",
      "\u001b[0;31mFileNotFoundError\u001b[0m: [Errno 2] No such file or directory: 'test4/test5/test6'"
     ]
    }
   ],
   "source": [
    "os.mkdir('test4/test5/test6')\n",
    "# 이미 존재하는 test4 아래 test5 아래 test6를 만들어라."
   ]
  },
  {
   "cell_type": "code",
   "execution_count": 26,
   "metadata": {},
   "outputs": [
    {
     "data": {
      "text/plain": [
       "'/Users/taekyunkim/Source_by_me_PLAYDATA'"
      ]
     },
     "execution_count": 26,
     "metadata": {},
     "output_type": "execute_result"
    }
   ],
   "source": [
    "os.getcwd()"
   ]
  },
  {
   "cell_type": "code",
   "execution_count": 31,
   "metadata": {},
   "outputs": [],
   "source": [
    "os.makedirs('test1/test2/test3')\n",
    "# /test1/test2/test3라는 경로 자체를 만들어라"
   ]
  },
  {
   "cell_type": "code",
   "execution_count": 29,
   "metadata": {},
   "outputs": [],
   "source": [
    "# 파일 디렉토리 삭제\n",
    "# rmdir - 빈 디렉토리만 삭제 가능\n",
    "os.rmdir('test1/test2/test3')"
   ]
  },
  {
   "cell_type": "code",
   "execution_count": 30,
   "metadata": {},
   "outputs": [],
   "source": [
    "os.rmdir('test1/test2')\n",
    "os.rmdir('test1')"
   ]
  },
  {
   "cell_type": "code",
   "execution_count": 32,
   "metadata": {},
   "outputs": [],
   "source": [
    "# test1, test2, test3 모두 삭제\n",
    "# 만일 test2 밑에 test3말고 test4 등의 다른 요소들이 있다면, test3만 삭제 (test1, test2는 빼고)\n",
    "os.removedirs('test1/test2/test3')"
   ]
  },
  {
   "cell_type": "code",
   "execution_count": null,
   "metadata": {},
   "outputs": [],
   "source": [
    "# 파일 삭제\n",
    "os.remove('a.txt')"
   ]
  },
  {
   "cell_type": "markdown",
   "metadata": {},
   "source": [
    "### os.path 모듈\n",
    "- 경로 관련 처리를 하는 모듈"
   ]
  },
  {
   "cell_type": "code",
   "execution_count": 33,
   "metadata": {},
   "outputs": [],
   "source": [
    "import os"
   ]
  },
  {
   "cell_type": "code",
   "execution_count": 36,
   "metadata": {},
   "outputs": [
    {
     "data": {
      "text/plain": [
       "(False, True)"
      ]
     },
     "execution_count": 36,
     "metadata": {},
     "output_type": "execute_result"
    }
   ],
   "source": [
    "# 파일이나 디렉토리가 있는지 여부\n",
    "os.path.exists('a.txt'), os.path.exists('my_module.py')"
   ]
  },
  {
   "cell_type": "code",
   "execution_count": 39,
   "metadata": {},
   "outputs": [
    {
     "data": {
      "text/plain": [
       "(False, True, False)"
      ]
     },
     "execution_count": 39,
     "metadata": {},
     "output_type": "execute_result"
    }
   ],
   "source": [
    "# 디렉토리인지 아닌지 여부 (없으면 False)\n",
    "os.path.isdir('my_module.py'), os.path.isdir('test'), os.path.isdir('aaaa')"
   ]
  },
  {
   "cell_type": "code",
   "execution_count": 41,
   "metadata": {},
   "outputs": [
    {
     "data": {
      "text/plain": [
       "(True, False, False)"
      ]
     },
     "execution_count": 41,
     "metadata": {},
     "output_type": "execute_result"
    }
   ],
   "source": [
    "# 파일인지 아닌지 여부 (없으면 False)\n",
    "os.path.isfile('my_module.py'), os.path.isfile('test'), os.path.isfile('aaaa')"
   ]
  },
  {
   "cell_type": "code",
   "execution_count": 44,
   "metadata": {},
   "outputs": [],
   "source": [
    "path = 'test'\n",
    "if not os.path.isdir(path):    # test 디렉토리가 없으면\n",
    "    os.mkdir(path)             # test 디렉토리를 만들어라"
   ]
  },
  {
   "cell_type": "code",
   "execution_count": 45,
   "metadata": {},
   "outputs": [
    {
     "name": "stdout",
     "output_type": "stream",
     "text": [
      "/Users/taekyunkim/Source_by_me_PLATDATA/test\n"
     ]
    }
   ],
   "source": [
    "# 경로를 문자열로 조합해주는 함수\n",
    "path = os.path.join('/Users/taekyunkim', 'Source_by_me_PLATDATA', 'test')\n",
    "print(path)"
   ]
  },
  {
   "cell_type": "code",
   "execution_count": 50,
   "metadata": {},
   "outputs": [],
   "source": [
    "base_dir = '/Users/taekyunkim/Project'\n",
    "src_dir = os.path.join(base_dir, 'src')\n",
    "data_dir = os.path.join(base_dir, 'data')\n",
    "data_img_dir = os.path.join(data_dir, 'img')"
   ]
  },
  {
   "cell_type": "code",
   "execution_count": 51,
   "metadata": {},
   "outputs": [
    {
     "data": {
      "text/plain": [
       "'/Users/taekyunkim/Project/data/img'"
      ]
     },
     "execution_count": 51,
     "metadata": {},
     "output_type": "execute_result"
    }
   ],
   "source": [
    "data_img_dir"
   ]
  },
  {
   "cell_type": "code",
   "execution_count": null,
   "metadata": {},
   "outputs": [],
   "source": []
  },
  {
   "cell_type": "code",
   "execution_count": 52,
   "metadata": {},
   "outputs": [
    {
     "name": "stdout",
     "output_type": "stream",
     "text": [
      "01_변수_데이터타입.ipynb\r\n",
      "02_자료구조.ipynb\r\n",
      "03_제어문.ipynb\r\n",
      "04_함수_class.ipynb\r\n",
      "05_객체지향프로그래밍.ipynb\r\n",
      "06_module_package_import.ipynb\r\n",
      "07_예외와_예외처리.ipynb\r\n",
      "08_입출력_IO.ipynb\r\n",
      "\u001b[34m__pycache__\u001b[m\u001b[m\r\n",
      "my_module.py\r\n",
      "\u001b[34mmy_package\u001b[m\u001b[m\r\n",
      "\u001b[34mtest\u001b[m\u001b[m\r\n"
     ]
    }
   ],
   "source": [
    "!ls\n",
    "# 주피터 노트북에서 터미널 명령이 실행\n",
    "# !dir for windows "
   ]
  },
  {
   "cell_type": "code",
   "execution_count": 53,
   "metadata": {},
   "outputs": [
    {
     "name": "stdout",
     "output_type": "stream",
     "text": [
      "/Users/taekyunkim/Source_by_me_PLAYDATA\r\n"
     ]
    }
   ],
   "source": [
    "!pwd\n",
    "# 현재 디렉토리 for 맥\n",
    "# !cd for windows"
   ]
  },
  {
   "cell_type": "code",
   "execution_count": null,
   "metadata": {},
   "outputs": [],
   "source": []
  },
  {
   "cell_type": "code",
   "execution_count": 70,
   "metadata": {},
   "outputs": [],
   "source": [
    "def solution(arr):\n",
    "    answer = [arr[0]]\n",
    "    answer.append(i for i in arr if answer[-1] != i)\n",
    "    return answer"
   ]
  },
  {
   "cell_type": "code",
   "execution_count": 71,
   "metadata": {},
   "outputs": [
    {
     "data": {
      "text/plain": [
       "[1, <generator object solution.<locals>.<genexpr> at 0x7ff105a08af0>]"
      ]
     },
     "execution_count": 71,
     "metadata": {},
     "output_type": "execute_result"
    }
   ],
   "source": [
    "solution([1,1,3,3,0,1])"
   ]
  },
  {
   "cell_type": "code",
   "execution_count": null,
   "metadata": {},
   "outputs": [],
   "source": []
  },
  {
   "cell_type": "code",
   "execution_count": null,
   "metadata": {},
   "outputs": [],
   "source": []
  },
  {
   "cell_type": "markdown",
   "metadata": {},
   "source": [
    "# 텍스트 파일 입출력\n",
    "1. 연결 - open()\n",
    "2. 입출력 - read() / write()\n",
    "3. 연결 닫기 - close()"
   ]
  },
  {
   "cell_type": "code",
   "execution_count": 85,
   "metadata": {},
   "outputs": [],
   "source": [
    "# 현재 디렉토리 안에 있는 a.txt와 연결\n",
    "# wt : 쓰기 / 텍스트 모드\n",
    "# encoding 생략: os 기본 encoding 사용 -> cp949 : windows / utf-8 : Linux, Unix\n",
    "\n",
    "f = open('a.txt', 'wt')    # 'w' == 'wt' (t는 기본이므로 생략이 가능)\n",
    "# 'w' - 덮어쓰기 (몇번을 반복해도 적은 만큼만 쓰여있음)"
   ]
  },
  {
   "cell_type": "code",
   "execution_count": 86,
   "metadata": {},
   "outputs": [
    {
     "data": {
      "text/plain": [
       "18"
      ]
     },
     "execution_count": 86,
     "metadata": {},
     "output_type": "execute_result"
    }
   ],
   "source": [
    "txt = \"\"\"안녕하세요.\n",
    "ABCDE\n",
    "12345\"\"\"\n",
    "f.write(txt)    # 출력: 18 = 글자수"
   ]
  },
  {
   "cell_type": "code",
   "execution_count": 87,
   "metadata": {},
   "outputs": [
    {
     "data": {
      "text/plain": [
       "8"
      ]
     },
     "execution_count": 87,
     "metadata": {},
     "output_type": "execute_result"
    }
   ],
   "source": [
    "f.write('두번째로 쓴네용')"
   ]
  },
  {
   "cell_type": "code",
   "execution_count": 88,
   "metadata": {},
   "outputs": [],
   "source": [
    "# 연결 닫기\n",
    "f.close()"
   ]
  },
  {
   "cell_type": "code",
   "execution_count": null,
   "metadata": {},
   "outputs": [],
   "source": []
  },
  {
   "cell_type": "code",
   "execution_count": 95,
   "metadata": {},
   "outputs": [
    {
     "name": "stdout",
     "output_type": "stream",
     "text": [
      "/Users/taekyunkim/Source_by_me_PLAYDATA/my_text.txt\n"
     ]
    }
   ],
   "source": [
    "file = os.path.join(os.getcwd(), 'my_text.txt')\n",
    "print(file)\n",
    "\n",
    "# 출력모드일때 파일이 없으면 생성한다.\n",
    "f = open(file, 'wt')\n",
    "# 'w' - 덮어쓰기\n",
    "\n",
    "#출력\n",
    "f.write('hereHere\\n')\n",
    "f.write('hereHere\\n')\n",
    "f.write('hereHere')\n",
    "#연결닫기\n",
    "f.close()"
   ]
  },
  {
   "cell_type": "code",
   "execution_count": 104,
   "metadata": {},
   "outputs": [
    {
     "name": "stdout",
     "output_type": "stream",
     "text": [
      "/Users/taekyunkim/Source_by_me_PLAYDATA/my_text4.txt\n"
     ]
    }
   ],
   "source": [
    "file = os.path.join(os.getcwd(), 'my_text4.txt')\n",
    "print(file)\n",
    "\n",
    "# 출력모드일때 파일이 없으면 생성한다.\n",
    "f = open(file, 'at')\n",
    "# 'a' - 이어쓰기\n",
    "\n",
    "#출력\n",
    "f.write('hereHere\\n')\n",
    "f.flush()    # f.close 없는 상태에도 이 부분마다 최종 파일에 임시저장을 해둠.\n",
    "f.write('hereHere\\n')\n",
    "f.flush()\n",
    "f.write('hereHere')\n",
    "#연결닫기\n",
    "f.close()"
   ]
  },
  {
   "cell_type": "code",
   "execution_count": 125,
   "metadata": {},
   "outputs": [
    {
     "name": "stdout",
     "output_type": "stream",
     "text": [
      "hereHere\n",
      "hereHere\n",
      "hereHerehereHere\n",
      "hereHere\n",
      "hereHere\n"
     ]
    }
   ],
   "source": [
    "file = 'text.txt'\n",
    "file = 'my_text4.txt'\n",
    "# 읽기 / 텍스트\n",
    "# 읽기 모드인 경우 파일이 반드시 존재해야한다.\n",
    "try:\n",
    "    fi = open(file, 'rt')    # rt - 생략가능\n",
    "    txt = fi.read()    # 파일에서 읽은 데이터(텍스트)를 반환. read() - 한번에 전체를 읽는다.\n",
    "    print(txt)\n",
    "except:\n",
    "    print(f'{file}을 읽는 도중 오류가 발생했습니다.')\n",
    "finally:\n",
    "    # 연결 닫기는 finally()에서 처리\n",
    "    f.close()"
   ]
  },
  {
   "cell_type": "code",
   "execution_count": 132,
   "metadata": {},
   "outputs": [
    {
     "name": "stdout",
     "output_type": "stream",
     "text": [
      "<class 'list'>\n",
      "['hereHere\\n', 'hereHere\\n', 'hereHerehereHere\\n', 'hereHere\\n', 'hereHere']\n"
     ]
    }
   ],
   "source": [
    "file = 'my_text4.txt'\n",
    "try:\n",
    "    fi = open(file, 'rt')    # rt - 생략가능\n",
    "    txt_list = fi.readlines()    # 파일에서 읽은 데이터(텍스트)를 반환. read() - 한번에 전체를 읽는다.\n",
    "    print(type(txt_list))\n",
    "    print(txt_list)\n",
    "except:\n",
    "    print(f'{file}을 읽는 도중 오류가 발생했습니다.')\n",
    "finally:\n",
    "    # 연결 닫기는 finally()에서 처리\n",
    "    f.close()\n",
    "    \n",
    "    \n",
    "    "
   ]
  },
  {
   "cell_type": "code",
   "execution_count": null,
   "metadata": {},
   "outputs": [],
   "source": []
  },
  {
   "cell_type": "code",
   "execution_count": null,
   "metadata": {},
   "outputs": [],
   "source": [
    "with open('my_text4.txt') as fi:\n",
    "    x = fi.read()\n",
    "    print(x)\n",
    "# with 블럭의 실행이 끝나면 알아서 close를 해준다.\n",
    "\n",
    "    "
   ]
  },
  {
   "cell_type": "code",
   "execution_count": null,
   "metadata": {},
   "outputs": [],
   "source": []
  },
  {
   "cell_type": "markdown",
   "metadata": {},
   "source": [
    "# TODO\n",
    "TODO - 간단한 메모장      \n",
    "사용자로부터 파일명을 입력받는다.      \n",
    "사용자로 부터 파일에 저장할 문장을 입력받아서 파일에 저장한다.      \n",
    "사용자가 !q 를 입력하면 종료한다.      \n",
    "사용자가 저장한 파일을 읽어서 출력한다.      "
   ]
  },
  {
   "cell_type": "code",
   "execution_count": 3,
   "metadata": {},
   "outputs": [],
   "source": [
    "def todo_memo():\n",
    "    file = input('파일명 입력:')\n",
    "    \n",
    "    f = open(file, 'wt')\n",
    "    while True:\n",
    "        i = input('입력:')\n",
    "        if i == '!q':\n",
    "            print('입력종료')\n",
    "            break\n",
    "        f.write(i + '\\n')\n",
    "    f.close()\n",
    "    \n",
    "    f = open(file, 'rt')\n",
    "    txt = f.read()\n",
    "    f.close()\n",
    "    \n",
    "    print('\\ntxt 출력 결과: \\n')\n",
    "    print(txt)"
   ]
  },
  {
   "cell_type": "code",
   "execution_count": 4,
   "metadata": {},
   "outputs": [
    {
     "name": "stdout",
     "output_type": "stream",
     "text": [
      "파일명 입력:abc.txt\n",
      "입력:asdasfaefq\n",
      "입력:안녕하슈\n",
      "입력:Hello\n",
      "입력:12345\n",
      "입력:!q\n",
      "입력종료\n",
      "\n",
      "txt 출력 결과: \n",
      "\n",
      "asdasfaefq\n",
      "안녕하슈\n",
      "Hello\n",
      "12345\n",
      "\n"
     ]
    }
   ],
   "source": [
    "todo_memo()"
   ]
  },
  {
   "cell_type": "markdown",
   "metadata": {},
   "source": [
    "## CSV(Comma Separated Value) 파일\n",
    "- 정형데이터(테이블 - 표 형태)를 파일에 저장하는 방식\n",
    "- 한 개의 데이터를 한 줄에 표시\n",
    "- 한 개의 데이터를 구성하는 값(속성)은 ','로 구분\n",
    "    - tsv(Tab Separated Value) - 속성값들을 Tab으로 구분\n",
    "- 텍스트 파일 기반\n",
    "- 파일 확장자는 '.csv', '.tsv'를 사용"
   ]
  },
  {
   "cell_type": "code",
   "execution_count": 146,
   "metadata": {},
   "outputs": [
    {
     "ename": "SyntaxError",
     "evalue": "invalid syntax (<ipython-input-146-f646cea0bf04>, line 1)",
     "output_type": "error",
     "traceback": [
      "\u001b[0;36m  File \u001b[0;32m\"<ipython-input-146-f646cea0bf04>\"\u001b[0;36m, line \u001b[0;32m1\u001b[0m\n\u001b[0;31m    TODO - csv 파일을 읽어서 각 열의 값을 배열에 담는다.\u001b[0m\n\u001b[0m                 ^\u001b[0m\n\u001b[0;31mSyntaxError\u001b[0m\u001b[0;31m:\u001b[0m invalid syntax\n"
     ]
    }
   ],
   "source": [
    "TODO - csv 파일을 읽어서 각 열의 값을 배열에 담는다.\n",
    "이름,나이,주소  형태의 csv를 읽어\n",
    "names = []\n",
    "ages =[]\n",
    "address =[]\n",
    "배열에 넣는다. 라인이 index가 된다.\n",
    "홍길동,20,서울\n",
    "박영희,30,인천\n",
    "김영수,17,부산\n",
    "이경수,20,서울\n",
    "장경철,22,인천\n",
    "\n",
    "data.csv라는 파일 생성 후 위를 저장"
   ]
  },
  {
   "cell_type": "code",
   "execution_count": 7,
   "metadata": {},
   "outputs": [
    {
     "name": "stdout",
     "output_type": "stream",
     "text": [
      "['홍길동', '박영희', '김영수', '이경수', '장경철']\n",
      "['20', '30', '17', '20', '22']\n",
      "['서울', '인천', '부산', '서울', '인천']\n"
     ]
    }
   ],
   "source": [
    "names = []\n",
    "ages =[]\n",
    "address =[]\n",
    "\n",
    "# with open('data.csv', 'rt', encoding = 'utf-8') as fi:\n",
    "with open('data.csv', 'rt') as fi:\n",
    "    while True:\n",
    "        lst = fi.readline().strip('\\n').split(',')\n",
    "        if lst == ['']:\n",
    "            break\n",
    "        for idx, val in enumerate(lst):\n",
    "            if idx == 0:\n",
    "                names.append(val)\n",
    "            elif idx == 1:\n",
    "                ages.append(val)\n",
    "            else:\n",
    "                address.append(val)\n",
    "\n",
    "print(names)\n",
    "print(ages)\n",
    "print(address)"
   ]
  },
  {
   "cell_type": "code",
   "execution_count": null,
   "metadata": {},
   "outputs": [],
   "source": []
  },
  {
   "cell_type": "code",
   "execution_count": null,
   "metadata": {},
   "outputs": [],
   "source": []
  },
  {
   "cell_type": "code",
   "execution_count": 212,
   "metadata": {},
   "outputs": [
    {
     "data": {
      "text/plain": [
       "'/Users/taekyunkim/Source_by_me_PLAYDATA'"
      ]
     },
     "execution_count": 212,
     "metadata": {},
     "output_type": "execute_result"
    }
   ],
   "source": [
    "os.getcwd()"
   ]
  },
  {
   "cell_type": "code",
   "execution_count": 222,
   "metadata": {},
   "outputs": [],
   "source": [
    "os.chdir('../../DSAC_data')"
   ]
  },
  {
   "cell_type": "code",
   "execution_count": 223,
   "metadata": {},
   "outputs": [
    {
     "data": {
      "text/plain": [
       "'/Users/taekyunkim/DSAC_data'"
      ]
     },
     "execution_count": 223,
     "metadata": {},
     "output_type": "execute_result"
    }
   ],
   "source": [
    "os.getcwd()"
   ]
  },
  {
   "cell_type": "code",
   "execution_count": 224,
   "metadata": {},
   "outputs": [],
   "source": [
    "os.chdir(curr_dir)"
   ]
  },
  {
   "cell_type": "code",
   "execution_count": 225,
   "metadata": {},
   "outputs": [
    {
     "data": {
      "text/plain": [
       "'/Users/taekyunkim/Source_by_me_PLAYDATA'"
      ]
     },
     "execution_count": 225,
     "metadata": {},
     "output_type": "execute_result"
    }
   ],
   "source": [
    "os.getcwd()"
   ]
  },
  {
   "cell_type": "code",
   "execution_count": null,
   "metadata": {},
   "outputs": [],
   "source": []
  },
  {
   "cell_type": "code",
   "execution_count": 13,
   "metadata": {},
   "outputs": [],
   "source": [
    "with open('data.csv', 'wt') as fw:\n",
    "    for mem in zip(names, ages, address):\n",
    "        fw.write(','.join(mem)+'\\n')"
   ]
  },
  {
   "cell_type": "code",
   "execution_count": 12,
   "metadata": {},
   "outputs": [
    {
     "data": {
      "text/plain": [
       "'홍길동,20,서울'"
      ]
     },
     "execution_count": 12,
     "metadata": {},
     "output_type": "execute_result"
    }
   ],
   "source": [
    "t = ('홍길동', '20', '서울')\n",
    "# 리스트, 튜플의 원소들을 하나의 문자열(str)로 묶는 메소드 -> .join()\n",
    "# \"구분자\".join(튜플)\n",
    "\",\".join(t)"
   ]
  },
  {
   "cell_type": "code",
   "execution_count": 14,
   "metadata": {},
   "outputs": [
    {
     "data": {
      "text/plain": [
       "[0, 0, 0, 0, 0, 0, 0, 0, 0, 0]"
      ]
     },
     "execution_count": 14,
     "metadata": {},
     "output_type": "execute_result"
    }
   ],
   "source": [
    "[0 for i in range(10)]"
   ]
  },
  {
   "cell_type": "code",
   "execution_count": null,
   "metadata": {},
   "outputs": [],
   "source": []
  },
  {
   "cell_type": "code",
   "execution_count": 15,
   "metadata": {},
   "outputs": [],
   "source": [
    "import pandas as pd"
   ]
  },
  {
   "cell_type": "code",
   "execution_count": 16,
   "metadata": {},
   "outputs": [],
   "source": [
    "data = pd.read_csv('data.csv')"
   ]
  },
  {
   "cell_type": "code",
   "execution_count": 18,
   "metadata": {},
   "outputs": [
    {
     "data": {
      "text/html": [
       "<div>\n",
       "<style scoped>\n",
       "    .dataframe tbody tr th:only-of-type {\n",
       "        vertical-align: middle;\n",
       "    }\n",
       "\n",
       "    .dataframe tbody tr th {\n",
       "        vertical-align: top;\n",
       "    }\n",
       "\n",
       "    .dataframe thead th {\n",
       "        text-align: right;\n",
       "    }\n",
       "</style>\n",
       "<table border=\"1\" class=\"dataframe\">\n",
       "  <thead>\n",
       "    <tr style=\"text-align: right;\">\n",
       "      <th></th>\n",
       "      <th>홍길동</th>\n",
       "      <th>20</th>\n",
       "      <th>서울</th>\n",
       "    </tr>\n",
       "  </thead>\n",
       "  <tbody>\n",
       "    <tr>\n",
       "      <th>0</th>\n",
       "      <td>박영희</td>\n",
       "      <td>30</td>\n",
       "      <td>인천</td>\n",
       "    </tr>\n",
       "    <tr>\n",
       "      <th>1</th>\n",
       "      <td>김영수</td>\n",
       "      <td>17</td>\n",
       "      <td>부산</td>\n",
       "    </tr>\n",
       "    <tr>\n",
       "      <th>2</th>\n",
       "      <td>이경수</td>\n",
       "      <td>20</td>\n",
       "      <td>서울</td>\n",
       "    </tr>\n",
       "    <tr>\n",
       "      <th>3</th>\n",
       "      <td>장경철</td>\n",
       "      <td>22</td>\n",
       "      <td>인천</td>\n",
       "    </tr>\n",
       "  </tbody>\n",
       "</table>\n",
       "</div>"
      ],
      "text/plain": [
       "   홍길동  20  서울\n",
       "0  박영희  30  인천\n",
       "1  김영수  17  부산\n",
       "2  이경수  20  서울\n",
       "3  장경철  22  인천"
      ]
     },
     "execution_count": 18,
     "metadata": {},
     "output_type": "execute_result"
    }
   ],
   "source": [
    "data"
   ]
  },
  {
   "cell_type": "code",
   "execution_count": null,
   "metadata": {},
   "outputs": [],
   "source": []
  },
  {
   "cell_type": "code",
   "execution_count": null,
   "metadata": {},
   "outputs": [],
   "source": []
  },
  {
   "cell_type": "markdown",
   "metadata": {},
   "source": [
    "## pickle을 이용한 객체 읽고 쓰기\n",
    "- 저장: pickle.dump(저장할 객체, 출력)\n",
    "    - 객체 직렬화(Serialize) - 객체를 출력\n",
    "- 읽기: pickle.load(입력)\n",
    "    - 객체 역직렬화 - 직렬화된 객체를 입력받는 것\n",
    "- 파일과 연결 시 binary모드로 연결해야 한다.\n",
    "           \n",
    "           \n",
    "          \n",
    "-> pickle은 각 입력 형태 (int,str 등)을 살리면서 데이터를 그대로 유지시킨 채로 저장한다."
   ]
  },
  {
   "cell_type": "code",
   "execution_count": 19,
   "metadata": {},
   "outputs": [],
   "source": [
    "lst1 = [1, 2, 3, 4]"
   ]
  },
  {
   "cell_type": "code",
   "execution_count": 20,
   "metadata": {},
   "outputs": [],
   "source": [
    "import pickle"
   ]
  },
  {
   "cell_type": "code",
   "execution_count": 21,
   "metadata": {},
   "outputs": [],
   "source": [
    "with open('list.pkl', 'wb') as fi:\n",
    "    pickle.dump(lst1, fi)    # 저장"
   ]
  },
  {
   "cell_type": "code",
   "execution_count": 24,
   "metadata": {},
   "outputs": [],
   "source": [
    "with open('list.pkl', 'rb') as fo:\n",
    "    lst2 = pickle.load(fo)"
   ]
  },
  {
   "cell_type": "code",
   "execution_count": 26,
   "metadata": {},
   "outputs": [
    {
     "data": {
      "text/plain": [
       "([1, 2, 3, 4], list)"
      ]
     },
     "execution_count": 26,
     "metadata": {},
     "output_type": "execute_result"
    }
   ],
   "source": [
    "lst2, type(lst2)"
   ]
  },
  {
   "cell_type": "code",
   "execution_count": null,
   "metadata": {},
   "outputs": [],
   "source": []
  },
  {
   "cell_type": "code",
   "execution_count": null,
   "metadata": {},
   "outputs": [],
   "source": []
  },
  {
   "cell_type": "code",
   "execution_count": 27,
   "metadata": {},
   "outputs": [],
   "source": [
    "class Person():\n",
    "    def __init__(self, name, age):\n",
    "        self.name = name\n",
    "        self.age = age\n",
    "        \n",
    "    def __str__(self):\n",
    "        return f'{self.name}, {self.age}'"
   ]
  },
  {
   "cell_type": "code",
   "execution_count": 28,
   "metadata": {},
   "outputs": [],
   "source": [
    "p = Person('max', 430)"
   ]
  },
  {
   "cell_type": "code",
   "execution_count": 29,
   "metadata": {},
   "outputs": [],
   "source": [
    "with open('person.pkl', 'wb') as fi:\n",
    "    pickle.dump(p, fi)"
   ]
  },
  {
   "cell_type": "code",
   "execution_count": 30,
   "metadata": {},
   "outputs": [],
   "source": [
    "with open('person.pkl', 'rb') as fo:\n",
    "    p2 = pickle.load(fo)"
   ]
  },
  {
   "cell_type": "code",
   "execution_count": 33,
   "metadata": {},
   "outputs": [
    {
     "name": "stdout",
     "output_type": "stream",
     "text": [
      "max, 430\n"
     ]
    }
   ],
   "source": [
    "print(p2)"
   ]
  },
  {
   "cell_type": "code",
   "execution_count": null,
   "metadata": {},
   "outputs": [],
   "source": []
  }
 ],
 "metadata": {
  "kernelspec": {
   "display_name": "Python 3",
   "language": "python",
   "name": "python3"
  },
  "language_info": {
   "codemirror_mode": {
    "name": "ipython",
    "version": 3
   },
   "file_extension": ".py",
   "mimetype": "text/x-python",
   "name": "python",
   "nbconvert_exporter": "python",
   "pygments_lexer": "ipython3",
   "version": "3.6.5"
  }
 },
 "nbformat": 4,
 "nbformat_minor": 4
}
