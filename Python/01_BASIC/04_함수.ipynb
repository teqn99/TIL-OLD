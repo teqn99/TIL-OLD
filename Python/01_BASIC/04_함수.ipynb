{
 "cells": [
  {
   "cell_type": "markdown",
   "metadata": {},
   "source": [
    "# 함수"
   ]
  },
  {
   "cell_type": "code",
   "execution_count": 3,
   "metadata": {
    "scrolled": true
   },
   "outputs": [
    {
     "data": {
      "text/plain": [
       "'\\ndef 함수이름([변수, 변수, ...]):    # 변수 : 파라미터, 매개변수\\n    실행문\\n    실행문\\n    [return] 반환값    # return이 실행안되면 None이 반환\\n\\n\\n\\n'"
      ]
     },
     "execution_count": 3,
     "metadata": {},
     "output_type": "execute_result"
    }
   ],
   "source": [
    "\"\"\"\n",
    "def 함수이름([변수, 변수, ...]):    # 변수 : 파라미터, 매개변수\n",
    "    실행문\n",
    "    실행문\n",
    "    [return] 반환값    # return이 실행안되면 None이 반환\n",
    "\n",
    "\n",
    "\n",
    "\"\"\""
   ]
  },
  {
   "cell_type": "markdown",
   "metadata": {},
   "source": [
    "- 함수 이름: 관례적으로 소문자만 사용, 단어와 단어는 '_'로 연결\n",
    "    - 어떤 값을 제공하는 함수 : get_제공하는값.\n",
    "        - ex) get_name(), get_age()\n",
    "    - 어떤 값을 변경하는 함수 : set_변경할값.\n",
    "        - ex) set_name(), set_age()\n",
    "    - 어떤 값을 제거하는 함수 : remove_삭제할값.\n",
    "        - ex) remove_name(), remove_age()\n",
    "        "
   ]
  },
  {
   "cell_type": "code",
   "execution_count": 5,
   "metadata": {},
   "outputs": [],
   "source": [
    "# 함수 : 코드작성 + 실행 (메모리에 올려서 호출할 수 있게 해준다.)\n",
    "def say_hello():    # 선언부\n",
    "    # 구현부\n",
    "    print('안녕')\n",
    "    print('hello')"
   ]
  },
  {
   "cell_type": "code",
   "execution_count": 6,
   "metadata": {},
   "outputs": [
    {
     "name": "stdout",
     "output_type": "stream",
     "text": [
      "안녕\n",
      "hello\n"
     ]
    }
   ],
   "source": [
    "say_hello()"
   ]
  },
  {
   "cell_type": "code",
   "execution_count": 7,
   "metadata": {},
   "outputs": [],
   "source": [
    "def say_hello2(name):\n",
    "    print(f'{name}, 안녕하슈')\n",
    "    print(f'Good morning, {name}')"
   ]
  },
  {
   "cell_type": "code",
   "execution_count": 9,
   "metadata": {},
   "outputs": [
    {
     "name": "stdout",
     "output_type": "stream",
     "text": [
      "max, 안녕하슈\n",
      "Good morning, max\n"
     ]
    }
   ],
   "source": [
    "say_hello2('max')"
   ]
  },
  {
   "cell_type": "code",
   "execution_count": 12,
   "metadata": {},
   "outputs": [],
   "source": [
    "def say_hello3(name):\n",
    "    greeting = f'{name}님 안녕하세요. {name}, Hello'\n",
    "    return greeting    # return value(반환값): 처리결과로서 호출한 곳에 전달."
   ]
  },
  {
   "cell_type": "code",
   "execution_count": 17,
   "metadata": {},
   "outputs": [
    {
     "name": "stdout",
     "output_type": "stream",
     "text": [
      "max님 안녕하세요. max, Hello\n",
      "max님 안녕하세요. max, Hellomax님 안녕하세요. max, Hellomax님 안녕하세요. max, Hello\n"
     ]
    }
   ],
   "source": [
    "g = say_hello3('max')\n",
    "\n",
    "print(g)\n",
    "print(g * 3)"
   ]
  },
  {
   "cell_type": "code",
   "execution_count": 38,
   "metadata": {},
   "outputs": [],
   "source": [
    "# 두개의 숫자를 받아서 사칙연산 결과를 반환\n",
    "def calculate(num1, num2):\n",
    "    num1 = int(num1)\n",
    "    num2 = int(num2)\n",
    "    a = num1 + num2\n",
    "    b = num1 - num2\n",
    "    c = num1 * num2\n",
    "    if num2 != 0:\n",
    "        d = num1 / num2\n",
    "    elif num2 == 0:\n",
    "        d = None\n",
    "    return [a, b, c, d]\n",
    "    # return a, b, c, d   -   튜플 형식으로 리턴\n",
    "\n",
    "# return 값: 리턴값은 반드시 하나만 가능"
   ]
  },
  {
   "cell_type": "code",
   "execution_count": 39,
   "metadata": {},
   "outputs": [
    {
     "name": "stdout",
     "output_type": "stream",
     "text": [
      "[15, 5, 50, 2.0]\n"
     ]
    }
   ],
   "source": [
    "res = calculate(10, 5)\n",
    "print(res)"
   ]
  },
  {
   "cell_type": "code",
   "execution_count": 40,
   "metadata": {},
   "outputs": [
    {
     "name": "stdout",
     "output_type": "stream",
     "text": [
      "덧셈: 6, 뺄셈: 2, 곱셈: 8, 나눗셈: 2.0\n"
     ]
    }
   ],
   "source": [
    "a, b, c, d = calculate(4, 2)\n",
    "print(f'덧셈: {a}, 뺄셈: {b}, 곱셈: {c}, 나눗셈: {d}')"
   ]
  },
  {
   "cell_type": "code",
   "execution_count": 41,
   "metadata": {},
   "outputs": [
    {
     "data": {
      "text/plain": [
       "[10, 10, 0, None]"
      ]
     },
     "execution_count": 41,
     "metadata": {},
     "output_type": "execute_result"
    }
   ],
   "source": [
    "result = calculate(10, 0)\n",
    "result"
   ]
  },
  {
   "cell_type": "markdown",
   "metadata": {},
   "source": [
    "## 매개변수 선언의 여러가지 문법\n",
    "\n",
    "### Positional Parameter (Argument)\n",
    "- 매개변수를 순서대로 나열한 것\n",
    "    - ex) def my_func(a, b, c):\n",
    "- 호출할 때 각 파라미터에 전달할 값을 순서대로 나열한다. 전달할 값을 생략할 수 없다.\n",
    "    - ex) my_func(10, 20, 30)   a <= 10, b <= 20, c <= 30\n",
    "    - ex) my_func(10, 20)   c에 전달할 값이 없으므로 에러"
   ]
  },
  {
   "cell_type": "code",
   "execution_count": 55,
   "metadata": {},
   "outputs": [],
   "source": [
    "def print_info(name, age, tall):\n",
    "    print(f'이름: {name}, 나이: {age}, 키: {tall}')"
   ]
  },
  {
   "cell_type": "code",
   "execution_count": 56,
   "metadata": {},
   "outputs": [
    {
     "name": "stdout",
     "output_type": "stream",
     "text": [
      "이름: max, 나이: 20, 키: 175.8\n"
     ]
    }
   ],
   "source": [
    "print_info('max', 20, 175.8)"
   ]
  },
  {
   "cell_type": "markdown",
   "metadata": {},
   "source": [
    "### 기본값이 있는 매개변수\n",
    "- 매개변수를 선언할 때 값을 대입한다.\n",
    "- 기본값이 있는 매개변수(파라미터)\n",
    "\n",
    "### Keyword Parameter (Argument) (키워드 인자)\n",
    "- 호출 시 전달할 값(Argument)을 어떤 파라미터에 대입할 지 변수명을 이용하여 정할 수 있다."
   ]
  },
  {
   "cell_type": "code",
   "execution_count": 57,
   "metadata": {},
   "outputs": [],
   "source": [
    "def print_info2(name = None, age = None, tall = None):\n",
    "    print(f'이름: {name}, 나이: {age}, 키: {tall}')"
   ]
  },
  {
   "cell_type": "code",
   "execution_count": 58,
   "metadata": {},
   "outputs": [
    {
     "name": "stdout",
     "output_type": "stream",
     "text": [
      "이름: max, 나이: None, 키: None\n"
     ]
    }
   ],
   "source": [
    "print_info2('max')    # name = 'max', age = None(기본값), tall = None(기본값)"
   ]
  },
  {
   "cell_type": "code",
   "execution_count": 59,
   "metadata": {},
   "outputs": [
    {
     "name": "stdout",
     "output_type": "stream",
     "text": [
      "이름: mioni, 나이: 3, 키: 130\n"
     ]
    }
   ],
   "source": [
    "# 키워드 인자\n",
    "print_info(tall = 130, age = 3, name = 'mioni')"
   ]
  },
  {
   "cell_type": "markdown",
   "metadata": {},
   "source": [
    "### 기본값이 있는 매개변수와 기본값이 없는 매개변수 같이 선언할 때, 기본값이 없는 매개변수들을 먼저 선언해야 한다.\n"
   ]
  },
  {
   "cell_type": "code",
   "execution_count": 67,
   "metadata": {},
   "outputs": [],
   "source": [
    "# 기본값이 없는 매개변수 : 필수\n",
    "# 기본값이 있는 매개변수 : 옵션\n",
    "\n",
    "def print_info3(name, age, tall = None, weight = None):\n",
    "    print(f'이름: {name}, 나이: {age}, 키: {tall}, 몸무게: {weight}')"
   ]
  },
  {
   "cell_type": "code",
   "execution_count": 68,
   "metadata": {},
   "outputs": [
    {
     "name": "stdout",
     "output_type": "stream",
     "text": [
      "이름: maxi, 나이: 20, 키: 180, 몸무게: 100\n"
     ]
    }
   ],
   "source": [
    "print_info3('maxi', 20, 180, 100)"
   ]
  },
  {
   "cell_type": "code",
   "execution_count": 69,
   "metadata": {},
   "outputs": [],
   "source": [
    "def print_info4(name = None, age = 0, tall = None, weight = None):\n",
    "    print(f'이름: {name}, 나이: {age}, 키: {tall}, 몸무게: {weight}')"
   ]
  },
  {
   "cell_type": "code",
   "execution_count": 73,
   "metadata": {},
   "outputs": [
    {
     "name": "stdout",
     "output_type": "stream",
     "text": [
      "이름: None, 나이: 0, 키: None, 몸무게: None\n",
      "이름: None, 나이: 40, 키: None, 몸무게: None\n",
      "이름: None, 나이: 0, 키: 190, 몸무게: None\n"
     ]
    }
   ],
   "source": [
    "print_info4()\n",
    "print_info4(age = 40)\n",
    "print_info4(tall = 190)"
   ]
  },
  {
   "cell_type": "markdown",
   "metadata": {},
   "source": [
    "## 가변인자\n",
    "- def 함수명(*변수명):  0 ~ n개의 Argument 값들을 묶어서 튜플로 받는다.\n",
    "- 관례적으로 변수명은 args\n"
   ]
  },
  {
   "cell_type": "code",
   "execution_count": 74,
   "metadata": {},
   "outputs": [],
   "source": [
    "# 리스트를 받아서 총 합계를 구하는 함수\n",
    "def sum_nums(num_list):\n",
    "    print(num_list)"
   ]
  },
  {
   "cell_type": "code",
   "execution_count": 75,
   "metadata": {},
   "outputs": [
    {
     "name": "stdout",
     "output_type": "stream",
     "text": [
      "[1, 3, 4, 5, 6]\n"
     ]
    }
   ],
   "source": [
    "sum_nums([1, 3, 4, 5, 6])"
   ]
  },
  {
   "cell_type": "code",
   "execution_count": 79,
   "metadata": {},
   "outputs": [],
   "source": [
    "def sum_nums2(*num_list):\n",
    "    # 튜플로 처리하게 됨.\n",
    "    print(num_list)\n",
    "    print(type(num_list))"
   ]
  },
  {
   "cell_type": "code",
   "execution_count": 77,
   "metadata": {},
   "outputs": [
    {
     "name": "stdout",
     "output_type": "stream",
     "text": [
      "()\n",
      "<class 'tuple'>\n"
     ]
    }
   ],
   "source": [
    "sum_nums2()"
   ]
  },
  {
   "cell_type": "code",
   "execution_count": 78,
   "metadata": {},
   "outputs": [
    {
     "name": "stdout",
     "output_type": "stream",
     "text": [
      "(1, 2, 3, 4, 5)\n",
      "<class 'tuple'>\n"
     ]
    }
   ],
   "source": [
    "sum_nums2(1, 2, 3, 4, 5)"
   ]
  },
  {
   "cell_type": "code",
   "execution_count": 84,
   "metadata": {},
   "outputs": [
    {
     "name": "stdout",
     "output_type": "stream",
     "text": [
      "([10, 20, 30, 40, 50],)\n",
      "<class 'tuple'>\n",
      "(10, 20, 30, 40, 50)\n",
      "<class 'tuple'>\n"
     ]
    }
   ],
   "source": [
    "num = [10, 20, 30, 40, 50]\n",
    "sum_nums2(num)\n",
    "# 리스트 자체가 하나의 값이기 때문에, 튜플의 첫번째 원소로 리스트 하나가 들어가는 꼴이 된다. -> sum_nums2([10, 20, 30, 40, 50])\n",
    "\n",
    "sum_nums2(*num)\n",
    "# '*'를 통해 리스트 안의 원소들을 풀어서 인자로 저장 -> sum_nums2(10, 20, 30, 40, 50)"
   ]
  },
  {
   "cell_type": "markdown",
   "metadata": {},
   "source": [
    "- def 함수명(**변수명)\n",
    "    - 호출할 때 keyword 인자 형태로 전달하고, 가변인수는 이것을 dictionary로 처리한다.\n",
    "    - 관례적으로 변수명은 kwargs"
   ]
  },
  {
   "cell_type": "code",
   "execution_count": 85,
   "metadata": {},
   "outputs": [],
   "source": [
    "def person_info(**info):\n",
    "    print(info)\n",
    "    print(type(info))"
   ]
  },
  {
   "cell_type": "code",
   "execution_count": 86,
   "metadata": {},
   "outputs": [
    {
     "name": "stdout",
     "output_type": "stream",
     "text": [
      "{'name': 'max', 'age': 20}\n",
      "<class 'dict'>\n"
     ]
    }
   ],
   "source": [
    "person_info(name = 'max', age = 20)"
   ]
  },
  {
   "cell_type": "code",
   "execution_count": 88,
   "metadata": {
    "scrolled": true
   },
   "outputs": [
    {
     "name": "stdout",
     "output_type": "stream",
     "text": [
      "{}\n",
      "<class 'dict'>\n"
     ]
    }
   ],
   "source": [
    "person_info()"
   ]
  },
  {
   "cell_type": "code",
   "execution_count": 94,
   "metadata": {},
   "outputs": [],
   "source": [
    "d = {\n",
    "    'id' : 'id-1',\n",
    "    'password' : 1111\n",
    "}"
   ]
  },
  {
   "cell_type": "code",
   "execution_count": 97,
   "metadata": {},
   "outputs": [
    {
     "name": "stdout",
     "output_type": "stream",
     "text": [
      "{'id': 'id-1', 'password': 1111}\n",
      "<class 'dict'>\n"
     ]
    }
   ],
   "source": [
    "person_info(**d)\n",
    "# 이미 존재하는 딕셔너리를 가변인자에 넣고 싶은 경우에는 '**'를 붙여서 넣어주여아한다.\n",
    "# **info 부분은 dictionary 형태로 처리하는 것이지, dictionary를 받는 것이 아니기 때문이다."
   ]
  },
  {
   "cell_type": "markdown",
   "metadata": {},
   "source": [
    "- 하나의 함수 정의당 가변인자는 각각 한개씩만 가능\n",
    "- 가변인자와 일반 매개변수를 같이 선언할 경우에는 일반 매개변수를 먼저 선언해야한다. (가변인자를 마지막에 선언한다.)\n",
    "- 이름관례: \\*args, \\*\\*kwargs"
   ]
  },
  {
   "cell_type": "code",
   "execution_count": 89,
   "metadata": {},
   "outputs": [],
   "source": [
    "def test(a, b, *args):\n",
    "    print(a, b, args)"
   ]
  },
  {
   "cell_type": "code",
   "execution_count": 90,
   "metadata": {},
   "outputs": [
    {
     "name": "stdout",
     "output_type": "stream",
     "text": [
      "1 2 (3, 4, 5, 6, 7)\n"
     ]
    }
   ],
   "source": [
    "test(1, 2, 3, 4, 5, 6, 7)"
   ]
  },
  {
   "cell_type": "code",
   "execution_count": 91,
   "metadata": {},
   "outputs": [],
   "source": [
    "def test2(*args, **kwargs):\n",
    "    print(args)\n",
    "    print(kwargs)"
   ]
  },
  {
   "cell_type": "code",
   "execution_count": 92,
   "metadata": {},
   "outputs": [
    {
     "name": "stdout",
     "output_type": "stream",
     "text": [
      "(1, 2, 3, 4, 5)\n",
      "{'name': 'mii', 'address': 'here'}\n"
     ]
    }
   ],
   "source": [
    "test2(1, 2, 3, 4, 5, name = 'mii', address = 'here')"
   ]
  },
  {
   "cell_type": "code",
   "execution_count": null,
   "metadata": {},
   "outputs": [],
   "source": []
  },
  {
   "cell_type": "markdown",
   "metadata": {},
   "source": [
    "## 변수의 유효범위 (Scope)"
   ]
  },
  {
   "cell_type": "code",
   "execution_count": 100,
   "metadata": {},
   "outputs": [],
   "source": [
    "def my_func():\n",
    "    # 함수 내에서 선언된 변수 -> 지역변수 (Local Variable) -> 함수 내부에서만 사용가능\n",
    "    x = 10\n",
    "    print(x)"
   ]
  },
  {
   "cell_type": "code",
   "execution_count": 102,
   "metadata": {},
   "outputs": [
    {
     "name": "stdout",
     "output_type": "stream",
     "text": [
      "10\n"
     ]
    }
   ],
   "source": [
    "my_func()"
   ]
  },
  {
   "cell_type": "code",
   "execution_count": 103,
   "metadata": {},
   "outputs": [
    {
     "ename": "NameError",
     "evalue": "name 'x' is not defined",
     "output_type": "error",
     "traceback": [
      "\u001b[0;31m---------------------------------------------------------------------------\u001b[0m",
      "\u001b[0;31mNameError\u001b[0m                                 Traceback (most recent call last)",
      "\u001b[0;32m<ipython-input-103-6fcf9dfbd479>\u001b[0m in \u001b[0;36m<module>\u001b[0;34m\u001b[0m\n\u001b[0;32m----> 1\u001b[0;31m \u001b[0mx\u001b[0m\u001b[0;34m\u001b[0m\u001b[0m\n\u001b[0m",
      "\u001b[0;31mNameError\u001b[0m: name 'x' is not defined"
     ]
    }
   ],
   "source": [
    "x"
   ]
  },
  {
   "cell_type": "code",
   "execution_count": 108,
   "metadata": {},
   "outputs": [],
   "source": [
    "var = 1000    # 전역변수"
   ]
  },
  {
   "cell_type": "code",
   "execution_count": 112,
   "metadata": {},
   "outputs": [],
   "source": [
    "def test_func():\n",
    "    var = 50    # 지역변수\n",
    "    print(var)"
   ]
  },
  {
   "cell_type": "code",
   "execution_count": 113,
   "metadata": {},
   "outputs": [
    {
     "name": "stdout",
     "output_type": "stream",
     "text": [
      "50\n"
     ]
    }
   ],
   "source": [
    "test_func()"
   ]
  },
  {
   "cell_type": "code",
   "execution_count": 114,
   "metadata": {},
   "outputs": [],
   "source": [
    "def test2():\n",
    "    print(var)"
   ]
  },
  {
   "cell_type": "code",
   "execution_count": 115,
   "metadata": {},
   "outputs": [
    {
     "name": "stdout",
     "output_type": "stream",
     "text": [
      "1000\n"
     ]
    }
   ],
   "source": [
    "test2()"
   ]
  },
  {
   "cell_type": "code",
   "execution_count": 116,
   "metadata": {},
   "outputs": [],
   "source": [
    "def test3():\n",
    "    global var\n",
    "    var = 200\n",
    "    print(var)"
   ]
  },
  {
   "cell_type": "code",
   "execution_count": 118,
   "metadata": {},
   "outputs": [
    {
     "name": "stdout",
     "output_type": "stream",
     "text": [
      "200\n"
     ]
    }
   ],
   "source": [
    "test3()"
   ]
  },
  {
   "cell_type": "code",
   "execution_count": 119,
   "metadata": {},
   "outputs": [
    {
     "data": {
      "text/plain": [
       "200"
      ]
     },
     "execution_count": 119,
     "metadata": {},
     "output_type": "execute_result"
    }
   ],
   "source": [
    "var"
   ]
  },
  {
   "cell_type": "markdown",
   "metadata": {},
   "source": [
    "## 함수(Function)은 일급시민객체(First Class Citizen Object)\n",
    "\n",
    "### 일급시민객체\n",
    "    - 변수에 대입할 수 있는 값(타입)\n",
    "    - 함수 호출 시 매개변수로 전달할 수 있는 값(타입). argument\n",
    "    - 함수의 반환값으로 사용할 수 있는 값(타입)"
   ]
  },
  {
   "cell_type": "code",
   "execution_count": 125,
   "metadata": {},
   "outputs": [],
   "source": [
    "a = 10    # 정수 (int)\n",
    "def test_func(num):\n",
    "    print(num)\n",
    "    return 10    # int를 반환값으로"
   ]
  },
  {
   "cell_type": "code",
   "execution_count": 127,
   "metadata": {},
   "outputs": [
    {
     "name": "stdout",
     "output_type": "stream",
     "text": [
      "10\n",
      "10\n"
     ]
    }
   ],
   "source": [
    "i = test_func(10)    # int 10을 argument\n",
    "print(i)"
   ]
  },
  {
   "cell_type": "markdown",
   "metadata": {},
   "source": [
    "int(정수)는 일급시민객체"
   ]
  },
  {
   "cell_type": "code",
   "execution_count": 129,
   "metadata": {},
   "outputs": [],
   "source": [
    "# 함수의 이름 = hello\n",
    "def hello():\n",
    "    print('Say Hello')"
   ]
  },
  {
   "cell_type": "code",
   "execution_count": 130,
   "metadata": {},
   "outputs": [
    {
     "name": "stdout",
     "output_type": "stream",
     "text": [
      "Say Hello\n"
     ]
    }
   ],
   "source": [
    "hello()"
   ]
  },
  {
   "cell_type": "code",
   "execution_count": 132,
   "metadata": {},
   "outputs": [],
   "source": [
    "# my_hello라는 함수를 만들건데, 새로 구현하는 게 아니라 hello함수의 내용을 가져올 것\n",
    "my_hello = hello"
   ]
  },
  {
   "cell_type": "code",
   "execution_count": 135,
   "metadata": {},
   "outputs": [
    {
     "name": "stdout",
     "output_type": "stream",
     "text": [
      "Say Hello\n",
      "Say Hello\n"
     ]
    }
   ],
   "source": [
    "my_hello()\n",
    "hello()"
   ]
  },
  {
   "cell_type": "code",
   "execution_count": 139,
   "metadata": {},
   "outputs": [],
   "source": [
    "def plus(num1, num2):\n",
    "    return num1 + num2"
   ]
  },
  {
   "cell_type": "code",
   "execution_count": 140,
   "metadata": {},
   "outputs": [
    {
     "name": "stdout",
     "output_type": "stream",
     "text": [
      "4\n"
     ]
    }
   ],
   "source": [
    "v = plus(1,3)\n",
    "print(v)"
   ]
  },
  {
   "cell_type": "code",
   "execution_count": 142,
   "metadata": {},
   "outputs": [
    {
     "name": "stdout",
     "output_type": "stream",
     "text": [
      "6\n"
     ]
    }
   ],
   "source": [
    "v2 = plus    # plus함수 자체를 v2에 대입\n",
    "v3 = v2(1,5)\n",
    "print(v3)"
   ]
  },
  {
   "cell_type": "code",
   "execution_count": 146,
   "metadata": {},
   "outputs": [],
   "source": [
    "def calculate(func):\n",
    "    n1 = 10\n",
    "    n2 = 20\n",
    "    result = func(n1, n2)\n",
    "    print(result)"
   ]
  },
  {
   "cell_type": "code",
   "execution_count": 147,
   "metadata": {},
   "outputs": [
    {
     "name": "stdout",
     "output_type": "stream",
     "text": [
      "30\n"
     ]
    }
   ],
   "source": [
    "calculate(plus)"
   ]
  },
  {
   "cell_type": "code",
   "execution_count": 155,
   "metadata": {},
   "outputs": [],
   "source": [
    "# 튜플을 받아서 index 0 값을 반환\n",
    "def get_key(tu):\n",
    "    return tu[1]"
   ]
  },
  {
   "cell_type": "code",
   "execution_count": 156,
   "metadata": {},
   "outputs": [
    {
     "data": {
      "text/plain": [
       "(2, 5)"
      ]
     },
     "execution_count": 156,
     "metadata": {},
     "output_type": "execute_result"
    }
   ],
   "source": [
    "get_key((1, 2, 3)), get_key((10, 5, 7))"
   ]
  },
  {
   "cell_type": "code",
   "execution_count": 157,
   "metadata": {},
   "outputs": [],
   "source": [
    "lst = [\n",
    "    (1, 2, 3),\n",
    "    (10, -10, 5),\n",
    "    (0, 100, 1)\n",
    "]"
   ]
  },
  {
   "cell_type": "code",
   "execution_count": 160,
   "metadata": {},
   "outputs": [
    {
     "data": {
      "text/plain": [
       "[(0, 100, 1), (1, 2, 3), (10, -10, 5)]"
      ]
     },
     "execution_count": 160,
     "metadata": {},
     "output_type": "execute_result"
    }
   ],
   "source": [
    "# sorted(iterable, key = 함수)\n",
    "# 원소 하나하나를 함수의 매개변수에 전달. 그 함수가 반환하는 값을 기준으로 정렬\n",
    "# 오름 / 내림차순으로 정렬\n",
    "sorted(lst)\n",
    "\n",
    "# 0번 index 기준으로 정렬됨"
   ]
  },
  {
   "cell_type": "code",
   "execution_count": 161,
   "metadata": {},
   "outputs": [
    {
     "data": {
      "text/plain": [
       "[(10, -10, 5), (1, 2, 3), (0, 100, 1)]"
      ]
     },
     "execution_count": 161,
     "metadata": {},
     "output_type": "execute_result"
    }
   ],
   "source": [
    "sorted(lst, key = get_key)\n",
    "\n",
    "# get_key 함수의 설정에 따라 1번 index 기준으로 정렬됨"
   ]
  },
  {
   "cell_type": "code",
   "execution_count": 162,
   "metadata": {},
   "outputs": [],
   "source": [
    "def tu_sum(tu):\n",
    "    return sum(tu)"
   ]
  },
  {
   "cell_type": "code",
   "execution_count": 163,
   "metadata": {},
   "outputs": [
    {
     "data": {
      "text/plain": [
       "15"
      ]
     },
     "execution_count": 163,
     "metadata": {},
     "output_type": "execute_result"
    }
   ],
   "source": [
    "tu_sum((1, 2, 3, 4, 5))"
   ]
  },
  {
   "cell_type": "code",
   "execution_count": 167,
   "metadata": {},
   "outputs": [
    {
     "data": {
      "text/plain": [
       "[(10, -10, 5), (1, 2, 3), (0, 100, 1)]"
      ]
     },
     "execution_count": 167,
     "metadata": {},
     "output_type": "execute_result"
    }
   ],
   "source": [
    "sorted(lst, key = tu_sum)\n",
    "\n",
    "# tu_sum함수의 설정에 따라 합이 커지는 순서로 정렬되는 것"
   ]
  },
  {
   "cell_type": "code",
   "execution_count": 168,
   "metadata": {},
   "outputs": [
    {
     "data": {
      "text/plain": [
       "[(0, 100, 1), (1, 2, 3), (10, -10, 5)]"
      ]
     },
     "execution_count": 168,
     "metadata": {},
     "output_type": "execute_result"
    }
   ],
   "source": [
    "sorted(lst, key = tu_sum, reverse = True)"
   ]
  },
  {
   "cell_type": "markdown",
   "metadata": {},
   "source": [
    "### 람다 표현식 ( 람다식 - Lambda Expression )\n",
    "- 단일 구문으로 표현하는 익명의 함수\n",
    "    - 익명함수 : 이름 (함수선언) 없이 구현만 가지고 있는 함수 표현식\n",
    "- 일회성 사용함수를 만들 때 주로 사용\n",
    "    - 함수 호출 시 매개변수에 함수를 전달할 때 많이 사용\n",
    "\n",
    "- 구문\n",
    "- \n",
    "python)\n",
    "lambda [매개변수] : 실행문\n",
    "\n",
    "\n",
    "- 실행문 : 하나의 구문만 가능. 실행문의 처리결과를 자동으로 반환한다. (리턴 구문 필요없다. (생략))\n",
    "- 리턴을 생략하는 것이기 때문에 항상 반환\n"
   ]
  },
  {
   "cell_type": "code",
   "execution_count": 169,
   "metadata": {},
   "outputs": [],
   "source": [
    "def plus(num1, num2):\n",
    "    return num1 + num2"
   ]
  },
  {
   "cell_type": "code",
   "execution_count": 171,
   "metadata": {},
   "outputs": [
    {
     "name": "stdout",
     "output_type": "stream",
     "text": [
      "50\n"
     ]
    }
   ],
   "source": [
    "p = lambda num1, num2 : num1 + num2\n",
    "print(p(1,49))"
   ]
  },
  {
   "cell_type": "code",
   "execution_count": 173,
   "metadata": {},
   "outputs": [],
   "source": [
    "def cal(func):\n",
    "    n1 = 10\n",
    "    n2 = 20\n",
    "    result = func(n1, n2)\n",
    "    print(result)"
   ]
  },
  {
   "cell_type": "code",
   "execution_count": 174,
   "metadata": {},
   "outputs": [
    {
     "name": "stdout",
     "output_type": "stream",
     "text": [
      "30\n"
     ]
    }
   ],
   "source": [
    "calculate(lambda num1, num2 : num1 + num2)"
   ]
  },
  {
   "cell_type": "code",
   "execution_count": 175,
   "metadata": {},
   "outputs": [],
   "source": [
    "lst = [\n",
    "    (1, 2, 3),\n",
    "    (10, -10, 5),\n",
    "    (0, 100, 1)\n",
    "]"
   ]
  },
  {
   "cell_type": "code",
   "execution_count": 176,
   "metadata": {},
   "outputs": [
    {
     "data": {
      "text/plain": [
       "[(10, -10, 5), (1, 2, 3), (0, 100, 1)]"
      ]
     },
     "execution_count": 176,
     "metadata": {},
     "output_type": "execute_result"
    }
   ],
   "source": [
    "sorted(lst, key = lambda t : sum(t))"
   ]
  },
  {
   "cell_type": "code",
   "execution_count": null,
   "metadata": {},
   "outputs": [],
   "source": []
  },
  {
   "cell_type": "code",
   "execution_count": null,
   "metadata": {},
   "outputs": [],
   "source": []
  },
  {
   "cell_type": "code",
   "execution_count": 2,
   "metadata": {},
   "outputs": [
    {
     "data": {
      "text/plain": [
       "['aojpewojt', 'asdas', 'dfgdfhre', 'eryewuhw', 'xcbxcb']"
      ]
     },
     "execution_count": 2,
     "metadata": {},
     "output_type": "execute_result"
    }
   ],
   "source": [
    "str_list = ['asdas', 'xcbxcb', 'dfgdfhre', 'eryewuhw', 'aojpewojt']\n",
    "sorted(str_list)"
   ]
  },
  {
   "cell_type": "code",
   "execution_count": 15,
   "metadata": {},
   "outputs": [
    {
     "name": "stdout",
     "output_type": "stream",
     "text": [
      "['asdas', 'xcbxcb', 'dfgdfhre', 'eryewuhw', 'aojpewojt']\n",
      "['asdas', 'xcbxcb', 'dfgdfhre', 'eryewuhw', 'aojpewojt']\n",
      "['aojpewojt', 'dfgdfhre', 'eryewuhw', 'xcbxcb', 'asdas']\n",
      "['asdas', 'xcbxcb', 'dfgdfhre', 'eryewuhw', 'aojpewojt']\n"
     ]
    }
   ],
   "source": [
    "# 글자수 많은 순서로 정렬\n",
    "def check_len(s):\n",
    "    return len(s)\n",
    "\n",
    "print(sorted(str_list, key = lambda x:len(x)))\n",
    "print(sorted(str_list, key = check_len))\n",
    "print(sorted(str_list, key = check_len, reverse = True))\n",
    "print(sorted(str_list, key = len))\n",
    "# sorted 함수의 key 부분에는 함수의 형태로 값을 지정해줘야함\n",
    "# 반환값의 형태로 값을 지정해주면 오류 발생"
   ]
  },
  {
   "cell_type": "code",
   "execution_count": null,
   "metadata": {},
   "outputs": [],
   "source": []
  },
  {
   "cell_type": "code",
   "execution_count": 20,
   "metadata": {},
   "outputs": [],
   "source": [
    "def solution(n):\n",
    "    answer = ''\n",
    "    a = '수'\n",
    "    b = '박'\n",
    "    for i in range(n):\n",
    "        if i % 2 == 0:\n",
    "            answer += a\n",
    "        else:\n",
    "            answer += b\n",
    "    \n",
    "    return answer"
   ]
  },
  {
   "cell_type": "code",
   "execution_count": 21,
   "metadata": {},
   "outputs": [
    {
     "data": {
      "text/plain": [
       "'수박수'"
      ]
     },
     "execution_count": 21,
     "metadata": {},
     "output_type": "execute_result"
    }
   ],
   "source": [
    "solution(3)"
   ]
  },
  {
   "cell_type": "code",
   "execution_count": null,
   "metadata": {},
   "outputs": [],
   "source": []
  },
  {
   "cell_type": "code",
   "execution_count": 22,
   "metadata": {},
   "outputs": [],
   "source": [
    "# dictionary 정렬\n",
    "dic = {\n",
    "    'b' : 100,\n",
    "    'a' : 200,\n",
    "    'c' : 50\n",
    "}"
   ]
  },
  {
   "cell_type": "code",
   "execution_count": 23,
   "metadata": {},
   "outputs": [
    {
     "data": {
      "text/plain": [
       "['a', 'b', 'c']"
      ]
     },
     "execution_count": 23,
     "metadata": {},
     "output_type": "execute_result"
    }
   ],
   "source": [
    "sorted(dic)"
   ]
  },
  {
   "cell_type": "code",
   "execution_count": 27,
   "metadata": {},
   "outputs": [
    {
     "data": {
      "text/plain": [
       "[('c', 50), ('b', 100), ('a', 200)]"
      ]
     },
     "execution_count": 27,
     "metadata": {},
     "output_type": "execute_result"
    }
   ],
   "source": [
    "# value를 기준으로 정렬하려 하는 경우 (전제: value의 데이터 타입이 모두 동일한 경우)\n",
    "\n",
    "res = sorted(dic.items(), key = lambda x : x[1])\n",
    "res"
   ]
  },
  {
   "cell_type": "code",
   "execution_count": 28,
   "metadata": {},
   "outputs": [
    {
     "data": {
      "text/plain": [
       "{'c': 50, 'b': 100, 'a': 200}"
      ]
     },
     "execution_count": 28,
     "metadata": {},
     "output_type": "execute_result"
    }
   ],
   "source": [
    "sorted_dic = { k:v for k, v in res}\n",
    "sorted_dic"
   ]
  },
  {
   "cell_type": "markdown",
   "metadata": {},
   "source": [
    "- filter(함수, iterable) : iterable의 원소들 중에서 특정 조건을 만족하는 원소들만 걸러주는 함수\n",
    "    - 함수: Bool 값을 반환\n",
    "    - Iterable의 원소 하나하나를 함수의 매개변수로 전달. 함수가 True를 반환하는 원소만 반환\n",
    "\n",
    "- map(함수, iterable) : iterable의 원소들 하나하나를 처리해서 그 처리 결과를 반환\n",
    "    - 함수 : 어떻게 처리할 지를 정의. 매개변수 1개. 반환값을 원소를 처리한 결과\n",
    "\n",
    "- filter, map 함수의 반환타입은 iterable"
   ]
  },
  {
   "cell_type": "code",
   "execution_count": 45,
   "metadata": {},
   "outputs": [],
   "source": [
    "num_list = list(range(100))"
   ]
  },
  {
   "cell_type": "code",
   "execution_count": 46,
   "metadata": {},
   "outputs": [
    {
     "name": "stdout",
     "output_type": "stream",
     "text": [
      "0\n",
      "10\n",
      "20\n",
      "30\n",
      "40\n",
      "50\n",
      "60\n",
      "70\n",
      "80\n",
      "90\n"
     ]
    }
   ],
   "source": [
    "# 10의 배수만 걸러내기\n",
    "def check(x):\n",
    "    return (x % 10 == 0)\n",
    "\n",
    "res = filter(check, num_list)\n",
    "for i in res:\n",
    "    print(i)"
   ]
  },
  {
   "cell_type": "code",
   "execution_count": 47,
   "metadata": {},
   "outputs": [
    {
     "name": "stdout",
     "output_type": "stream",
     "text": [
      "0\n",
      "10\n",
      "20\n",
      "30\n",
      "40\n",
      "50\n",
      "60\n",
      "70\n",
      "80\n",
      "90\n"
     ]
    }
   ],
   "source": [
    "res = filter(lambda x : x % 10 == 0, num_list)\n",
    "for i in res:\n",
    "    print(i)"
   ]
  },
  {
   "cell_type": "code",
   "execution_count": 48,
   "metadata": {},
   "outputs": [
    {
     "data": {
      "text/plain": [
       "[]"
      ]
     },
     "execution_count": 48,
     "metadata": {},
     "output_type": "execute_result"
    }
   ],
   "source": [
    "list(res)\n",
    "# 위의 값은 한 번만 사용가능"
   ]
  },
  {
   "cell_type": "code",
   "execution_count": 49,
   "metadata": {},
   "outputs": [
    {
     "data": {
      "text/plain": [
       "[0, 10, 20, 30, 40, 50, 60, 70, 80, 90]"
      ]
     },
     "execution_count": 49,
     "metadata": {},
     "output_type": "execute_result"
    }
   ],
   "source": [
    "# filter는 많이 사용하진 않음\n",
    "# 이런식으로 간편하게 구현 가능\n",
    "rlst = [i for i in num_list if i % 10 == 0]\n",
    "rlst"
   ]
  },
  {
   "cell_type": "code",
   "execution_count": 102,
   "metadata": {},
   "outputs": [
    {
     "data": {
      "text/plain": [
       "[1, 2, 3, 4, 5, 6, 7, 8, 9, 10]"
      ]
     },
     "execution_count": 102,
     "metadata": {},
     "output_type": "execute_result"
    }
   ],
   "source": [
    "num_list = list(range(1,11))\n",
    "num_list"
   ]
  },
  {
   "cell_type": "code",
   "execution_count": 107,
   "metadata": {},
   "outputs": [
    {
     "name": "stdout",
     "output_type": "stream",
     "text": [
      "10\n",
      "20\n",
      "30\n",
      "40\n",
      "50\n",
      "60\n",
      "70\n",
      "80\n",
      "90\n",
      "100\n"
     ]
    }
   ],
   "source": [
    "# num_list의 각각의 값들(원소들)을 10배한 값들을 반환\n",
    "\n",
    "def change(x):\n",
    "    return x*10\n",
    "\n",
    "m = map(change, num_list)\n",
    "for i in m:\n",
    "    print(i)"
   ]
  },
  {
   "cell_type": "code",
   "execution_count": 52,
   "metadata": {},
   "outputs": [
    {
     "data": {
      "text/plain": [
       "[]"
      ]
     },
     "execution_count": 52,
     "metadata": {},
     "output_type": "execute_result"
    }
   ],
   "source": [
    "list(m)"
   ]
  },
  {
   "cell_type": "code",
   "execution_count": 53,
   "metadata": {},
   "outputs": [
    {
     "data": {
      "text/plain": [
       "[10, 20, 30, 40, 50, 60, 70, 80, 90, 100]"
      ]
     },
     "execution_count": 53,
     "metadata": {},
     "output_type": "execute_result"
    }
   ],
   "source": [
    "m = map(change, num_list)\n",
    "mm = list(m)\n",
    "mm"
   ]
  },
  {
   "cell_type": "code",
   "execution_count": 54,
   "metadata": {},
   "outputs": [
    {
     "data": {
      "text/plain": [
       "[10, 20, 30, 40, 50, 60, 70, 80, 90, 100]"
      ]
     },
     "execution_count": 54,
     "metadata": {},
     "output_type": "execute_result"
    }
   ],
   "source": [
    "mm"
   ]
  },
  {
   "cell_type": "code",
   "execution_count": 56,
   "metadata": {},
   "outputs": [
    {
     "data": {
      "text/plain": [
       "[]"
      ]
     },
     "execution_count": 56,
     "metadata": {},
     "output_type": "execute_result"
    }
   ],
   "source": [
    "list(m)"
   ]
  },
  {
   "cell_type": "markdown",
   "metadata": {},
   "source": [
    "## docstring\n",
    "- 함수에 대한 설명\n",
    "- 함수 선언부와 구현부 사이에 여러줄짜리 문자열 (\"\"\" \"\"\")로 작성한다.\n",
    "- 함수가 하는 역할, 매개변수 설명, 리턴값 설명"
   ]
  },
  {
   "cell_type": "code",
   "execution_count": 61,
   "metadata": {},
   "outputs": [],
   "source": [
    "def print_info(name, age,address):\n",
    "    \"\"\"\n",
    "    회원정보를 출력하는 함수\n",
    "    설명1\n",
    "    설명2\n",
    "    [매개변수]\n",
    "        name: str - 회원 이름\n",
    "        age: int - 회원 나이\n",
    "        address: str - 회원 주소\n",
    "        \n",
    "    [반환값]\n",
    "        int: 나이에 10을 곱한 값\n",
    "    \"\"\"\n",
    "    print(f'이름: {name}, 나이: {age}, 주소: {address}')\n",
    "    return age*10"
   ]
  },
  {
   "cell_type": "code",
   "execution_count": 62,
   "metadata": {},
   "outputs": [],
   "source": [
    "?print_info"
   ]
  },
  {
   "cell_type": "code",
   "execution_count": 63,
   "metadata": {},
   "outputs": [
    {
     "data": {
      "text/plain": [
       "<function __main__.print_info(name, age, address)>"
      ]
     },
     "execution_count": 63,
     "metadata": {},
     "output_type": "execute_result"
    }
   ],
   "source": [
    "print_info    # shift + tab"
   ]
  },
  {
   "cell_type": "markdown",
   "metadata": {},
   "source": [
    "### pass 키워드(예약어)\n",
    "- 코드 블럭을 하는 일 없이 채울 때"
   ]
  },
  {
   "cell_type": "code",
   "execution_count": 64,
   "metadata": {},
   "outputs": [],
   "source": [
    "def test():\n",
    "    # 구현은 나중에 ! ! !\n",
    "    pass"
   ]
  },
  {
   "cell_type": "code",
   "execution_count": null,
   "metadata": {},
   "outputs": [],
   "source": []
  },
  {
   "cell_type": "code",
   "execution_count": null,
   "metadata": {},
   "outputs": [],
   "source": []
  },
  {
   "cell_type": "code",
   "execution_count": 85,
   "metadata": {},
   "outputs": [
    {
     "name": "stdout",
     "output_type": "stream",
     "text": [
      "계산해볼 구구단 단수 입력:4\n",
      "4 * 1 = 4\n",
      "4 * 2 = 8\n",
      "4 * 3 = 12\n",
      "4 * 4 = 16\n",
      "4 * 5 = 20\n",
      "4 * 6 = 24\n",
      "4 * 7 = 28\n",
      "4 * 8 = 32\n",
      "4 * 9 = 36\n"
     ]
    }
   ],
   "source": [
    "# 1. 사용자가 입력한 단의 구구단을 출력하는 함수를 구현\n",
    "dan = int(input('계산해볼 구구단 단수 입력:'))\n",
    "\n",
    "def gugudan(dan = None):\n",
    "    for i in range(1,10):\n",
    "        print(f'{dan} * {i} = {i * dan}')\n",
    "\n",
    "gugudan(dan)"
   ]
  },
  {
   "cell_type": "code",
   "execution_count": 86,
   "metadata": {},
   "outputs": [
    {
     "data": {
      "text/plain": [
       "12"
      ]
     },
     "execution_count": 86,
     "metadata": {},
     "output_type": "execute_result"
    }
   ],
   "source": [
    "# 2. 시작 정수, 끝 정수를 받아 그 사이의 모든 정수의 합을 구해서 반환하는 함수를 구현\n",
    "def solution(start, end):\n",
    "    return sum(range(start, end + 1))\n",
    "\n",
    "solution(3,5)"
   ]
  },
  {
   "cell_type": "code",
   "execution_count": 87,
   "metadata": {},
   "outputs": [
    {
     "data": {
      "text/plain": [
       "55"
      ]
     },
     "execution_count": 87,
     "metadata": {},
     "output_type": "execute_result"
    }
   ],
   "source": [
    "# 3. 2번 문제에서 시작을 받지 않은 경우 0을, 끝 정수를 받지 않으면 10이 들어가도록 구현을 변경\n",
    "def solution(start = 0, end = 10):\n",
    "    return sum(range(start, end + 1))\n",
    "\n",
    "solution()"
   ]
  },
  {
   "cell_type": "code",
   "execution_count": 88,
   "metadata": {},
   "outputs": [
    {
     "name": "stdout",
     "output_type": "stream",
     "text": [
      "저체중\n"
     ]
    }
   ],
   "source": [
    "# 4. 체질량 지수(體質量指數, Body Mass Index, BMI)는 비만도를 나타내는 지수로 키가 a미터 이고 몸무게가 b kg일때 b/a**2 로 구한다.\n",
    "# 체질량 지수가\n",
    "#- 18.5 미만이면 저체중\n",
    "#- 18.5이상 25미만이면 정상\n",
    "#- 25이상이면 과체중\n",
    "#- 30이상이면 비만으로 하는데\n",
    "#몸무게와 키를 매개변수로 받아 비만인지 과체중인지 반환하는 함수를 구현하시오.\n",
    "\n",
    "def bmi_cal(a, b):\n",
    "    bmi = b / (a ** 2)\n",
    "    if bmi < 18.5:\n",
    "        res = '저체중'\n",
    "    elif bmi < 25:\n",
    "        res = '정상'\n",
    "    elif bmi >= 25:\n",
    "        res = '과체중'\n",
    "    elif bmi >= 30:\n",
    "        res = '비만'\n",
    "    return res\n",
    "\n",
    "rr = bmi_cal(180, 75)\n",
    "print(rr)"
   ]
  },
  {
   "cell_type": "code",
   "execution_count": 89,
   "metadata": {},
   "outputs": [
    {
     "data": {
      "text/plain": [
       "[1, 20, 3, 21]"
      ]
     },
     "execution_count": 89,
     "metadata": {},
     "output_type": "execute_result"
    }
   ],
   "source": [
    "# 람다식\n",
    "#5. filter를 이용해 다음 리스트에서 양수만 추출히 리스트를 구현\n",
    "ex1 = [1, -10, -2, 20, 3, -5, -7, 21]\n",
    "\n",
    "ex1_solved = filter(lambda i : i > 0, ex1)\n",
    "list(ex1_solved)"
   ]
  },
  {
   "cell_type": "code",
   "execution_count": 90,
   "metadata": {},
   "outputs": [
    {
     "data": {
      "text/plain": [
       "[100, 4, 25, 49]"
      ]
     },
     "execution_count": 90,
     "metadata": {},
     "output_type": "execute_result"
    }
   ],
   "source": [
    "#6. filter와 map을 이용해 다음 리스트에서 음수만 추출한 뒤 그 제곱한 값들을 가지는 리스트를 구현\n",
    "ex2 = [1, -10, -2, 20, 3, -5, -7, 21]\n",
    "\n",
    "ex2_solve = filter(lambda i : i < 0, ex2)\n",
    "ex2_solved = map(lambda i : i**2, ex2_solve)\n",
    "list(ex2_solved)"
   ]
  },
  {
   "cell_type": "code",
   "execution_count": null,
   "metadata": {},
   "outputs": [],
   "source": []
  },
  {
   "cell_type": "code",
   "execution_count": null,
   "metadata": {},
   "outputs": [],
   "source": []
  },
  {
   "cell_type": "code",
   "execution_count": null,
   "metadata": {},
   "outputs": [],
   "source": []
  },
  {
   "cell_type": "code",
   "execution_count": null,
   "metadata": {},
   "outputs": [],
   "source": []
  }
 ],
 "metadata": {
  "kernelspec": {
   "display_name": "Python 3",
   "language": "python",
   "name": "python3"
  },
  "language_info": {
   "codemirror_mode": {
    "name": "ipython",
    "version": 3
   },
   "file_extension": ".py",
   "mimetype": "text/x-python",
   "name": "python",
   "nbconvert_exporter": "python",
   "pygments_lexer": "ipython3",
   "version": "3.6.5"
  }
 },
 "nbformat": 4,
 "nbformat_minor": 4
}
