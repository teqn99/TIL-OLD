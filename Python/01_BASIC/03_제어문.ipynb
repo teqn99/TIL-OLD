{
 "cells": [
  {
   "cell_type": "code",
   "execution_count": 1,
   "metadata": {},
   "outputs": [
    {
     "data": {
      "text/plain": [
       "(False, False)"
      ]
     },
     "execution_count": 1,
     "metadata": {},
     "output_type": "execute_result"
    }
   ],
   "source": [
    "bool([]), bool({})"
   ]
  },
  {
   "cell_type": "code",
   "execution_count": 4,
   "metadata": {},
   "outputs": [
    {
     "name": "stdout",
     "output_type": "stream",
     "text": [
      "0 입니다.\n"
     ]
    }
   ],
   "source": [
    "num = 0    # 만약에 num이 0이면, \"0 입니다.\"로 출력 / 아니면, 아무것도 출력 안함.\n",
    "if num == 0:\n",
    "# if문에서 조건 부분은 bool 연산이 아닌 연산도 bool 연산으로 인식하여 처리 (결과가 True / False 이기 때문)\n",
    "    print('0 입니다.')\n",
    "else:\n",
    "    print('x')"
   ]
  },
  {
   "cell_type": "code",
   "execution_count": 7,
   "metadata": {},
   "outputs": [
    {
     "name": "stdout",
     "output_type": "stream",
     "text": [
      "True\n",
      "False\n"
     ]
    }
   ],
   "source": [
    "num = 10\n",
    "print(bool(num))\n",
    "print(not num)"
   ]
  },
  {
   "cell_type": "code",
   "execution_count": 17,
   "metadata": {},
   "outputs": [
    {
     "name": "stdout",
     "output_type": "stream",
     "text": [
      "음수\n"
     ]
    }
   ],
   "source": [
    "num = -10    # num > 0 : 양수 / num = 0 : 0 / num < 0 : 음수\n",
    "if num > 0 :\n",
    "    print('양수')\n",
    "elif num == 0 :\n",
    "    print('0')\n",
    "elif num < 0 :\n",
    "    print('음수')"
   ]
  },
  {
   "cell_type": "code",
   "execution_count": 29,
   "metadata": {},
   "outputs": [
    {
     "name": "stdout",
     "output_type": "stream",
     "text": [
      "도시명: 뉴저지\n",
      "뉴저지시\n"
     ]
    }
   ],
   "source": [
    "# 서울 : 서울 특별시 / 인천, 부산, 대구, 울산, 광주, 대전 : xx 광역시 / 나머지 : 일반시\n",
    "city = str(input('도시명: ')).strip()\n",
    "    \n",
    "if city == '서울' :\n",
    "    #print(city + '특별시')\n",
    "    print(f'{city}특별시')\n",
    "elif city in ['인천', '부산', '대구', '울산', '광주', '대전'] :\n",
    "    #print(city + '광역시')\n",
    "    print(f'{city}광역시')\n",
    "else :\n",
    "    #print(city + '시')\n",
    "    print(f'{city}시')"
   ]
  },
  {
   "cell_type": "markdown",
   "metadata": {},
   "source": [
    "# 반복문\n",
    "- while 문 \n",
    "    - 조건이 True인 동안 반복\n",
    "- for in 문\n",
    "    - 자료구조(리스트, 튜플, 셋, 딕셔너리)의 원소들을 하나씩 모두 조회할때 사용 (literable 타입)"
   ]
  },
  {
   "cell_type": "markdown",
   "metadata": {},
   "source": [
    "## While 문"
   ]
  },
  {
   "cell_type": "code",
   "execution_count": 34,
   "metadata": {},
   "outputs": [
    {
     "name": "stdout",
     "output_type": "stream",
     "text": [
      "0\n",
      "1\n",
      "2\n",
      "3\n",
      "4\n",
      "5\n",
      "6\n",
      "7\n",
      "8\n",
      "9\n"
     ]
    }
   ],
   "source": [
    "cnt = 0 \n",
    "while cnt < 10:    # 조건식\n",
    "    print(cnt)\n",
    "    cnt = cnt + 1    # 증감식"
   ]
  },
  {
   "cell_type": "code",
   "execution_count": 36,
   "metadata": {},
   "outputs": [
    {
     "name": "stdout",
     "output_type": "stream",
     "text": [
      "5\n",
      "10\n",
      "15\n",
      "20\n",
      "25\n",
      "30\n",
      "35\n",
      "40\n",
      "45\n",
      "50\n",
      "55\n",
      "60\n",
      "65\n",
      "70\n",
      "75\n",
      "80\n",
      "85\n",
      "90\n",
      "95\n",
      "100\n"
     ]
    }
   ],
   "source": [
    "cnt = 1\n",
    "while cnt <= 100:\n",
    "    if cnt % 5 == 0:\n",
    "        print(cnt)\n",
    "    cnt += 1"
   ]
  },
  {
   "cell_type": "code",
   "execution_count": 37,
   "metadata": {},
   "outputs": [
    {
     "name": "stdout",
     "output_type": "stream",
     "text": [
      "5\n",
      "10\n",
      "15\n",
      "20\n",
      "25\n",
      "30\n",
      "35\n",
      "40\n",
      "45\n",
      "50\n",
      "55\n",
      "60\n",
      "65\n",
      "70\n",
      "75\n",
      "80\n",
      "85\n",
      "90\n",
      "95\n",
      "100\n"
     ]
    }
   ],
   "source": [
    "cnt = 1\n",
    "flag = True\n",
    "while flag:\n",
    "    if cnt % 5 == 0:\n",
    "        print(cnt)\n",
    "    cnt += 1\n",
    "    if cnt > 100:\n",
    "        flag = False"
   ]
  },
  {
   "cell_type": "markdown",
   "metadata": {},
   "source": [
    "# for in 문\n",
    "- for 변수 in iterable:\n",
    "-     반복할 구문"
   ]
  },
  {
   "cell_type": "code",
   "execution_count": 39,
   "metadata": {},
   "outputs": [
    {
     "name": "stdout",
     "output_type": "stream",
     "text": [
      "apple\n",
      "peer\n",
      "peach\n",
      "melon\n",
      "orange\n"
     ]
    }
   ],
   "source": [
    "fruits = ['apple', 'peer', 'peach', 'melon', 'orange']\n",
    "index = 0\n",
    "\n",
    "while index < len(fruits):\n",
    "    print(fruits[index])\n",
    "    index += 1"
   ]
  },
  {
   "cell_type": "code",
   "execution_count": 41,
   "metadata": {},
   "outputs": [
    {
     "name": "stdout",
     "output_type": "stream",
     "text": [
      "apple\n",
      "peer\n",
      "peach\n",
      "melon\n",
      "orange\n"
     ]
    }
   ],
   "source": [
    "for fruit in fruits :\n",
    "    print(fruit)"
   ]
  },
  {
   "cell_type": "code",
   "execution_count": 42,
   "metadata": {},
   "outputs": [
    {
     "name": "stdout",
     "output_type": "stream",
     "text": [
      "1\n",
      "2\n",
      "4\n",
      "4\n",
      "3\n",
      "5\n"
     ]
    }
   ],
   "source": [
    "for num in (1, 2, 4, 4, 3, 5):\n",
    "    print(num)"
   ]
  },
  {
   "cell_type": "code",
   "execution_count": 44,
   "metadata": {},
   "outputs": [
    {
     "name": "stdout",
     "output_type": "stream",
     "text": [
      "1\n",
      "2\n",
      "3\n",
      "4\n",
      "5\n"
     ]
    }
   ],
   "source": [
    "for num in {1, 2, 4, 4, 3, 5}:\n",
    "    print(num)"
   ]
  },
  {
   "cell_type": "code",
   "execution_count": 49,
   "metadata": {},
   "outputs": [
    {
     "name": "stdout",
     "output_type": "stream",
     "text": [
      "a\n",
      "b\n",
      "c\n"
     ]
    }
   ],
   "source": [
    "d = {\n",
    "    'a' : 10,\n",
    "    'b' : 20,\n",
    "    'c' : 30,\n",
    "}\n",
    "for key in d :    # 딕셔너리는 key값을 반환한다.\n",
    "    print(key)"
   ]
  },
  {
   "cell_type": "code",
   "execution_count": 50,
   "metadata": {},
   "outputs": [
    {
     "name": "stdout",
     "output_type": "stream",
     "text": [
      "10\n",
      "20\n",
      "30\n"
     ]
    }
   ],
   "source": [
    "for key in d :\n",
    "    print(d[key])    # value 값을 반환하려면 이렇게"
   ]
  },
  {
   "cell_type": "code",
   "execution_count": 51,
   "metadata": {},
   "outputs": [
    {
     "data": {
      "text/plain": [
       "(dict_values([10, 20, 30]),\n",
       " dict_keys(['a', 'b', 'c']),\n",
       " dict_items([('a', 10), ('b', 20), ('c', 30)]))"
      ]
     },
     "execution_count": 51,
     "metadata": {},
     "output_type": "execute_result"
    }
   ],
   "source": [
    "d.values(), d.keys(), d.items()"
   ]
  },
  {
   "cell_type": "code",
   "execution_count": 53,
   "metadata": {},
   "outputs": [
    {
     "name": "stdout",
     "output_type": "stream",
     "text": [
      "10\n",
      "20\n",
      "30\n"
     ]
    }
   ],
   "source": [
    "for v in d.values():\n",
    "    print(v)"
   ]
  },
  {
   "cell_type": "code",
   "execution_count": 57,
   "metadata": {},
   "outputs": [
    {
     "name": "stdout",
     "output_type": "stream",
     "text": [
      "('a', 10)\n",
      "('b', 20)\n",
      "('c', 30)\n",
      "------------------------------\n",
      "a\n",
      "b\n",
      "c\n",
      "------------------------------\n",
      "b\n"
     ]
    }
   ],
   "source": [
    "for v in d.items():\n",
    "    print(v)\n",
    "\n",
    "print('-' * 30)\n",
    "    \n",
    "for v in d.items():\n",
    "    print(v[0])\n",
    "    \n",
    "print('-' * 30)\n",
    "    \n",
    "for v in d.items():\n",
    "    if v[0] == 'b':\n",
    "        print(v[0])"
   ]
  },
  {
   "cell_type": "code",
   "execution_count": 59,
   "metadata": {},
   "outputs": [
    {
     "name": "stdout",
     "output_type": "stream",
     "text": [
      "20\n"
     ]
    }
   ],
   "source": [
    "for key, value in d.items():    # d.items()의 값이 (key, value)의 형태로 갖기때문에 for 다음에 두개의 변수를 설정가능하다.\n",
    "    if key == 'b':\n",
    "        print(value)"
   ]
  },
  {
   "cell_type": "code",
   "execution_count": 61,
   "metadata": {},
   "outputs": [],
   "source": [
    "lst = [\n",
    "    [1, 2, 3],\n",
    "    [10,20,30],\n",
    "    [100, 200, 300]\n",
    "]"
   ]
  },
  {
   "cell_type": "code",
   "execution_count": 62,
   "metadata": {},
   "outputs": [
    {
     "name": "stdout",
     "output_type": "stream",
     "text": [
      "1-2-3\n",
      "10-20-30\n",
      "100-200-300\n"
     ]
    }
   ],
   "source": [
    "for v1, v2, v3 in lst:\n",
    "    print(v1, v2, v3, sep = '-')"
   ]
  },
  {
   "cell_type": "code",
   "execution_count": 63,
   "metadata": {},
   "outputs": [
    {
     "name": "stdout",
     "output_type": "stream",
     "text": [
      "1\n",
      "2\n",
      "3\n",
      "10\n",
      "20\n",
      "30\n",
      "100\n",
      "200\n",
      "300\n"
     ]
    }
   ],
   "source": [
    "for l in lst:\n",
    "    for v in l:\n",
    "        print(v)"
   ]
  },
  {
   "cell_type": "code",
   "execution_count": 65,
   "metadata": {},
   "outputs": [
    {
     "name": "stdout",
     "output_type": "stream",
     "text": [
      "가,나,다,라,마,바,사,a,b,c,"
     ]
    }
   ],
   "source": [
    "for s in '가나다라마바사abc':\n",
    "    print(s, end = ',')"
   ]
  },
  {
   "cell_type": "code",
   "execution_count": 67,
   "metadata": {},
   "outputs": [
    {
     "name": "stdout",
     "output_type": "stream",
     "text": [
      "a-b-20/"
     ]
    }
   ],
   "source": [
    "print('a', 'b', 20, sep = '-', end = '/')    # sep 생략 = 공백, end 생략 = 엔터"
   ]
  },
  {
   "cell_type": "code",
   "execution_count": 69,
   "metadata": {},
   "outputs": [
    {
     "name": "stdout",
     "output_type": "stream",
     "text": [
      "5\n",
      "10\n",
      "15\n",
      "20\n",
      "25\n",
      "30\n",
      "35\n",
      "40\n",
      "45\n",
      "50\n",
      "55\n",
      "60\n",
      "65\n",
      "70\n",
      "75\n",
      "80\n",
      "85\n",
      "90\n",
      "95\n",
      "100\n"
     ]
    }
   ],
   "source": [
    "cnt = 1\n",
    "while True:\n",
    "    if cnt % 5 == 0 :\n",
    "        print(cnt)\n",
    "    cnt += 1\n",
    "    if cnt > 100 :\n",
    "        break    # 반복문을 끝내라"
   ]
  },
  {
   "cell_type": "code",
   "execution_count": 75,
   "metadata": {},
   "outputs": [
    {
     "name": "stdout",
     "output_type": "stream",
     "text": [
      "5\n",
      "10\n",
      "15\n",
      "20\n",
      "25\n",
      "30\n",
      "35\n",
      "40\n",
      "45\n",
      "50\n",
      "55\n",
      "60\n",
      "65\n",
      "70\n",
      "75\n",
      "80\n",
      "85\n",
      "90\n",
      "95\n",
      "100\n"
     ]
    }
   ],
   "source": [
    "cnt = 1\n",
    "while cnt <= 100:\n",
    "    if cnt % 5 != 0:\n",
    "        cnt += 1\n",
    "        continue    # 5의 배수가 아니면, 밑부분을 실행하지 않고 다시 while 부분으로 돌아감. -> 반복을 통해 5의 배수만 출력\n",
    "    print(cnt)\n",
    "    cnt += 1"
   ]
  },
  {
   "cell_type": "code",
   "execution_count": 1,
   "metadata": {},
   "outputs": [
    {
     "name": "stdout",
     "output_type": "stream",
     "text": [
      "입력: hi\n",
      "hi\n",
      "입력: no more than now\n",
      "no more than now\n",
      "입력: I don't wanna say good-bye\n",
      "I don't wanna say good-bye\n",
      "입력: 끝\n",
      "끝\n"
     ]
    }
   ],
   "source": [
    "while True:\n",
    "    a = input('입력: ')\n",
    "    print(a)\n",
    "    if a == '끝':\n",
    "        break"
   ]
  },
  {
   "cell_type": "markdown",
   "metadata": {},
   "source": [
    "## for in문 내장함수\n",
    "- range()\n",
    "- enumerate()\n",
    "- zip()"
   ]
  },
  {
   "cell_type": "markdown",
   "metadata": {},
   "source": [
    "### range([시작정수], 종료정수, [증감정수]) - [ ] 생략가능"
   ]
  },
  {
   "cell_type": "code",
   "execution_count": 4,
   "metadata": {},
   "outputs": [
    {
     "name": "stdout",
     "output_type": "stream",
     "text": [
      "1 3 5 7 9 "
     ]
    }
   ],
   "source": [
    "# range(1, 10, 2)    1, 3, 5, 7, 9\n",
    "for i in range(1, 10, 2):\n",
    "    print(i, end = ' ')"
   ]
  },
  {
   "cell_type": "code",
   "execution_count": 5,
   "metadata": {},
   "outputs": [
    {
     "data": {
      "text/plain": [
       "[1, 2, 3, 4, 5, 6, 7, 8, 9, 10]"
      ]
     },
     "execution_count": 5,
     "metadata": {},
     "output_type": "execute_result"
    }
   ],
   "source": [
    "lst = list(range(1, 11))\n",
    "lst"
   ]
  },
  {
   "cell_type": "code",
   "execution_count": 7,
   "metadata": {},
   "outputs": [
    {
     "data": {
      "text/plain": [
       "(0, 1, 2, 3, 4, 5, 6, 7, 8, 9, 10)"
      ]
     },
     "execution_count": 7,
     "metadata": {},
     "output_type": "execute_result"
    }
   ],
   "source": [
    "tu = tuple(range(11))    # 11 = 종료정수 (11 - 1까지)\n",
    "tu"
   ]
  },
  {
   "cell_type": "code",
   "execution_count": 8,
   "metadata": {},
   "outputs": [
    {
     "data": {
      "text/plain": [
       "{0, 1, 2, 3, 4, 5, 6, 7, 8, 9}"
      ]
     },
     "execution_count": 8,
     "metadata": {},
     "output_type": "execute_result"
    }
   ],
   "source": [
    "s = set(range(10))\n",
    "s"
   ]
  },
  {
   "cell_type": "code",
   "execution_count": 9,
   "metadata": {},
   "outputs": [
    {
     "data": {
      "text/plain": [
       "[10, 9, 8, 7, 6, 5, 4, 3, 2, 1, 0, -1, -2, -3, -4, -5, -6, -7, -8, -9]"
      ]
     },
     "execution_count": 9,
     "metadata": {},
     "output_type": "execute_result"
    }
   ],
   "source": [
    "# 증감치가 음수인경우는 시작값 > 종료값 이어야 한다.\n",
    "list(range(10, -10, -1))"
   ]
  },
  {
   "cell_type": "code",
   "execution_count": 11,
   "metadata": {},
   "outputs": [
    {
     "name": "stdout",
     "output_type": "stream",
     "text": [
      "0 안녕\n",
      "1 안녕\n",
      "2 안녕\n",
      "3 안녕\n",
      "4 안녕\n",
      "5 안녕\n",
      "6 안녕\n",
      "7 안녕\n",
      "8 안녕\n",
      "9 안녕\n"
     ]
    }
   ],
   "source": [
    "# 안녕 10번 반복\n",
    "for _ in range(10):    # 변수 '_' : 반복문 내에서 _를 통해 나오는 값은 따로 사용하지 않겠다.\n",
    "    print(_, '안녕')"
   ]
  },
  {
   "cell_type": "markdown",
   "metadata": {},
   "source": [
    "### enumerate( iterable [, start = 시작값]) [ ] : 생략가능 (iterable : 반복 횟수)"
   ]
  },
  {
   "cell_type": "code",
   "execution_count": 13,
   "metadata": {},
   "outputs": [
    {
     "name": "stdout",
     "output_type": "stream",
     "text": [
      "(0, 'a')\n",
      "(1, 'b')\n",
      "(2, 'c')\n",
      "(3, 'd')\n",
      "(4, 'e')\n"
     ]
    }
   ],
   "source": [
    "str_list = ['a', 'b', 'c', 'd', 'e']\n",
    "for s in enumerate(str_list):\n",
    "    print(s)"
   ]
  },
  {
   "cell_type": "code",
   "execution_count": 17,
   "metadata": {},
   "outputs": [
    {
     "name": "stdout",
     "output_type": "stream",
     "text": [
      "0 and a\n",
      "1 and b\n",
      "2 and c\n",
      "3 and d\n",
      "this is fourth term.\n",
      "4 and e\n"
     ]
    }
   ],
   "source": [
    "for idx, s in enumerate(str_list):\n",
    "    print(idx,'and', s)\n",
    "    if idx == 3:\n",
    "        print('this is fourth term.')"
   ]
  },
  {
   "cell_type": "code",
   "execution_count": 18,
   "metadata": {},
   "outputs": [
    {
     "name": "stdout",
     "output_type": "stream",
     "text": [
      "1 a\n",
      "2 b\n",
      "3 c\n",
      "4 d\n",
      "5 e\n"
     ]
    }
   ],
   "source": [
    "for idx, s in enumerate(str_list, start = 1):\n",
    "    print(idx,s)"
   ]
  },
  {
   "cell_type": "markdown",
   "metadata": {},
   "source": [
    "## zip(iterable, iterable [, ....])"
   ]
  },
  {
   "cell_type": "code",
   "execution_count": 36,
   "metadata": {},
   "outputs": [],
   "source": [
    "a = [1, 2, 3]\n",
    "b = [10, 20, 30]\n",
    "c = 100, 200, 300, 400, 500\n",
    "d = {'가', '나', '다'}"
   ]
  },
  {
   "cell_type": "code",
   "execution_count": 37,
   "metadata": {},
   "outputs": [
    {
     "name": "stdout",
     "output_type": "stream",
     "text": [
      "(1, 10, 100, '가')\n",
      "(2, 20, 200, '다')\n",
      "(3, 30, 300, '나')\n"
     ]
    }
   ],
   "source": [
    "# zip으로 집합들을 묶어주면, 한번 iteration을 진행하면서 같은 index에 있는 값들을 하나로 묶어줌.\n",
    "for v in zip(a, b, c, d):\n",
    "    print(v)"
   ]
  },
  {
   "cell_type": "code",
   "execution_count": 27,
   "metadata": {},
   "outputs": [],
   "source": [
    "names = ['Brown', \"max\", 'beebee']\n",
    "ages = [10, 20, 30]\n",
    "talls = [120, 150, 190]"
   ]
  },
  {
   "cell_type": "code",
   "execution_count": 28,
   "metadata": {},
   "outputs": [
    {
     "name": "stdout",
     "output_type": "stream",
     "text": [
      "('Brown', 10, 120)\n",
      "('max', 20, 150)\n",
      "('beebee', 30, 190)\n"
     ]
    }
   ],
   "source": [
    "for info in zip(names, ages, talls):\n",
    "    print(info)"
   ]
  },
  {
   "cell_type": "code",
   "execution_count": 29,
   "metadata": {},
   "outputs": [
    {
     "name": "stdout",
     "output_type": "stream",
     "text": [
      "Brown 10 120\n",
      "max 20 150\n",
      "beebee 30 190\n"
     ]
    }
   ],
   "source": [
    "for name, age, tall in zip(names, ages, talls):\n",
    "    print(name, age, tall)"
   ]
  },
  {
   "cell_type": "markdown",
   "metadata": {},
   "source": [
    "# 컴프리헨션 (Comprehension)"
   ]
  },
  {
   "cell_type": "code",
   "execution_count": 40,
   "metadata": {},
   "outputs": [],
   "source": [
    "lst = [1, 2, 3, 4, 5]\n",
    "# lst의 값들에 10을 더한 값들을 원소로 갖는 리스트를 생성"
   ]
  },
  {
   "cell_type": "code",
   "execution_count": 45,
   "metadata": {},
   "outputs": [
    {
     "name": "stdout",
     "output_type": "stream",
     "text": [
      "[11, 12, 13, 14, 15]\n"
     ]
    }
   ],
   "source": [
    "lst2 = []\n",
    "for num in lst:\n",
    "    lst2.append(num + 10)\n",
    "print(lst2)"
   ]
  },
  {
   "cell_type": "code",
   "execution_count": 46,
   "metadata": {},
   "outputs": [
    {
     "data": {
      "text/plain": [
       "[1, 2, 3, 4, 5]"
      ]
     },
     "execution_count": 46,
     "metadata": {},
     "output_type": "execute_result"
    }
   ],
   "source": [
    "result = [num for num in lst]\n",
    "result"
   ]
  },
  {
   "cell_type": "code",
   "execution_count": 49,
   "metadata": {},
   "outputs": [
    {
     "data": {
      "text/plain": [
       "[11, 12, 13, 14, 15]"
      ]
     },
     "execution_count": 49,
     "metadata": {},
     "output_type": "execute_result"
    }
   ],
   "source": [
    "result2 = [num + 10 for num in result]    # 리스트를 만들었으니깐, 리스트 컴프리헨션\n",
    "result2"
   ]
  },
  {
   "cell_type": "code",
   "execution_count": 51,
   "metadata": {},
   "outputs": [
    {
     "data": {
      "text/plain": [
       "({11, 12, 13, 14, 15}, set)"
      ]
     },
     "execution_count": 51,
     "metadata": {},
     "output_type": "execute_result"
    }
   ],
   "source": [
    "result3 = {num + 10 for num in lst}    # set comprehension (python3)\n",
    "result3, type(result3)"
   ]
  },
  {
   "cell_type": "code",
   "execution_count": 56,
   "metadata": {},
   "outputs": [
    {
     "data": {
      "text/plain": [
       "({1: '가', 2: '가', 3: '가', 4: '가', 5: '가'}, dict)"
      ]
     },
     "execution_count": 56,
     "metadata": {},
     "output_type": "execute_result"
    }
   ],
   "source": [
    "result4 = {num:'가' for num in lst}    # (key: value, key: value) / dictionary comprehension (python3)\n",
    "result4, type(result4)"
   ]
  },
  {
   "cell_type": "code",
   "execution_count": 57,
   "metadata": {},
   "outputs": [
    {
     "data": {
      "text/plain": [
       "{0: 11, 1: 12, 2: 13, 3: 14, 4: 15}"
      ]
     },
     "execution_count": 57,
     "metadata": {},
     "output_type": "execute_result"
    }
   ],
   "source": [
    "dic = {idx: num for idx, num in enumerate(lst2)}\n",
    "dic"
   ]
  },
  {
   "cell_type": "code",
   "execution_count": 60,
   "metadata": {},
   "outputs": [],
   "source": [
    "num_list = list(range(100))"
   ]
  },
  {
   "cell_type": "code",
   "execution_count": 63,
   "metadata": {},
   "outputs": [
    {
     "name": "stdout",
     "output_type": "stream",
     "text": [
      "0 10 20 30 40 50 60 70 80 90 "
     ]
    }
   ],
   "source": [
    "# num_list의 원소들 중에 10의 배수만 가지는 리스트를 생성\n",
    "result = []\n",
    "for num in num_list:\n",
    "    if num % 10 == 0:\n",
    "        print(num, end = ' ')\n",
    "        result.append(num)"
   ]
  },
  {
   "cell_type": "code",
   "execution_count": 64,
   "metadata": {},
   "outputs": [
    {
     "data": {
      "text/plain": [
       "[0, 10, 20, 30, 40, 50, 60, 70, 80, 90]"
      ]
     },
     "execution_count": 64,
     "metadata": {},
     "output_type": "execute_result"
    }
   ],
   "source": [
    "result"
   ]
  },
  {
   "cell_type": "code",
   "execution_count": 65,
   "metadata": {},
   "outputs": [
    {
     "data": {
      "text/plain": [
       "[0, 10, 20, 30, 40, 50, 60, 70, 80, 90]"
      ]
     },
     "execution_count": 65,
     "metadata": {},
     "output_type": "execute_result"
    }
   ],
   "source": [
    "result2 = [num for num in num_list if (num % 10 == 0)]\n",
    "result2"
   ]
  },
  {
   "cell_type": "code",
   "execution_count": 66,
   "metadata": {},
   "outputs": [],
   "source": [
    "# [변수 for 변수 in iterable [for in 또는 if문] [for in 또는 if문] [for in 또는 if문]]"
   ]
  },
  {
   "cell_type": "code",
   "execution_count": null,
   "metadata": {},
   "outputs": [],
   "source": []
  },
  {
   "cell_type": "code",
   "execution_count": 67,
   "metadata": {
    "scrolled": true
   },
   "outputs": [
    {
     "name": "stdout",
     "output_type": "stream",
     "text": [
      "Object `건가요` not found.\n"
     ]
    }
   ],
   "source": []
  },
  {
   "cell_type": "code",
   "execution_count": null,
   "metadata": {},
   "outputs": [],
   "source": []
  },
  {
   "cell_type": "code",
   "execution_count": 118,
   "metadata": {},
   "outputs": [
    {
     "name": "stdout",
     "output_type": "stream",
     "text": [
      "점수: 99\n",
      "A학점\n"
     ]
    }
   ],
   "source": [
    "#(1) 다음 점수 구간에 맞게 학점을 출력하세요.\n",
    "# 91 ~ 100 : A학점\n",
    "# 81 ~ 90 :  B학점\n",
    "# 71 ~ 80 :  C학점\n",
    "# 61 ~ 70 :  D학점\n",
    "# 60이하   :  F학점\n",
    "\n",
    "jumsu = int(input('점수: '))\n",
    "if jumsu >= 91:\n",
    "    print('A학점')\n",
    "elif jumsu >= 81 and jumsu <= 90:\n",
    "    print('B학점')\n",
    "elif jumsu >= 71 and jumsu <= 80:\n",
    "    print('C학점')\n",
    "elif jumsu >= 61 and jumsu <= 70:\n",
    "    print('D학점')\n",
    "else:\n",
    "    print('F학점')"
   ]
  },
  {
   "cell_type": "code",
   "execution_count": 119,
   "metadata": {},
   "outputs": [
    {
     "data": {
      "text/plain": [
       "89.0"
      ]
     },
     "execution_count": 119,
     "metadata": {},
     "output_type": "execute_result"
    }
   ],
   "source": [
    "#(2) 아래 리스트의 평균을 구하시오.\n",
    "jumsu = [100, 90, 100, 80, 70, 100, 80, 90, 95, 85]\n",
    "\n",
    "ave = 0\n",
    "for num in jumsu:\n",
    "    ave = ave + num\n",
    "    \n",
    "ave /= len(jumsu)\n",
    "ave"
   ]
  },
  {
   "cell_type": "code",
   "execution_count": 120,
   "metadata": {},
   "outputs": [
    {
     "name": "stdout",
     "output_type": "stream",
     "text": [
      "0-pass\n",
      "1-pass\n",
      "2-pass\n",
      "3-fail\n",
      "4-fail\n",
      "5-pass\n",
      "6-fail\n",
      "7-pass\n",
      "8-pass\n",
      "9-fail\n"
     ]
    }
   ],
   "source": [
    "#(3) 위 jumsu리스트에서 평균점수이상은 pass, 미만은 fail을 index번호와 함께 출력하시오. (ex: 0-pass, 1-pass, 2-fail)\n",
    "for idx, num in enumerate(jumsu):\n",
    "    if num >= ave:\n",
    "        #print(idx, 'pass', sep = '-')\n",
    "        print(f'{idx}-pass')\n",
    "    else:\n",
    "        #print(idx, 'fail', sep = '-')\n",
    "        print(f'{idx}-fail')"
   ]
  },
  {
   "cell_type": "code",
   "execution_count": 110,
   "metadata": {},
   "outputs": [
    {
     "name": "stdout",
     "output_type": "stream",
     "text": [
      "95\n"
     ]
    }
   ],
   "source": [
    "#(4) 아래 리스트 값들 중 최대값을 조회해 출력\n",
    "jumsu = [60, 90, 80, 80, 70, 55, 80, 90, 95, 85]\n",
    "\n",
    "maxi = 0\n",
    "for num in jumsu:\n",
    "    if num > maxi:\n",
    "        maxi = num\n",
    "        \n",
    "print(maxi)"
   ]
  },
  {
   "cell_type": "code",
   "execution_count": 82,
   "metadata": {},
   "outputs": [
    {
     "name": "stdout",
     "output_type": "stream",
     "text": [
      "갑 을 병 "
     ]
    }
   ],
   "source": [
    "#(5) 다음 리스트 중에서 '정' 글자를 제외하고 출력하세요.\n",
    "str_list = [\"갑\", \"을\", \"병\", \"정\"]\n",
    "\n",
    "for cha in str_list:\n",
    "    if cha == '정':\n",
    "        continue\n",
    "    print(cha, end = ' ')"
   ]
  },
  {
   "cell_type": "code",
   "execution_count": 122,
   "metadata": {},
   "outputs": [
    {
     "name": "stdout",
     "output_type": "stream",
     "text": [
      "단을 입력하시오 :5\n",
      "5 x 1 = 5\n",
      "5 x 1 = 5\n",
      "5 x 2 = 10\n",
      "5 x 2 = 10\n",
      "5 x 3 = 15\n",
      "5 x 3 = 15\n",
      "5 x 4 = 20\n",
      "5 x 4 = 20\n",
      "5 x 5 = 25\n",
      "5 x 5 = 25\n",
      "5 x 6 = 30\n",
      "5 x 6 = 30\n",
      "5 x 7 = 35\n",
      "5 x 7 = 35\n",
      "5 x 8 = 40\n",
      "5 x 8 = 40\n",
      "5 x 9 = 45\n",
      "5 x 9 = 45\n"
     ]
    }
   ],
   "source": [
    "#(6) 사용자로부터 정수를 입력받아 그 단의 구구단을 출력하시오.\n",
    "# ex) 단을 입력하시오 : 2\n",
    "# 2 x 1 = 2\n",
    "# 2 x 2 = 4\n",
    "#..\n",
    "# 2 x 9 = 18\n",
    "\n",
    "dan = int(input('단을 입력하시오 :'))\n",
    "for i in range(1, 10):\n",
    "    #print(dan, 'x', i, '=', dan * i)\n",
    "    print(f'{dan} x {i} = {dan * i}')\n",
    "    print('%d x %d = %d' % (dan, i, dan * i))"
   ]
  },
  {
   "cell_type": "code",
   "execution_count": 128,
   "metadata": {},
   "outputs": [
    {
     "name": "stdout",
     "output_type": "stream",
     "text": [
      "2 * 1 = 2\t3 * 1 = 3\t4 * 1 = 4\t5 * 1 = 5\t6 * 1 = 6\t7 * 1 = 7\t8 * 1 = 8\t9 * 1 = 9\t\n",
      "2 * 2 = 4\t3 * 2 = 6\t4 * 2 = 8\t5 * 2 = 10\t6 * 2 = 12\t7 * 2 = 14\t8 * 2 = 16\t9 * 2 = 18\t\n",
      "2 * 3 = 6\t3 * 3 = 9\t4 * 3 = 12\t5 * 3 = 15\t6 * 3 = 18\t7 * 3 = 21\t8 * 3 = 24\t9 * 3 = 27\t\n",
      "2 * 4 = 8\t3 * 4 = 12\t4 * 4 = 16\t5 * 4 = 20\t6 * 4 = 24\t7 * 4 = 28\t8 * 4 = 32\t9 * 4 = 36\t\n",
      "2 * 5 = 10\t3 * 5 = 15\t4 * 5 = 20\t5 * 5 = 25\t6 * 5 = 30\t7 * 5 = 35\t8 * 5 = 40\t9 * 5 = 45\t\n",
      "2 * 6 = 12\t3 * 6 = 18\t4 * 6 = 24\t5 * 6 = 30\t6 * 6 = 36\t7 * 6 = 42\t8 * 6 = 48\t9 * 6 = 54\t\n",
      "2 * 7 = 14\t3 * 7 = 21\t4 * 7 = 28\t5 * 7 = 35\t6 * 7 = 42\t7 * 7 = 49\t8 * 7 = 56\t9 * 7 = 63\t\n",
      "2 * 8 = 16\t3 * 8 = 24\t4 * 8 = 32\t5 * 8 = 40\t6 * 8 = 48\t7 * 8 = 56\t8 * 8 = 64\t9 * 8 = 72\t\n",
      "2 * 9 = 18\t3 * 9 = 27\t4 * 9 = 36\t5 * 9 = 45\t6 * 9 = 54\t7 * 9 = 63\t8 * 9 = 72\t9 * 9 = 81\t\n"
     ]
    }
   ],
   "source": [
    "# 구구단표\n",
    "\n",
    "for num in range(1,10):\n",
    "    for dan in range(2,10):\n",
    "        print(f'{dan} * {num} = {num * dan}', end = '\\t')   # 엔터 : \\n , 탭 : \\t\n",
    "    print()"
   ]
  },
  {
   "cell_type": "code",
   "execution_count": 85,
   "metadata": {},
   "outputs": [
    {
     "data": {
      "text/plain": [
       "[20, 60, 140, 10, 240, 1400, 2, 70]"
      ]
     },
     "execution_count": 85,
     "metadata": {},
     "output_type": "execute_result"
    }
   ],
   "source": [
    "#컴프리헨션\n",
    "#(7) 다음 리스트가 가진 값에 두배(* 2)를 가지는 새로운 리스트를 만드시오. (리스트 컴프리헨션 이용)\n",
    "lst = [10, 30, 70, 5, 120, 700, 1, 35]\n",
    "\n",
    "new_lst = [num * 2 for num in lst]\n",
    "new_lst"
   ]
  },
  {
   "cell_type": "code",
   "execution_count": 90,
   "metadata": {},
   "outputs": [
    {
     "name": "stdout",
     "output_type": "stream",
     "text": [
      "[(10, 100), (30, 300), (70, 700), (5, 50), (5, 50), (120, 1200), (700, 7000), (1, 10), (35, 350), (35, 350)]\n"
     ]
    }
   ],
   "source": [
    "#(8) 다음 리스트가 가진 값에 10배의 값을 가지는 값을 (원래값, 10배값) 의 튜플묶음으로 가지는 리스트를 만드시오 (리스트 컴프리헨션 이용)\n",
    "# Ex) [(10,100), (30,300), .., (35, 350)]\n",
    "lst = [10, 30, 70, 5, 5, 120, 700, 1, 35, 35]\n",
    "\n",
    "new_tu = [(num, num * 10) for num in lst]\n",
    "print(new_tu)"
   ]
  },
  {
   "cell_type": "code",
   "execution_count": 129,
   "metadata": {},
   "outputs": [
    {
     "data": {
      "text/plain": [
       "[3, 33, 21, 33, 60, 120]"
      ]
     },
     "execution_count": 129,
     "metadata": {},
     "output_type": "execute_result"
    }
   ],
   "source": [
    "#(9) 다음 리스트가 가진 값들 중 3의 배수만 가지는 리스트를 만드시오. (리스트 컴프리헨션 이용)\n",
    "lst2 = [ 3, 20, 33, 21, 33, 8, 11, 10, 7, 17, 60, 120, 2]\n",
    "\n",
    "new_lst2 = [num for num in lst2 if (num % 3 == 0)]    # filtering ( 조건으로 걸러내는 것 )\n",
    "new_lst2"
   ]
  },
  {
   "cell_type": "code",
   "execution_count": 130,
   "metadata": {},
   "outputs": [
    {
     "data": {
      "text/plain": [
       "['a.exe', 'function.exe', 'b.exe', 'run.exe']"
      ]
     },
     "execution_count": 130,
     "metadata": {},
     "output_type": "execute_result"
    }
   ],
   "source": [
    "#(10) 다음 파일이름들을 담은 리스트에서 확장자가 exe인 파일만 골라서 새로운 리스트에 담으시오.(string의 endswith()함수 이용)\n",
    "file_name=[\"test.txt\", \"a.exe\", \"jupyter.bat\", \"function.exe\", \"b.exe\", \"cat.jpg\", \"dog.png\", \"run.exe\", \"i.dll\"]\n",
    "\n",
    "file = [txt for txt in file_name if (txt.endswith('.exe'))]\n",
    "file"
   ]
  },
  {
   "cell_type": "code",
   "execution_count": 131,
   "metadata": {},
   "outputs": [
    {
     "data": {
      "text/plain": [
       "['mystroy.txt', 'jupyter.bat', 'function.exe']"
      ]
     },
     "execution_count": 131,
     "metadata": {},
     "output_type": "execute_result"
    }
   ],
   "source": [
    "#(11) 다음 중 10글자 이상인 파일명(확장자포함)만 가지는 리스트를 만드시오.\n",
    "file_name=[\"mystroy.txt\", \"a.exe\", \"jupyter.bat\", \"function.exe\", \"b.exe\", \"cat.jpg\", \"dog.png\", \"run.exe\", \"i.dll\"]\n",
    "\n",
    "file = [txt for txt in file_name if (len(txt) >= 10)]\n",
    "file"
   ]
  },
  {
   "cell_type": "code",
   "execution_count": 155,
   "metadata": {},
   "outputs": [
    {
     "ename": "SyntaxError",
     "evalue": "invalid syntax (<ipython-input-155-60a6aab19d44>, line 1)",
     "output_type": "error",
     "traceback": [
      "\u001b[0;36m  File \u001b[0;32m\"<ipython-input-155-60a6aab19d44>\"\u001b[0;36m, line \u001b[0;32m1\u001b[0m\n\u001b[0;31m    1. 예측할 숫자 생성\u001b[0m\n\u001b[0m         ^\u001b[0m\n\u001b[0;31mSyntaxError\u001b[0m\u001b[0;31m:\u001b[0m invalid syntax\n"
     ]
    }
   ],
   "source": [
    "\n",
    "1. 예측할 숫자 생성\n",
    "2. 사용자로부터 숫자 입력 받기\n",
    "3. 입력받은 숫자와 예측 숫자를 비교\n"
   ]
  },
  {
   "cell_type": "code",
   "execution_count": 2,
   "metadata": {},
   "outputs": [],
   "source": [
    "import random\n",
    "num = random.randint(1, 100)    # 1 ~ 100(포함) 사이의 정수를 실행시마다 랜덤하게 반환\n",
    "\n",
    "def guess():\n",
    "    ans = int(input('1 ~ 100 중 값을 입력해보세요: '))\n",
    "    n = 0\n",
    "\n",
    "    while True:\n",
    "        n += 1\n",
    "        if ans > num:\n",
    "            print(f'\\n[{n}번째 시도]', '-' * 30)\n",
    "            print('더 작은 값을 생각하세요.')\n",
    "            ans = int(input('새 값을 입력해보세요: '))\n",
    "        elif ans < num:\n",
    "            print(f'\\n[{n}번째 시도]', '-' * 30)\n",
    "            print('더 큰 값을 생각하세요.')\n",
    "            ans = int(input('새 값을 입력해보세요: '))\n",
    "        elif ans == num:\n",
    "            print(f'\\n[{n}번째 시도]', '-' * 30)\n",
    "            print('정답입니다.')\n",
    "            break"
   ]
  },
  {
   "cell_type": "code",
   "execution_count": 157,
   "metadata": {},
   "outputs": [
    {
     "name": "stdout",
     "output_type": "stream",
     "text": [
      "\n",
      "[1번째 시도] ------------------------------\n",
      "1 ~ 100 중 값을 입력해보세요: 50\n",
      "더 작은 값을 생각하세요.\n",
      "\n",
      "[2번째 시도] ------------------------------\n",
      "1 ~ 100 중 값을 입력해보세요: 30\n",
      "더 큰 값을 생각하세요.\n",
      "\n",
      "[3번째 시도] ------------------------------\n",
      "1 ~ 100 중 값을 입력해보세요: 40\n",
      "더 작은 값을 생각하세요.\n",
      "\n",
      "[4번째 시도] ------------------------------\n",
      "1 ~ 100 중 값을 입력해보세요: 40\n",
      "더 작은 값을 생각하세요.\n",
      "\n",
      "[5번째 시도] ------------------------------\n",
      "1 ~ 100 중 값을 입력해보세요: 20\n",
      "더 큰 값을 생각하세요.\n",
      "\n",
      "[6번째 시도] ------------------------------\n",
      "1 ~ 100 중 값을 입력해보세요: 34\n",
      "더 작은 값을 생각하세요.\n",
      "\n",
      "[7번째 시도] ------------------------------\n",
      "1 ~ 100 중 값을 입력해보세요: 30\n",
      "더 큰 값을 생각하세요.\n",
      "\n",
      "[8번째 시도] ------------------------------\n",
      "1 ~ 100 중 값을 입력해보세요: 32\n",
      "더 작은 값을 생각하세요.\n",
      "\n",
      "[9번째 시도] ------------------------------\n",
      "1 ~ 100 중 값을 입력해보세요: 31\n",
      "정답입니다.\n"
     ]
    }
   ],
   "source": [
    "num = random.randint(1, 100)    # 1 ~ 100(포함) 사이의 정수를 실행시마다 랜덤하게 반환\n",
    "n = 0\n",
    "maxi = 10\n",
    "\n",
    "for n in range(1, maxi):\n",
    "    print(f'\\n[{n}번째 시도]', '-' * 30)\n",
    "    ans = int(input('1 ~ 100 중 값을 입력해보세요: '))\n",
    "    if ans > num:\n",
    "        print('더 작은 값을 생각하세요.')\n",
    "    elif ans < num:\n",
    "        print('더 큰 값을 생각하세요.')\n",
    "    elif ans == num:\n",
    "        print('정답입니다.')\n",
    "        break\n",
    "        \n",
    "    if n == 9:\n",
    "        print('\\nGame Over')"
   ]
  },
  {
   "cell_type": "code",
   "execution_count": 3,
   "metadata": {},
   "outputs": [
    {
     "name": "stdout",
     "output_type": "stream",
     "text": [
      "1 ~ 100 중 값을 입력해보세요: 50\n",
      "\n",
      "[1번째 시도] ------------------------------\n",
      "정답입니다.\n"
     ]
    }
   ],
   "source": [
    "guess()"
   ]
  },
  {
   "cell_type": "code",
   "execution_count": 156,
   "metadata": {},
   "outputs": [
    {
     "name": "stdout",
     "output_type": "stream",
     "text": [
      "Up & Down Game 😝\n",
      "\n",
      "[1번째 시도] ------------------------------\n",
      "1 ~ 100 중 값을 입력해보세요: 50\n",
      "더 작은 값을 생각하세요.\n",
      "\n",
      "[2번째 시도] ------------------------------\n",
      "1 ~ 100 중 값을 입력해보세요: 20\n",
      "더 큰 값을 생각하세요.\n",
      "\n",
      "[3번째 시도] ------------------------------\n",
      "1 ~ 100 중 값을 입력해보세요: 35\n",
      "더 작은 값을 생각하세요.\n",
      "\n",
      "[4번째 시도] ------------------------------\n",
      "1 ~ 100 중 값을 입력해보세요: 30\n",
      "더 큰 값을 생각하세요.\n",
      "\n",
      "[5번째 시도] ------------------------------\n",
      "1 ~ 100 중 값을 입력해보세요: 33\n",
      "더 큰 값을 생각하세요.\n",
      "\n",
      "[6번째 시도] ------------------------------\n",
      "1 ~ 100 중 값을 입력해보세요: 34\n",
      "정답입니다.\n",
      "----------------------------------------- \n",
      "You Win🎉🎉🎉\n"
     ]
    }
   ],
   "source": [
    "num = random.randint(1, 100)    # 1 ~ 100(포함) 사이의 정수를 실행시마다 랜덤하게 반환\n",
    "print('Up & Down Game 😝')\n",
    "\n",
    "n = 0\n",
    "while True:\n",
    "    n += 1\n",
    "    print(f'\\n[{n}번째 시도]', '-' * 30)\n",
    "    ans = int(input('1 ~ 100 중 값을 입력해보세요: '))\n",
    "    if ans > num:\n",
    "        print('더 작은 값을 생각하세요.')\n",
    "    elif ans < num:\n",
    "        print('더 큰 값을 생각하세요.')\n",
    "    elif ans == num:\n",
    "        print('정답입니다.')\n",
    "        print('-' * 41, '\\nYou Win🎉🎉🎉')\n",
    "        break"
   ]
  },
  {
   "cell_type": "code",
   "execution_count": null,
   "metadata": {},
   "outputs": [],
   "source": []
  }
 ],
 "metadata": {
  "kernelspec": {
   "display_name": "Python 3",
   "language": "python",
   "name": "python3"
  },
  "language_info": {
   "codemirror_mode": {
    "name": "ipython",
    "version": 3
   },
   "file_extension": ".py",
   "mimetype": "text/x-python",
   "name": "python",
   "nbconvert_exporter": "python",
   "pygments_lexer": "ipython3",
   "version": "3.6.5"
  }
 },
 "nbformat": 4,
 "nbformat_minor": 4
}
