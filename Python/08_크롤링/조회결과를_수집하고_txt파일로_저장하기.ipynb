{
 "cells": [
  {
   "cell_type": "code",
   "execution_count": 31,
   "metadata": {},
   "outputs": [
    {
     "name": "stdout",
     "output_type": "stream",
     "text": [
      "크롤링할 키워드는 무엇입니까?: 겨울\n",
      "검색 결과를 저장할 파일경로와 이름을 지정하세오(예: test.txt): test.txt\n"
     ]
    }
   ],
   "source": [
    "from bs4 import BeautifulSoup\n",
    "from selenium import webdriver\n",
    "import time\n",
    "import sys\n",
    "\n",
    "query_text = input('크롤링할 키워드는 무엇입니까?: ')\n",
    "f_name = input('검색 결과를 저장할 파일경로와 이름을 지정하세오(예: test.txt): ')"
   ]
  },
  {
   "cell_type": "code",
   "execution_count": 32,
   "metadata": {},
   "outputs": [],
   "source": [
    "# Step 1. 크롬 드라이버를 사용해서 웹 브라우저를 실행합니다.\n",
    "path = './chromedriver'  # 크롬 드라이버의 경로 입력\n",
    "driver = webdriver.Chrome(path)\n",
    "\n",
    "driver.get('https://korean.visitkorea.or.kr/main/main.html')  # 한국관광공사 사이트 링크 사용\n",
    "time.sleep(2)  # 창이 모두 열릴 때 까지 2초 기다리기"
   ]
  },
  {
   "cell_type": "code",
   "execution_count": 33,
   "metadata": {},
   "outputs": [],
   "source": [
    "# Step 2. 검색창의 이름을 찾아서 검색어를 입력합니다.\n",
    "driver.find_element_by_id('inp_search').click()\n",
    "\n",
    "element = driver.find_element_by_id('inp_search')\n",
    "\n",
    "element.send_keys(query_text)\n",
    "\n",
    "# Step 3. 검색 버튼을 눌러 실행합니다.\n",
    "driver.find_element_by_link_text(\"검색\").click()"
   ]
  },
  {
   "cell_type": "code",
   "execution_count": 34,
   "metadata": {},
   "outputs": [],
   "source": [
    "# 소주제 1: 텍스트를 추출하여 화면에 출력하기\n",
    "# Step 2. 현재 페이지에 있는 내용을 화면에 출력하기\n",
    "time.sleep(1)\n",
    "\n",
    "html = driver.page_source\n",
    "soup = BeautifulSoup(html, 'html.parser')\n",
    "blog_list = soup.find('ul', class_='list_thumType type1')\n",
    "\n",
    "for i in blog_list:\n",
    "    print(i.text.strip())\n",
    "    print('\\n')"
   ]
  },
  {
   "cell_type": "code",
   "execution_count": 35,
   "metadata": {},
   "outputs": [],
   "source": [
    "# 소주제 2: 텍스트를 추출하여 txt 형식으로 저장하기\n",
    "# Step 3. 현재 페이지에 있는 내용을 txt 형식으로 파일에 저장하기\n",
    "orig_stdout = sys.stdout\n",
    "f = open(f_name, 'a', encoding='UTF-8')  # 'a': 일일이 입력\n",
    "sys.stdout = f\n",
    "time.sleep(1)\n",
    "\n",
    "html = driver.page_source\n",
    "soup = BeautifulSoup(html, 'html.parser')\n",
    "blog_list = soup.find('ul', class_='list_thumType type1')\n",
    "\n",
    "for i in blog_list:\n",
    "    print(i.text.strip())\n",
    "    print('\\n')\n",
    "    \n",
    "sys.stdout = orig_stdout\n",
    "f.close()\n",
    "\n",
    "print('요청하신 데이터 수집 작업이 정상적으로 완료되었습니다.')"
   ]
  }
 ],
 "metadata": {
  "kernelspec": {
   "display_name": "Python 3",
   "language": "python",
   "name": "python3"
  },
  "language_info": {
   "codemirror_mode": {
    "name": "ipython",
    "version": 3
   },
   "file_extension": ".py",
   "mimetype": "text/x-python",
   "name": "python",
   "nbconvert_exporter": "python",
   "pygments_lexer": "ipython3",
   "version": "3.6.5"
  }
 },
 "nbformat": 4,
 "nbformat_minor": 4
}
