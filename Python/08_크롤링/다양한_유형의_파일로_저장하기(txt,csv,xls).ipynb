{
 "cells": [
  {
   "cell_type": "code",
   "execution_count": 1,
   "metadata": {},
   "outputs": [
    {
     "name": "stdout",
     "output_type": "stream",
     "text": [
      "크롤링할 키워드는 무엇입니까?: 겨울 여행\n",
      "검색 결과를 저장할 파일경로와 이름을 지정하세오(예: test.txt): test1.txt\n",
      "검색 결과를 저장할 csv 파일경로와 이름을 지정하세요(예: test.csv): test1.csv\n",
      "검색 결과를 저장할 xls 파일경로와 이름을 지정하세요(예: test.xls): test1.xls\n"
     ]
    }
   ],
   "source": [
    "from bs4 import BeautifulSoup\n",
    "from selenium import webdriver\n",
    "import time\n",
    "import sys\n",
    "\n",
    "query_text = input('크롤링할 키워드는 무엇입니까?: ')\n",
    "f_name = input('검색 결과를 저장할 파일경로와 이름을 지정하세오(예: test.txt): ')\n",
    "fc_name = input('검색 결과를 저장할 csv 파일경로와 이름을 지정하세요(예: test.csv): ')\n",
    "fx_name = input('검색 결과를 저장할 xls 파일경로와 이름을 지정하세요(예: test.xls): ')"
   ]
  },
  {
   "cell_type": "code",
   "execution_count": 2,
   "metadata": {},
   "outputs": [],
   "source": [
    "# Step 1. 크롬 드라이버를 사용해서 웹 브라우저를 실행합니다.\n",
    "path = './chromedriver'  # 크롬 드라이버의 경로 입력\n",
    "driver = webdriver.Chrome(path)\n",
    "\n",
    "driver.get('https://korean.visitkorea.or.kr/main/main.html')  # 한국관광공사 사이트 링크 사용\n",
    "time.sleep(2)  # 창이 모두 열릴 때 까지 2초 기다리기"
   ]
  },
  {
   "cell_type": "code",
   "execution_count": 3,
   "metadata": {},
   "outputs": [],
   "source": [
    "# Step 2. 검색창의 이름을 찾아서 검색어를 입력합니다.\n",
    "driver.find_element_by_id('inp_search').click()\n",
    "\n",
    "element = driver.find_element_by_id('inp_search')\n",
    "\n",
    "element.send_keys(query_text)\n",
    "\n",
    "# Step 3. 검색 버튼을 눌러 실행합니다.\n",
    "driver.find_element_by_link_text(\"검색\").click()"
   ]
  },
  {
   "cell_type": "code",
   "execution_count": 8,
   "metadata": {},
   "outputs": [
    {
     "name": "stdout",
     "output_type": "stream",
     "text": [
      "<ul class=\"list_thumType type1\"><li><div class=\"photo\"><a href=\"javascript:goSearchDetail('9c1c8c89-65d4-40f6-87ef-687d229318b6');\"> <img alt=\"대한민국 구석구석 로드트립! 차창 밖 소심한 겨울 여행 &lt;br&gt; 전국 드라이브 코스 추천\" src=\"https://cdn.visitkorea.or.kr/img/call?cmd=VIEW&amp;id=05591f1d-c4e2-47fc-bb93-1a07e0da4417\"/> </a></div> <div class=\"area_txt\"> <div class=\"tit\"> <a href=\"javascript:goSearchDetail('9c1c8c89-65d4-40f6-87ef-687d229318b6');\"><em></em>대한민국 구석구석 로드트립! 차창 밖 소심한 <!--HS--><em>겨울</em><!--HE--> <!--HS--><em>여행</em><!--HE--> <br/> 전국 드라이브 코스 추천</a> </div> <div class=\"service\"> <p>전국 </p> <ul class=\"brandingIcon\" id=\"branding_9c1c8c89-65d4-40f6-87ef-687d229318b6\"> </ul> </div> <p class=\"tag_type\"><span>#<em></em>테마<em>여행</em></span><span>#<em></em>드라이브</span><span>#<em></em>드라이브<em>여행</em></span><span>#<em></em><em>겨울</em><em>여행</em></span> </p></div><button class=\"btn_view\" onclick='viewClick(\"9c1c8c89-65d4-40f6-87ef-687d229318b6\")' title=\"열기\" type=\"button\">더보기</button><div class=\"pop_subMenu\"> <ul> <li class=\"btn_far\"><a href=\"javascript:\" onclick='setFavoContent(\"9c1c8c89-65d4-40f6-87ef-687d229318b6\")'>즐겨찾기</a></li> <li class=\"btn_share\" id=\"9c1c8c89-65d4-40f6-87ef-687d229318b6\"><a href=\"javascript:\" onclick='getShareInfo(\"%EB%8C%80%ED%95%9C%EB%AF%BC%EA%B5%AD%20%EA%B5%AC%EC%84%9D%EA%B5%AC%EC%84%9D%20%EB%A1%9C%EB%93%9C%ED%8A%B8%EB%A6%BD!%20%EC%B0%A8%EC%B0%BD%20%EB%B0%96%20%EC%86%8C%EC%8B%AC%ED%95%9C%20%3C!HS%3E%EA%B2%A8%EC%9A%B8%3C!HE%3E%20%3C!HS%3E%EC%97%AC%ED%96%89%3C!HE%3E%20%3Cbr%3E%20%EC%A0%84%EA%B5%AD%20%EB%93%9C%EB%9D%BC%EC%9D%B4%EB%B8%8C%20%EC%BD%94%EC%8A%A4%20%EC%B6%94%EC%B2%9C\",\"05591f1d-c4e2-47fc-bb93-1a07e0da4417\",\"9c1c8c89-65d4-40f6-87ef-687d229318b6\",\"304\");'>공유하기</a></li> </ul></div></li><li><div class=\"photo\"><a href=\"javascript:goSearchDetail('9616ffb2-2f9f-43c2-92ee-ae6203944df9');\"> <img alt=\"기차 타고 떠나는 겨울여행, 군위 화본역과 화본마을\" src=\"https://cdn.visitkorea.or.kr/img/call?cmd=VIEW&amp;id=1398a58d-0733-48d9-be3a-1e099ed58f67\"/> </a></div> <div class=\"area_txt\"> <div class=\"tit\"> <a href=\"javascript:goSearchDetail('9616ffb2-2f9f-43c2-92ee-ae6203944df9');\"><em></em>기차 타고 떠나는 <!--HS--><em>겨울</em><!--HE--><!--HS--><em>여행</em><!--HE-->, 군위 화본역과 화본마을</a> </div> <div class=\"service\"> <p>경상북도 군위군</p> <ul class=\"brandingIcon\" id=\"branding_9616ffb2-2f9f-43c2-92ee-ae6203944df9\"> </ul> </div> <p class=\"tag_type\"><span>#<em></em><em>겨울</em>기차<em>여행</em></span><span>#<em></em>공공누리</span> </p></div><button class=\"btn_view\" onclick='viewClick(\"9616ffb2-2f9f-43c2-92ee-ae6203944df9\")' title=\"열기\" type=\"button\">더보기</button><div class=\"pop_subMenu\"> <ul> <li class=\"btn_far\"><a href=\"javascript:\" onclick='setFavoContent(\"9616ffb2-2f9f-43c2-92ee-ae6203944df9\")'>즐겨찾기</a></li> <li class=\"btn_share\" id=\"9616ffb2-2f9f-43c2-92ee-ae6203944df9\"><a href=\"javascript:\" onclick='getShareInfo(\"%EA%B8%B0%EC%B0%A8%20%ED%83%80%EA%B3%A0%20%EB%96%A0%EB%82%98%EB%8A%94%20%3C!HS%3E%EA%B2%A8%EC%9A%B8%3C!HE%3E%3C!HS%3E%EC%97%AC%ED%96%89%3C!HE%3E%2C%20%EA%B5%B0%EC%9C%84%20%ED%99%94%EB%B3%B8%EC%97%AD%EA%B3%BC%20%ED%99%94%EB%B3%B8%EB%A7%88%EC%9D%84\",\"1398a58d-0733-48d9-be3a-1e099ed58f67\",\"9616ffb2-2f9f-43c2-92ee-ae6203944df9\",\"304\");'>공유하기</a></li> </ul></div></li><li><div class=\"photo\"><a href=\"javascript:goSearchDetail('96f93b4c-bf74-41a1-a085-62a7a82a1acb');\"> <img alt=\"겨울 특집 용인여행, 전통과 현대가 공존하는 용인으로!\" src=\"https://cdn.visitkorea.or.kr/img/call?cmd=VIEW&amp;id=d0090e2a-8a40-4e52-89b4-ebb0f9c1f7ef\"/> </a></div> <div class=\"area_txt\"> <div class=\"tit\"> <a href=\"javascript:goSearchDetail('96f93b4c-bf74-41a1-a085-62a7a82a1acb');\"><em></em><!--HS--><em>겨울</em><!--HE--> 특집 용인<!--HS--><em>여행</em><!--HE-->, 전통과 현대가 공존하는 용인으로!</a> </div> <div class=\"service\"> <p>경기도 용인시</p> <ul class=\"brandingIcon\" id=\"branding_96f93b4c-bf74-41a1-a085-62a7a82a1acb\"> </ul> </div> <p class=\"tag_type\"><span>#<em></em>용인<em>여행</em></span><span>#<em></em>용인가볼만한곳</span><span>#<em></em>용인5일장</span><span>#<em></em>한국민속촌</span><span>#<em></em>장옥진고택</span><span>#<em></em>어로프슬라이스피스</span><span>#<em></em>특별한_<em>겨울</em>나들이</span> </p></div><button class=\"btn_view\" onclick='viewClick(\"96f93b4c-bf74-41a1-a085-62a7a82a1acb\")' title=\"열기\" type=\"button\">더보기</button><div class=\"pop_subMenu\"> <ul> <li class=\"btn_far\"><a href=\"javascript:\" onclick='setFavoContent(\"96f93b4c-bf74-41a1-a085-62a7a82a1acb\")'>즐겨찾기</a></li> <li class=\"btn_share\" id=\"96f93b4c-bf74-41a1-a085-62a7a82a1acb\"><a href=\"javascript:\" onclick='getShareInfo(\"%3C!HS%3E%EA%B2%A8%EC%9A%B8%3C!HE%3E%20%ED%8A%B9%EC%A7%91%20%EC%9A%A9%EC%9D%B8%3C!HS%3E%EC%97%AC%ED%96%89%3C!HE%3E%2C%20%EC%A0%84%ED%86%B5%EA%B3%BC%20%ED%98%84%EB%8C%80%EA%B0%80%20%EA%B3%B5%EC%A1%B4%ED%95%98%EB%8A%94%20%EC%9A%A9%EC%9D%B8%EC%9C%BC%EB%A1%9C!\",\"d0090e2a-8a40-4e52-89b4-ebb0f9c1f7ef\",\"96f93b4c-bf74-41a1-a085-62a7a82a1acb\",\"304\");'>공유하기</a></li> </ul></div></li><li><div class=\"photo\"><a href=\"javascript:goSearchDetail('76c2b55b-c257-47a9-8aa7-22ea22e7231d');\"> <img alt=\"“뭘 좋아할지 몰라서 다 준비했어!” 겨울방학 평창-강릉 가족 여행법\" src=\"https://cdn.visitkorea.or.kr/img/call?cmd=VIEW&amp;id=11de2f57-50ea-47c0-953d-e53ea7560219\"/> </a></div> <div class=\"area_txt\"> <div class=\"tit\"> <a href=\"javascript:goSearchDetail('76c2b55b-c257-47a9-8aa7-22ea22e7231d');\"><em></em>“뭘 좋아할지 몰라서 다 준비했어!” <!--HS--><em>겨울</em><!--HE-->방학 평창-강릉 가족 <!--HS--><em>여행</em><!--HE-->법</a> </div> <div class=\"service\"> <p>강원도 평창군</p> <ul class=\"brandingIcon\" id=\"branding_76c2b55b-c257-47a9-8aa7-22ea22e7231d\"> </ul> </div> <p class=\"tag_type\"><span>#<em></em>평창가볼만한곳</span><span>#<em></em>강원도<em>여행</em></span><span>#<em></em>가족<em>여행</em></span><span>#<em></em>체험학습</span><span>#<em></em>이색체험</span><span>#<em></em>아이와함께</span><span>#<em></em><em>겨울</em>방학가볼만한곳</span><span>#<em></em>강릉가볼만한곳</span><span>#<em></em>온가족_<em>겨울</em><em>여행</em></span> </p></div><button class=\"btn_view\" onclick='viewClick(\"76c2b55b-c257-47a9-8aa7-22ea22e7231d\")' title=\"열기\" type=\"button\">더보기</button><div class=\"pop_subMenu\"> <ul> <li class=\"btn_far\"><a href=\"javascript:\" onclick='setFavoContent(\"76c2b55b-c257-47a9-8aa7-22ea22e7231d\")'>즐겨찾기</a></li> <li class=\"btn_share\" id=\"76c2b55b-c257-47a9-8aa7-22ea22e7231d\"><a href=\"javascript:\" onclick='getShareInfo(\"%E2%80%9C%EB%AD%98%20%EC%A2%8B%EC%95%84%ED%95%A0%EC%A7%80%20%EB%AA%B0%EB%9D%BC%EC%84%9C%20%EB%8B%A4%20%EC%A4%80%EB%B9%84%ED%96%88%EC%96%B4!%E2%80%9D%20%3C!HS%3E%EA%B2%A8%EC%9A%B8%3C!HE%3E%EB%B0%A9%ED%95%99%20%ED%8F%89%EC%B0%BD-%EA%B0%95%EB%A6%89%20%EA%B0%80%EC%A1%B1%20%3C!HS%3E%EC%97%AC%ED%96%89%3C!HE%3E%EB%B2%95\",\"11de2f57-50ea-47c0-953d-e53ea7560219\",\"76c2b55b-c257-47a9-8aa7-22ea22e7231d\",\"304\");'>공유하기</a></li> </ul></div></li><li class=\"banner_area\"> <div class=\"pc\"> <a class=\"banner0\" href=\"https://korean.visitkorea.or.kr/detail/rem_detail.do?cotid=e34bd25c-5a92-43e1-9cd2-5b65974d777d&amp;temp=\"><span><img alt=\"인싸여행 필수템! 트래블 클럽 03 우리들의 랜드마크\" src=\"https://cdn.visitkorea.or.kr/img/call?cmd=VIEW&amp;id=35e9be0e-9424-45eb-b87e-2e676a6aadb5\"/></span></a> <a class=\"banner1\" href=\"https://korean.visitkorea.or.kr/detail/rem_detail.do?cotid=a074bcc0-cee0-4b22-a9f5-372bf19f2309&amp;temp=\"><span><img alt=\"댕댕이와 여행하개! 펫팸족을 위한 전국 반려견 동반 여행지 56\" src=\"https://cdn.visitkorea.or.kr/img/call?cmd=VIEW&amp;id=229183d9-5a04-47c4-a073-555203f29a48\"/></span></a> </div></li><li><div class=\"photo\"><a href=\"javascript:goSearchDetail('45e359e4-2782-4315-a9f5-71ebac668e3e');\"> <img alt=\"겨울여행지 추천. 느린 만큼 매력적인 곳, 1박2일 안동 여행 코스\" src=\"https://cdn.visitkorea.or.kr/img/call?cmd=VIEW&amp;id=35fb0f27-afd4-4319-9148-fbb28b5d8683\"/> </a></div> <div class=\"area_txt\"> <div class=\"tit\"> <a href=\"javascript:goSearchDetail('45e359e4-2782-4315-a9f5-71ebac668e3e');\"><em></em><!--HS--><em>겨울</em><!--HE--><!--HS--><em>여행</em><!--HE-->지 추천. 느린 만큼 매력적인 곳, 1박2일 안동 <!--HS-->여행<!--HE--> 코스</a> </div> <div class=\"service\"> <p>경상북도 안동시</p> <ul class=\"brandingIcon\" id=\"branding_45e359e4-2782-4315-a9f5-71ebac668e3e\"> </ul> </div> <p class=\"tag_type\"><span>#<em></em>안동<em>여행</em></span><span>#<em></em><em>겨울</em><em>여행</em></span><span>#<em></em>새해맞이<em>여행</em></span><span>#<em></em>안동하회마을</span><span>#<em></em>월영교</span><span>#<em></em>월영정</span><span>#<em></em>안동찜닭</span><span>#<em></em>안동간고등어</span><span>#<em></em>안동구시장</span><span>#<em></em>새해<em>여행</em></span><span>#<em></em><em>겨울</em>가볼만한곳</span><span>#<em></em><em>겨울</em>소확행</span> </p></div><button class=\"btn_view\" onclick='viewClick(\"45e359e4-2782-4315-a9f5-71ebac668e3e\")' title=\"열기\" type=\"button\">더보기</button><div class=\"pop_subMenu\"> <ul> <li class=\"btn_far\"><a href=\"javascript:\" onclick='setFavoContent(\"45e359e4-2782-4315-a9f5-71ebac668e3e\")'>즐겨찾기</a></li> <li class=\"btn_share\" id=\"45e359e4-2782-4315-a9f5-71ebac668e3e\"><a href=\"javascript:\" onclick='getShareInfo(\"%3C!HS%3E%EA%B2%A8%EC%9A%B8%3C!HE%3E%3C!HS%3E%EC%97%AC%ED%96%89%3C!HE%3E%EC%A7%80%20%EC%B6%94%EC%B2%9C.%20%EB%8A%90%EB%A6%B0%20%EB%A7%8C%ED%81%BC%20%EB%A7%A4%EB%A0%A5%EC%A0%81%EC%9D%B8%20%EA%B3%B3%2C%201%EB%B0%952%EC%9D%BC%20%EC%95%88%EB%8F%99%20%3C!HS%3E%EC%97%AC%ED%96%89%3C!HE%3E%20%EC%BD%94%EC%8A%A4\",\"35fb0f27-afd4-4319-9148-fbb28b5d8683\",\"45e359e4-2782-4315-a9f5-71ebac668e3e\",\"304\");'>공유하기</a></li> </ul></div></li><li><div class=\"photo\"><a href=\"javascript:goSearchDetail('c6955398-ede4-4d54-905a-e3b1aacd939c');\"> <img alt=\"겨울왕국, 하얀 눈에 안긴 내소사와 곰소염전 변산반도 힐링 여행\" src=\"https://cdn.visitkorea.or.kr/img/call?cmd=VIEW&amp;id=6a520e45-43d6-4e60-a9fe-d0cf620fd800\"/> </a></div> <div class=\"area_txt\"> <div class=\"tit\"> <a href=\"javascript:goSearchDetail('c6955398-ede4-4d54-905a-e3b1aacd939c');\"><em></em><!--HS--><em>겨울</em><!--HE-->왕국, 하얀 눈에 안긴 내소사와 곰소염전 변산반도 힐링 <!--HS--><em>여행</em><!--HE--></a> </div> <div class=\"service\"> <p>전라북도 부안군</p> <ul class=\"brandingIcon\" id=\"branding_c6955398-ede4-4d54-905a-e3b1aacd939c\"> </ul> </div> <p class=\"tag_type\"><span>#<em></em>부안가볼만한곳</span><span>#<em></em><em>겨울</em>왕국</span><span>#<em></em>변산반도</span><span>#<em></em>힐링<em>여행</em></span><span>#<em></em>내소사</span><span>#<em></em>곰소염전</span><span>#<em></em>염전</span><span>#<em></em>소금</span><span>#<em></em>일몰</span><span>#<em></em>격포항</span><span>#<em></em>대웅보전</span><span>#<em></em>공공누리</span><span>#<em></em>격포해수욕장</span><span>#<em></em>적벽강</span><span>#<em></em>닭이봉</span><span>#<em></em>솔섬</span><span>#<em></em><em>겨울</em>바다로가자</span> </p></div><button class=\"btn_view\" onclick='viewClick(\"c6955398-ede4-4d54-905a-e3b1aacd939c\")' title=\"열기\" type=\"button\">더보기</button><div class=\"pop_subMenu\"> <ul> <li class=\"btn_far\"><a href=\"javascript:\" onclick='setFavoContent(\"c6955398-ede4-4d54-905a-e3b1aacd939c\")'>즐겨찾기</a></li> <li class=\"btn_share\" id=\"c6955398-ede4-4d54-905a-e3b1aacd939c\"><a href=\"javascript:\" onclick='getShareInfo(\"%3C!HS%3E%EA%B2%A8%EC%9A%B8%3C!HE%3E%EC%99%95%EA%B5%AD%2C%20%ED%95%98%EC%96%80%20%EB%88%88%EC%97%90%20%EC%95%88%EA%B8%B4%20%EB%82%B4%EC%86%8C%EC%82%AC%EC%99%80%20%EA%B3%B0%EC%86%8C%EC%97%BC%EC%A0%84%20%EB%B3%80%EC%82%B0%EB%B0%98%EB%8F%84%20%ED%9E%90%EB%A7%81%20%3C!HS%3E%EC%97%AC%ED%96%89%3C!HE%3E\",\"6a520e45-43d6-4e60-a9fe-d0cf620fd800\",\"c6955398-ede4-4d54-905a-e3b1aacd939c\",\"304\");'>공유하기</a></li> </ul></div></li><li><div class=\"photo\"><a href=\"javascript:goSearchDetail('aa29a379-b733-4f37-a993-ecf0bb6e7745');\"> <img alt=\"겨울 여행의 추억 만들기\" src=\"https://cdn.visitkorea.or.kr/img/call?cmd=VIEW&amp;id=0c38ecbe-02ba-46ea-89e8-3bb6bf9a1798\"/> </a></div> <div class=\"area_txt\"> <div class=\"tit\"> <a href=\"javascript:goSearchDetail('aa29a379-b733-4f37-a993-ecf0bb6e7745');\"><em></em><!--HS--><em>겨울</em><!--HE--> <!--HS--><em>여행</em><!--HE-->의 추억 만들기</a> </div> <div class=\"service\"> <p></p> <ul class=\"brandingIcon\" id=\"branding_aa29a379-b733-4f37-a993-ecf0bb6e7745\"> </ul> </div> <p class=\"tag_type\"><span>#<em></em>한국관광품질인증</span><span>#<em></em><em>여행</em>자의방</span><span>#<em></em>숲속의요정</span><span>#<em></em>정강원관광농원</span><span>#<em></em>소낭구펜션</span><span>#<em></em>옛마실펜션</span><span>#<em></em>꿈꾸는노마드</span><span>#<em></em>더세리리조트</span><span>#<em></em>메모리즈호텔</span><span>#<em></em>목포마리나베이호텔</span><span>#<em></em><em>겨울</em><em>여행</em></span><span>#<em></em>한국관광품질인증테마<em>여행</em></span><span>#<em></em>우수숙소</span><span>#<em></em>인증숙소</span><span>#<em></em>평창숙소</span><span>#<em></em>거제숙소</span><span>#<em></em>제주숙소</span><span>#<em></em>속초숙소</span><span>#<em></em>목포숙소</span><span>#<em></em>포항숙소</span><span>#<em></em>양양숙소</span><span>#<em></em>품질인증콘텐츠</span> </p></div><button class=\"btn_view\" onclick='viewClick(\"aa29a379-b733-4f37-a993-ecf0bb6e7745\")' title=\"열기\" type=\"button\">더보기</button><div class=\"pop_subMenu\"> <ul> <li class=\"btn_far\"><a href=\"javascript:\" onclick='setFavoContent(\"aa29a379-b733-4f37-a993-ecf0bb6e7745\")'>즐겨찾기</a></li> <li class=\"btn_share\" id=\"aa29a379-b733-4f37-a993-ecf0bb6e7745\"><a href=\"javascript:\" onclick='getShareInfo(\"%3C!HS%3E%EA%B2%A8%EC%9A%B8%3C!HE%3E%20%3C!HS%3E%EC%97%AC%ED%96%89%3C!HE%3E%EC%9D%98%20%EC%B6%94%EC%96%B5%20%EB%A7%8C%EB%93%A4%EA%B8%B0\",\"0c38ecbe-02ba-46ea-89e8-3bb6bf9a1798\",\"aa29a379-b733-4f37-a993-ecf0bb6e7745\",\"304\");'>공유하기</a></li> </ul></div></li><li><div class=\"photo\"><a href=\"javascript:goSearchDetail('be3db10c-b642-409c-81cc-c4cdecb5bd8b');\"> <img alt=\"향긋한 굴구이, 시원한 대구탕과 함께 하는 겨울 거제여행\" src=\"https://cdn.visitkorea.or.kr/img/call?cmd=VIEW&amp;id=c531fd60-c5bf-4028-b8f2-dbeddad9e1ec\"/> </a></div> <div class=\"area_txt\"> <div class=\"tit\"> <a href=\"javascript:goSearchDetail('be3db10c-b642-409c-81cc-c4cdecb5bd8b');\"><em></em>향긋한 굴구이, 시원한 대구탕과 함께 하는 <!--HS--><em>겨울</em><!--HE--> 거제<!--HS--><em>여행</em><!--HE--></a> </div> <div class=\"service\"> <p>경상남도 거제시</p> <ul class=\"brandingIcon\" id=\"branding_be3db10c-b642-409c-81cc-c4cdecb5bd8b\"> </ul> </div> <p class=\"tag_type\"><span>#<em></em>경상남도</span><span>#<em></em>거제</span><span>#<em></em>굴</span><span>#<em></em>굴양식장</span><span>#<em></em>대구</span><span>#<em></em>외포항</span><span>#<em></em>신선대</span><span>#<em></em>바람의언덕</span><span>#<em></em>해금강테마박물관</span><span>#<em></em>몽돌해변</span><span>#<em></em>드라이브</span><span>#<em></em>바다</span><span>#<em></em><em>겨울</em></span><span>#<em></em>힐링</span><span>#<em></em><em>여행</em></span><span>#<em></em>가족</span><span>#<em></em>친구</span><span>#<em></em>연인</span><span>#<em></em>추천가볼만한곳</span><span>#<em></em>거제가볼만한곳</span><span>#<em></em>거제당일코스</span><span>#<em></em>거제1박2일코스</span><span>#<em></em><em>겨울</em>제철음식</span><span>#<em></em>미식<em>여행</em></span><span>#<em></em>굴무침</span><span>#<em></em>굴구이</span><span>#<em></em>대구회무침</span><span>#<em></em>대구탕</span><span>#<em></em><em>겨울</em>먹거리</span><span>#<em></em>2015년12월추천가볼만한곳</span><span>#<em></em>12월추천가볼만한곳</span> </p></div><button class=\"btn_view\" onclick='viewClick(\"be3db10c-b642-409c-81cc-c4cdecb5bd8b\")' title=\"열기\" type=\"button\">더보기</button><div class=\"pop_subMenu\"> <ul> <li class=\"btn_far\"><a href=\"javascript:\" onclick='setFavoContent(\"be3db10c-b642-409c-81cc-c4cdecb5bd8b\")'>즐겨찾기</a></li> <li class=\"btn_share\" id=\"be3db10c-b642-409c-81cc-c4cdecb5bd8b\"><a href=\"javascript:\" onclick='getShareInfo(\"%ED%96%A5%EA%B8%8B%ED%95%9C%20%EA%B5%B4%EA%B5%AC%EC%9D%B4%2C%20%EC%8B%9C%EC%9B%90%ED%95%9C%20%EB%8C%80%EA%B5%AC%ED%83%95%EA%B3%BC%20%ED%95%A8%EA%BB%98%20%ED%95%98%EB%8A%94%20%3C!HS%3E%EA%B2%A8%EC%9A%B8%3C!HE%3E%20%EA%B1%B0%EC%A0%9C%3C!HS%3E%EC%97%AC%ED%96%89%3C!HE%3E\",\"c531fd60-c5bf-4028-b8f2-dbeddad9e1ec\",\"be3db10c-b642-409c-81cc-c4cdecb5bd8b\",\"304\");'>공유하기</a></li> </ul></div></li><li><div class=\"photo\"><a href=\"javascript:goSearchDetail('2ca827d3-4d64-4cf6-a2e6-994458e87b9f');\"> <img alt=\"가족여행으로 딱! 문경 겨울 여행\" src=\"https://cdn.visitkorea.or.kr/img/call?cmd=VIEW&amp;id=18c216fb-4017-4bb4-819e-c25326d3bdb8\"/> </a></div> <div class=\"area_txt\"> <div class=\"tit\"> <a href=\"javascript:goSearchDetail('2ca827d3-4d64-4cf6-a2e6-994458e87b9f');\"><em></em>가족<!--HS--><em>여행</em><!--HE-->으로 딱! 문경 <!--HS--><em>겨울</em><!--HE--> <!--HS-->여행<!--HE--></a> </div> <div class=\"service\"> <p>경상북도 문경시</p> <ul class=\"brandingIcon\" id=\"branding_2ca827d3-4d64-4cf6-a2e6-994458e87b9f\"> </ul> </div> <p class=\"tag_type\"><span>#<em></em>문경<em>여행</em></span><span>#<em></em>문경가볼만한곳</span><span>#<em></em>가족<em>여행</em></span><span>#<em></em>세구기매운탕</span><span>#<em></em>가나다라브루어리</span><span>#<em></em>고모산성</span><span>#<em></em>에코랄라</span><span>#<em></em><em>겨울</em><em>여행</em></span> </p></div><button class=\"btn_view\" onclick='viewClick(\"2ca827d3-4d64-4cf6-a2e6-994458e87b9f\")' title=\"열기\" type=\"button\">더보기</button><div class=\"pop_subMenu\"> <ul> <li class=\"btn_far\"><a href=\"javascript:\" onclick='setFavoContent(\"2ca827d3-4d64-4cf6-a2e6-994458e87b9f\")'>즐겨찾기</a></li> <li class=\"btn_share\" id=\"2ca827d3-4d64-4cf6-a2e6-994458e87b9f\"><a href=\"javascript:\" onclick='getShareInfo(\"%EA%B0%80%EC%A1%B1%3C!HS%3E%EC%97%AC%ED%96%89%3C!HE%3E%EC%9C%BC%EB%A1%9C%20%EB%94%B1!%20%EB%AC%B8%EA%B2%BD%20%3C!HS%3E%EA%B2%A8%EC%9A%B8%3C!HE%3E%20%3C!HS%3E%EC%97%AC%ED%96%89%3C!HE%3E\",\"18c216fb-4017-4bb4-819e-c25326d3bdb8\",\"2ca827d3-4d64-4cf6-a2e6-994458e87b9f\",\"304\");'>공유하기</a></li> </ul></div></li><li><div class=\"photo\"><a href=\"javascript:goSearchDetail('72636c69-4926-42c0-8d34-4b25efa6d343');\"> <img alt=\"새하얀 눈이 내리면 더 아름다워지는 부여 겨울여행 코스\" src=\"https://cdn.visitkorea.or.kr/img/call?cmd=VIEW&amp;id=55ae79a7-8348-4b7d-8da2-882ff521428f\"/> </a></div> <div class=\"area_txt\"> <div class=\"tit\"> <a href=\"javascript:goSearchDetail('72636c69-4926-42c0-8d34-4b25efa6d343');\"><em></em>새하얀 눈이 내리면 더 아름다워지는 부여 <!--HS--><em>겨울</em><!--HE--><!--HS--><em>여행</em><!--HE--> 코스</a> </div> <div class=\"service\"> <p>충청남도 부여군</p> <ul class=\"brandingIcon\" id=\"branding_72636c69-4926-42c0-8d34-4b25efa6d343\"> </ul> </div> <p class=\"tag_type\"><span>#<em></em>부여가볼만한곳</span><span>#<em></em>부여<em>여행</em></span><span>#<em></em><em>겨울</em><em>여행</em></span><span>#<em></em>부소산성</span><span>#<em></em>백제문화단지</span><span>#<em></em>부여능산리고분군</span><span>#<em></em>정림사지</span><span>#<em></em>장원막국수</span><span>#<em></em>풍경<em>여행</em></span><span>#<em></em>1월가볼만한곳</span> </p></div><button class=\"btn_view\" onclick='viewClick(\"72636c69-4926-42c0-8d34-4b25efa6d343\")' title=\"열기\" type=\"button\">더보기</button><div class=\"pop_subMenu\"> <ul> <li class=\"btn_far\"><a href=\"javascript:\" onclick='setFavoContent(\"72636c69-4926-42c0-8d34-4b25efa6d343\")'>즐겨찾기</a></li> <li class=\"btn_share\" id=\"72636c69-4926-42c0-8d34-4b25efa6d343\"><a href=\"javascript:\" onclick='getShareInfo(\"%EC%83%88%ED%95%98%EC%96%80%20%EB%88%88%EC%9D%B4%20%EB%82%B4%EB%A6%AC%EB%A9%B4%20%EB%8D%94%20%EC%95%84%EB%A6%84%EB%8B%A4%EC%9B%8C%EC%A7%80%EB%8A%94%20%EB%B6%80%EC%97%AC%20%3C!HS%3E%EA%B2%A8%EC%9A%B8%3C!HE%3E%3C!HS%3E%EC%97%AC%ED%96%89%3C!HE%3E%20%EC%BD%94%EC%8A%A4\",\"55ae79a7-8348-4b7d-8da2-882ff521428f\",\"72636c69-4926-42c0-8d34-4b25efa6d343\",\"304\");'>공유하기</a></li> </ul></div></li></ul>\n"
     ]
    }
   ],
   "source": [
    "# Step 4. 현재 페이지에 있는 내용을 화면에 출력하기\n",
    "time.sleep(1)\n",
    "\n",
    "html = driver.page_source\n",
    "soup = BeautifulSoup(html, 'html.parser')\n",
    "content_list = soup.find('ul', class_='list_thumType type1')\n",
    "print(content_list)"
   ]
  },
  {
   "cell_type": "code",
   "execution_count": 17,
   "metadata": {},
   "outputs": [
    {
     "name": "stdout",
     "output_type": "stream",
     "text": [
      "<li><div class=\"photo\"><a href=\"javascript:goSearchDetail('9c1c8c89-65d4-40f6-87ef-687d229318b6');\"> <img alt=\"대한민국 구석구석 로드트립! 차창 밖 소심한 겨울 여행 &lt;br&gt; 전국 드라이브 코스 추천\" src=\"https://cdn.visitkorea.or.kr/img/call?cmd=VIEW&amp;id=05591f1d-c4e2-47fc-bb93-1a07e0da4417\"/> </a></div> <div class=\"area_txt\"> <div class=\"tit\"> <a href=\"javascript:goSearchDetail('9c1c8c89-65d4-40f6-87ef-687d229318b6');\"><em></em>대한민국 구석구석 로드트립! 차창 밖 소심한 <!--HS--><em>겨울</em><!--HE--> <!--HS--><em>여행</em><!--HE--> <br/> 전국 드라이브 코스 추천</a> </div> <div class=\"service\"> <p>전국 </p> <ul class=\"brandingIcon\" id=\"branding_9c1c8c89-65d4-40f6-87ef-687d229318b6\"> </ul> </div> <p class=\"tag_type\"><span>#<em></em>테마<em>여행</em></span><span>#<em></em>드라이브</span><span>#<em></em>드라이브<em>여행</em></span><span>#<em></em><em>겨울</em><em>여행</em></span> </p></div><button class=\"btn_view\" onclick='viewClick(\"9c1c8c89-65d4-40f6-87ef-687d229318b6\")' title=\"열기\" type=\"button\">더보기</button><div class=\"pop_subMenu\"> <ul> <li class=\"btn_far\"><a href=\"javascript:\" onclick='setFavoContent(\"9c1c8c89-65d4-40f6-87ef-687d229318b6\")'>즐겨찾기</a></li> <li class=\"btn_share\" id=\"9c1c8c89-65d4-40f6-87ef-687d229318b6\"><a href=\"javascript:\" onclick='getShareInfo(\"%EB%8C%80%ED%95%9C%EB%AF%BC%EA%B5%AD%20%EA%B5%AC%EC%84%9D%EA%B5%AC%EC%84%9D%20%EB%A1%9C%EB%93%9C%ED%8A%B8%EB%A6%BD!%20%EC%B0%A8%EC%B0%BD%20%EB%B0%96%20%EC%86%8C%EC%8B%AC%ED%95%9C%20%3C!HS%3E%EA%B2%A8%EC%9A%B8%3C!HE%3E%20%3C!HS%3E%EC%97%AC%ED%96%89%3C!HE%3E%20%3Cbr%3E%20%EC%A0%84%EA%B5%AD%20%EB%93%9C%EB%9D%BC%EC%9D%B4%EB%B8%8C%20%EC%BD%94%EC%8A%A4%20%EC%B6%94%EC%B2%9C\",\"05591f1d-c4e2-47fc-bb93-1a07e0da4417\",\"9c1c8c89-65d4-40f6-87ef-687d229318b6\",\"304\");'>공유하기</a></li> </ul></div></li>\n",
      "\n",
      "\n",
      "<li><div class=\"photo\"><a href=\"javascript:goSearchDetail('9616ffb2-2f9f-43c2-92ee-ae6203944df9');\"> <img alt=\"기차 타고 떠나는 겨울여행, 군위 화본역과 화본마을\" src=\"https://cdn.visitkorea.or.kr/img/call?cmd=VIEW&amp;id=1398a58d-0733-48d9-be3a-1e099ed58f67\"/> </a></div> <div class=\"area_txt\"> <div class=\"tit\"> <a href=\"javascript:goSearchDetail('9616ffb2-2f9f-43c2-92ee-ae6203944df9');\"><em></em>기차 타고 떠나는 <!--HS--><em>겨울</em><!--HE--><!--HS--><em>여행</em><!--HE-->, 군위 화본역과 화본마을</a> </div> <div class=\"service\"> <p>경상북도 군위군</p> <ul class=\"brandingIcon\" id=\"branding_9616ffb2-2f9f-43c2-92ee-ae6203944df9\"> </ul> </div> <p class=\"tag_type\"><span>#<em></em><em>겨울</em>기차<em>여행</em></span><span>#<em></em>공공누리</span> </p></div><button class=\"btn_view\" onclick='viewClick(\"9616ffb2-2f9f-43c2-92ee-ae6203944df9\")' title=\"열기\" type=\"button\">더보기</button><div class=\"pop_subMenu\"> <ul> <li class=\"btn_far\"><a href=\"javascript:\" onclick='setFavoContent(\"9616ffb2-2f9f-43c2-92ee-ae6203944df9\")'>즐겨찾기</a></li> <li class=\"btn_share\" id=\"9616ffb2-2f9f-43c2-92ee-ae6203944df9\"><a href=\"javascript:\" onclick='getShareInfo(\"%EA%B8%B0%EC%B0%A8%20%ED%83%80%EA%B3%A0%20%EB%96%A0%EB%82%98%EB%8A%94%20%3C!HS%3E%EA%B2%A8%EC%9A%B8%3C!HE%3E%3C!HS%3E%EC%97%AC%ED%96%89%3C!HE%3E%2C%20%EA%B5%B0%EC%9C%84%20%ED%99%94%EB%B3%B8%EC%97%AD%EA%B3%BC%20%ED%99%94%EB%B3%B8%EB%A7%88%EC%9D%84\",\"1398a58d-0733-48d9-be3a-1e099ed58f67\",\"9616ffb2-2f9f-43c2-92ee-ae6203944df9\",\"304\");'>공유하기</a></li> </ul></div></li>\n",
      "\n",
      "\n",
      "<li><div class=\"photo\"><a href=\"javascript:goSearchDetail('96f93b4c-bf74-41a1-a085-62a7a82a1acb');\"> <img alt=\"겨울 특집 용인여행, 전통과 현대가 공존하는 용인으로!\" src=\"https://cdn.visitkorea.or.kr/img/call?cmd=VIEW&amp;id=d0090e2a-8a40-4e52-89b4-ebb0f9c1f7ef\"/> </a></div> <div class=\"area_txt\"> <div class=\"tit\"> <a href=\"javascript:goSearchDetail('96f93b4c-bf74-41a1-a085-62a7a82a1acb');\"><em></em><!--HS--><em>겨울</em><!--HE--> 특집 용인<!--HS--><em>여행</em><!--HE-->, 전통과 현대가 공존하는 용인으로!</a> </div> <div class=\"service\"> <p>경기도 용인시</p> <ul class=\"brandingIcon\" id=\"branding_96f93b4c-bf74-41a1-a085-62a7a82a1acb\"> </ul> </div> <p class=\"tag_type\"><span>#<em></em>용인<em>여행</em></span><span>#<em></em>용인가볼만한곳</span><span>#<em></em>용인5일장</span><span>#<em></em>한국민속촌</span><span>#<em></em>장옥진고택</span><span>#<em></em>어로프슬라이스피스</span><span>#<em></em>특별한_<em>겨울</em>나들이</span> </p></div><button class=\"btn_view\" onclick='viewClick(\"96f93b4c-bf74-41a1-a085-62a7a82a1acb\")' title=\"열기\" type=\"button\">더보기</button><div class=\"pop_subMenu\"> <ul> <li class=\"btn_far\"><a href=\"javascript:\" onclick='setFavoContent(\"96f93b4c-bf74-41a1-a085-62a7a82a1acb\")'>즐겨찾기</a></li> <li class=\"btn_share\" id=\"96f93b4c-bf74-41a1-a085-62a7a82a1acb\"><a href=\"javascript:\" onclick='getShareInfo(\"%3C!HS%3E%EA%B2%A8%EC%9A%B8%3C!HE%3E%20%ED%8A%B9%EC%A7%91%20%EC%9A%A9%EC%9D%B8%3C!HS%3E%EC%97%AC%ED%96%89%3C!HE%3E%2C%20%EC%A0%84%ED%86%B5%EA%B3%BC%20%ED%98%84%EB%8C%80%EA%B0%80%20%EA%B3%B5%EC%A1%B4%ED%95%98%EB%8A%94%20%EC%9A%A9%EC%9D%B8%EC%9C%BC%EB%A1%9C!\",\"d0090e2a-8a40-4e52-89b4-ebb0f9c1f7ef\",\"96f93b4c-bf74-41a1-a085-62a7a82a1acb\",\"304\");'>공유하기</a></li> </ul></div></li>\n",
      "\n",
      "\n",
      "<li><div class=\"photo\"><a href=\"javascript:goSearchDetail('76c2b55b-c257-47a9-8aa7-22ea22e7231d');\"> <img alt=\"“뭘 좋아할지 몰라서 다 준비했어!” 겨울방학 평창-강릉 가족 여행법\" src=\"https://cdn.visitkorea.or.kr/img/call?cmd=VIEW&amp;id=11de2f57-50ea-47c0-953d-e53ea7560219\"/> </a></div> <div class=\"area_txt\"> <div class=\"tit\"> <a href=\"javascript:goSearchDetail('76c2b55b-c257-47a9-8aa7-22ea22e7231d');\"><em></em>“뭘 좋아할지 몰라서 다 준비했어!” <!--HS--><em>겨울</em><!--HE-->방학 평창-강릉 가족 <!--HS--><em>여행</em><!--HE-->법</a> </div> <div class=\"service\"> <p>강원도 평창군</p> <ul class=\"brandingIcon\" id=\"branding_76c2b55b-c257-47a9-8aa7-22ea22e7231d\"> </ul> </div> <p class=\"tag_type\"><span>#<em></em>평창가볼만한곳</span><span>#<em></em>강원도<em>여행</em></span><span>#<em></em>가족<em>여행</em></span><span>#<em></em>체험학습</span><span>#<em></em>이색체험</span><span>#<em></em>아이와함께</span><span>#<em></em><em>겨울</em>방학가볼만한곳</span><span>#<em></em>강릉가볼만한곳</span><span>#<em></em>온가족_<em>겨울</em><em>여행</em></span> </p></div><button class=\"btn_view\" onclick='viewClick(\"76c2b55b-c257-47a9-8aa7-22ea22e7231d\")' title=\"열기\" type=\"button\">더보기</button><div class=\"pop_subMenu\"> <ul> <li class=\"btn_far\"><a href=\"javascript:\" onclick='setFavoContent(\"76c2b55b-c257-47a9-8aa7-22ea22e7231d\")'>즐겨찾기</a></li> <li class=\"btn_share\" id=\"76c2b55b-c257-47a9-8aa7-22ea22e7231d\"><a href=\"javascript:\" onclick='getShareInfo(\"%E2%80%9C%EB%AD%98%20%EC%A2%8B%EC%95%84%ED%95%A0%EC%A7%80%20%EB%AA%B0%EB%9D%BC%EC%84%9C%20%EB%8B%A4%20%EC%A4%80%EB%B9%84%ED%96%88%EC%96%B4!%E2%80%9D%20%3C!HS%3E%EA%B2%A8%EC%9A%B8%3C!HE%3E%EB%B0%A9%ED%95%99%20%ED%8F%89%EC%B0%BD-%EA%B0%95%EB%A6%89%20%EA%B0%80%EC%A1%B1%20%3C!HS%3E%EC%97%AC%ED%96%89%3C!HE%3E%EB%B2%95\",\"11de2f57-50ea-47c0-953d-e53ea7560219\",\"76c2b55b-c257-47a9-8aa7-22ea22e7231d\",\"304\");'>공유하기</a></li> </ul></div></li>\n",
      "\n",
      "\n",
      "<li class=\"banner_area\"> <div class=\"pc\"> <a class=\"banner0\" href=\"https://korean.visitkorea.or.kr/detail/rem_detail.do?cotid=e34bd25c-5a92-43e1-9cd2-5b65974d777d&amp;temp=\"><span><img alt=\"인싸여행 필수템! 트래블 클럽 03 우리들의 랜드마크\" src=\"https://cdn.visitkorea.or.kr/img/call?cmd=VIEW&amp;id=35e9be0e-9424-45eb-b87e-2e676a6aadb5\"/></span></a> <a class=\"banner1\" href=\"https://korean.visitkorea.or.kr/detail/rem_detail.do?cotid=a074bcc0-cee0-4b22-a9f5-372bf19f2309&amp;temp=\"><span><img alt=\"댕댕이와 여행하개! 펫팸족을 위한 전국 반려견 동반 여행지 56\" src=\"https://cdn.visitkorea.or.kr/img/call?cmd=VIEW&amp;id=229183d9-5a04-47c4-a073-555203f29a48\"/></span></a> </div></li>\n",
      "\n",
      "\n",
      "<li><div class=\"photo\"><a href=\"javascript:goSearchDetail('45e359e4-2782-4315-a9f5-71ebac668e3e');\"> <img alt=\"겨울여행지 추천. 느린 만큼 매력적인 곳, 1박2일 안동 여행 코스\" src=\"https://cdn.visitkorea.or.kr/img/call?cmd=VIEW&amp;id=35fb0f27-afd4-4319-9148-fbb28b5d8683\"/> </a></div> <div class=\"area_txt\"> <div class=\"tit\"> <a href=\"javascript:goSearchDetail('45e359e4-2782-4315-a9f5-71ebac668e3e');\"><em></em><!--HS--><em>겨울</em><!--HE--><!--HS--><em>여행</em><!--HE-->지 추천. 느린 만큼 매력적인 곳, 1박2일 안동 <!--HS-->여행<!--HE--> 코스</a> </div> <div class=\"service\"> <p>경상북도 안동시</p> <ul class=\"brandingIcon\" id=\"branding_45e359e4-2782-4315-a9f5-71ebac668e3e\"> </ul> </div> <p class=\"tag_type\"><span>#<em></em>안동<em>여행</em></span><span>#<em></em><em>겨울</em><em>여행</em></span><span>#<em></em>새해맞이<em>여행</em></span><span>#<em></em>안동하회마을</span><span>#<em></em>월영교</span><span>#<em></em>월영정</span><span>#<em></em>안동찜닭</span><span>#<em></em>안동간고등어</span><span>#<em></em>안동구시장</span><span>#<em></em>새해<em>여행</em></span><span>#<em></em><em>겨울</em>가볼만한곳</span><span>#<em></em><em>겨울</em>소확행</span> </p></div><button class=\"btn_view\" onclick='viewClick(\"45e359e4-2782-4315-a9f5-71ebac668e3e\")' title=\"열기\" type=\"button\">더보기</button><div class=\"pop_subMenu\"> <ul> <li class=\"btn_far\"><a href=\"javascript:\" onclick='setFavoContent(\"45e359e4-2782-4315-a9f5-71ebac668e3e\")'>즐겨찾기</a></li> <li class=\"btn_share\" id=\"45e359e4-2782-4315-a9f5-71ebac668e3e\"><a href=\"javascript:\" onclick='getShareInfo(\"%3C!HS%3E%EA%B2%A8%EC%9A%B8%3C!HE%3E%3C!HS%3E%EC%97%AC%ED%96%89%3C!HE%3E%EC%A7%80%20%EC%B6%94%EC%B2%9C.%20%EB%8A%90%EB%A6%B0%20%EB%A7%8C%ED%81%BC%20%EB%A7%A4%EB%A0%A5%EC%A0%81%EC%9D%B8%20%EA%B3%B3%2C%201%EB%B0%952%EC%9D%BC%20%EC%95%88%EB%8F%99%20%3C!HS%3E%EC%97%AC%ED%96%89%3C!HE%3E%20%EC%BD%94%EC%8A%A4\",\"35fb0f27-afd4-4319-9148-fbb28b5d8683\",\"45e359e4-2782-4315-a9f5-71ebac668e3e\",\"304\");'>공유하기</a></li> </ul></div></li>\n",
      "\n",
      "\n",
      "<li><div class=\"photo\"><a href=\"javascript:goSearchDetail('c6955398-ede4-4d54-905a-e3b1aacd939c');\"> <img alt=\"겨울왕국, 하얀 눈에 안긴 내소사와 곰소염전 변산반도 힐링 여행\" src=\"https://cdn.visitkorea.or.kr/img/call?cmd=VIEW&amp;id=6a520e45-43d6-4e60-a9fe-d0cf620fd800\"/> </a></div> <div class=\"area_txt\"> <div class=\"tit\"> <a href=\"javascript:goSearchDetail('c6955398-ede4-4d54-905a-e3b1aacd939c');\"><em></em><!--HS--><em>겨울</em><!--HE-->왕국, 하얀 눈에 안긴 내소사와 곰소염전 변산반도 힐링 <!--HS--><em>여행</em><!--HE--></a> </div> <div class=\"service\"> <p>전라북도 부안군</p> <ul class=\"brandingIcon\" id=\"branding_c6955398-ede4-4d54-905a-e3b1aacd939c\"> </ul> </div> <p class=\"tag_type\"><span>#<em></em>부안가볼만한곳</span><span>#<em></em><em>겨울</em>왕국</span><span>#<em></em>변산반도</span><span>#<em></em>힐링<em>여행</em></span><span>#<em></em>내소사</span><span>#<em></em>곰소염전</span><span>#<em></em>염전</span><span>#<em></em>소금</span><span>#<em></em>일몰</span><span>#<em></em>격포항</span><span>#<em></em>대웅보전</span><span>#<em></em>공공누리</span><span>#<em></em>격포해수욕장</span><span>#<em></em>적벽강</span><span>#<em></em>닭이봉</span><span>#<em></em>솔섬</span><span>#<em></em><em>겨울</em>바다로가자</span> </p></div><button class=\"btn_view\" onclick='viewClick(\"c6955398-ede4-4d54-905a-e3b1aacd939c\")' title=\"열기\" type=\"button\">더보기</button><div class=\"pop_subMenu\"> <ul> <li class=\"btn_far\"><a href=\"javascript:\" onclick='setFavoContent(\"c6955398-ede4-4d54-905a-e3b1aacd939c\")'>즐겨찾기</a></li> <li class=\"btn_share\" id=\"c6955398-ede4-4d54-905a-e3b1aacd939c\"><a href=\"javascript:\" onclick='getShareInfo(\"%3C!HS%3E%EA%B2%A8%EC%9A%B8%3C!HE%3E%EC%99%95%EA%B5%AD%2C%20%ED%95%98%EC%96%80%20%EB%88%88%EC%97%90%20%EC%95%88%EA%B8%B4%20%EB%82%B4%EC%86%8C%EC%82%AC%EC%99%80%20%EA%B3%B0%EC%86%8C%EC%97%BC%EC%A0%84%20%EB%B3%80%EC%82%B0%EB%B0%98%EB%8F%84%20%ED%9E%90%EB%A7%81%20%3C!HS%3E%EC%97%AC%ED%96%89%3C!HE%3E\",\"6a520e45-43d6-4e60-a9fe-d0cf620fd800\",\"c6955398-ede4-4d54-905a-e3b1aacd939c\",\"304\");'>공유하기</a></li> </ul></div></li>\n",
      "\n",
      "\n",
      "<li><div class=\"photo\"><a href=\"javascript:goSearchDetail('aa29a379-b733-4f37-a993-ecf0bb6e7745');\"> <img alt=\"겨울 여행의 추억 만들기\" src=\"https://cdn.visitkorea.or.kr/img/call?cmd=VIEW&amp;id=0c38ecbe-02ba-46ea-89e8-3bb6bf9a1798\"/> </a></div> <div class=\"area_txt\"> <div class=\"tit\"> <a href=\"javascript:goSearchDetail('aa29a379-b733-4f37-a993-ecf0bb6e7745');\"><em></em><!--HS--><em>겨울</em><!--HE--> <!--HS--><em>여행</em><!--HE-->의 추억 만들기</a> </div> <div class=\"service\"> <p></p> <ul class=\"brandingIcon\" id=\"branding_aa29a379-b733-4f37-a993-ecf0bb6e7745\"> </ul> </div> <p class=\"tag_type\"><span>#<em></em>한국관광품질인증</span><span>#<em></em><em>여행</em>자의방</span><span>#<em></em>숲속의요정</span><span>#<em></em>정강원관광농원</span><span>#<em></em>소낭구펜션</span><span>#<em></em>옛마실펜션</span><span>#<em></em>꿈꾸는노마드</span><span>#<em></em>더세리리조트</span><span>#<em></em>메모리즈호텔</span><span>#<em></em>목포마리나베이호텔</span><span>#<em></em><em>겨울</em><em>여행</em></span><span>#<em></em>한국관광품질인증테마<em>여행</em></span><span>#<em></em>우수숙소</span><span>#<em></em>인증숙소</span><span>#<em></em>평창숙소</span><span>#<em></em>거제숙소</span><span>#<em></em>제주숙소</span><span>#<em></em>속초숙소</span><span>#<em></em>목포숙소</span><span>#<em></em>포항숙소</span><span>#<em></em>양양숙소</span><span>#<em></em>품질인증콘텐츠</span> </p></div><button class=\"btn_view\" onclick='viewClick(\"aa29a379-b733-4f37-a993-ecf0bb6e7745\")' title=\"열기\" type=\"button\">더보기</button><div class=\"pop_subMenu\"> <ul> <li class=\"btn_far\"><a href=\"javascript:\" onclick='setFavoContent(\"aa29a379-b733-4f37-a993-ecf0bb6e7745\")'>즐겨찾기</a></li> <li class=\"btn_share\" id=\"aa29a379-b733-4f37-a993-ecf0bb6e7745\"><a href=\"javascript:\" onclick='getShareInfo(\"%3C!HS%3E%EA%B2%A8%EC%9A%B8%3C!HE%3E%20%3C!HS%3E%EC%97%AC%ED%96%89%3C!HE%3E%EC%9D%98%20%EC%B6%94%EC%96%B5%20%EB%A7%8C%EB%93%A4%EA%B8%B0\",\"0c38ecbe-02ba-46ea-89e8-3bb6bf9a1798\",\"aa29a379-b733-4f37-a993-ecf0bb6e7745\",\"304\");'>공유하기</a></li> </ul></div></li>\n",
      "\n",
      "\n",
      "<li><div class=\"photo\"><a href=\"javascript:goSearchDetail('be3db10c-b642-409c-81cc-c4cdecb5bd8b');\"> <img alt=\"향긋한 굴구이, 시원한 대구탕과 함께 하는 겨울 거제여행\" src=\"https://cdn.visitkorea.or.kr/img/call?cmd=VIEW&amp;id=c531fd60-c5bf-4028-b8f2-dbeddad9e1ec\"/> </a></div> <div class=\"area_txt\"> <div class=\"tit\"> <a href=\"javascript:goSearchDetail('be3db10c-b642-409c-81cc-c4cdecb5bd8b');\"><em></em>향긋한 굴구이, 시원한 대구탕과 함께 하는 <!--HS--><em>겨울</em><!--HE--> 거제<!--HS--><em>여행</em><!--HE--></a> </div> <div class=\"service\"> <p>경상남도 거제시</p> <ul class=\"brandingIcon\" id=\"branding_be3db10c-b642-409c-81cc-c4cdecb5bd8b\"> </ul> </div> <p class=\"tag_type\"><span>#<em></em>경상남도</span><span>#<em></em>거제</span><span>#<em></em>굴</span><span>#<em></em>굴양식장</span><span>#<em></em>대구</span><span>#<em></em>외포항</span><span>#<em></em>신선대</span><span>#<em></em>바람의언덕</span><span>#<em></em>해금강테마박물관</span><span>#<em></em>몽돌해변</span><span>#<em></em>드라이브</span><span>#<em></em>바다</span><span>#<em></em><em>겨울</em></span><span>#<em></em>힐링</span><span>#<em></em><em>여행</em></span><span>#<em></em>가족</span><span>#<em></em>친구</span><span>#<em></em>연인</span><span>#<em></em>추천가볼만한곳</span><span>#<em></em>거제가볼만한곳</span><span>#<em></em>거제당일코스</span><span>#<em></em>거제1박2일코스</span><span>#<em></em><em>겨울</em>제철음식</span><span>#<em></em>미식<em>여행</em></span><span>#<em></em>굴무침</span><span>#<em></em>굴구이</span><span>#<em></em>대구회무침</span><span>#<em></em>대구탕</span><span>#<em></em><em>겨울</em>먹거리</span><span>#<em></em>2015년12월추천가볼만한곳</span><span>#<em></em>12월추천가볼만한곳</span> </p></div><button class=\"btn_view\" onclick='viewClick(\"be3db10c-b642-409c-81cc-c4cdecb5bd8b\")' title=\"열기\" type=\"button\">더보기</button><div class=\"pop_subMenu\"> <ul> <li class=\"btn_far\"><a href=\"javascript:\" onclick='setFavoContent(\"be3db10c-b642-409c-81cc-c4cdecb5bd8b\")'>즐겨찾기</a></li> <li class=\"btn_share\" id=\"be3db10c-b642-409c-81cc-c4cdecb5bd8b\"><a href=\"javascript:\" onclick='getShareInfo(\"%ED%96%A5%EA%B8%8B%ED%95%9C%20%EA%B5%B4%EA%B5%AC%EC%9D%B4%2C%20%EC%8B%9C%EC%9B%90%ED%95%9C%20%EB%8C%80%EA%B5%AC%ED%83%95%EA%B3%BC%20%ED%95%A8%EA%BB%98%20%ED%95%98%EB%8A%94%20%3C!HS%3E%EA%B2%A8%EC%9A%B8%3C!HE%3E%20%EA%B1%B0%EC%A0%9C%3C!HS%3E%EC%97%AC%ED%96%89%3C!HE%3E\",\"c531fd60-c5bf-4028-b8f2-dbeddad9e1ec\",\"be3db10c-b642-409c-81cc-c4cdecb5bd8b\",\"304\");'>공유하기</a></li> </ul></div></li>\n",
      "\n",
      "\n",
      "<li><div class=\"photo\"><a href=\"javascript:goSearchDetail('2ca827d3-4d64-4cf6-a2e6-994458e87b9f');\"> <img alt=\"가족여행으로 딱! 문경 겨울 여행\" src=\"https://cdn.visitkorea.or.kr/img/call?cmd=VIEW&amp;id=18c216fb-4017-4bb4-819e-c25326d3bdb8\"/> </a></div> <div class=\"area_txt\"> <div class=\"tit\"> <a href=\"javascript:goSearchDetail('2ca827d3-4d64-4cf6-a2e6-994458e87b9f');\"><em></em>가족<!--HS--><em>여행</em><!--HE-->으로 딱! 문경 <!--HS--><em>겨울</em><!--HE--> <!--HS-->여행<!--HE--></a> </div> <div class=\"service\"> <p>경상북도 문경시</p> <ul class=\"brandingIcon\" id=\"branding_2ca827d3-4d64-4cf6-a2e6-994458e87b9f\"> </ul> </div> <p class=\"tag_type\"><span>#<em></em>문경<em>여행</em></span><span>#<em></em>문경가볼만한곳</span><span>#<em></em>가족<em>여행</em></span><span>#<em></em>세구기매운탕</span><span>#<em></em>가나다라브루어리</span><span>#<em></em>고모산성</span><span>#<em></em>에코랄라</span><span>#<em></em><em>겨울</em><em>여행</em></span> </p></div><button class=\"btn_view\" onclick='viewClick(\"2ca827d3-4d64-4cf6-a2e6-994458e87b9f\")' title=\"열기\" type=\"button\">더보기</button><div class=\"pop_subMenu\"> <ul> <li class=\"btn_far\"><a href=\"javascript:\" onclick='setFavoContent(\"2ca827d3-4d64-4cf6-a2e6-994458e87b9f\")'>즐겨찾기</a></li> <li class=\"btn_share\" id=\"2ca827d3-4d64-4cf6-a2e6-994458e87b9f\"><a href=\"javascript:\" onclick='getShareInfo(\"%EA%B0%80%EC%A1%B1%3C!HS%3E%EC%97%AC%ED%96%89%3C!HE%3E%EC%9C%BC%EB%A1%9C%20%EB%94%B1!%20%EB%AC%B8%EA%B2%BD%20%3C!HS%3E%EA%B2%A8%EC%9A%B8%3C!HE%3E%20%3C!HS%3E%EC%97%AC%ED%96%89%3C!HE%3E\",\"18c216fb-4017-4bb4-819e-c25326d3bdb8\",\"2ca827d3-4d64-4cf6-a2e6-994458e87b9f\",\"304\");'>공유하기</a></li> </ul></div></li>\n",
      "\n",
      "\n",
      "<li><div class=\"photo\"><a href=\"javascript:goSearchDetail('72636c69-4926-42c0-8d34-4b25efa6d343');\"> <img alt=\"새하얀 눈이 내리면 더 아름다워지는 부여 겨울여행 코스\" src=\"https://cdn.visitkorea.or.kr/img/call?cmd=VIEW&amp;id=55ae79a7-8348-4b7d-8da2-882ff521428f\"/> </a></div> <div class=\"area_txt\"> <div class=\"tit\"> <a href=\"javascript:goSearchDetail('72636c69-4926-42c0-8d34-4b25efa6d343');\"><em></em>새하얀 눈이 내리면 더 아름다워지는 부여 <!--HS--><em>겨울</em><!--HE--><!--HS--><em>여행</em><!--HE--> 코스</a> </div> <div class=\"service\"> <p>충청남도 부여군</p> <ul class=\"brandingIcon\" id=\"branding_72636c69-4926-42c0-8d34-4b25efa6d343\"> </ul> </div> <p class=\"tag_type\"><span>#<em></em>부여가볼만한곳</span><span>#<em></em>부여<em>여행</em></span><span>#<em></em><em>겨울</em><em>여행</em></span><span>#<em></em>부소산성</span><span>#<em></em>백제문화단지</span><span>#<em></em>부여능산리고분군</span><span>#<em></em>정림사지</span><span>#<em></em>장원막국수</span><span>#<em></em>풍경<em>여행</em></span><span>#<em></em>1월가볼만한곳</span> </p></div><button class=\"btn_view\" onclick='viewClick(\"72636c69-4926-42c0-8d34-4b25efa6d343\")' title=\"열기\" type=\"button\">더보기</button><div class=\"pop_subMenu\"> <ul> <li class=\"btn_far\"><a href=\"javascript:\" onclick='setFavoContent(\"72636c69-4926-42c0-8d34-4b25efa6d343\")'>즐겨찾기</a></li> <li class=\"btn_share\" id=\"72636c69-4926-42c0-8d34-4b25efa6d343\"><a href=\"javascript:\" onclick='getShareInfo(\"%EC%83%88%ED%95%98%EC%96%80%20%EB%88%88%EC%9D%B4%20%EB%82%B4%EB%A6%AC%EB%A9%B4%20%EB%8D%94%20%EC%95%84%EB%A6%84%EB%8B%A4%EC%9B%8C%EC%A7%80%EB%8A%94%20%EB%B6%80%EC%97%AC%20%3C!HS%3E%EA%B2%A8%EC%9A%B8%3C!HE%3E%3C!HS%3E%EC%97%AC%ED%96%89%3C!HE%3E%20%EC%BD%94%EC%8A%A4\",\"55ae79a7-8348-4b7d-8da2-882ff521428f\",\"72636c69-4926-42c0-8d34-4b25efa6d343\",\"304\");'>공유하기</a></li> </ul></div></li>\n",
      "\n",
      "\n"
     ]
    }
   ],
   "source": [
    "for j in content_list:\n",
    "    print(j)\n",
    "    print('\\n')"
   ]
  },
  {
   "cell_type": "code",
   "execution_count": 35,
   "metadata": {},
   "outputs": [
    {
     "name": "stdout",
     "output_type": "stream",
     "text": [
      "번호:  1\n",
      "내용:  대한민국 구석구석 로드트립! 차창 밖 소심한 겨울 여행  전국 드라이브 코스 추천\n",
      "태그:  #테마여행#드라이브#드라이브여행#겨울여행\n",
      "\n",
      "\n",
      "번호:  2\n",
      "내용:  기차 타고 떠나는 겨울여행, 군위 화본역과 화본마을\n",
      "태그:  #겨울기차여행#공공누리\n",
      "\n",
      "\n",
      "번호:  3\n",
      "내용:  겨울 특집 용인여행, 전통과 현대가 공존하는 용인으로!\n",
      "태그:  #용인여행#용인가볼만한곳#용인5일장#한국민속촌#장옥진고택#어로프슬라이스피스#특별한_겨울나들이\n",
      "\n",
      "\n",
      "번호:  4\n",
      "내용:  “뭘 좋아할지 몰라서 다 준비했어!” 겨울방학 평창-강릉 가족 여행법\n",
      "태그:  #평창가볼만한곳#강원도여행#가족여행#체험학습#이색체험#아이와함께#겨울방학가볼만한곳#강릉가볼만한곳#온가족_겨울여행\n",
      "\n",
      "\n",
      "번호:  5\n",
      "내용:  겨울여행지 추천. 느린 만큼 매력적인 곳, 1박2일 안동 여행 코스\n",
      "태그:  #안동여행#겨울여행#새해맞이여행#안동하회마을#월영교#월영정#안동찜닭#안동간고등어#안동구시장#새해여행#겨울가볼만한곳#겨울소확행\n",
      "\n",
      "\n",
      "번호:  6\n",
      "내용:  겨울왕국, 하얀 눈에 안긴 내소사와 곰소염전 변산반도 힐링 여행\n",
      "태그:  #부안가볼만한곳#겨울왕국#변산반도#힐링여행#내소사#곰소염전#염전#소금#일몰#격포항#대웅보전#공공누리#격포해수욕장#적벽강#닭이봉#솔섬#겨울바다로가자\n",
      "\n",
      "\n",
      "번호:  7\n",
      "내용:  겨울 여행의 추억 만들기\n",
      "태그:  #한국관광품질인증#여행자의방#숲속의요정#정강원관광농원#소낭구펜션#옛마실펜션#꿈꾸는노마드#더세리리조트#메모리즈호텔#목포마리나베이호텔#겨울여행#한국관광품질인증테마여행#우수숙소#인증숙소#평창숙소#거제숙소#제주숙소#속초숙소#목포숙소#포항숙소#양양숙소#품질인증콘텐츠\n",
      "\n",
      "\n",
      "번호:  8\n",
      "내용:  향긋한 굴구이, 시원한 대구탕과 함께 하는 겨울 거제여행\n",
      "태그:  #경상남도#거제#굴#굴양식장#대구#외포항#신선대#바람의언덕#해금강테마박물관#몽돌해변#드라이브#바다#겨울#힐링#여행#가족#친구#연인#추천가볼만한곳#거제가볼만한곳#거제당일코스#거제1박2일코스#겨울제철음식#미식여행#굴무침#굴구이#대구회무침#대구탕#겨울먹거리#2015년12월추천가볼만한곳#12월추천가볼만한곳\n",
      "\n",
      "\n",
      "번호:  9\n",
      "내용:  가족여행으로 딱! 문경 겨울 여행\n",
      "태그:  #문경여행#문경가볼만한곳#가족여행#세구기매운탕#가나다라브루어리#고모산성#에코랄라#겨울여행\n",
      "\n",
      "\n",
      "번호:  10\n",
      "내용:  새하얀 눈이 내리면 더 아름다워지는 부여 겨울여행 코스\n",
      "태그:  #부여가볼만한곳#부여여행#겨울여행#부소산성#백제문화단지#부여능산리고분군#정림사지#장원막국수#풍경여행#1월가볼만한곳\n",
      "\n",
      "\n"
     ]
    }
   ],
   "source": [
    "# 소주제 1: 특정 항목들을 분리해서 추출하기\n",
    "no = 1\n",
    "no2 = []\n",
    "contents2 = []\n",
    "tags2 = []\n",
    "\n",
    "for i in content_list:\n",
    "    if type(i.find('div', 'tit')) == type(None):  # content_list의 중간에 banner_area 부분을 사용하지 않게 하기 위해 삽입\n",
    "        continue\n",
    "        \n",
    "    no2.append(no)\n",
    "    print('번호: ', no)\n",
    "\n",
    "    contents = i.find('div', 'tit').get_text()\n",
    "    contents2.append(contents)\n",
    "    print('내용: ', contents.strip())\n",
    "    \n",
    "    tag = i.find('p', 'tag_type').get_text()\n",
    "    tags2.append(tag)\n",
    "    print('태그: ', tag.strip())\n",
    "    print('\\n')\n",
    "    \n",
    "    no += 1"
   ]
  },
  {
   "cell_type": "code",
   "execution_count": 38,
   "metadata": {},
   "outputs": [
    {
     "name": "stdout",
     "output_type": "stream",
     "text": [
      "txt 파일 저장 경로: test1.txt\n",
      "csv 파일 저장 경로: test1.csv\n",
      "xls 파일 저장 경로: test1.xls\n"
     ]
    }
   ],
   "source": [
    "# 소주제 2: 분리 수집된 데이터를 데이터 프레임으로 만들어서 csv, xls 형식으로 저장하기\n",
    "# 출력 결과를 txt 파일로 저장하기\n",
    "f = open(f_name, 'a', encoding='UTF-8')\n",
    "f.write(str(contents2))\n",
    "f.write(str(tags2))\n",
    "f.close()\n",
    "print('txt 파일 저장 경로: %s' % f_name)\n",
    "\n",
    "# 출력 결과를 표(데이터 프레임)형태로 만들기\n",
    "import pandas as pd\n",
    "\n",
    "korea_trip = pd.DataFrame()\n",
    "korea_trip['번호'] = no2\n",
    "korea_trip['내용'] = contents2\n",
    "korea_trip['태그'] = tags2\n",
    "\n",
    "# csv 형태로 저장하기\n",
    "korea_trip.to_csv(fc_name, encoding='UTF-8-sig')\n",
    "print('csv 파일 저장 경로: %s' % fc_name)\n",
    "\n",
    "# 엑셀 형태로 저장하기\n",
    "import xlwt\n",
    "korea_trip.to_excel(fx_name)\n",
    "print('xls 파일 저장 경로: %s' % fx_name)"
   ]
  },
  {
   "cell_type": "code",
   "execution_count": null,
   "metadata": {},
   "outputs": [],
   "source": []
  }
 ],
 "metadata": {
  "kernelspec": {
   "display_name": "Python 3",
   "language": "python",
   "name": "python3"
  },
  "language_info": {
   "codemirror_mode": {
    "name": "ipython",
    "version": 3
   },
   "file_extension": ".py",
   "mimetype": "text/x-python",
   "name": "python",
   "nbconvert_exporter": "python",
   "pygments_lexer": "ipython3",
   "version": "3.6.5"
  }
 },
 "nbformat": 4,
 "nbformat_minor": 4
}
